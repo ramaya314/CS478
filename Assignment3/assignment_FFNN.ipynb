{
  "cells": [
    {
      "cell_type": "markdown",
      "metadata": {
        "id": "whd-5aC-vVEj"
      },
      "source": [
        "# Assignment 3: Build a Feedforward Neural Net for Sentiment Classification (100 Points)\n",
        "\n",
        "Instructor: Ziyu Yao; Class: CS478 Fall 2024\n",
        "\n",
        "Release on Sept 18, 2024"
      ]
    },
    {
      "cell_type": "markdown",
      "metadata": {
        "id": "g3sB2t8gvVEk"
      },
      "source": [
        "**Assignment Overview:** This assignment will guide you to use the PyTorch library (https://pytorch.org/) to construct a feedforward neural net (FFNN) for sentiment classification. We will use the movie review dataset of Socher et al. (2013). The original dataset has fine-grained sentiment labels (e.g., highly negative vs. negative), but we will consider a simplified task version with only two class labels, i.e., positive (1) and negative (0). Therefore, this will be a binary classification task.\n",
        "\n",
        "This assignment consists of six parts and shoud be submitted in three checkpoints (check out the PDF for instructions):\n",
        "\n",
        "_Checkpoint 1, from Part 1 to Part 2 (Due on Sept 30)_\n",
        "- **Part 1 (2 Points):** Get to know PyTorch;\n",
        "- **Part 2 (3 Points):** Data structure and loading;\n",
        "\n",
        "_Checkpoint 2, from Part 3 to Part 4 (Due on Oct 9)_\n",
        "- **Part 3 (5 Points):** FFNN model construction;\n",
        "- **Part 4 (3 Points):** Sentiment classifier training and evaluation;\n",
        "\n",
        "_Checkpoint 3, from Part 5 to Part 6 (Due on Oct 16)_\n",
        "- **Part 5 (4 Points):** Exploration of FFNN hyper-parameters;\n",
        "- **Part 6 (3 Points):** Exploration of the pre-trained GloVe word embedding.\n",
        "\n",
        "**Tutorial for Beginners:** If you are new to PyTorch, you are highly recommended to watch the tutorial: https://pytorch.org/tutorials/beginner/deep_learning_60min_blitz.html."
      ]
    },
    {
      "cell_type": "markdown",
      "metadata": {
        "id": "a7X4zatrx7NV"
      },
      "source": [
        "## Part 0: PyTorch Installation\n",
        "Install the PyTorch library:"
      ]
    },
    {
      "cell_type": "code",
      "execution_count": 1,
      "metadata": {
        "id": "DFOJ3HdwyQ3W"
      },
      "outputs": [
        {
          "name": "stdout",
          "output_type": "stream",
          "text": [
            "Defaulting to user installation because normal site-packages is not writeable\n",
            "Requirement already satisfied: torch in c:\\program files\\python37\\lib\\site-packages (1.13.1)\n",
            "Requirement already satisfied: typing-extensions in c:\\program files\\python37\\lib\\site-packages (from torch) (3.7.4.3)\n",
            "Note: you may need to restart the kernel to use updated packages.\n"
          ]
        }
      ],
      "source": [
        "pip install torch"
      ]
    },
    {
      "cell_type": "markdown",
      "metadata": {
        "id": "x9sqEzwUvVEl"
      },
      "source": [
        "## Part 1: Get to Know PyTorch (10 Points)\n",
        "\n",
        "To help you kick start this assignment, here are some small practices about PyTorch basics.\n",
        "\n",
        "Let's first import the PyTorch library:"
      ]
    },
    {
      "cell_type": "code",
      "execution_count": 2,
      "metadata": {
        "id": "CuVDR35pvVEl"
      },
      "outputs": [
        {
          "name": "stderr",
          "output_type": "stream",
          "text": [
            "C:\\Users\\malma\\AppData\\Roaming\\Python\\Python37\\site-packages\\tqdm\\auto.py:21: TqdmWarning: IProgress not found. Please update jupyter and ipywidgets. See https://ipywidgets.readthedocs.io/en/stable/user_install.html\n",
            "  from .autonotebook import tqdm as notebook_tqdm\n"
          ]
        }
      ],
      "source": [
        "import torch\n",
        "from torch import nn, optim"
      ]
    },
    {
      "cell_type": "markdown",
      "metadata": {
        "id": "J-98qOuIvVEl"
      },
      "source": [
        "Consider two 2D tensors, $\\mathrm{a}$ and $\\mathrm{b}$, which are parameters of a neural network (NN). The NN is defined as $\\mathrm{f}(\\mathrm{a}, \\mathrm{b}) = 3\\mathrm{a}^3 - \\mathrm{b}^2$.\n",
        "\n",
        "All operations here are element-wise. Given the 2D tensors, the function can be expressed equivalently in the following form:\n",
        "$$\n",
        "\\begin{pmatrix} f_0 \\\\ f_1 \\end{pmatrix} = 3 \\begin{pmatrix} a_0^3 \\\\ a_1^3 \\end{pmatrix} - \\begin{pmatrix} b_0^2 \\\\ b_1^2 \\end{pmatrix}\n",
        "$$\n",
        "where\n",
        "$$\n",
        "\\mathrm{a} = \\begin{pmatrix} a_0 \\\\ a_1 \\end{pmatrix}, \\: \\mathrm{b} = \\begin{pmatrix} b_0 \\\\ b_1 \\end{pmatrix}, \\: \\mathrm{f} = \\begin{pmatrix} f_0 \\\\ f_1 \\end{pmatrix}\n",
        "$$\n",
        "\n",
        "We also define a loss function $l = f_0 + 2 f_1$. Note that $l$ is a scalar."
      ]
    },
    {
      "cell_type": "markdown",
      "metadata": {
        "id": "dPq7aXMXvVEm"
      },
      "source": [
        "Q1: Now given the following two tensors $\\mathrm{a}$ and $\\mathrm{b}$ (`requires_grad=True` for tracking their gradients),"
      ]
    },
    {
      "cell_type": "code",
      "execution_count": 3,
      "metadata": {
        "id": "pcv39Kl2vVEm"
      },
      "outputs": [],
      "source": [
        "a = torch.tensor([2., 3.], requires_grad=True)\n",
        "b = torch.tensor([6., 4.], requires_grad=True)"
      ]
    },
    {
      "cell_type": "markdown",
      "metadata": {
        "id": "G-_T9kedvVEm"
      },
      "source": [
        "can you implement the forward pass of the neural network function and its loss, and show their values?\n",
        "\n",
        "<font color='blue'>YOUR TASK: Please complete the following code block and answer the question.</font>"
      ]
    },
    {
      "cell_type": "code",
      "execution_count": 7,
      "metadata": {
        "id": "pveOnYu8vVEm"
      },
      "outputs": [
        {
          "name": "stdout",
          "output_type": "stream",
          "text": [
            "f: tensor([-12.,  65.], grad_fn=<SubBackward0>)\n",
            "l: tensor(118., grad_fn=<AddBackward0>)\n"
          ]
        }
      ],
      "source": [
        "# TODO\n",
        "f = (3 * torch.pow(a, 3)) - torch.pow(b, 2)\n",
        "l = f[0] + (2 * f[1])\n",
        "\n",
        "print(\"f:\", f)\n",
        "print(\"l:\", l)"
      ]
    },
    {
      "cell_type": "markdown",
      "metadata": {
        "id": "JwG_q7TzvVEm"
      },
      "source": [
        "Q2: Given the values of `a` and `b` and the loss `l`, what will be the gradients of them?\n",
        "\n",
        "<font color='blue'>YOUR TASK: Please write down the formula of each partial derivative and complete the calculation below. The example of $\\frac{\\partial l}{\\partial a_0}$ is given.</font>"
      ]
    },
    {
      "cell_type": "markdown",
      "metadata": {
        "id": "w-O_xpuIvVEn"
      },
      "source": [
        "$\\frac{\\partial l}{\\partial a_0} = 9 a_0^2 = 36$, $\\frac{\\partial l}{\\partial a_1} = \\text{REPLACE ME}$, $\\frac{\\partial l}{\\partial b_0} = \\text{REPLACE ME}$, $\\frac{\\partial l}{\\partial b_1} = \\text{REPLACE ME}$\n"
      ]
    },
    {
      "cell_type": "markdown",
      "metadata": {
        "id": "jNzATxzavVEn"
      },
      "source": [
        "Q3: Now, try to use PyTorch's `autograd` to calculate the gradients automatically.\n",
        "\n",
        "<font color='blue'>YOUR TASK: Please complete the following code block and answer the question.</font>"
      ]
    },
    {
      "cell_type": "code",
      "execution_count": 9,
      "metadata": {
        "id": "oHB8ZahtvVEn"
      },
      "outputs": [
        {
          "name": "stdout",
          "output_type": "stream",
          "text": [
            "gradient of `a`: tensor([ 36., 162.])\n",
            "gradient of `b`: tensor([-12., -16.])\n"
          ]
        }
      ],
      "source": [
        "# TODO: apply the autograd function to the loss `l` to calculate the gradients of `a` and `b`\n",
        "\n",
        "l.backward()\n",
        "\n",
        "print(\"gradient of `a`:\", a.grad)\n",
        "print(\"gradient of `b`:\", b.grad)"
      ]
    },
    {
      "cell_type": "markdown",
      "metadata": {
        "id": "bNuj18h8vVEn"
      },
      "source": [
        "_If your answers to Q2 and Q3 are both correct, you should exactly the same calculation results from them._\n",
        "\n",
        "**Up to now, you've gained some sense about PyTorch. From Part 2, we will start building the Feedforward Neural Net (FFNN) for sentiment classification. Before it, let's load the following libraries.**"
      ]
    },
    {
      "cell_type": "code",
      "execution_count": 10,
      "metadata": {
        "id": "AaHwxhDIvVEn"
      },
      "outputs": [],
      "source": [
        "from typing import List, Dict\n",
        "import random\n",
        "import numpy as np\n",
        "from collections import Counter\n",
        "import os\n",
        "\n",
        "# Set up overall seed\n",
        "seed = 12345\n",
        "random.seed(seed)\n",
        "torch.manual_seed(seed)\n",
        "np.random.seed(seed)"
      ]
    },
    {
      "cell_type": "markdown",
      "metadata": {
        "id": "8QwNXrznvVEn"
      },
      "source": [
        "## Part 2: Data Structure and Loading (15 Points)\n",
        "\n",
        "**Step 1:** We will first define the data structure for storing the sentiment data. _There's nothing to fill out from your side; however, you should try to understand the data implementation._"
      ]
    },
    {
      "cell_type": "code",
      "execution_count": 11,
      "metadata": {
        "id": "03k9RSzivVEn"
      },
      "outputs": [],
      "source": [
        "class SentimentExample:\n",
        "    \"\"\"\n",
        "    Data wrapper for a single example for sentiment analysis.\n",
        "\n",
        "    Attributes:\n",
        "        words (List[string]): list of words\n",
        "        label (int): 0 or 1 (0 = negative, 1 = positive)\n",
        "        word_indices (List[int]): list of word indices in the vocab, which will generated by the `indexing_sentiment_examples` method\n",
        "    \"\"\"\n",
        "\n",
        "    def __init__(self, words, label):\n",
        "        self.words = words\n",
        "        self.label = label\n",
        "        self.word_indices = None # the word indices in vocab\n",
        "\n",
        "    def __repr__(self):\n",
        "        return repr(self.words) + \"; label=\" + repr(self.label)\n",
        "\n",
        "    def __str__(self):\n",
        "        return self.__repr__()"
      ]
    },
    {
      "cell_type": "markdown",
      "metadata": {
        "id": "ThgLDe-7vVEn"
      },
      "source": [
        "Essentially, this `SentimentExample` class defines each data example in a sentiment dataset to have three attributes: the word tokens in the sentence, the sentiment label (1 or 0), and the word indices in the vocabulary (which has not been defined yet).\n",
        "\n",
        "To assist the data loading the writing, we also define the following help functions:"
      ]
    },
    {
      "cell_type": "code",
      "execution_count": 12,
      "metadata": {
        "id": "-TyPEzGJvVEn"
      },
      "outputs": [],
      "source": [
        "def indexing_sentiment_examples(exs: List[SentimentExample], vocabulary: List[str], UNK_idx: int):\n",
        "    \"\"\"\n",
        "    Indexing words in each SentimentExample based on a given vocabulary. This method will directly modify the `word_indices` attribute of each ex.\n",
        "    :param exs: a list of SentimentExample objects\n",
        "    :param vocabulary: the vocabulary, which should be a list of words\n",
        "    :param UNK_idx: the index of UNK token in the vocabulary\n",
        "    \"\"\"\n",
        "    for ex in exs:\n",
        "        ex.word_indices = [vocabulary.index(word) if word in vocabulary else UNK_idx for word in ex.words]\n",
        "\n",
        "def read_sentiment_examples(infile: str) -> List[SentimentExample]:\n",
        "    \"\"\"\n",
        "    Reads sentiment examples in the format [0 or 1]<TAB>[raw sentence]; tokenizes and cleans the sentences and forms\n",
        "    SentimentExamples. Note that all words have been lowercased.\n",
        "\n",
        "    :param infile: file to read from\n",
        "    :return: a list of SentimentExamples parsed from the file\n",
        "    \"\"\"\n",
        "    f = open(infile)\n",
        "    exs = []\n",
        "    for line in f:\n",
        "        if len(line.strip()) > 0:\n",
        "            line = line.strip()\n",
        "            fields = line.split(\"\\t\")\n",
        "            if len(fields) != 2:\n",
        "                fields = line.split()\n",
        "                label = 0 if \"0\" in fields[0] else 1\n",
        "                sent = \" \".join(fields[1:])\n",
        "            else:\n",
        "                # Slightly more robust to reading bad output than int(fields[0])\n",
        "                label = 0 if \"0\" in fields[0] else 1\n",
        "                sent = fields[1]\n",
        "            sent = sent.lower() # lowercasing\n",
        "            tokenized_cleaned_sent = list(filter(lambda x: x != '', sent.rstrip().split(\" \")))\n",
        "            exs.append(SentimentExample(tokenized_cleaned_sent, label))\n",
        "    f.close()\n",
        "    return exs\n",
        "\n",
        "\n",
        "def read_blind_sst_examples(infile: str) -> List[SentimentExample]:\n",
        "    \"\"\"\n",
        "    Reads the blind SST test set, which just consists of unlabeled sentences. Note that all words have been lowercased.\n",
        "    :param infile: path to the file to read\n",
        "    :return: list of tokenized sentences (list of list of strings)\n",
        "    \"\"\"\n",
        "    f = open(infile, encoding='utf-8')\n",
        "    exs = []\n",
        "    for line in f:\n",
        "        if len(line.strip()) > 0:\n",
        "            line = line.strip()\n",
        "            words = line.lower().split(\" \")\n",
        "            exs.append(SentimentExample(words, label=-1)) # pseudo label -1\n",
        "    return exs\n",
        "\n",
        "\n",
        "def write_sentiment_examples(exs: List[SentimentExample], outfile: str):\n",
        "    \"\"\"\n",
        "    Writes sentiment examples to an output file with one example per line, the predicted label followed by the example.\n",
        "    Note that what gets written out is tokenized.\n",
        "    :param exs: the list of SentimentExamples to write\n",
        "    :param outfile: out path\n",
        "    :return: None\n",
        "    \"\"\"\n",
        "    o = open(outfile, 'w')\n",
        "    for ex in exs:\n",
        "        o.write(repr(ex.label) + \"\\t\" + \" \".join([word for word in ex.words]) + \"\\n\")\n",
        "    o.close()"
      ]
    },
    {
      "cell_type": "markdown",
      "metadata": {
        "id": "KbC_dN5hvVEn"
      },
      "source": [
        "Now, load the training, dev, and test sets:"
      ]
    },
    {
      "cell_type": "code",
      "execution_count": 13,
      "metadata": {
        "id": "mUBkSCMpvVEo"
      },
      "outputs": [
        {
          "name": "stdout",
          "output_type": "stream",
          "text": [
            "6920 / 872 / 1821 train/dev/test examples\n"
          ]
        }
      ],
      "source": [
        "DATA_PATH = \"data\"\n",
        "# TODO: In case you are using Colab, uncommenting the following few lines of code\n",
        "#   to mount your Google Drive; refer to Assignment 2 for guide.\n",
        "# from google.colab import drive\n",
        "# drive.mount('/content/drive')\n",
        "# DATA_PATH = \"/content/drive/My Drive/CS478/data\"\n",
        "\n",
        "\n",
        "# Specify the data paths\n",
        "train_path = os.path.join(DATA_PATH, \"train.txt\")\n",
        "dev_path = os.path.join(DATA_PATH, \"dev.txt\")\n",
        "blind_test_path = os.path.join(DATA_PATH, \"test-blind.txt\") # blind test\n",
        "\n",
        "# Load train, dev, and test exs and index the words.\n",
        "train_exs = read_sentiment_examples(train_path)\n",
        "dev_exs = read_sentiment_examples(dev_path)\n",
        "test_exs_words_only = read_blind_sst_examples(blind_test_path)\n",
        "print(repr(len(train_exs)) + \" / \" + repr(len(dev_exs)) + \" / \" + repr(len(test_exs_words_only)) + \" train/dev/test examples\")"
      ]
    },
    {
      "cell_type": "markdown",
      "metadata": {
        "id": "j5kIyCD1vVEo"
      },
      "source": [
        "Let's see what's inside `train_exs`:"
      ]
    },
    {
      "cell_type": "markdown",
      "metadata": {
        "id": "twIiay6MvVEo"
      },
      "source": [
        "First, the number of examples (i.e., annotated sentences with sentiment labels) contained in `train_exs`:"
      ]
    },
    {
      "cell_type": "code",
      "execution_count": 14,
      "metadata": {
        "id": "TLJIMWqqvVEo"
      },
      "outputs": [
        {
          "data": {
            "text/plain": [
              "6920"
            ]
          },
          "execution_count": 14,
          "metadata": {},
          "output_type": "execute_result"
        }
      ],
      "source": [
        "len(train_exs)"
      ]
    },
    {
      "cell_type": "markdown",
      "metadata": {
        "id": "T_JSgFpDvVEo"
      },
      "source": [
        "Each data example can be assessed using index, e.g., accessing the first data example in train_exs, you can run `train_exs[0]`. Let's save it as `train_example_0`."
      ]
    },
    {
      "cell_type": "code",
      "execution_count": 15,
      "metadata": {
        "id": "1OXU1l9ZvVEo"
      },
      "outputs": [],
      "source": [
        "train_example_0 = train_exs[0]"
      ]
    },
    {
      "cell_type": "markdown",
      "metadata": {
        "id": "SF4f71RLvVEo"
      },
      "source": [
        "Each data example has a type:"
      ]
    },
    {
      "cell_type": "code",
      "execution_count": 16,
      "metadata": {
        "id": "Fjugf_PwvVEo"
      },
      "outputs": [
        {
          "data": {
            "text/plain": [
              "__main__.SentimentExample"
            ]
          },
          "execution_count": 16,
          "metadata": {},
          "output_type": "execute_result"
        }
      ],
      "source": [
        "type(train_example_0)"
      ]
    },
    {
      "cell_type": "markdown",
      "metadata": {
        "id": "B8gwVld4vVEo"
      },
      "source": [
        "In our implementation, each data example is an instance of our defined `SentimentExample` class."
      ]
    },
    {
      "cell_type": "markdown",
      "metadata": {
        "id": "qi3laLxpvVEo"
      },
      "source": [
        "You can access its word tokens (**NOTE: when loading the dataset, we have already performed the sentence tokenization. There's NO NEED to do further preprocessing.**):"
      ]
    },
    {
      "cell_type": "code",
      "execution_count": 17,
      "metadata": {
        "id": "02S8PXkovVEo"
      },
      "outputs": [
        {
          "name": "stdout",
          "output_type": "stream",
          "text": [
            "['the', 'rock', 'is', 'destined', 'to', 'be', 'the', '21st', 'century', \"'s\", 'new', '``', 'conan', \"''\", 'and', 'that', 'he', \"'s\", 'going', 'to', 'make', 'a', 'splash', 'even', 'greater', 'than', 'arnold', 'schwarzenegger', ',', 'jean-claud', 'van', 'damme', 'or', 'steven', 'segal', '.']\n"
          ]
        }
      ],
      "source": [
        "print(train_example_0.words)"
      ]
    },
    {
      "cell_type": "markdown",
      "metadata": {
        "id": "X22hMYkUvVEo"
      },
      "source": [
        "Similarly, you can access its sentiment label (1 for positive and 0 for negative):"
      ]
    },
    {
      "cell_type": "code",
      "execution_count": 18,
      "metadata": {
        "id": "CGJYPYsFvVEo"
      },
      "outputs": [
        {
          "name": "stdout",
          "output_type": "stream",
          "text": [
            "1\n"
          ]
        }
      ],
      "source": [
        "print(train_example_0.label)"
      ]
    },
    {
      "cell_type": "markdown",
      "metadata": {
        "id": "KuYZVuQdvVEo"
      },
      "source": [
        "Note that at this moment, we haven't created the vocabulary. Therefore, the `word_indices` of each example is still `None`."
      ]
    },
    {
      "cell_type": "code",
      "execution_count": 19,
      "metadata": {
        "id": "V6MGs_isvVEo"
      },
      "outputs": [
        {
          "name": "stdout",
          "output_type": "stream",
          "text": [
            "None\n"
          ]
        }
      ],
      "source": [
        "print(train_example_0.word_indices)"
      ]
    },
    {
      "cell_type": "markdown",
      "metadata": {
        "id": "ovr_v_hcvVEp"
      },
      "source": [
        "Now, let's create a vocabulary based on the training set `train_exs`. Similarly as our Assignment 2, we will keep only words with **more than 2** occurrences in our vocabulary, while converting others into a special `UNK` token.\n",
        "\n",
        "When working with neural nets, we will also add a `PAD` token for padding a batch of data examples.\n",
        "\n",
        "<font color='blue'>YOUR TASK: Please complete the following code block and for preparing the vocabulary.</font>"
      ]
    },
    {
      "cell_type": "code",
      "execution_count": 20,
      "metadata": {
        "id": "RG876j7QvVEp"
      },
      "outputs": [
        {
          "name": "stdout",
          "output_type": "stream",
          "text": [
            "Number of words in the vocabulary: 7145\n"
          ]
        }
      ],
      "source": [
        "# TODO: complete the code for creating a list called `vocab`, which contains a list of distinct words as the vocabulary.\n",
        "# As instructed, we only consider words occurring more than twice in the vocabulary.\n",
        "\n",
        "def add_word_count_to_count_dict(word, count_dict, count=None):\n",
        "    if count_dict is None or word is None:\n",
        "        return\n",
        "    if count is not None:\n",
        "        count_dict[word] = count\n",
        "    elif word not in count_dict:\n",
        "        count_dict[word] = 1\n",
        "    else:\n",
        "        count_dict[word] += 1\n",
        "\n",
        "def count_word_types(exs):\n",
        "    if exs is None:\n",
        "        return None\n",
        "    \n",
        "    #build all counts\n",
        "    counts = {}\n",
        "    for example in exs:\n",
        "        add_word_count_to_count_dict(\"<s>\", counts)\n",
        "        for word in example.words:\n",
        "            add_word_count_to_count_dict(word, counts)\n",
        "        add_word_count_to_count_dict(\"</s>\", counts)\n",
        "    \n",
        "    #replace single counts with UNK\n",
        "    finalCounts = {}\n",
        "    for word in counts:\n",
        "        if counts[word] == 1:\n",
        "            add_word_count_to_count_dict(\"UNK\", finalCounts)\n",
        "        else:\n",
        "            finalCounts[word] = counts[word]\n",
        "\n",
        "    #remove UNK, it will be added later\n",
        "    if \"UNK\" in finalCounts:\n",
        "        finalCounts.pop(\"UNK\")\n",
        "    return finalCounts\n",
        "\n",
        "def get_vocab(exs):\n",
        "    if exs is None:\n",
        "        return None\n",
        "    return list(count_word_types(exs).keys())\n",
        "\n",
        "\n",
        "vocab = get_vocab(train_exs)\n",
        "assert isinstance(vocab, list)\n",
        "\n",
        "# Now add the special tokens PAD and UNK\n",
        "vocab = [\"PAD\", \"UNK\"] + vocab\n",
        "PAD_IDX = 0\n",
        "UNK_IDX = 1\n",
        "# Show the vocabulary size:\n",
        "print(\"Number of words in the vocabulary:\", len(vocab))"
      ]
    },
    {
      "cell_type": "markdown",
      "metadata": {
        "id": "tH0vybi6vVEp"
      },
      "source": [
        "We then index the training, dev, and test set using this vocabulary.  "
      ]
    },
    {
      "cell_type": "code",
      "execution_count": 21,
      "metadata": {
        "id": "08BUm8_3vVEv"
      },
      "outputs": [],
      "source": [
        "indexing_sentiment_examples(train_exs, vocabulary=vocab, UNK_idx=UNK_IDX)\n",
        "indexing_sentiment_examples(dev_exs, vocabulary=vocab, UNK_idx=UNK_IDX)\n",
        "indexing_sentiment_examples(test_exs_words_only, vocabulary=vocab, UNK_idx=UNK_IDX)"
      ]
    },
    {
      "cell_type": "markdown",
      "metadata": {
        "id": "sT0aqWfMvVEv"
      },
      "source": [
        "If you check the `word_indices` of each data example now, you should see non-empty contents:"
      ]
    },
    {
      "cell_type": "code",
      "execution_count": 22,
      "metadata": {
        "id": "dLuHFytwvVEv"
      },
      "outputs": [
        {
          "name": "stdout",
          "output_type": "stream",
          "text": [
            "The first example in the training set is indexed as: \n",
            " [3, 4, 5, 6, 7, 8, 3, 9, 10, 11, 12, 13, 14, 15, 16, 17, 18, 11, 19, 7, 20, 21, 22, 23, 24, 25, 26, 27, 28, 1, 29, 1, 30, 31, 1, 32]\n"
          ]
        }
      ],
      "source": [
        "print(\"The first example in the training set is indexed as:\", \"\\n\", train_example_0.word_indices)"
      ]
    },
    {
      "cell_type": "markdown",
      "metadata": {
        "id": "5MJVYZxyvVEv"
      },
      "source": [
        "**Step 2:** As we said in class, GPUs accelerate the computing via matrix operations. One important concept here is \"data batch\", i.e., instead of looking at one data example (i.e., one sentence) at a time, we look at a \"batch\" of examples. As such, all the calculation, such as loss computation, can be done via matrix operations.\n",
        "\n",
        "To this end, we will define a class called `SentimentExampleBatchIterator` for loading a batch of data from the given dataset.\n",
        "\n",
        "<font color='blue'>YOUR TASK: Please complete the following code block and implement the correct padding for loading a batch of examples.</font>\n",
        "\n",
        "For example, given\n",
        "```\n",
        "batch_exs = [\n",
        "    SentimentExample(words=[\"I\", \"feel\", \"happy\"], label=1, word_indices=[2,3,4]),\n",
        "    SentimentExample(words=[\"I\", \"feel\", \"sad\"], label=0, word_indices=[2,3,5]),\n",
        "    SentimentExample(words=[\"This\", \"movie\", \"is\", \"interesting\"], label=1, word_indices=[6,7,8,9])\n",
        "]\n",
        "```\n",
        "your code should generate (reminder: `0` in `batch_inputs` is the PAD index)\n",
        "```\n",
        "batch_inputs =\n",
        "    [[2, 3, 4, 0],\n",
        "    [2, 3, 5, 0],\n",
        "    [6, 7, 8, 9]],\n",
        "batch_lengths = [3, 3, 4],\n",
        "batch_labels = [1, 0, 1].\n",
        "```\n",
        "\n",
        "Tip: since the indexed SentimentExample object already has the indices saved in `word_indices`,\n",
        "what you need to do is to get them into one matrix (batch_inputs) and add PAD when necessary."
      ]
    },
    {
      "cell_type": "code",
      "execution_count": 24,
      "metadata": {
        "id": "GGZyyYezvVEv"
      },
      "outputs": [],
      "source": [
        "class SentimentExampleBatchIterator:\n",
        "    \"\"\"\n",
        "    A batch iterator which will produce the next batch indexed data.\n",
        "\n",
        "    Attributes:\n",
        "        data: a list of SentimentExample objects, which is the source data input\n",
        "        batch_size: an integer number indicating the number of examples in each batch\n",
        "        PAD_idx: the index of PAD in the vocabulary\n",
        "        shuffle: whether to shuffle the data (should set to True only for training)\n",
        "    \"\"\"\n",
        "    def __init__(self, data: List[SentimentExample], batch_size: int, PAD_idx: int, shuffle: bool=True):\n",
        "        self.data = data\n",
        "        self.batch_size = batch_size\n",
        "        self.PAD_idx = PAD_idx\n",
        "        self.shuffle = shuffle\n",
        "\n",
        "        self._indices = None\n",
        "        self._cur_idx = None\n",
        "\n",
        "    def refresh(self):\n",
        "        self._indices = list(range(len(self.data)))\n",
        "        if self.shuffle:\n",
        "            random.shuffle(self._indices)\n",
        "        self._cur_idx = 0\n",
        "\n",
        "    def get_next_batch(self):\n",
        "        if self._cur_idx < len(self.data): # loop over the dataset\n",
        "            st_idx = self._cur_idx\n",
        "            if self._cur_idx + self.batch_size > len(self.data) - 1:\n",
        "                ed_idx = len(self.data)\n",
        "            else:\n",
        "                ed_idx = self._cur_idx + self.batch_size\n",
        "            self._cur_idx = ed_idx # update\n",
        "            # retrieve a batch of SentimentExample data\n",
        "            batch_exs = [self.data[self._indices[_idx]] for _idx in range(st_idx, ed_idx)]\n",
        "\n",
        "            # jagged_array is a 2D array [[0,0],[0],[0,0,0]]\n",
        "            # returns [[0,0,pad_token],[0,pad_token,pad_token][0,0,0]]\n",
        "            def pad_jagged_array(jagged_array, pad_token):\n",
        "                max_length = max([len(e) for e in jagged_array])\n",
        "                def pad_inner_array(inner_array):\n",
        "                    padded_inner_array = [pad_token] * max_length\n",
        "                    for idx, x in enumerate(inner_array):\n",
        "                        padded_inner_array[idx] = x\n",
        "                    return padded_inner_array\n",
        "                return [pad_inner_array(arr) for arr in jagged_array]\n",
        "\n",
        "            # TODO: implement the batching process, which returns batch_inputs, batch_lengths, and batch_labels\n",
        "            batch_lengths = [len(ex.words) for ex in batch_exs]\n",
        "            batch_inputs = pad_jagged_array([ex.word_indices for ex in batch_exs], self.PAD_idx)\n",
        "            batch_labels = [ex.label for ex in batch_exs]\n",
        "            return (torch.tensor(batch_inputs), torch.tensor(batch_lengths), torch.tensor(batch_labels))\n",
        "        else:\n",
        "            return None"
      ]
    },
    {
      "cell_type": "markdown",
      "metadata": {
        "id": "ZtRB875KvVEv"
      },
      "source": [
        "To test this batch iterator, run the following code and see if you can successfully load in the first four sentences in the training set into two batches, each containing 2 examples.\n",
        "\n",
        "(Note that this is not the actual batch_size we will use in experiment; we only do this for a sanity check.)"
      ]
    },
    {
      "cell_type": "code",
      "execution_count": 26,
      "metadata": {
        "id": "ZIC9m1ntvVEv"
      },
      "outputs": [
        {
          "name": "stdout",
          "output_type": "stream",
          "text": [
            "Batch 0:\n",
            "tensor([[  3,   4,   5,   6,   7,   8,   3,   9,  10,  11,  12,  13,  14,  15,\n",
            "          16,  17,  18,  11,  19,   7,  20,  21,  22,  23,  24,  25,  26,  27,\n",
            "          28,   1,  29,   1,  30,  31,   1,  32,   0,   0,   0],\n",
            "        [  3,  34,  35,  36,  37,  13,   3,  38,  37,   3,  39,  15,  40,   5,\n",
            "          41,  42,  17,  21,  43,  37,  44,  45,  46,  47,  48,  49,  50,  51,\n",
            "          11,   1,  52,  37,   1,  53,  11,   1,  32,   0,   0],\n",
            "        [  1,  54,  55,   1,  21,   1,  37,  56,  57,  21,  58,  59,  60,  28,\n",
            "          21,  58,  61,  62,   1,   7,   3,  63,  57,  64,   3,  65,  66,  67,\n",
            "          68,   3,  69,  28,  70,  28,  71,  37,   3,  72,  32],\n",
            "        [ 73,   3,  74,   5,  75,  76,  77,  32,   0,   0,   0,   0,   0,   0,\n",
            "           0,   0,   0,   0,   0,   0,   0,   0,   0,   0,   0,   0,   0,   0,\n",
            "           0,   0,   0,   0,   0,   0,   0,   0,   0,   0,   0],\n",
            "        [ 78,  30,  46,  79,  80,   1,  81,  82,  37,  83,  11,  84,  85,  13,\n",
            "           3,  86,  15,  16,  13,   3,  87,  28,  15,  83,   5,  88,  89,  90,\n",
            "          16,  91,  92,  32,   0,   0,   0,   0,   0,   0,   0],\n",
            "        [ 93,   3,   1,  94,  95,  96,   3,  97,  98,  37,   3,  99,  95, 100,\n",
            "           1,  37, 101,  16, 102,   5, 103,  32,   0,   0,   0,   0,   0,   0,\n",
            "           0,   0,   0,   0,   0,   0,   0,   0,   0,   0,   0],\n",
            "        [104,  37,   3, 105,  37, 106, 107,   5,  17, 108, 109,   3, 110, 111,\n",
            "         112,  16, 113,  32,   0,   0,   0,   0,   0,   0,   0,   0,   0,   0,\n",
            "           0,   0,   0,   0,   0,   0,   0,   0,   0,   0,   0],\n",
            "        [ 21, 114,  61,   1, 115,  25,  13, 116,  15,   0,   0,   0,   0,   0,\n",
            "           0,   0,   0,   0,   0,   0,   0,   0,   0,   0,   0,   0,   0,   0,\n",
            "           0,   0,   0,   0,   0,   0,   0,   0,   0,   0,   0],\n",
            "        [ 13, 117, 118,  15, 119, 120,  32,   0,   0,   0,   0,   0,   0,   0,\n",
            "           0,   0,   0,   0,   0,   0,   0,   0,   0,   0,   0,   0,   0,   0,\n",
            "           0,   0,   0,   0,   0,   0,   0,   0,   0,   0,   0],\n",
            "        [121, 122,  28, 121, 123,  28, 121, 124,  28, 121, 125,  28, 121, 126,\n",
            "          28, 121, 127,  32,   0,   0,   0,   0,   0,   0,   0,   0,   0,   0,\n",
            "           0,   0,   0,   0,   0,   0,   0,   0,   0,   0,   0],\n",
            "        [128, 129, 100,  20, 108, 130,  32,   0,   0,   0,   0,   0,   0,   0,\n",
            "           0,   0,   0,   0,   0,   0,   0,   0,   0,   0,   0,   0,   0,   0,\n",
            "           0,   0,   0,   0,   0,   0,   0,   0,   0,   0,   0],\n",
            "        [ 75,  28, 100, 131,   5, 122,  28,  16, 132,   7, 133, 134, 135, 136,\n",
            "          32,   0,   0,   0,   0,   0,   0,   0,   0,   0,   0,   0,   0,   0,\n",
            "           0,   0,   0,   0,   0,   0,   0,   0,   0,   0,   0],\n",
            "        [137,   1, 138,   1,  16,   1, 139, 140,   1,   1,  20,  21, 141, 142,\n",
            "         143, 144,   3, 110, 111, 145,  16, 146,  32,   0,   0,   0,   0,   0,\n",
            "           0,   0,   0,   0,   0,   0,   0,   0,   0,   0,   0],\n",
            "        [ 79, 147, 148,  37,   3, 121, 149, 111, 150, 151,  57,   1,  37,   1,\n",
            "         152, 111,  21,   1,  37, 153, 154, 155, 156,  32,   0,   0,   0,   0,\n",
            "           0,   0,   0,   0,   0,   0,   0,   0,   0,   0,   0],\n",
            "        [157, 158, 159,  81,   1, 160,  32,   0,   0,   0,   0,   0,   0,   0,\n",
            "           0,   0,   0,   0,   0,   0,   0,   0,   0,   0,   0,   0,   0,   0,\n",
            "           0,   0,   0,   0,   0,   0,   0,   0,   0,   0,   0]])\n",
            "tensor([36, 37, 39,  8, 32, 22, 18,  9,  7, 18,  7, 15, 23, 24,  7])\n",
            "tensor([1, 1, 1, 1, 1, 1, 1, 1, 1, 1, 1, 1, 1, 1, 1])\n",
            "----------\n",
            "Batch 1:\n",
            "tensor([[161,  79, 162, 163, 164, 165,  28, 166,  81, 167, 168, 169, 108, 148,\n",
            "          32,   0,   0,   0,   0,   0,   0,   0,   0,   0,   0,   0,   0,   0,\n",
            "           0,   0,   0,   0,   0,   0,   0,   0,   0,   0,   0],\n",
            "        [ 79, 170, 171, 162, 108,  32,   0,   0,   0,   0,   0,   0,   0,   0,\n",
            "           0,   0,   0,   0,   0,   0,   0,   0,   0,   0,   0,   0,   0,   0,\n",
            "           0,   0,   0,   0,   0,   0,   0,   0,   0,   0,   0],\n",
            "        [ 13, 172,  15, 173, 174, 175,  41, 176,  28,  17,  23,  21, 177,  13,\n",
            "           1, 178,  15,   0,   0,   0,   0,   0,   0,   0,   0,   0,   0,   0,\n",
            "           0,   0,   0,   0,   0,   0,   0,   0,   0,   0,   0],\n",
            "        [  1,   5, 141,  28, 179,  88, 180,  28, 181, 182,   7, 183,  11,   1,\n",
            "         184,  16,   1, 125,  32,   0,   0,   0,   0,   0,   0,   0,   0,   0,\n",
            "           0,   0,   0,   0,   0,   0,   0,   0,   0,   0,   0],\n",
            "        [  3, 185, 186, 187,  32,   0,   0,   0,   0,   0,   0,   0,   0,   0,\n",
            "           0,   0,   0,   0,   0,   0,   0,   0,   0,   0,   0,   0,   0,   0,\n",
            "           0,   0,   0,   0,   0,   0,   0,   0,   0,   0,   0],\n",
            "        [188, 186, 189, 190, 108, 191,   3, 192,   7,   3, 193,  32,   0,   0,\n",
            "           0,   0,   0,   0,   0,   0,   0,   0,   0,   0,   0,   0,   0,   0,\n",
            "           0,   0,   0,   0,   0,   0,   0,   0,   0,   0,   0],\n",
            "        [194, 195, 196,   1,   3, 197,  37, 198, 199,  11, 200,  21, 201,  28,\n",
            "           1, 104,  37,   3, 202,  28, 203,   1,   3, 204, 205, 155, 206, 207,\n",
            "          32,   0,   0,   0,   0,   0,   0,   0,   0,   0,   0],\n",
            "        [100,   5, 208,  21,  12, 197,  32,   0,   0,   0,   0,   0,   0,   0,\n",
            "           0,   0,   0,   0,   0,   0,   0,   0,   0,   0,   0,   0,   0,   0,\n",
            "           0,   0,   0,   0,   0,   0,   0,   0,   0,   0,   0],\n",
            "        [108,  11, 174, 209, 210,  64, 211,  41, 212,  30, 111,  41, 213, 214,\n",
            "          32,   0,   0,   0,   0,   0,   0,   0,   0,   0,   0,   0,   0,   0,\n",
            "           0,   0,   0,   0,   0,   0,   0,   0,   0,   0,   0],\n",
            "        [194,  13, 215, 216,  37, 217, 218,  15, 196,   5,  88, 219, 220, 221,\n",
            "         222,  17, 223, 224,  85,  88, 225,  37, 226, 227, 228,  95, 229, 230,\n",
            "         231, 232,   3, 233,  16, 234,  37,   3, 235, 236,  32],\n",
            "        [189,  13, 237,  15, 238,  95, 239, 108, 190, 240, 154, 111, 241, 242,\n",
            "          32,   0,   0,   0,   0,   0,   0,   0,   0,   0,   0,   0,   0,   0,\n",
            "           0,   0,   0,   0,   0,   0,   0,   0,   0,   0,   0],\n",
            "        [102,  28, 243,  28, 244, 111, 245,  16, 239,  28,  16, 246,  21, 121,\n",
            "         247,  32,   0,   0,   0,   0,   0,   0,   0,   0,   0,   0,   0,   0,\n",
            "           0,   0,   0,   0,   0,   0,   0,   0,   0,   0,   0],\n",
            "        [ 64, 248,   1, 173, 249, 174, 104,  37, 154,   3, 250, 104, 251,  11,\n",
            "         252, 253, 254,  13, 255, 256,  15, 257, 241, 258,  16, 259,  11, 260,\n",
            "           1, 261,   0,   0,   0,   0,   0,   0,   0,   0,   0],\n",
            "        [213,  37,   3, 202,  11, 105, 262,  95,   3, 263, 264,  37, 265,  16,\n",
            "           1,  32,   0,   0,   0,   0,   0,   0,   0,   0,   0,   0,   0,   0,\n",
            "           0,   0,   0,   0,   0,   0,   0,   0,   0,   0,   0],\n",
            "        [266,   1, 267, 186, 268, 269,  32,   0,   0,   0,   0,   0,   0,   0,\n",
            "           0,   0,   0,   0,   0,   0,   0,   0,   0,   0,   0,   0,   0,   0,\n",
            "           0,   0,   0,   0,   0,   0,   0,   0,   0,   0,   0]])\n",
            "tensor([15,  6, 17, 19,  5, 12, 29,  7, 15, 39, 15, 16, 30, 16,  7])\n",
            "tensor([1, 1, 1, 1, 1, 1, 1, 0, 1, 1, 1, 1, 1, 1, 1])\n",
            "----------\n",
            "Batch 2:\n",
            "tensor([[261, 270, 111, 271, 194, 272, 273, 274, 275,   1,  28, 272,   1,   1,\n",
            "         276,  21, 246,  28,  70,  28,   1,   1, 111,  88, 277,   1, 196,  16,\n",
            "         278,   1, 194, 279,  11,   1, 173, 174, 280, 111, 281,  28,  21, 282,\n",
            "         277, 283, 284,   1, 285,  16, 286, 287, 196],\n",
            "        [288,  11,  88, 145,   7, 289, 290, 291, 292,  32,   0,   0,   0,   0,\n",
            "           0,   0,   0,   0,   0,   0,   0,   0,   0,   0,   0,   0,   0,   0,\n",
            "           0,   0,   0,   0,   0,   0,   0,   0,   0,   0,   0,   0,   0,   0,\n",
            "           0,   0,   0,   0,   0,   0,   0,   0,   0],\n",
            "        [213,  37, 108, 293, 294,   3, 295,  28,   1, 296,  81, 241, 297, 185,\n",
            "          32,   0,   0,   0,   0,   0,   0,   0,   0,   0,   0,   0,   0,   0,\n",
            "           0,   0,   0,   0,   0,   0,   0,   0,   0,   0,   0,   0,   0,   0,\n",
            "           0,   0,   0,   0,   0,   0,   0,   0,   0],\n",
            "        [ 13, 298, 299,  15, 300, 301,  88, 302, 303,  16, 304,  37, 305,   1,\n",
            "          95,   3,   1, 306,   0,   0,   0,   0,   0,   0,   0,   0,   0,   0,\n",
            "           0,   0,   0,   0,   0,   0,   0,   0,   0,   0,   0,   0,   0,   0,\n",
            "           0,   0,   0,   0,   0,   0,   0,   0,   0],\n",
            "        [261,  21, 307, 221, 202, 143, 241, 308, 309,  88, 310,  37,   3, 311,\n",
            "          17,   1,   3, 312,   1,  37,   3, 313,  11, 261,   3, 222,  11, 314,\n",
            "         173,  21,  13, 189, 315, 108, 167, 154, 316,  15,   0,   0,   0,   0,\n",
            "           0,   0,   0,   0,   0,   0,   0,   0,   0],\n",
            "        [317,   7, 108,  28,  64, 129,   3, 313,  11,  28,   3, 192, 288,   5,\n",
            "          21, 318, 319,  37, 122,  32,   0,   0,   0,   0,   0,   0,   0,   0,\n",
            "           0,   0,   0,   0,   0,   0,   0,   0,   0,   0,   0,   0,   0,   0,\n",
            "           0,   0,   0,   0,   0,   0,   0,   0,   0],\n",
            "        [ 13, 320, 321,  15, 322, 323, 111,   3, 324,  13, 154, 325, 222, 326,\n",
            "         327, 178,  15,   0,   0,   0,   0,   0,   0,   0,   0,   0,   0,   0,\n",
            "           0,   0,   0,   0,   0,   0,   0,   0,   0,   0,   0,   0,   0,   0,\n",
            "           0,   0,   0,   0,   0,   0,   0,   0,   0],\n",
            "        [328, 329, 330, 331,  57, 301,   3,   1,   1, 284,   1, 294,   3, 332,\n",
            "          16,   1, 148,  95,   3, 333,  32,   0,   0,   0,   0,   0,   0,   0,\n",
            "           0,   0,   0,   0,   0,   0,   0,   0,   0,   0,   0,   0,   0,   0,\n",
            "           0,   0,   0,   0,   0,   0,   0,   0,   0],\n",
            "        [ 64, 334, 108,  30,  46,  28, 108,  11, 335,  37,   3, 250, 336,  28,\n",
            "         337, 300, 273, 338, 339,  32,   0,   0,   0,   0,   0,   0,   0,   0,\n",
            "           0,   0,   0,   0,   0,   0,   0,   0,   0,   0,   0,   0,   0,   0,\n",
            "           0,   0,   0,   0,   0,   0,   0,   0,   0],\n",
            "        [  1,   1,  16,   1, 186,  88, 340, 341, 342,  28,  16,  23, 343, 266,\n",
            "          63,   5, 344,  28,  79, 170, 345, 346,   7, 207, 148,  32,   0,   0,\n",
            "           0,   0,   0,   0,   0,   0,   0,   0,   0,   0,   0,   0,   0,   0,\n",
            "           0,   0,   0,   0,   0,   0,   0,   0,   0],\n",
            "        [261,  21, 347, 348,  17, 349, 241, 350,  37, 351,  57, 352,  21, 353,\n",
            "          28, 352,  21,   1,  16,  28,   7, 217, 318, 354,  28,   3, 355, 356,\n",
            "         357,  32,   0,   0,   0,   0,   0,   0,   0,   0,   0,   0,   0,   0,\n",
            "           0,   0,   0,   0,   0,   0,   0,   0,   0],\n",
            "        [194, 358, 196, 359, 224, 360, 361, 362,  21, 363, 364, 365, 366,  45,\n",
            "           8, 367,  18,   5,  46,  61,   1, 368,  95,   3, 369,   1,  37, 370,\n",
            "         371, 100, 272, 194, 372, 196,  16, 370, 371,  17,  28, 272, 373, 194,\n",
            "          30,   1, 196, 154, 374, 100, 375,  32,   0],\n",
            "        [  3,   1,   1,  37, 376,   1,  16, 241, 377, 378,  16,   1,  37, 379,\n",
            "         247,  16, 380, 381,  20, 108,  21, 318,  72,   7, 382, 111, 383,  16,\n",
            "         384,   7,   1, 385, 301, 200,  32,   0,   0,   0,   0,   0,   0,   0,\n",
            "           0,   0,   0,   0,   0,   0,   0,   0,   0],\n",
            "        [ 13, 172,  15, 386, 148, 129,  21, 387, 388, 389,  63,  28,  64, 108,\n",
            "         390, 148,   7,   8, 391, 392, 194,  16, 393, 196,  25, 250, 394, 111,\n",
            "         100, 395,  32,   0,   0,   0,   0,   0,   0,   0,   0,   0,   0,   0,\n",
            "           0,   0,   0,   0,   0,   0,   0,   0,   0],\n",
            "        [154, 396, 284, 397, 398,  85, 399,  28,   1, 400,  28, 100, 401,  46,\n",
            "         402, 129,   3, 403, 404,  37, 405,  28, 406, 108,   5, 407, 408,  17,\n",
            "          23,   3,   1, 409,   1, 410, 357, 266, 411, 412, 154,  88, 413,  32,\n",
            "           0,   0,   0,   0,   0,   0,   0,   0,   0]])\n",
            "tensor([51, 10, 15, 18, 38, 20, 17, 21, 20, 26, 30, 50, 35, 31, 42])\n",
            "tensor([1, 1, 1, 1, 0, 1, 1, 0, 1, 1, 1, 1, 1, 1, 1])\n",
            "----------\n",
            "Batch 3:\n",
            "tensor([[108, 414,   7,   3, 308,  37, 189, 108, 415, 168,   7, 416, 417, 418,\n",
            "          28,   7,   8,  21, 149,  95,  21, 419,  37, 420,  28,   7,   8,  21,\n",
            "         421, 134,  95, 162, 111,  21, 149,  28,  16,   7, 422,   3, 423, 424,\n",
            "         425,  17,   5, 228,  57, 426, 108, 223,  79,  32],\n",
            "        [ 21, 427, 428, 294,   1, 429,  17, 430, 431, 432,   7,   8, 433,  28,\n",
            "         100, 335,   5,  21, 434,  16, 435,  16, 436, 437,  63,  32,   0,   0,\n",
            "           0,   0,   0,   0,   0,   0,   0,   0,   0,   0,   0,   0,   0,   0,\n",
            "           0,   0,   0,   0,   0,   0,   0,   0,   0,   0],\n",
            "        [ 21, 438, 439, 440, 194,  16, 196,  21,  90, 221, 441,  17, 381, 442,\n",
            "         174, 443, 154,  88, 444,  13,   1, 445,  15, 446,  32,   0,   0,   0,\n",
            "           0,   0,   0,   0,   0,   0,   0,   0,   0,   0,   0,   0,   0,   0,\n",
            "           0,   0,   0,   0,   0,   0,   0,   0,   0,   0],\n",
            "        [108, 173,  61,  25,  21,  58, 447,  17, 186, 448, 449,   7,   8, 450,\n",
            "         451,  95,   3, 452, 453, 454,  37, 455,  32,   0,   0,   0,   0,   0,\n",
            "           0,   0,   0,   0,   0,   0,   0,   0,   0,   0,   0,   0,   0,   0,\n",
            "           0,   0,   0,   0,   0,   0,   0,   0,   0,   0],\n",
            "        [ 88,   1,  28, 456, 457,  17,   1, 241, 458, 459, 460,  84,  30, 461,\n",
            "          32, 272,   0,   0,   0,   0,   0,   0,   0,   0,   0,   0,   0,   0,\n",
            "           0,   0,   0,   0,   0,   0,   0,   0,   0,   0,   0,   0,   0,   0,\n",
            "           0,   0,   0,   0,   0,   0,   0,   0,   0,   0],\n",
            "        [194,   3, 462, 196, 463,  21, 464, 205,  21, 465,   1,  85, 466, 467,\n",
            "          95, 468, 469,   1,  32, 272,   0,   0,   0,   0,   0,   0,   0,   0,\n",
            "           0,   0,   0,   0,   0,   0,   0,   0,   0,   0,   0,   0,   0,   0,\n",
            "           0,   0,   0,   0,   0,   0,   0,   0,   0,   0],\n",
            "        [ 21, 470,  28, 471, 472,  37, 473, 202,  28, 474,  63,  16, 475, 476,\n",
            "          32,   0,   0,   0,   0,   0,   0,   0,   0,   0,   0,   0,   0,   0,\n",
            "           0,   0,   0,   0,   0,   0,   0,   0,   0,   0,   0,   0,   0,   0,\n",
            "           0,   0,   0,   0,   0,   0,   0,   0,   0,   0],\n",
            "        [  3, 477,   1, 442, 478,  85, 479, 480, 367, 108, 293,   7,   1,  32,\n",
            "           0,   0,   0,   0,   0,   0,   0,   0,   0,   0,   0,   0,   0,   0,\n",
            "           0,   0,   0,   0,   0,   0,   0,   0,   0,   0,   0,   0,   0,   0,\n",
            "           0,   0,   0,   0,   0,   0,   0,   0,   0,   0],\n",
            "        [108,  11, 327,  95, 481, 482,  17,   1,  17, 186, 483, 154, 475, 484,\n",
            "         485, 486, 487, 276,  32,   0,   0,   0,   0,   0,   0,   0,   0,   0,\n",
            "           0,   0,   0,   0,   0,   0,   0,   0,   0,   0,   0,   0,   0,   0,\n",
            "           0,   0,   0,   0,   0,   0,   0,   0,   0,   0],\n",
            "        [ 21, 141, 488, 202,  57,  95, 489,  28,   3, 490,  95, 491, 492,  32,\n",
            "           0,   0,   0,   0,   0,   0,   0,   0,   0,   0,   0,   0,   0,   0,\n",
            "           0,   0,   0,   0,   0,   0,   0,   0,   0,   0,   0,   0,   0,   0,\n",
            "           0,   0,   0,   0,   0,   0,   0,   0,   0,   0],\n",
            "        [ 13, 493, 149,  15,   5,  88, 494,  11, 202, 495,  16, 496,  32,   0,\n",
            "           0,   0,   0,   0,   0,   0,   0,   0,   0,   0,   0,   0,   0,   0,\n",
            "           0,   0,   0,   0,   0,   0,   0,   0,   0,   0,   0,   0,   0,   0,\n",
            "           0,   0,   0,   0,   0,   0,   0,   0,   0,   0],\n",
            "        [273, 497, 498, 294, 100,  12, 499,  37, 500,  93, 301, 273, 501, 273,\n",
            "         381,  57, 111,   1, 502,  32,   0,   0,   0,   0,   0,   0,   0,   0,\n",
            "           0,   0,   0,   0,   0,   0,   0,   0,   0,   0,   0,   0,   0,   0,\n",
            "           0,   0,   0,   0,   0,   0,   0,   0,   0,   0],\n",
            "        [154, 503,  37, 504, 409,  28, 505, 506,   5,  41, 507, 111, 508,   1,\n",
            "         108,  11, 129, 509,  16,  19,   7, 510, 511,  32,   0,   0,   0,   0,\n",
            "           0,   0,   0,   0,   0,   0,   0,   0,   0,   0,   0,   0,   0,   0,\n",
            "           0,   0,   0,   0,   0,   0,   0,   0,   0,   0],\n",
            "        [189,  11, 512,  41, 341, 513,   3, 514,   5, 266, 515,   7, 516, 517,\n",
            "          32,   0,   0,   0,   0,   0,   0,   0,   0,   0,   0,   0,   0,   0,\n",
            "           0,   0,   0,   0,   0,   0,   0,   0,   0,   0,   0,   0,   0,   0,\n",
            "           0,   0,   0,   0,   0,   0,   0,   0,   0,   0],\n",
            "        [ 88, 518, 519, 520,  32,   0,   0,   0,   0,   0,   0,   0,   0,   0,\n",
            "           0,   0,   0,   0,   0,   0,   0,   0,   0,   0,   0,   0,   0,   0,\n",
            "           0,   0,   0,   0,   0,   0,   0,   0,   0,   0,   0,   0,   0,   0,\n",
            "           0,   0,   0,   0,   0,   0,   0,   0,   0,   0]])\n",
            "tensor([52, 26, 25, 23, 16, 20, 15, 14, 19, 14, 13, 20, 24, 15,  5])\n",
            "tensor([1, 1, 1, 1, 1, 1, 1, 0, 0, 1, 1, 1, 1, 1, 0])\n",
            "----------\n",
            "Batch 4:\n",
            "tensor([[161,  79,  80, 301, 521, 522,   7, 429, 301,  79, 186, 523, 524,  28,\n",
            "          16,   3, 525, 526,  37, 130, 172,   1,  79,  28, 166,  79,  80, 143,\n",
            "           3, 527, 222,  32,   0,   0,   0,   0,   0],\n",
            "        [528,  13, 529,  15, 235, 530, 294, 531,  16, 273, 532, 533, 396, 284,\n",
            "         534, 108, 410, 442,  88, 535,   7, 350,  32,   0,   0,   0,   0,   0,\n",
            "           0,   0,   0,   0,   0,   0,   0,   0,   0],\n",
            "        [536,  11, 537,  16, 250, 538, 202,  95, 530,  32,   0,   0,   0,   0,\n",
            "           0,   0,   0,   0,   0,   0,   0,   0,   0,   0,   0,   0,   0,   0,\n",
            "           0,   0,   0,   0,   0,   0,   0,   0,   0],\n",
            "        [108,  11,  21, 539, 540, 129, 396,   1,   1, 328,  95,   3, 541, 542,\n",
            "          37,   1, 222,  32,   0,   0,   0,   0,   0,   0,   0,   0,   0,   0,\n",
            "           0,   0,   0,   0,   0,   0,   0,   0,   0],\n",
            "        [100, 543, 457,   5, 301, 544, 301, 108,   5, 545,  32,   0,   0,   0,\n",
            "           0,   0,   0,   0,   0,   0,   0,   0,   0,   0,   0,   0,   0,   0,\n",
            "           0,   0,   0,   0,   0,   0,   0,   0,   0],\n",
            "        [ 61, 546,  25, 241, 547, 548, 487, 442, 549,  28, 100, 550, 551, 552,\n",
            "         553,   3, 554, 427, 555,  81, 556,   7,   3,   1, 557, 284,   1, 558,\n",
            "         241, 559,  28, 560, 154, 207,  16, 561,  32],\n",
            "        [  3, 562,  63, 563,  28, 564,  81, 547,  50, 565, 205, 566,   1,  16,\n",
            "         567, 568,  28, 569, 167,   3, 570,  37, 507, 571, 572, 205,  21,  58,\n",
            "         337, 573,  16, 574, 158,   1,  32,   0,   0],\n",
            "        [  3, 575, 173, 174, 328, 111,  88, 576, 577,  37, 578,  28,  41, 579,\n",
            "         334, 479, 514, 162, 580,  86,  32,   0,   0,   0,   0,   0,   0,   0,\n",
            "           0,   0,   0,   0,   0,   0,   0,   0,   0],\n",
            "        [ 67,   3, 296, 186, 581,  32,   0,   0,   0,   0,   0,   0,   0,   0,\n",
            "           0,   0,   0,   0,   0,   0,   0,   0,   0,   0,   0,   0,   0,   0,\n",
            "           0,   0,   0,   0,   0,   0,   0,   0,   0],\n",
            "        [582, 240, 255, 583, 584,  16,   1,  28, 585, 133, 586, 587, 205, 588,\n",
            "          17, 250, 589, 394,   1, 111, 590, 591,  28, 592, 593,  16, 336, 594,\n",
            "          32,   0,   0,   0,   0,   0,   0,   0,   0],\n",
            "        [523, 479,   1,   5, 583, 595,  16, 596, 597,  32,   0,   0,   0,   0,\n",
            "           0,   0,   0,   0,   0,   0,   0,   0,   0,   0,   0,   0,   0,   0,\n",
            "           0,   0,   0,   0,   0,   0,   0,   0,   0],\n",
            "        [ 31, 598, 599, 224, 600, 601,   0,   0,   0,   0,   0,   0,   0,   0,\n",
            "           0,   0,   0,   0,   0,   0,   0,   0,   0,   0,   0,   0,   0,   0,\n",
            "           0,   0,   0,   0,   0,   0,   0,   0,   0],\n",
            "        [602,  28,   3,   1,  13, 603, 217, 604,  15,   5,  21, 202,  17, 605,\n",
            "         514, 606, 323, 495,  32,   0,   0,   0,   0,   0,   0,   0,   0,   0,\n",
            "           0,   0,   0,   0,   0,   0,   0,   0,   0],\n",
            "        [607,   1,  16, 608, 609, 610, 611,  28, 180,   1,   7, 266, 514,  32,\n",
            "           0,   0,   0,   0,   0,   0,   0,   0,   0,   0,   0,   0,   0,   0,\n",
            "           0,   0,   0,   0,   0,   0,   0,   0,   0],\n",
            "        [536, 569,  18,  45,   1,  82,  37, 396, 226,   1, 198, 612, 613, 614,\n",
            "          32,   0,   0,   0,   0,   0,   0,   0,   0,   0,   0,   0,   0,   0,\n",
            "           0,   0,   0,   0,   0,   0,   0,   0,   0]])\n",
            "tensor([32, 23, 10, 18, 11, 37, 35, 21,  6, 29, 10,  6, 19, 14, 15])\n",
            "tensor([1, 1, 1, 1, 1, 1, 1, 1, 1, 1, 1, 1, 1, 1, 1])\n",
            "----------\n",
            "Batch 5:\n",
            "tensor([[ 21, 121, 222, 111,  21, 615, 616, 583,  95, 617,  37,  16,  28,  61,\n",
            "         618,  28, 619,   3, 620,  32,   0,   0,   0,   0,   0,   0,   0,   0,\n",
            "           0,   0,   0,   0,   0,   0,   0,   0,   0,   0,   0,   0,   0],\n",
            "        [ 81, 621, 168,  21,   1,  16, 533,   7, 436, 622,   3, 123, 623, 284,\n",
            "         410,   8, 624,   7,   3, 625,  37, 266, 626,  81,   3, 627, 495,  74,\n",
            "          28, 108,  75, 293, 412, 301,  21, 628,  28, 629, 162,  63,  32],\n",
            "        [273, 630, 226,  16, 444, 631,   7, 632, 633, 100, 634,  16, 635, 636,\n",
            "          85,   3, 637, 638,  11, 552,  57,  79, 639, 208,   8, 640, 178,   0,\n",
            "           0,   0,   0,   0,   0,   0,   0,   0,   0,   0,   0,   0,   0],\n",
            "        [ 21, 641, 642,  63,   5,  75,  21, 642,  63,  16, 643,  37,   3, 644,\n",
            "         639, 208,   8, 645,  32,   0,   0,   0,   0,   0,   0,   0,   0,   0,\n",
            "           0,   0,   0,   0,   0,   0,   0,   0,   0,   0,   0,   0,   0],\n",
            "        [646, 647, 648,  41, 649, 294,  86, 429,  16, 650, 449, 651, 652,  37,\n",
            "         394,  17, 108, 653, 208, 654,  64, 655,  88, 656,  32,   0,   0,   0,\n",
            "           0,   0,   0,   0,   0,   0,   0,   0,   0,   0,   0,   0,   0],\n",
            "        [161,  79,  80,  21, 657,  37,   3, 658,  79, 170, 162, 108,  16, 171,\n",
            "         345,   7, 633, 108, 659,  32,   0,   0,   0,   0,   0,   0,   0,   0,\n",
            "           0,   0,   0,   0,   0,   0,   0,   0,   0,   0,   0,   0,   0],\n",
            "        [273, 410,   8,  32,   0,   0,   0,   0,   0,   0,   0,   0,   0,   0,\n",
            "           0,   0,   0,   0,   0,   0,   0,   0,   0,   0,   0,   0,   0,   0,\n",
            "           0,   0,   0,   0,   0,   0,   0,   0,   0,   0,   0,   0,   0],\n",
            "        [108, 660,   3, 661,  11,  91, 662,  37,   1,  28,   1, 212, 663, 143,\n",
            "         189,   1,   1, 664, 665, 370, 666,  37, 102,  32, 272,   0,   0,   0,\n",
            "           0,   0,   0,   0,   0,   0,   0,   0,   0,   0,   0,   0,   0],\n",
            "        [  3,  63, 261,   5, 595,  28, 667,  28,  16, 584,  37,  93, 360, 668,\n",
            "          16,   1,   3, 669, 670, 512,   5,  32,   0,   0,   0,   0,   0,   0,\n",
            "           0,   0,   0,   0,   0,   0,   0,   0,   0,   0,   0,   0,   0],\n",
            "        [108,   5, 671,  21, 672,   7,   3, 673,  16,  52,  37,   3, 674,  32,\n",
            "           0,   0,   0,   0,   0,   0,   0,   0,   0,   0,   0,   0,   0,   0,\n",
            "           0,   0,   0,   0,   0,   0,   0,   0,   0,   0,   0,   0,   0],\n",
            "        [  1, 111, 675, 676,  37, 677, 271,  28, 678, 679, 680,  28,  16,  21,\n",
            "           1,  37, 615, 296,  28, 621, 681, 682,   5,  21,  90, 221, 552,  32,\n",
            "           0,   0,   0,   0,   0,   0,   0,   0,   0,   0,   0,   0,   0],\n",
            "        [683,  11, 684,   7, 685,  16, 686, 190,  21, 687,  37, 108,  28, 688,\n",
            "         689,   1,  11, 690, 691, 301,   3, 692, 693,  85,   1, 694,  93, 301,\n",
            "         213, 301, 695, 696,  11,   1,  32,   0,   0,   0,   0,   0,   0],\n",
            "        [697, 698, 208, 699,   3, 700, 701,  32,   0,   0,   0,   0,   0,   0,\n",
            "           0,   0,   0,   0,   0,   0,   0,   0,   0,   0,   0,   0,   0,   0,\n",
            "           0,   0,   0,   0,   0,   0,   0,   0,   0,   0,   0,   0,   0],\n",
            "        [686, 702, 580, 158,   7, 703, 266, 704,   1,  16, 219,  32,   0,   0,\n",
            "           0,   0,   0,   0,   0,   0,   0,   0,   0,   0,   0,   0,   0,   0,\n",
            "           0,   0,   0,   0,   0,   0,   0,   0,   0,   0,   0,   0,   0],\n",
            "        [335,  37,   3, 490, 243, 705, 429,  37, 491, 492,  28, 111, 133, 706,\n",
            "         707,  95, 708, 154,   1, 709,  32,   0,   0,   0,   0,   0,   0,   0,\n",
            "           0,   0,   0,   0,   0,   0,   0,   0,   0,   0,   0,   0,   0]])\n",
            "tensor([20, 41, 27, 19, 25, 20,  4, 25, 22, 14, 28, 35,  8, 12, 21])\n",
            "tensor([1, 0, 1, 1, 1, 1, 1, 1, 1, 1, 1, 1, 1, 1, 1])\n",
            "----------\n",
            "Batch 6:\n",
            "tensor([[  3, 207,  37,  21, 710, 284, 173, 711, 712, 143,   3, 242,  37, 665,\n",
            "          63,  16, 713, 360,   7, 215, 247, 714, 524,  32,   0,   0,   0,   0,\n",
            "           0,   0,   0,   0,   0,   0,   0,   0],\n",
            "        [715,   1, 716,  95,   3, 717,  37,   3, 718,  16, 215,  85, 117, 719,\n",
            "          32,   0,   0,   0,   0,   0,   0,   0,   0,   0,   0,   0,   0,   0,\n",
            "           0,   0,   0,   0,   0,   0,   0,   0],\n",
            "        [173,  21, 720,   1, 721,  28,  16, 722,  21, 723, 577,  37, 724, 725,\n",
            "          32,   0,   0,   0,   0,   0,   0,   0,   0,   0,   0,   0,   0,   0,\n",
            "           0,   0,   0,   0,   0,   0,   0,   0],\n",
            "        [726,  64, 727, 544,  32,   0,   0,   0,   0,   0,   0,   0,   0,   0,\n",
            "           0,   0,   0,   0,   0,   0,   0,   0,   0,   0,   0,   0,   0,   0,\n",
            "           0,   0,   0,   0,   0,   0,   0,   0],\n",
            "        [ 21,  90,  28, 677, 441,  17, 728,  79,   1,  85,   3, 729,   1,  37,\n",
            "         241, 730, 731,  32,   0,   0,   0,   0,   0,   0,   0,   0,   0,   0,\n",
            "           0,   0,   0,   0,   0,   0,   0,   0],\n",
            "        [  3, 222, 732,   7,   8, 733,  28, 734,  16, 612,  28, 352, 167, 143,\n",
            "         735,  32,   0,   0,   0,   0,   0,   0,   0,   0,   0,   0,   0,   0,\n",
            "           0,   0,   0,   0,   0,   0,   0,   0],\n",
            "        [  3, 736,   7, 737, 108, 738,   5, 739,  32,   0,   0,   0,   0,   0,\n",
            "           0,   0,   0,   0,   0,   0,   0,   0,   0,   0,   0,   0,   0,   0,\n",
            "           0,   0,   0,   0,   0,   0,   0,   0],\n",
            "        [  3, 222, 740, 741,  85, 167,   3, 514,  28, 301,   3, 742,   5, 743,\n",
            "         744,  32,   0,   0,   0,   0,   0,   0,   0,   0,   0,   0,   0,   0,\n",
            "           0,   0,   0,   0,   0,   0,   0,   0],\n",
            "        [745,  46, 154, 468, 400,  28, 100, 203, 268, 733,   1, 746, 348, 747,\n",
            "          21, 748, 469, 749,   1,   3, 750,  37,   3, 751, 752, 222, 753,  28,\n",
            "         431, 748, 754,   7, 755,   1,  32,   0],\n",
            "        [301, 756,  16, 757, 301,   3, 114,   5,  28, 288,   5,  88, 758,  37,\n",
            "         759,  95,   3, 207,  37,   3, 547,  28, 760, 761,  28,  17, 728,   3,\n",
            "         222,   1,  95,  88, 762, 763, 764,  32],\n",
            "        [ 95, 765,   7, 766,  11, 767, 124, 768,  28, 100,   5,  17, 769, 440,\n",
            "          17, 770,  21, 771,  16, 772, 773, 205,   3, 774,  37,   1, 285, 173,\n",
            "         775,  28,  30, 410, 776,   1,  32,   0],\n",
            "        [  1, 777,  11, 366, 301,   3, 778,   1,   1,   5, 779,  32,   0,   0,\n",
            "           0,   0,   0,   0,   0,   0,   0,   0,   0,   0,   0,   0,   0,   0,\n",
            "           0,   0,   0,   0,   0,   0,   0,   0],\n",
            "        [294,   3, 780, 781,  37,   3, 782, 783, 674,  11,  13, 784, 240,   3,\n",
            "         785,  15,  28,  79,  45, 776,   3, 162,  32,   0,   0,   0,   0,   0,\n",
            "           0,   0,   0,   0,   0,   0,   0,   0],\n",
            "        [786, 272, 787, 260, 788, 186,   3, 789, 790, 100,  16,   1,  86, 791,\n",
            "         513, 480,  16, 792,  32,   0,   0,   0,   0,   0,   0,   0,   0,   0,\n",
            "           0,   0,   0,   0,   0,   0,   0,   0],\n",
            "        [ 17, 108, 170, 171,   8,   3, 490,  16, 250, 793, 348,  37,   3, 794,\n",
            "         795, 796, 797,  61,  37,   3, 796,  25,   3, 798,   0,   0,   0,   0,\n",
            "           0,   0,   0,   0,   0,   0,   0,   0]])\n",
            "tensor([24, 15, 15,  5, 18, 16,  9, 16, 35, 36, 35, 12, 23, 19, 24])\n",
            "tensor([1, 1, 1, 1, 1, 1, 1, 1, 1, 1, 1, 1, 1, 1, 1])\n",
            "----------\n",
            "Batch 7:\n",
            "tensor([[799, 272, 800, 222, 401,   8, 664,  88, 801,  37,   3,   1,  37, 802,\n",
            "          32,   0,   0,   0,   0,   0,   0,   0,   0,   0,   0,   0,   0,   0,\n",
            "           0,   0,   0,   0,   0,   0,   0,   0,   0,   0,   0,   0,   0,   0,\n",
            "           0],\n",
            "        [  3, 202,   5, 803, 733, 531,  16, 166, 460,  95,  82, 469,   1, 241,\n",
            "         804,  32,   0,   0,   0,   0,   0,   0,   0,   0,   0,   0,   0,   0,\n",
            "           0,   0,   0,   0,   0,   0,   0,   0,   0,   0,   0,   0,   0,   0,\n",
            "           0],\n",
            "        [805,  21, 806, 807,   1, 808, 809,   1, 810, 811,   1,  11, 812, 813,\n",
            "         271,   0,   0,   0,   0,   0,   0,   0,   0,   0,   0,   0,   0,   0,\n",
            "           0,   0,   0,   0,   0,   0,   0,   0,   0,   0,   0,   0,   0,   0,\n",
            "           0],\n",
            "        [431, 814, 815,   7, 816, 240,  28,  16, 154,   3,   1, 817,  28, 469,\n",
            "         818, 194,  16, 393, 196,  25, 819,   1, 820,  32,   0,   0,   0,   0,\n",
            "           0,   0,   0,   0,   0,   0,   0,   0,   0,   0,   0,   0,   0,   0,\n",
            "           0],\n",
            "        [108,   5, 250, 821,  46, 822,  37, 241, 823, 824,  28,  64, 822,  37,\n",
            "           3, 825, 826, 108, 827, 828,  17, 829,  32,   0,   0,   0,   0,   0,\n",
            "           0,   0,   0,   0,   0,   0,   0,   0,   0,   0,   0,   0,   0,   0,\n",
            "           0],\n",
            "        [108,  11,  46,  21, 318, 830, 202,  32,   0,   0,   0,   0,   0,   0,\n",
            "           0,   0,   0,   0,   0,   0,   0,   0,   0,   0,   0,   0,   0,   0,\n",
            "           0,   0,   0,   0,   0,   0,   0,   0,   0,   0,   0,   0,   0,   0,\n",
            "           0],\n",
            "        [831,  28,  61,   1,   7,   3,   1,   1,  17, 370,   3, 832,   7, 833,\n",
            "           5, 671,  21, 260, 832, 272,  28,  30,  61, 834,   7, 633, 111, 266,\n",
            "         206, 502,  28, 410, 835, 836,  11, 837, 838,  37, 839,   7,   8, 840,\n",
            "          32],\n",
            "        [841, 842, 100, 268, 843, 552, 111, 221, 844,  30, 845,  28, 846, 847,\n",
            "         848, 294, 849,  32,   0,   0,   0,   0,   0,   0,   0,   0,   0,   0,\n",
            "           0,   0,   0,   0,   0,   0,   0,   0,   0,   0,   0,   0,   0,   0,\n",
            "           0],\n",
            "        [247, 148,   5, 850, 440, 460,  82,  37,   3, 851, 852, 111,   3, 853,\n",
            "          32,   0,   0,   0,   0,   0,   0,   0,   0,   0,   0,   0,   0,   0,\n",
            "           0,   0,   0,   0,   0,   0,   0,   0,   0,   0,   0,   0,   0,   0,\n",
            "           0],\n",
            "        [108,  11,  21, 434,  28,   1, 817, 854,  17, 855, 417, 856, 301, 176,\n",
            "         301,   3, 857,  37, 417, 858,  32,   0,   0,   0,   0,   0,   0,   0,\n",
            "           0,   0,   0,   0,   0,   0,   0,   0,   0,   0,   0,   0,   0,   0,\n",
            "           0],\n",
            "        [859, 860, 861, 194, 862, 196,  16, 665, 863, 864, 865, 740, 866, 266,\n",
            "         867,  16, 868, 869,   7, 870, 871, 872,  95,   3, 873,  16, 874, 240,\n",
            "         875,  32,   0,   0,   0,   0,   0,   0,   0,   0,   0,   0,   0,   0,\n",
            "           0],\n",
            "        [108,  11, 876,   7, 382,  28,  64, 108,  11,  21, 187, 202,  32,   0,\n",
            "           0,   0,   0,   0,   0,   0,   0,   0,   0,   0,   0,   0,   0,   0,\n",
            "           0,   0,   0,   0,   0,   0,   0,   0,   0,   0,   0,   0,   0,   0,\n",
            "           0],\n",
            "        [  3, 490, 877, 878,   7, 879, 880, 881, 882,  16,   3, 883, 884, 530,\n",
            "         885,  32,   0,   0,   0,   0,   0,   0,   0,   0,   0,   0,   0,   0,\n",
            "           0,   0,   0,   0,   0,   0,   0,   0,   0,   0,   0,   0,   0,   0,\n",
            "           0],\n",
            "        [189, 886, 100, 887, 888, 222, 294, 255, 889,  21, 890,  37, 891,   1,\n",
            "           5,   1,  11, 892,   7, 571,  32,   0,   0,   0,   0,   0,   0,   0,\n",
            "           0,   0,   0,   0,   0,   0,   0,   0,   0,   0,   0,   0,   0,   0,\n",
            "           0],\n",
            "        [893,   5,   3, 490,  18,  11, 174,  95, 530,  16,   1,   5, 894,  32,\n",
            "           0,   0,   0,   0,   0,   0,   0,   0,   0,   0,   0,   0,   0,   0,\n",
            "           0,   0,   0,   0,   0,   0,   0,   0,   0,   0,   0,   0,   0,   0,\n",
            "           0]])\n",
            "tensor([15, 16, 15, 24, 23,  8, 43, 18, 15, 21, 30, 13, 16, 21, 14])\n",
            "tensor([1, 1, 1, 1, 1, 0, 1, 1, 1, 1, 1, 1, 1, 1, 1])\n",
            "----------\n",
            "Batch 8:\n",
            "tensor([[ 21, 615,  28, 895, 896, 897,  37,   3, 898,  37,  21, 899,  32,   0,\n",
            "           0,   0,   0,   0,   0,   0,   0,   0,   0,   0,   0,   0,   0,   0,\n",
            "           0,   0,   0,   0,   0,   0,   0,   0,   0,   0,   0,   0],\n",
            "        [ 81, 390, 900,  28, 901,  16, 902,   1,  32,   0,   0,   0,   0,   0,\n",
            "           0,   0,   0,   0,   0,   0,   0,   0,   0,   0,   0,   0,   0,   0,\n",
            "           0,   0,   0,   0,   0,   0,   0,   0,   0,   0,   0,   0],\n",
            "        [261, 268, 733,  28, 268, 903, 261,   0,   0,   0,   0,   0,   0,   0,\n",
            "           0,   0,   0,   0,   0,   0,   0,   0,   0,   0,   0,   0,   0,   0,\n",
            "           0,   0,   0,   0,   0,   0,   0,   0,   0,   0,   0,   0],\n",
            "        [904,   5, 905, 115,  16,  95,  21, 715, 469, 906, 167,  37,   1,  11,\n",
            "         907, 460, 255,  21, 908, 904,  37, 155, 909,  32,   0,   0,   0,   0,\n",
            "           0,   0,   0,   0,   0,   0,   0,   0,   0,   0,   0,   0],\n",
            "        [ 41, 910, 903,  17,  79, 401,  46,  23, 911, 108,  11,  21, 912, 913,\n",
            "         914,  37, 915, 916, 681, 301, 917,  37,   3, 918,  32,   0,   0,   0,\n",
            "           0,   0,   0,   0,   0,   0,   0,   0,   0,   0,   0,   0],\n",
            "        [919, 920, 921, 467,   3, 922,   7, 776, 923, 346,  32,   0,   0,   0,\n",
            "           0,   0,   0,   0,   0,   0,   0,   0,   0,   0,   0,   0,   0,   0,\n",
            "           0,   0,   0,   0,   0,   0,   0,   0,   0,   0,   0,   0],\n",
            "        [108,   5, 924,  64, 925, 926,   7, 927,  28,   5, 928,  16, 166, 929,\n",
            "           7,   3,   1,  37, 241, 514,  28,   5, 513, 930,  16,  73, 931, 932,\n",
            "          32,   0,   0,   0,   0,   0,   0,   0,   0,   0,   0,   0],\n",
            "        [  3, 706,   1,  95, 933, 323, 294, 934,  28, 284, 190, 935, 812,  61,\n",
            "         936,  25,   3, 158,  11, 937, 381, 938,  28,  16, 939,  28, 284, 548,\n",
            "         208,   8, 393, 301,  21, 940,  64, 941, 942,   1,   1,  32],\n",
            "        [943, 944, 173, 945, 946,   3, 947, 948,  37,   1, 949,  95,   1,  37,\n",
            "          88, 950, 951, 813,  32,   0,   0,   0,   0,   0,   0,   0,   0,   0,\n",
            "           0,   0,   0,   0,   0,   0,   0,   0,   0,   0,   0,   0],\n",
            "        [161,  79,  80, 834,   7, 442, 122, 111, 108,  28,  79, 639, 208, 776,\n",
            "         952,  81,   3, 646, 953,  37, 954,  32,   0,   0,   0,   0,   0,   0,\n",
            "           0,   0,   0,   0,   0,   0,   0,   0,   0,   0,   0,   0],\n",
            "        [955, 956, 957, 958, 247,   5,  88, 903, 423, 202, 959, 822, 955,   5,\n",
            "          21, 941, 336, 960,  32,   0,   0,   0,   0,   0,   0,   0,   0,   0,\n",
            "           0,   0,   0,   0,   0,   0,   0,   0,   0,   0,   0,   0],\n",
            "        [766,  11, 366,   5, 961,   7,   3, 308,  37, 665, 255,  32,   0,   0,\n",
            "           0,   0,   0,   0,   0,   0,   0,   0,   0,   0,   0,   0,   0,   0,\n",
            "           0,   0,   0,   0,   0,   0,   0,   0,   0,   0,   0,   0],\n",
            "        [962,  93,   1, 449,   7,   1, 241, 963, 964, 965,  32,   0,   0,   0,\n",
            "           0,   0,   0,   0,   0,   0,   0,   0,   0,   0,   0,   0,   0,   0,\n",
            "           0,   0,   0,   0,   0,   0,   0,   0,   0,   0,   0,   0],\n",
            "        [ 88, 966, 967, 968,  28, 335,  17,  11, 969,  95, 970,  16,  21, 971,\n",
            "          28,   1, 882,  32,   0,   0,   0,   0,   0,   0,   0,   0,   0,   0,\n",
            "           0,   0,   0,   0,   0,   0,   0,   0,   0,   0,   0,   0],\n",
            "        [  3, 867, 440, 972,   3, 242,  16,   3,   1, 973,   7,   3, 974,  16,\n",
            "         249, 975, 366,  81, 976, 977,  32,   0,   0,   0,   0,   0,   0,   0,\n",
            "           0,   0,   0,   0,   0,   0,   0,   0,   0,   0,   0,   0]])\n",
            "tensor([13,  9,  7, 24, 25, 11, 29, 40, 19, 22, 19, 12, 11, 18, 21])\n",
            "tensor([1, 1, 1, 1, 1, 1, 1, 1, 1, 1, 1, 1, 1, 1, 1])\n",
            "----------\n",
            "Batch 9:\n",
            "tensor([[  21,  978,  474,   63,   17,  979,  671,    8,    3,  495,  980,  222,\n",
            "            7,    8,  134,    1,   81,    3,    1,  981,   32,    0,    0,    0,\n",
            "            0,    0,    0,    0,    0,    0,    0,    0,    0,    0],\n",
            "        [ 189,  548,  442,  174,   21,  982,  983,  984,    5,  415,   21,  843,\n",
            "          870,  143,   21,  226,  985,   11,  986,  987,   32,    0,    0,    0,\n",
            "            0,    0,    0,    0,    0,    0,    0,    0,    0,    0],\n",
            "        [ 988,    5,  989,  301,  249,   32,    0,    0,    0,    0,    0,    0,\n",
            "            0,    0,    0,    0,    0,    0,    0,    0,    0,    0,    0,    0,\n",
            "            0,    0,    0,    0,    0,    0,    0,    0,    0,    0],\n",
            "        [  21,    1,  990,  699,   32,    0,    0,    0,    0,    0,    0,    0,\n",
            "            0,    0,    0,    0,    0,    0,    0,    0,    0,    0,    0,    0,\n",
            "            0,    0,    0,    0,    0,    0,    0,    0,    0,    0],\n",
            "        [  79,  991,  442,    7,    8,   21,  250,    1,  992,   46,    7,    8,\n",
            "          624,   81,  100,  440,   32,    0,    0,    0,    0,    0,    0,    0,\n",
            "            0,    0,    0,    0,    0,    0,    0,    0,    0,    0],\n",
            "        [ 536,   11,  993,  105,  994,   61,    1,   25,    1,   37,  995,   32,\n",
            "            0,    0,    0,    0,    0,    0,    0,    0,    0,    0,    0,    0,\n",
            "            0,    0,    0,    0,    0,    0,    0,    0,    0,    0],\n",
            "        [ 996,  997,  998,   82,    1,  222,   86,   25,  241,    1,  753,  999,\n",
            "            3, 1000,   37,    3, 1001,   28, 1002, 1003,    1,  301,   88, 1004,\n",
            "          441,   32,    0,    0,    0,    0,    0,    0,    0,    0],\n",
            "        [1005,    5,  715,   16,  843,   28, 1006,   16,  392,   28,   21, 1007,\n",
            "          552,  111,   21, 1008, 1009,   37,  271,   32,    0,    0,    0,    0,\n",
            "            0,    0,    0,    0,    0,    0,    0,    0,    0,    0],\n",
            "        [ 108,  190,   79,  334,    3, 1010,   16, 1011, 1012, 1013,  398,   16,\n",
            "            1,   95,  266,    1,  222,   32,    0,    0,    0,    0,    0,    0,\n",
            "            0,    0,    0,    0,    0,    0,    0,    0,    0,    0],\n",
            "        [ 431,  203,   28, 1014,   37,    3,  918, 1015,   88, 1016,   95, 1017,\n",
            "            7, 1018,  367,   21, 1019,   13,  423, 1020,   15,  410, 1021,   16,\n",
            "           46,   13,  161,   32,   15,    0,    0,    0,    0,    0],\n",
            "        [   3,  798,  838,  271,   16,   21, 1022, 1023,    7, 1024,   21,   63,\n",
            "          513, 1025,  417, 1026,   95,  228,   28,   64,  671,    1,    3, 1027,\n",
            "           28,   16,    3, 1028,   28,  294,    1,   79, 1029,   32],\n",
            "        [  21,  141, 1030,  870,  143,    3,    1,    1,   37,    1,   32,    0,\n",
            "            0,    0,    0,    0,    0,    0,    0,    0,    0,    0,    0,    0,\n",
            "            0,    0,    0,    0,    0,    0,    0,    0,    0,    0],\n",
            "        [ 108,   11,   21, 1031,  449,  413,  154,    3, 1032,  656,   32,    0,\n",
            "            0,    0,    0,    0,    0,    0,    0,    0,    0,    0,    0,    0,\n",
            "            0,    0,    0,    0,    0,    0,    0,    0,    0,    0],\n",
            "        [  21,    1, 1033,  131,   17,    1,  129,    1,   32,    0,    0,    0,\n",
            "            0,    0,    0,    0,    0,    0,    0,    0,    0,    0,    0,    0,\n",
            "            0,    0,    0,    0,    0,    0,    0,    0,    0,    0],\n",
            "        [ 301, 1034,   16, 1035,   16, 1036,  614,  301,  108,  315,    1,  530,\n",
            "          885,   32,    0,    0,    0,    0,    0,    0,    0,    0,    0,    0,\n",
            "            0,    0,    0,    0,    0,    0,    0,    0,    0,    0]])\n",
            "tensor([21, 21,  6,  5, 17, 12, 26, 20, 18, 29, 34, 11, 11,  9, 14])\n",
            "tensor([1, 1, 1, 1, 1, 1, 1, 1, 1, 0, 1, 1, 1, 0, 1])\n",
            "----------\n",
            "Batch 10:\n",
            "tensor([[   3,  222,  770,   88, 1037, 1038, 1039,   32,    0,    0,    0,    0,\n",
            "            0,    0,    0,    0,    0,    0,    0,    0,    0,    0,    0,    0,\n",
            "            0,    0,    0,    0,    0,    0,    0,    0,    0,    0,    0,    0,\n",
            "            0,    0,    0,    0],\n",
            "        [   3, 1040,    5,    3,  222, 1041, 1042,  979,  442,  174, 1043,    7,\n",
            "           20,   32,    0,    0,    0,    0,    0,    0,    0,    0,    0,    0,\n",
            "            0,    0,    0,    0,    0,    0,    0,    0,    0,    0,    0,    0,\n",
            "            0,    0,    0,    0],\n",
            "        [ 100,  499,  698, 1044,  583,    7, 1045,   16,    7,    3, 1046, 1047,\n",
            "           32,    0,    0,    0,    0,    0,    0,    0,    0,    0,    0,    0,\n",
            "            0,    0,    0,    0,    0,    0,    0,    0,    0,    0,    0,    0,\n",
            "            0,    0,    0,    0],\n",
            "        [1048,   16, 1049, 1050,   32,    0,    0,    0,    0,    0,    0,    0,\n",
            "            0,    0,    0,    0,    0,    0,    0,    0,    0,    0,    0,    0,\n",
            "            0,    0,    0,    0,    0,    0,    0,    0,    0,    0,    0,    0,\n",
            "            0,    0,    0,    0],\n",
            "        [ 449,  979,    1,    7, 1051,    1,    1,  154,    1,   28,   64, 1052,\n",
            "         1053, 1054, 1055,   28,  108,  436,  994,   32,    0,    0,    0,    0,\n",
            "            0,    0,    0,    0,    0,    0,    0,    0,    0,    0,    0,    0,\n",
            "            0,    0,    0,    0],\n",
            "        [1056,   11, 1057,  543, 1058,    5,  208,  301,  566,   30,  301,  611,\n",
            "          301,  273,  532,    3,  335,   17,  273,  345,  261,   64,  108,   11,\n",
            "           75,  814,  733, 1059,   32,    0,    0,    0,    0,    0,    0,    0,\n",
            "            0,    0,    0,    0],\n",
            "        [  95,    3, 1040,   28, 1042,    5, 1060,  189,   18,  173,  748, 1061,\n",
            "            7, 1062,   28, 1063,    3, 1064,   37,  665,  206,    1,   16, 1065,\n",
            "           28,   16,   18,  702,  478,    7, 1066,   95,    3,  469,   32,    0,\n",
            "            0,    0,    0,    0],\n",
            "        [ 828,    3,  222,   11, 1067,   28,    3, 1068,  186,  550,  612,   32,\n",
            "            0,    0,    0,    0,    0,    0,    0,    0,    0,    0,    0,    0,\n",
            "            0,    0,    0,    0,    0,    0,    0,    0,    0,    0,    0,    0,\n",
            "            0,    0,    0,    0],\n",
            "        [ 161,   79,  323,  294,   21, 1032,   17, 1069,   28,    1,   28,    1,\n",
            "           28,  351,   28,    1,   16, 1070, 1071,   28,  166,  632,  633,  100,\n",
            "          544,  348,   32,    0,    0,    0,    0,    0,    0,    0,    0,    0,\n",
            "            0,    0,    0,    0],\n",
            "        [ 100, 1072, 1073,    1,    7,  915, 1074,  429,   17,    1,    1, 1075,\n",
            "            3,    1,   37, 1076,   68,    3, 1077, 1078,   37,   21, 1079, 1080,\n",
            "         1081,   16,  560,    1,   17, 1082,    7,    1, 1083,   32,    0,    0,\n",
            "            0,    0,    0,    0],\n",
            "        [ 108,   11,    3, 1084,  272,    1, 1085,   37,  189,  328,    1,  488,\n",
            "          429,    1,   17,  190, 1086, 1087, 1088,   21, 1089,  635,  795, 1090,\n",
            "           32,    0,    0,    0,    0,    0,    0,    0,    0,    0,    0,    0,\n",
            "            0,    0,    0,    0],\n",
            "        [   3,  222,   11, 1091,    5,  208,   95,  241, 1092,   28,   64,   95,\n",
            "            3, 1093,  798,  108, 1094,  184,   37,   21, 1095,   95, 1096,  111,\n",
            "          467,   28,  111,    3, 1097, 1098,   37,    1,   17, 1099, 1051, 1100,\n",
            "           28,    1,  418,   32],\n",
            "        [ 108,  173,  241, 1101,   28,   64,  108,    5,   21, 1102,   28,    1,\n",
            "           28,    1,   37,   21,  202,   28,   16,    1, 1103, 1104,   21, 1105,\n",
            "         1106,   32,    0,    0,    0,    0,    0,    0,    0,    0,    0,    0,\n",
            "            0,    0,    0,    0],\n",
            "        [   3,    1,   37, 1107,    5,   88, 1108,  472,   37, 1109, 1110,   16,\n",
            "            1, 1111,   28,   16,    3,  849,  871,  599,  224,  527,  205,    3,\n",
            "         1112,   37,   17,  419,   32,    0,    0,    0,    0,    0,    0,    0,\n",
            "            0,    0,    0,    0],\n",
            "        [ 828,  241, 1067,   28, 1113,  653,  208, 1114, 1115,   88, 1116,   16,\n",
            "         1117,  495,  878,   81,   21, 1118,  547,    7,  382,   28,   16,  108,\n",
            "           11,   21,  897, 1119,   95,    3,  504,  474, 1047,   32,    0,    0,\n",
            "            0,    0,    0,    0]])\n",
            "tensor([ 8, 14, 13,  5, 20, 29, 35, 12, 27, 34, 25, 40, 26, 29, 34])\n",
            "tensor([1, 1, 1, 1, 1, 1, 1, 1, 1, 1, 1, 1, 1, 1, 1])\n",
            "----------\n",
            "Batch 11:\n",
            "tensor([[ 111, 1120, 1121,   28, 1122, 1123,  173, 1124,  205,    3, 1125,   37,\n",
            "         1126,  111,   88,    1,  897,   37, 1127,    1,   16,  111,  468,  990,\n",
            "         1128,  176, 1129,  665, 1130,   57, 1131,   81,   21, 1132, 1009,  154,\n",
            "          189,  300,   85, 1133,   32],\n",
            "        [   3,  271,   16, 1134,   37, 1135, 1136,  186,   95,  443, 1137,   32,\n",
            "            0,    0,    0,    0,    0,    0,    0,    0,    0,    0,    0,    0,\n",
            "            0,    0,    0,    0,    0,    0,    0,    0,    0,    0,    0,    0,\n",
            "            0,    0,    0,    0,    0],\n",
            "        [   1,  272,  154, 1138,   28,    1,  316,    0,    0,    0,    0,    0,\n",
            "            0,    0,    0,    0,    0,    0,    0,    0,    0,    0,    0,    0,\n",
            "            0,    0,    0,    0,    0,    0,    0,    0,    0,    0,    0,    0,\n",
            "            0,    0,    0,    0,    0],\n",
            "        [  21,  843, 1139,  798,   17, 1140,   88,  871, 1141,   32,    0,    0,\n",
            "            0,    0,    0,    0,    0,    0,    0,    0,    0,    0,    0,    0,\n",
            "            0,    0,    0,    0,    0,    0,    0,    0,    0,    0,    0,    0,\n",
            "            0,    0,    0,    0,    0],\n",
            "        [ 301, 1142,    1,  632,   28, 1143, 1144,   60,  167,    3, 1145, 1146,\n",
            "          108,  322,   32,    0,    0,    0,    0,    0,    0,    0,    0,    0,\n",
            "            0,    0,    0,    0,    0,    0,    0,    0,    0,    0,    0,    0,\n",
            "            0,    0,    0,    0,    0],\n",
            "        [ 108,   11,   21, 1147,  143,    3, 1148,   57,  111, 1149, 1150,   16,\n",
            "         1151,   32,    0,    0,    0,    0,    0,    0,    0,    0,    0,    0,\n",
            "            0,    0,    0,    0,    0,    0,    0,    0,    0,    0,    0,    0,\n",
            "            0,    0,    0,    0,    0],\n",
            "        [1152,    5,  208,   17,  213,  392,  294, 1053,   21,  915, 1153,   32,\n",
            "            0,    0,    0,    0,    0,    0,    0,    0,    0,    0,    0,    0,\n",
            "            0,    0,    0,    0,    0,    0,    0,    0,    0,    0,    0,    0,\n",
            "            0,    0,    0,    0,    0],\n",
            "        [ 189, 1154,  108, 1155,    5,    3,   52,   17,  195,   28,    3,    1,\n",
            "            1,  547,   37, 1156,   11,    3, 1157, 1158,   16,    3,  222, 1159,\n",
            "           28,  599,   32,    0,    0,    0,    0,    0,    0,    0,    0,    0,\n",
            "            0,    0,    0,    0,    0],\n",
            "        [ 786,  173,   21, 1160,  154,  125,  348,   28,    3,  222, 1161, 1162,\n",
            "          412,    3, 1163,   37, 1164,   28,   16,    3, 1165, 1010,    5,  615,\n",
            "           32,    0,    0,    0,    0,    0,    0,    0,    0,    0,    0,    0,\n",
            "            0,    0,    0,    0,    0],\n",
            "        [1166,  176, 1167,   81,    3, 1168, 1169,  185,   28,  100,    5,   21,\n",
            "         1170,   69,  202,   17,    5,   46, 1171, 1172,   32,    0,    0,    0,\n",
            "            0,    0,    0,    0,    0,    0,    0,    0,    0,    0,    0,    0,\n",
            "            0,    0,    0,    0,    0],\n",
            "        [   3,  222, 1173,    3,    1, 1174,   17, 1175,  536, 1176,    7,  442,\n",
            "            1,    1,   32,    0,    0,    0,    0,    0,    0,    0,    0,    0,\n",
            "            0,    0,    0,    0,    0,    0,    0,    0,    0,    0,    0,    0,\n",
            "            0,    0,    0,    0,    0],\n",
            "        [1177,  956,    3, 1178,    5,  545,   28, 1179,   28,   16, 1180,   57,\n",
            "           73, 1181,  635,   32,    0,    0,    0,    0,    0,    0,    0,    0,\n",
            "            0,    0,    0,    0,    0,    0,    0,    0,    0,    0,    0,    0,\n",
            "            0,    0,    0,    0,    0],\n",
            "        [ 108,   11,  121,   28,    1, 1059,   28, 1182,   16,   21, 1183, 1184,\n",
            "           64,  671, 1162,  209,   28, 1185, 1186,   16,    1,   32,    0,    0,\n",
            "            0,    0,    0,    0,    0,    0,    0,    0,    0,    0,    0,    0,\n",
            "            0,    0,    0,    0,    0],\n",
            "        [   1,  410, 1187,   95,  396, 1188,    1,   28,  301,   95,    3,  222,\n",
            "           11, 1145, 1189,  143,  286,  294,    3, 1190,   37, 1191, 1192,    1,\n",
            "            1,   11,    1, 1193, 1194,    7,    3, 1195,    1,   37,    1,   11,\n",
            "            1, 1196,   32,    0,    0],\n",
            "        [ 108,   11,   21,  769,  464,   85,   88, 1197, 1198,   32,    0,    0,\n",
            "            0,    0,    0,    0,    0,    0,    0,    0,    0,    0,    0,    0,\n",
            "            0,    0,    0,    0,    0,    0,    0,    0,    0,    0,    0,    0,\n",
            "            0,    0,    0,    0,    0]])\n",
            "tensor([41, 12,  7, 10, 15, 14, 12, 27, 25, 21, 15, 16, 22, 39, 10])\n",
            "tensor([1, 1, 0, 1, 1, 1, 0, 1, 1, 1, 1, 1, 1, 1, 1])\n",
            "----------\n",
            "Batch 12:\n",
            "tensor([[ 261, 1199,  111, 1200,   28,   64, 1201,    1,  276,  255,    1,   95,\n",
            "          241,  206, 1202, 1203,   32,    0,    0,    0,    0,    0,    0,    0,\n",
            "            0,    0,    0,    0,    0,    0,    0],\n",
            "        [1204,    3,  490, 1205,  202,  273,  338,  487,  339,   32,    0,    0,\n",
            "            0,    0,    0,    0,    0,    0,    0,    0,    0,    0,    0,    0,\n",
            "            0,    0,    0,    0,    0,    0,    0],\n",
            "        [1056,   11, 1206,    5, 1207,   32,    0,    0,    0,    0,    0,    0,\n",
            "            0,    0,    0,    0,    0,    0,    0,    0,    0,    0,    0,    0,\n",
            "            0,    0,    0,    0,    0,    0,    0],\n",
            "        [  21, 1208,   28,  612,   28,  740,  115,  207,   32,    0,    0,    0,\n",
            "            0,    0,    0,    0,    0,    0,    0,    0,    0,    0,    0,    0,\n",
            "            0,    0,    0,    0,    0,    0,    0],\n",
            "        [  88, 1209,  441,   17,  994,   21,  975, 1210,   32,    0,    0,    0,\n",
            "            0,    0,    0,    0,    0,    0,    0,    0,    0,    0,    0,    0,\n",
            "            0,    0,    0,    0,    0,    0,    0],\n",
            "        [  21, 1211,  635, 1212,    7,    1,   11, 1164, 1032,  879,   17,  979,\n",
            "         1213,  227, 1214,   32,    0,    0,    0,    0,    0,    0,    0,    0,\n",
            "            0,    0,    0,    0,    0,    0,    0],\n",
            "        [ 194, 1215,  196,  994,   21,    1,   17, 1216,    7, 1217,  583,    3,\n",
            "          705,   16,    3, 1218,   37,    3, 1219,   95,   21,    1, 1220,   32,\n",
            "            0,    0,    0,    0,    0,    0,    0],\n",
            "        [ 288,    5, 1221,   77,    0,    0,    0,    0,    0,    0,    0,    0,\n",
            "            0,    0,    0,    0,    0,    0,    0,    0,    0,    0,    0,    0,\n",
            "            0,    0,    0,    0,    0,    0,    0],\n",
            "        [  21, 1222,   28, 1223, 1167,   28, 1224, 1225,   72,   37,  207,   16,\n",
            "          794,   11,  495,  318,  222,    0,    0,    0,    0,    0,    0,    0,\n",
            "            0,    0,    0,    0,    0,    0,    0],\n",
            "        [  21,  628,   28,    1,   63,   37, 1032, 1226,   16,  216,   95,    3,\n",
            "         1227,   32,    0,    0,    0,    0,    0,    0,    0,    0,    0,    0,\n",
            "            0,    0,    0,    0,    0,    0,    0],\n",
            "        [1228, 1229,  335,   37,    3,  490, 1230, 1231,   37,    3,  375,    0,\n",
            "            0,    0,    0,    0,    0,    0,    0,    0,    0,    0,    0,    0,\n",
            "            0,    0,    0,    0,    0,    0,    0],\n",
            "        [   3, 1232,   37, 1233,    1,  261,    5,  467,    1,   11, 1234, 1235,\n",
            "           32,    0,    0,    0,    0,    0,    0,    0,    0,    0,    0,    0,\n",
            "            0,    0,    0,    0,    0,    0,    0],\n",
            "        [ 621,   28,  108,   11,   46,  301,    1,  301,  138, 1236,   11, 1237,\n",
            "           28,   64,  108,   11,  533,   21, 1238, 1239,   16,   61, 1240,   25,\n",
            "            3, 1241,   32,    0,    0,    0,    0],\n",
            "        [  21,  457,   37,   21, 1242, 1243,  348,   17,  390,  148,    7,    8,\n",
            "         1244,   28, 1245,   16, 1246,   32,    0,    0,    0,    0,    0,    0,\n",
            "            0,    0,    0,    0,    0,    0,    0],\n",
            "        [1247,  301,  335,   37,    3,  375,   11,  250, 1037,  202, 1248,   28,\n",
            "         1249,  241,   99,  274,  154,  108,  745,  108, 1250,   79,    7, 1251,\n",
            "            1,  189,   21,  202,   45,    8,   32]])\n",
            "tensor([17, 10,  6,  9,  9, 16, 24,  4, 17, 14, 11, 13, 27, 18, 31])\n",
            "tensor([0, 1, 1, 1, 1, 1, 1, 1, 1, 1, 1, 1, 1, 1, 1])\n",
            "----------\n",
            "Batch 13:\n",
            "tensor([[ 261,    3,  495,    1,   37,    3,  222,  186, 1252,  978,   16, 1253,\n",
            "          733,   28,  973,   95,  104,    7,  936,  990, 1254,  194, 1255, 1188,\n",
            "            1,  196,   28,   21,  615, 1010,   28,   16,  133, 1256, 1257,   16,\n",
            "         1008,  271,  261],\n",
            "        [ 100,  202, 1258,  329, 1259,   32,    0,    0,    0,    0,    0,    0,\n",
            "            0,    0,    0,    0,    0,    0,    0,    0,    0,    0,    0,    0,\n",
            "            0,    0,    0,    0,    0,    0,    0,    0,    0,    0,    0,    0,\n",
            "            0,    0,    0],\n",
            "        [ 288,   11,   21,  104,   37,  224,   17,   45,   46,  654,    8, 1260,\n",
            "           81,    3, 1261,   37, 1262, 1263,  498,  111, 1264,   32,    0,    0,\n",
            "            0,    0,    0,    0,    0,    0,    0,    0,    0,    0,    0,    0,\n",
            "            0,    0,    0],\n",
            "        [  88, 1265,  440,   37, 1266,  513,   21, 1267,   11,    1, 1268,    3,\n",
            "         1269,    1,   37,    1,  276,   88, 1270,  111,    3,  507,   16,    3,\n",
            "          767,  284,  442,  478,   64, 1271,  154,    1,   32,    0,    0,    0,\n",
            "            0,    0,    0],\n",
            "        [ 189,   11,   46,    7,  129,  513,   21,  202,  111,   21,  370,  517,\n",
            "           11,  272, 1272,   17, 1273,    3,  563,  370,  217,    1,   11,   46,\n",
            "         1274,   28,   18,   11,   93,    1,  272,  316,    0,    0,    0,    0,\n",
            "            0,    0,    0],\n",
            "        [   3, 1275,   17,  108,  698, 1276,  979,    8,  449,    7, 1277, 1053,\n",
            "         1278, 1279, 1280,  133,   37,    3,   61,    1,    1,   37,   86,    1,\n",
            "          429,   32,    0,    0,    0,    0,    0,    0,    0,    0,    0,    0,\n",
            "            0,    0,    0],\n",
            "        [  46,  285,  410,  427,   30, 1281,    3, 1282,   37, 1283, 1284,  301,\n",
            "         1285,    1,   28,   64,   58,   45, 1286,   17,    3, 1287,  108,    1,\n",
            "            5,   21, 1288,   16,  546,  335,   32,    0,    0,    0,    0,    0,\n",
            "            0,    0,    0],\n",
            "        [ 288,  186,  621, 1289, 1290,   28,   16,  621,  915,    1,   32,    0,\n",
            "            0,    0,    0,    0,    0,    0,    0,    0,    0,    0,    0,    0,\n",
            "            0,    0,    0,    0,    0,    0,    0,    0,    0,    0,    0,    0,\n",
            "            0,    0,    0],\n",
            "        [ 129,    3, 1237,   28,  100,  499,    5, 1291,   21,   58,    1, 1292,\n",
            "         1293, 1294,    1,   81,  536,   11,    1, 1295,   32,    0,    0,    0,\n",
            "            0,    0,    0,    0,    0,    0,    0,    0,    0,    0,    0,    0,\n",
            "            0,    0,    0],\n",
            "        [ 828,  241, 1296, 1297,   28,    3, 1298, 1299,   16,  133,  447,   37,\n",
            "         1300, 1301,   28,    3, 1302, 1203,   37,   13, 1303,   15,  548,  442,\n",
            "          174, 1304,  294,   21,    1, 1305,    1, 1306, 1307,   32,    0,    0,\n",
            "            0,    0,    0],\n",
            "        [1308,  111,  586,  296,   16, 1004,  571,   28, 1309,    5,   21, 1310,\n",
            "          222,  111, 1311, 1210,   28,   21, 1312, 1313,    7, 1134,   32,    0,\n",
            "            0,    0,    0,    0,    0,    0,    0,    0,    0,    0,    0,    0,\n",
            "            0,    0,    0],\n",
            "        [  95,  241, 1314,   16, 1315,  469,   28,  108,  994,    3, 1316, 1317,\n",
            "          301,    1,    1,   11, 1318, 1319,    1,   16,    1,    1,   11,  621,\n",
            "          949,   11,  957,   32,    0,    0,    0,    0,    0,    0,    0,    0,\n",
            "            0,    0,    0],\n",
            "        [ 261,   21, 1320,   37, 1224,   16, 1321, 1050, 1126,   32,    0,    0,\n",
            "            0,    0,    0,    0,    0,    0,    0,    0,    0,    0,    0,    0,\n",
            "            0,    0,    0,    0,    0,    0,    0,    0,    0,    0,    0,    0,\n",
            "            0,    0,    0],\n",
            "        [  62, 1322,   28,   13,  812,  294,  511,   15,    5,   21,  601,   32,\n",
            "            0,    0,    0,    0,    0,    0,    0,    0,    0,    0,    0,    0,\n",
            "            0,    0,    0,    0,    0,    0,    0,    0,    0,    0,    0,    0,\n",
            "            0,    0,    0],\n",
            "        [  88, 1323,   16, 1324,  222,  513, 1081,   16,    3, 1325,    1,   37,\n",
            "            3,    1,  807,   41, 1053,   37,  224, 1326,   41,  213,   37, 1051,\n",
            "          247,   32,    0,    0,    0,    0,    0,    0,    0,    0,    0,    0,\n",
            "            0,    0,    0]])\n",
            "tensor([39,  6, 22, 33, 32, 26, 31, 11, 21, 34, 23, 28, 10, 12, 26])\n",
            "tensor([1, 1, 1, 1, 1, 1, 1, 1, 1, 0, 1, 1, 1, 1, 1])\n",
            "----------\n",
            "Batch 14:\n",
            "tensor([[1327,  912, 1328,  301,  812,  301,  108,  747,   28,    3,  222,  698,\n",
            "          208,  874,  240, 1329,  213,   17,    5,  611,    7, 1062,  513, 1330,\n",
            "          240, 1331,   30,   28,  512,   28, 1332,   32,    0,    0,    0,    0,\n",
            "            0,    0,    0,    0,    0,    0,    0,    0,    0,    0,    0,    0],\n",
            "        [  21,  268,  733, 1242,  348,  513, 1333,    1,   12, 1334,    1,  284,\n",
            "         1335,  205,   21, 1336,   16,  166, 1337, 1338,  111,  266,  418,   16,\n",
            "         1339,   32,    0,    0,    0,    0,    0,    0,    0,    0,    0,    0,\n",
            "            0,    0,    0,    0,    0,    0,    0,    0,    0,    0,    0,    0],\n",
            "        [1340,  123, 1341,  100, 1242,  440,   32,    0,    0,    0,    0,    0,\n",
            "            0,    0,    0,    0,    0,    0,    0,    0,    0,    0,    0,    0,\n",
            "            0,    0,    0,    0,    0,    0,    0,    0,    0,    0,    0,    0,\n",
            "            0,    0,    0,    0,    0,    0,    0,    0,    0,    0,    0,    0],\n",
            "        [   1, 1162, 1342,   95,  301,  213,  271,  301, 1343,    7,  215,  224,\n",
            "           85,  665,  924, 1344,   37,    3,  242,   32,    0,    0,    0,    0,\n",
            "            0,    0,    0,    0,    0,    0,    0,    0,    0,    0,    0,    0,\n",
            "            0,    0,    0,    0,    0,    0,    0,    0,    0,    0,    0,    0],\n",
            "        [ 108,  512,    5,   21, 1345,   17,   61,  639,  208, 1066,   88, 1346,\n",
            "            7, 1347, 1348,   28,  434,  370, 1349,   32,  272,    0,    0,    0,\n",
            "            0,    0,    0,    0,    0,    0,    0,    0,    0,    0,    0,    0,\n",
            "            0,    0,    0,    0,    0,    0,    0,    0,    0,    0,    0,    0],\n",
            "        [ 273, 1350, 1351,  513,  360,  121,  108,  167,  315,   28,   16, 1352,\n",
            "         1353,  478,   64,    1,    7,  108,  184,  317,   21,  104,   37,  241,\n",
            "         1354, 1355,   28, 1351,    1,  301,    3, 1356, 1357,   28,  317,  143,\n",
            "            3,    1,   37,  241, 1358,   28,    1,  143,  241, 1188, 1110,   32],\n",
            "        [ 171,    3,  490, 1359,  154, 1360,  881,    1,   16, 1361,   32,    0,\n",
            "            0,    0,    0,    0,    0,    0,    0,    0,    0,    0,    0,    0,\n",
            "            0,    0,    0,    0,    0,    0,    0,    0,    0,    0,    0,    0,\n",
            "            0,    0,    0,    0,    0,    0,    0,    0,    0,    0,    0,    0],\n",
            "        [  21, 1362,  733,   28, 1363, 1364,  222,   17,  190,   79,  776, 1365,\n",
            "          121,   28,   17,    5,    7, 1062,   28, 1366,    1,   81, 1367, 1368,\n",
            "           30,  566,   28,    1,  915,    1,   32,    0,    0,    0,    0,    0,\n",
            "            0,    0,    0,    0,    0,    0,    0,    0,    0,    0,    0,    0],\n",
            "        [ 381,    8,   88,    1, 1369,  968,  154,  100,    1,   12, 1370,  161,\n",
            "            1,    1, 1371, 1372,   46,   85, 1373,    7, 1374,  155,  596, 1294,\n",
            "          158,   28,    1,    1,   28,  111,   21, 1375, 1376,   37, 1265,  915,\n",
            "         1377,   32,    0,    0,    0,    0,    0,    0,    0,    0,    0,    0],\n",
            "        [1378,   90,  261,   88,  203, 1323,  158,  159,  513, 1379,   16, 1380,\n",
            "           28,    1,   16, 1381,   32,    0,    0,    0,    0,    0,    0,    0,\n",
            "            0,    0,    0,    0,    0,    0,    0,    0,    0,    0,    0,    0,\n",
            "            0,    0,    0,    0,    0,    0,    0,    0,    0,    0,    0,    0],\n",
            "        [  21,  551, 1382,  154, 1383,   16, 1193, 1384,   16,   21,    1, 1385,\n",
            "           37,   21,    1,  419,   32,    0,    0,    0,    0,    0,    0,    0,\n",
            "            0,    0,    0,    0,    0,    0,    0,    0,    0,    0,    0,    0,\n",
            "            0,    0,    0,    0,    0,    0,    0,    0,    0,    0,    0,    0],\n",
            "        [   1,   11, 1311,    1,   37,    3,  204, 1386,  542,  210,  665, 1387,\n",
            "          770,   88,  936, 1183,   37, 1388,  301,    7,    3,  700,    1, 1389,\n",
            "          301,  665,  228, 1390,    7,   21, 1391,   32,    0,    0,    0,    0,\n",
            "            0,    0,    0,    0,    0,    0,    0,    0,    0,    0,    0,    0],\n",
            "        [  21, 1392,   28, 1006, 1393,   32,    0,    0,    0,    0,    0,    0,\n",
            "            0,    0,    0,    0,    0,    0,    0,    0,    0,    0,    0,    0,\n",
            "            0,    0,    0,    0,    0,    0,    0,    0,    0,    0,    0,    0,\n",
            "            0,    0,    0,    0,    0,    0,    0,    0,    0,    0,    0,    0],\n",
            "        [   1,   11,  476,    5,   46, 1394,   28,   64,  108,    5, 1324,   32,\n",
            "            0,    0,    0,    0,    0,    0,    0,    0,    0,    0,    0,    0,\n",
            "            0,    0,    0,    0,    0,    0,    0,    0,    0,    0,    0,    0,\n",
            "            0,    0,    0,    0,    0,    0,    0,    0,    0,    0,    0,    0],\n",
            "        [ 108,   11,   21,  867,   28, 1395, 1396,   32,    0,    0,    0,    0,\n",
            "            0,    0,    0,    0,    0,    0,    0,    0,    0,    0,    0,    0,\n",
            "            0,    0,    0,    0,    0,    0,    0,    0,    0,    0,    0,    0,\n",
            "            0,    0,    0,    0,    0,    0,    0,    0,    0,    0,    0,    0]])\n",
            "tensor([32, 26,  7, 20, 21, 48, 11, 31, 38, 17, 17, 32,  6, 12,  8])\n",
            "tensor([0, 1, 1, 1, 1, 1, 1, 1, 1, 1, 1, 1, 1, 1, 1])\n",
            "----------\n",
            "Batch 15:\n",
            "tensor([[ 745,  133,  410, 1397,    7,    3,  197,   37,   21, 1398,  798,  111,\n",
            "          681,   21, 1399,   28,    1, 1400,   28, 1401,  436,  827,  241, 1402,\n",
            "            1, 1403,  956,    1,    3,  130, 1404,   37,    3, 1096,   17, 1029,\n",
            "            7, 1405,   21, 1406,   32,    0,    0,    0],\n",
            "        [  23,  161,   79, 1407,  208, 1408,    3,  674,   30,    3, 1409,   11,\n",
            "           56,   81,  242,   28,   79,  410, 1410, 1411,  360,  583,    1,   28,\n",
            "           16,   79,  410,  671, 1412,   21,  121,  319,  513,    3, 1413,   37,\n",
            "            3, 1414, 1415,   95,    3,    9,   10,   32],\n",
            "        [   3,  615, 1126,   16, 1416,  514,  190,  100,   21,  646, 1417, 1418,\n",
            "          154,  100, 1047,   32,    0,    0,    0,    0,    0,    0,    0,    0,\n",
            "            0,    0,    0,    0,    0,    0,    0,    0,    0,    0,    0,    0,\n",
            "            0,    0,    0,    0,    0,    0,    0,    0],\n",
            "        [ 394,  513, 1419,   28,  930,   16, 1420,  186,  803, 1421,  479,  542,\n",
            "           32,    0,    0,    0,    0,    0,    0,    0,    0,    0,    0,    0,\n",
            "            0,    0,    0,    0,    0,    0,    0,    0,    0,    0,    0,    0,\n",
            "            0,    0,    0,    0,    0,    0,    0,    0],\n",
            "        [ 339,   95,   17,  102,   28,  919,  920,  322, 1422,   21, 1423,   95,\n",
            "         1053,   32,    0,    0,    0,    0,    0,    0,    0,    0,    0,    0,\n",
            "            0,    0,    0,    0,    0,    0,    0,    0,    0,    0,    0,    0,\n",
            "            0,    0,    0,    0,    0,    0,    0,    0],\n",
            "        [ 108,   11,  452, 1424,   28, 1425,  778,   16, 1426, 1427,   32,    0,\n",
            "            0,    0,    0,    0,    0,    0,    0,    0,    0,    0,    0,    0,\n",
            "            0,    0,    0,    0,    0,    0,    0,    0,    0,    0,    0,    0,\n",
            "            0,    0,    0,    0,    0,    0,    0,    0],\n",
            "        [ 108,    5, 1428,  191, 1411,   32,    0,    0,    0,    0,    0,    0,\n",
            "            0,    0,    0,    0,    0,    0,    0,    0,    0,    0,    0,    0,\n",
            "            0,    0,    0,    0,    0,    0,    0,    0,    0,    0,    0,    0,\n",
            "            0,    0,    0,    0,    0,    0,    0,    0],\n",
            "        [  88, 1429,  159,   95, 1430,   32,    0,    0,    0,    0,    0,    0,\n",
            "            0,    0,    0,    0,    0,    0,    0,    0,    0,    0,    0,    0,\n",
            "            0,    0,    0,    0,    0,    0,    0,    0,    0,    0,    0,    0,\n",
            "            0,    0,    0,    0,    0,    0,    0,    0],\n",
            "        [ 812,  294,  511,    5,   21, 1431, 1432, 1433,   28,   64,   61,   25,\n",
            "           17,   28,  108,   11,   21,  207,   37,  966,  440,   32,    0,    0,\n",
            "            0,    0,    0,    0,    0,    0,    0,    0,    0,    0,    0,    0,\n",
            "            0,    0,    0,    0,    0,    0,    0,    0],\n",
            "        [  21,  202,   17,  583, 1434,    3,  873,   16,   28,   95,  241, 1435,\n",
            "          469,   28,  972,    3,  242,   32,    0,    0,    0,    0,    0,    0,\n",
            "            0,    0,    0,    0,    0,    0,    0,    0,    0,    0,    0,    0,\n",
            "            0,    0,    0,    0,    0,    0,    0,    0],\n",
            "        [   1,    7,    3, 1436,  111, 1437,   28,  871,    1, 1438, 1103,   11,\n",
            "          222,    5,   21, 1439,  225,   37,  871, 1440, 1095,   17,  838,  665,\n",
            "         1441,    1,    1,   37,    1,  232,    1,   32,    0,    0,    0,    0,\n",
            "            0,    0,    0,    0,    0,    0,    0,    0],\n",
            "        [1442,  359,  224,   17,   28,   95,   82, 1443,   28,    3,   42, 1059,\n",
            "           95,  228,   45, 1444,    8,    1,  663,    7,    3,  221,  346,   32,\n",
            "            0,    0,    0,    0,    0,    0,    0,    0,    0,    0,    0,    0,\n",
            "            0,    0,    0,    0,    0,    0,    0,    0],\n",
            "        [   3,    1, 1445,  620, 1446,  467, 1447,    7, 1448,    3, 1449,  228,\n",
            "           85,    3, 1450,   28,  198,  100,  678,  222,   21,  606,  154,  285,\n",
            "          294, 1451,    1,    7, 1452, 1453, 1454,   32,    0,    0,    0,    0,\n",
            "            0,    0,    0,    0,    0,    0,    0,    0],\n",
            "        [  21,   63,  513,  778,  646, 1455, 1456,   17, 1457,  111,  495,  162,\n",
            "         1363,   64,  671, 1170,   32,    0,    0,    0,    0,    0,    0,    0,\n",
            "            0,    0,    0,    0,    0,    0,    0,    0,    0,    0,    0,    0,\n",
            "            0,    0,    0,    0,    0,    0,    0,    0],\n",
            "        [ 108,    5,  671, 1447, 1167,   32,    0,    0,    0,    0,    0,    0,\n",
            "            0,    0,    0,    0,    0,    0,    0,    0,    0,    0,    0,    0,\n",
            "            0,    0,    0,    0,    0,    0,    0,    0,    0,    0,    0,    0,\n",
            "            0,    0,    0,    0,    0,    0,    0,    0]])\n",
            "tensor([41, 44, 16, 13, 14, 11,  6,  6, 22, 18, 32, 24, 32, 17,  6])\n",
            "tensor([0, 1, 1, 1, 1, 1, 1, 1, 1, 1, 1, 1, 1, 1, 1])\n",
            "----------\n",
            "Batch 16:\n",
            "tensor([[ 108,   11,   21, 1458, 1459,  222,   28, 1460,  111,  167,    3, 1441,\n",
            "          598, 1160,   28,  846,    1,    3, 1461,   37,  665, 1340,  260, 1462,\n",
            "           32,    0,    0,    0,    0,    0],\n",
            "        [1463,  623,  410,  442,   21,  318,  247,   28,   16,    3,  202,  322,\n",
            "         1464,    3,  674,   21,   58,   12,    1,   28,  431,   32,    0,    0,\n",
            "            0,    0,    0,    0,    0,    0],\n",
            "        [1465,  173,   21,    1, 1466,  301,  335,   37,    3,  409,  419,   11,\n",
            "          318, 1188,    1,   28,   16,   95,  100,  222,   28,  468, 1467, 1468,\n",
            "            3,  135,  296,   32,    0,    0],\n",
            "        [   3,  489,    5,   17,    3, 1133,    5,  250, 1469,  367,  108, 1176,\n",
            "          250, 1470,   17, 1471,   11,    1,   28,   30,   23, 1472,   28,  410,\n",
            "           46,    8,  154,  213, 1473,   32],\n",
            "        [1474,   16, 1475,  186,  583,  135,   16,    3, 1476,   37,    3, 1010,\n",
            "            5, 1477, 1459,   32,    0,    0,    0,    0,    0,    0,    0,    0,\n",
            "            0,    0,    0,    0,    0,    0],\n",
            "        [ 273, 1478,  100,  222,   21, 1238,  261,    0,    0,    0,    0,    0,\n",
            "            0,    0,    0,    0,    0,    0,    0,    0,    0,    0,    0,    0,\n",
            "            0,    0,    0,    0,    0,    0],\n",
            "        [ 261,  288,    5,  449, 1479,   95,  370,  228,  272,    7, 1480,  108,\n",
            "          294,    3, 1481,   37, 1482, 1242,  916,   17,   41,  203,  874,  240,\n",
            "           85,  409, 1483,   32,    0,    0],\n",
            "        [  21,  615,   16,    1,   72,   37, 1484, 1485,  111,  214,   16, 1486,\n",
            "           32,    0,    0,    0,    0,    0,    0,    0,    0,    0,    0,    0,\n",
            "            0,    0,    0,    0,    0,    0],\n",
            "        [1487,  173, 1488,   88, 1116, 1294,   37,    1,   16,  151,   28,  335,\n",
            "          104, 1153, 1489,   28,  335,  104, 1490,  909,   32,    0,    0,    0,\n",
            "            0,    0,    0,    0,    0,    0],\n",
            "        [ 111,   30,  460,    3, 1491,   28,   21, 1492,  552,   37,  162,   16,\n",
            "         1493,   28,  962,  176,   81,   21, 1494, 1495,    0,    0,    0,    0,\n",
            "            0,    0,    0,    0,    0,    0],\n",
            "        [  85,    3, 1496,   21,  243,  348,   28, 1497,   28, 1498,  381,    8,\n",
            "         1499,  161,  108, 1372,  208,  681,   21, 1244,  904,   37,    3, 1500,\n",
            "           11,  986, 1501,   32,    0,    0],\n",
            "        [  21,  815,   28, 1502,  221,  422,   32,    0,    0,    0,    0,    0,\n",
            "            0,    0,    0,    0,    0,    0,    0,    0,    0,    0,    0,    0,\n",
            "            0,    0,    0,    0,    0,    0],\n",
            "        [  21, 1503,  473,  202,   17, 1504,   79,   45, 1505,  498,  294, 1506,\n",
            "           28,   64,  417, 1507,   16,  167,  417,  704,  632,  111,   79,   32,\n",
            "            0,    0,    0,    0,    0,    0],\n",
            "        [  79,  401,  345,    7,  215,   21, 1508,  169,  210,   79, 1509,    3,\n",
            "         1510,  899,  898,    7,  633,   13, 1511,   28,   15,   16, 1512,   21,\n",
            "         1513, 1514, 1515,   32,    0,    0],\n",
            "        [ 176, 1010,   16,  176, 1516,  184,   21,  767,  440,  111,  449, 1517,\n",
            "         1295,    7, 1277,  108,  294,  255, 1518,   32,    0,    0,    0,    0,\n",
            "            0,    0,    0,    0,    0,    0]])\n",
            "tensor([25, 22, 28, 30, 16,  7, 28, 13, 21, 20, 28,  7, 24, 28, 20])\n",
            "tensor([1, 1, 1, 1, 1, 1, 1, 1, 1, 1, 1, 1, 1, 0, 1])\n",
            "----------\n",
            "Batch 17:\n",
            "tensor([[  21, 1519, 1520,  154,  908,  623,   37,  348,   32,    0,    0,    0,\n",
            "            0,    0,    0,    0,    0,    0,    0,    0,    0,    0,    0,    0,\n",
            "            0,    0,    0,    0,    0,    0,    0,    0,    0],\n",
            "        [ 288,   11,    1,   28,    1, 1521,   16,   28,  250,    1,   28, 1522,\n",
            "           16, 1523,   32,    0,    0,    0,    0,    0,    0,    0,    0,    0,\n",
            "            0,    0,    0,    0,    0,    0,    0,    0,    0],\n",
            "        [   3,  222, 1524,  129,    3, 1059,   37,  730, 1393,   28,   64,  189,\n",
            "          190,  108,  936,  301,   21,  158,  159,    5,    3,  489,   17,    3,\n",
            "           63,    5,  962,  294, 1525,   11, 1526,   32,    0],\n",
            "        [1475,  261,  190,   21,  318, 1106,  301,    3, 1527,   37,  100,  221,\n",
            "         1528,    1, 1529, 1530,   28,  737,  979,   46,    8,    1, 1531, 1126,\n",
            "           64,  173,   21,   42,  242,   32,    0,    0,    0],\n",
            "        [  95,    3,    1, 1328, 1032, 1532,  440,  360,  273, 1533,  217,  917,\n",
            "           28,  504,  547, 1534, 1535,  994,   88, 1536, 1537,   37,    1,  872,\n",
            "           16,    3, 1538,    1,   17,    1,  100,  130, 1539],\n",
            "        [1540,  979,   46, 1418,  608, 1541,   11, 1542,  205,    3, 1125,   28,\n",
            "           64,  665, 1200, 1543,    1,   32,    0,    0,    0,    0,    0,    0,\n",
            "            0,    0,    0,    0,    0,    0,    0,    0,    0],\n",
            "        [ 288,   11,  621,  484,    7, 1544, 1545,  111,    3, 1546,    0,    0,\n",
            "            0,    0,    0,    0,    0,    0,    0,    0,    0,    0,    0,    0,\n",
            "            0,    0,    0,    0,    0,    0,    0,    0,    0],\n",
            "        [ 486, 1547, 1391,    7,    3, 1548,   95,   21, 1549,   16,  177, 1550,\n",
            "           16,  698,  208,    1,  224,  111, 1551,   99,   30, 1414,   32,    0,\n",
            "            0,    0,    0,    0,    0,    0,    0,    0,    0],\n",
            "        [ 241, 1552,    1,    5, 1553,   32,    0,    0,    0,    0,    0,    0,\n",
            "            0,    0,    0,    0,    0,    0,    0,    0,    0,    0,    0,    0,\n",
            "            0,    0,    0,    0,    0,    0,    0,    0,    0],\n",
            "        [ 154,  665,  495, 1554,  143,  222, 1555,   28,  598, 1556,   21,   90,\n",
            "           64, 1557,  870,  143,    3, 1558, 1559,   32,    0,    0,    0,    0,\n",
            "            0,    0,    0,    0,    0,    0,    0,    0,    0],\n",
            "        [1204,  108,   11, 1560,    7, 1561,    3,  222,  370, 1562,   28,  272,\n",
            "           64,  108,    5,   32,    0,    0,    0,    0,    0,    0,    0,    0,\n",
            "            0,    0,    0,    0,    0,    0,    0,    0,    0],\n",
            "        [ 370, 1563,  272,  569,   21, 1564,   37,  226,   28, 1565, 1566,   17,\n",
            "            5,  733,   28,  628,   28,  470,   16, 1567,   32,    0,    0,    0,\n",
            "            0,    0,    0,    0,    0,    0,    0,    0,    0],\n",
            "        [ 108,  698, 1568,   21,  400,   37,    3, 1569,  949, 1570,   28,   88,\n",
            "          341, 1571,   37, 1572, 1573,   16, 1574, 1575,   32,    0,    0,    0,\n",
            "            0,    0,    0,    0,    0,    0,    0,    0,    0],\n",
            "        [   3,  202,    5,  176,  209,   28,   64,  525,   32,    0,    0,    0,\n",
            "            0,    0,    0,    0,    0,    0,    0,    0,    0,    0,    0,    0,\n",
            "            0,    0,    0,    0,    0,    0,    0,    0,    0],\n",
            "        [ 194,   21,  196, 1576, 1577,  552,   37,  162,   28, 1578,   28,   16,\n",
            "            1,   32,    0,    0,    0,    0,    0,    0,    0,    0,    0,    0,\n",
            "            0,    0,    0,    0,    0,    0,    0,    0,    0]])\n",
            "tensor([ 9, 15, 32, 30, 33, 18, 10, 23,  6, 20, 16, 21, 21,  9, 14])\n",
            "tensor([1, 1, 1, 1, 1, 1, 1, 1, 1, 1, 1, 1, 1, 0, 1])\n",
            "----------\n",
            "Batch 18:\n",
            "tensor([[   3,  721,  293,   95,    3, 1579,   37,    3, 1580,  366,   28,  737,\n",
            "         1176,   41, 1093,   25,  228,   16,   73,   41, 1581,   28,   16,   95,\n",
            "            3,  469,    3, 1582,  158, 1583,    3, 1584,   37,  665, 1585,   41,\n",
            "         1586,   64,   75, 1587, 1472, 1588,    7,    1,   32],\n",
            "        [   3, 1589, 1590,   37,    3,  222,  186, 1591,   28, 1592,   16, 1073,\n",
            "           32,    0,    0,    0,    0,    0,    0,    0,    0,    0,    0,    0,\n",
            "            0,    0,    0,    0,    0,    0,    0,    0,    0,    0,    0,    0,\n",
            "            0,    0,    0,    0,    0,    0,    0,    0,    0],\n",
            "        [ 608,    1,    5,   21,  547,    7,  382,   32,    0,    0,    0,    0,\n",
            "            0,    0,    0,    0,    0,    0,    0,    0,    0,    0,    0,    0,\n",
            "            0,    0,    0,    0,    0,    0,    0,    0,    0,    0,    0,    0,\n",
            "            0,    0,    0,    0,    0,    0,    0,    0,    0],\n",
            "        [ 344, 1593,   16,    1, 1594,    5,  167,   64, 1595,  498,   81, 1596,\n",
            "         1597, 1598,   16,    3,  990,    1,   37,  547,  138,    1,   32,    0,\n",
            "            0,    0,    0,    0,    0,    0,    0,    0,    0,    0,    0,    0,\n",
            "            0,    0,    0,    0,    0,    0,    0,    0,    0],\n",
            "        [1599, 1600,   67,  698,    3, 1601,   37,  198,  224,  216,  513,  241,\n",
            "         1602,   16,    1,  665, 1603,   64,   28,  111,   58,    1,   28,  108,\n",
            "         1604, 1605,    7, 1606, 1607,   30, 1608, 1609,    7, 1407,  108,   32,\n",
            "            0,    0,    0,    0,    0,    0,    0,    0,    0],\n",
            "        [ 335,  925,    3,    1,   37,   21,  720, 1610,   28,   64,   95,  241,\n",
            "          960,   21, 1174,   28, 1611,   16, 1538, 1612,   17,    1,    3, 1613,\n",
            "           37,  541, 1614,    1,   32,    0,    0,    0,    0,    0,    0,    0,\n",
            "            0,    0,    0,    0,    0,    0,    0,    0,    0],\n",
            "        [ 108, 1615,   28,  100, 1616, 1617,   28,  129, 1618,  200,  322,   32,\n",
            "            0,    0,    0,    0,    0,    0,    0,    0,    0,    0,    0,    0,\n",
            "            0,    0,    0,    0,    0,    0,    0,    0,    0,    0,    0,    0,\n",
            "            0,    0,    0,    0,    0,    0,    0,    0,    0],\n",
            "        [1619,   79, 1620,   79,  338, 1621,  148, 1622, 1623,   28,  108, 1624,\n",
            "           79,  154,   21,    1,   32,    0,    0,    0,    0,    0,    0,    0,\n",
            "            0,    0,    0,    0,    0,    0,    0,    0,    0,    0,    0,    0,\n",
            "            0,    0,    0,    0,    0,    0,    0,    0,    0],\n",
            "        [   3, 1040,    5, 1042,   11,  490,  222,   32,    0,    0,    0,    0,\n",
            "            0,    0,    0,    0,    0,    0,    0,    0,    0,    0,    0,    0,\n",
            "            0,    0,    0,    0,    0,    0,    0,    0,    0,    0,    0,    0,\n",
            "            0,    0,    0,    0,    0,    0,    0,    0,    0],\n",
            "        [ 100, 1625,  173,  133, 1626,   28,   64,  108,   11,  812,  294,    1,\n",
            "           32,    0,    0,    0,    0,    0,    0,    0,    0,    0,    0,    0,\n",
            "            0,    0,    0,    0,    0,    0,    0,    0,    0,    0,    0,    0,\n",
            "            0,    0,    0,    0,    0,    0,    0,    0,    0],\n",
            "        [  21, 1208,   28,  435,  543, 1141,   17,  300,  301,  583,  158,  159,\n",
            "           16, 1627,  225,   37,    3,   42, 1628, 1629, 1630, 1618, 1631,   32,\n",
            "            0,    0,    0,    0,    0,    0,    0,    0,    0,    0,    0,    0,\n",
            "            0,    0,    0,    0,    0,    0,    0,    0,    0],\n",
            "        [   1,   11,   93, 1632,   95,  100,   32,    0,    0,    0,    0,    0,\n",
            "            0,    0,    0,    0,    0,    0,    0,    0,    0,    0,    0,    0,\n",
            "            0,    0,    0,    0,    0,    0,    0,    0,    0,    0,    0,    0,\n",
            "            0,    0,    0,    0,    0,    0,    0,    0,    0],\n",
            "        [ 713,  360,    7,   20, 1051, 1633, 1634,   32,    0,    0,    0,    0,\n",
            "            0,    0,    0,    0,    0,    0,    0,    0,    0,    0,    0,    0,\n",
            "            0,    0,    0,    0,    0,    0,    0,    0,    0,    0,    0,    0,\n",
            "            0,    0,    0,    0,    0,    0,    0,    0,    0],\n",
            "        [   1,    1,   11,  215,  216,   37,  217,  218,  599,   21, 1635, 1636,\n",
            "            7,   21,  474,   63,  111,  681,   21, 1637,   28,  269, 1638,   37,\n",
            "          573,   17,  108, 1639,  301,  600, 1640, 1641,    7,    3,    1,   37,\n",
            "            3,  230, 1642,  409,   32,    0,    0,    0,    0],\n",
            "        [   3, 1643, 1644,    5, 1645,   28,   16,  608, 1646,    1,  447,   37,\n",
            "         1647,  826,   32,    0,    0,    0,    0,    0,    0,    0,    0,    0,\n",
            "            0,    0,    0,    0,    0,    0,    0,    0,    0,    0,    0,    0,\n",
            "            0,    0,    0,    0,    0,    0,    0,    0,    0]])\n",
            "tensor([45, 13,  8, 23, 36, 29, 12, 17,  8, 13, 24,  7,  8, 41, 15])\n",
            "tensor([1, 1, 1, 1, 1, 1, 1, 1, 1, 0, 1, 1, 1, 1, 1])\n",
            "----------\n",
            "Batch 19:\n",
            "tensor([[1648,   21, 1649, 1009,   37,    1,   28,  328,  167,    3,   61, 1048,\n",
            "           81,    3, 1650,  384,   37, 1651, 1652,   32,    0,    0,    0,    0,\n",
            "            0,    0,    0,    0,    0],\n",
            "        [1653,    1,    5, 1255,   32,    0,    0,    0,    0,    0,    0,    0,\n",
            "            0,    0,    0,    0,    0,    0,    0,    0,    0,    0,    0,    0,\n",
            "            0,    0,    0,    0,    0],\n",
            "        [1525, 1654,    5, 1255,   32,    0,    0,    0,    0,    0,    0,    0,\n",
            "            0,    0,    0,    0,    0,    0,    0,    0,    0,    0,    0,    0,\n",
            "            0,    0,    0,    0,    0],\n",
            "        [1255,   32,    0,    0,    0,    0,    0,    0,    0,    0,    0,    0,\n",
            "            0,    0,    0,    0,    0,    0,    0,    0,    0,    0,    0,    0,\n",
            "            0,    0,    0,    0,    0],\n",
            "        [  21,  628,   28,  399,  222,   17,  407, 1176,  129,   21, 1655,   95,\n",
            "            3,  469,  108,   68,   88, 1614, 1656, 1032,   85,    3, 1657,   37,\n",
            "         1658, 1629,   32,    0,    0],\n",
            "        [  88, 1424,   28,  157,  202,   17,   11,  301,  432,    7,    1,  301,\n",
            "          108,    5,  432,    7, 1659,   32,    0,    0,    0,    0,    0,    0,\n",
            "            0,    0,    0,    0,    0],\n",
            "        [ 108,  328,  329,  345,    7, 1066,    1,   16,  632,  633,  100,  202,\n",
            "          111,  217, 1660,   32,    0,    0,    0,    0,    0,    0,    0,    0,\n",
            "            0,    0,    0,    0,    0],\n",
            "        [ 273, 1661,    3,  588, 1372, 1492,   28,    3,  348,  315,  733,   28,\n",
            "           16,    3,  162,  370,  706,  272,   32,    0,    0,    0,    0,    0,\n",
            "            0,    0,    0,    0,    0],\n",
            "        [ 194, 1662,  196, 1504,  735, 1663,   18,  173,  208, 1664,  665, 1665,\n",
            "           28,  179,  412,   21, 1459,  366,   95,   88, 1666,    1,  222,   32,\n",
            "            0,    0,    0,    0,    0],\n",
            "        [1667, 1668, 1669,   95, 1526,   16,   28, 1670,    1,    1,   11,  821,\n",
            "          366,   28,   18, 1671, 1672,  301,   21,  226,  985,   37,  318,  105,\n",
            "           28, 1673,   16,    1,   32],\n",
            "        [ 100, 1674, 1675,  202, 1015,   21, 1676,   28, 1677, 1678,   85,    3,\n",
            "          469,  579, 1372,   28,   16,    3,  469,  579,  186,   32,    0,    0,\n",
            "            0,    0,    0,    0,    0],\n",
            "        [  21,  978,   12,  222,   32,    0,    0,    0,    0,    0,    0,    0,\n",
            "            0,    0,    0,    0,    0,    0,    0,    0,    0,    0,    0,    0,\n",
            "            0,    0,    0,    0,    0],\n",
            "        [ 396,  284,  186,  208, 1322,  412,   81,    3,  222,   11, 1679,  410,\n",
            "          835,  108,   61,   25, 1680,   37,  772,  524,   32,    0,    0,    0,\n",
            "            0,    0,    0,    0,    0],\n",
            "        [ 108,   11,   21, 1681, 1537,   37,   88, 1682, 1683,  247,   28, 1308,\n",
            "          111,    1,  145,   28, 1007, 1684,   16,  318,    1,   32,    0,    0,\n",
            "            0,    0,    0,    0,    0],\n",
            "        [1685,  360, 1686, 1051, 1289, 1461,   45,    8,  367, 1322,   95, 1687,\n",
            "           37,   37,  831,   32,    0,    0,    0,    0,    0,    0,    0,    0,\n",
            "            0,    0,    0,    0,    0]])\n",
            "tensor([20,  5,  5,  2, 27, 18, 16, 19, 24, 29, 22,  5, 21, 22, 16])\n",
            "tensor([1, 1, 1, 1, 1, 1, 1, 1, 1, 1, 1, 1, 1, 1, 1])\n",
            "----------\n",
            "Batch 20:\n",
            "tensor([[ 108,  671,  569,  360,  887,  775,  151,   45,    1, 1028, 1071,  558,\n",
            "            3, 1688,   17,  401, 1689, 1690,  524,   32,    0,    0,    0,    0,\n",
            "            0,    0,    0,    0,    0,    0,    0,    0],\n",
            "        [ 111,    3, 1316,  774,   37, 1691,  122, 1692,   95,  394,  129, 1693,\n",
            "           28, 1086, 1087, 1088,    5, 1694, 1695, 1696,   32,    0,    0,    0,\n",
            "            0,    0,    0,    0,    0,    0,    0,    0],\n",
            "        [  21,  566,   28, 1245,  159,   37,    3, 1697,   37, 1698,   32,    0,\n",
            "            0,    0,    0,    0,    0,    0,    0,    0,    0,    0,    0,    0,\n",
            "            0,    0,    0,    0,    0,    0,    0,    0],\n",
            "        [   3,  924, 1699,    1,   88, 1689,  135,  222,   32,    0,    0,    0,\n",
            "            0,    0,    0,    0,    0,    0,    0,    0,    0,    0,    0,    0,\n",
            "            0,    0,    0,    0,    0,    0,    0,    0],\n",
            "        [  21,  767,  366,  294, 1700, 1701,   16,   21, 1702, 1703, 1704, 1705,\n",
            "           17,  698,  286,   64, 1706,   79,   21,    1,   16,   88,    1,   32,\n",
            "            0,    0,    0,    0,    0,    0,    0,    0],\n",
            "        [  21, 1707,   28,  612, 1708,    7,    3, 1709,   37,   12, 1334,   11,\n",
            "         1710,   16,   21, 1162, 1711, 1712,   37,    3,  930, 1713,   81,    3,\n",
            "         1714,  143,  266, 1715,   32,    0,    0,    0],\n",
            "        [  21,  474,  552,  294,   12, 1716, 1717, 1718,   28, 1719, 1149,    5,\n",
            "         1720,   81,   21,  507, 1188, 1611,   16,  887,  775,  296,  558,    3,\n",
            "         1721,   32,    0,    0,    0,    0,    0,    0],\n",
            "        [ 328,    7,    8,    1,    5,    3, 1722,  222, 1723,   28,    3,    1,\n",
            "            1,    1,   37, 1724,   28, 1725,   28,    1,   16, 1726,   32,    0,\n",
            "            0,    0,    0,    0,    0,    0,    0,    0],\n",
            "        [   3,   76, 1727,    5, 1723,   95, 1722,   32,    0,    0,    0,    0,\n",
            "            0,    0,    0,    0,    0,    0,    0,    0,    0,    0,    0,    0,\n",
            "            0,    0,    0,    0,    0,    0,    0,    0],\n",
            "        [ 161,   79,   80, 1728,  154, 1264,   12,   16, 1729,  154, 1264,  635,\n",
            "           28,   79,   80,   95, 1730,   32,    0,    0,    0,    0,    0,    0,\n",
            "            0,    0,    0,    0,    0,    0,    0,    0],\n",
            "        [  21, 1731,  772,  968,   17,   11,  468, 1183,  301, 1732,   28,  448,\n",
            "           16,  635,  301, 1733,   11, 1333,  490,  394,   57, 1168,    1,   16,\n",
            "           21, 1734,   16, 1735, 1475,   11, 1736,   32],\n",
            "        [  21,    1,  348,  123, 1737,   17,  170, 1322, 1738,   85,  417, 1739,\n",
            "           32,    0,    0,    0,    0,    0,    0,    0,    0,    0,    0,    0,\n",
            "            0,    0,    0,    0,    0,    0,    0,    0],\n",
            "        [ 161,  288,   11,  621,  200,   77,   28,  108,   11,   75,   21,  121,\n",
            "         1740,   57,  737,    5,  478,    7,    1,  143,  479,  542,   32,    0,\n",
            "            0,    0,    0,    0,    0,    0,    0,    0],\n",
            "        [1741,    1,   16,  268,  733,   28,    3, 1589, 1742,    5,  512,  167,\n",
            "          513,  296,   32,    0,    0,    0,    0,    0,    0,    0,    0,    0,\n",
            "            0,    0,    0,    0,    0,    0,    0,    0],\n",
            "        [ 288,    5,   21, 1743, 1163,    7,  100, 1744, 1745,   28, 1746, 1747,\n",
            "            1,   32,    0,    0,    0,    0,    0,    0,    0,    0,    0,    0,\n",
            "            0,    0,    0,    0,    0,    0,    0,    0]])\n",
            "tensor([20, 21, 11,  9, 24, 29, 26, 23,  8, 18, 32, 13, 23, 15, 14])\n",
            "tensor([1, 1, 1, 1, 1, 1, 1, 0, 1, 1, 1, 1, 1, 1, 1])\n",
            "----------\n",
            "Batch 21:\n",
            "tensor([[  88, 1748,  870,  143, 1749,   28, 1032,   28,   16,  763, 1750,  232,\n",
            "            3, 1751,   37,   17,    1, 1752,  664, 1623,   32,    0,    0,    0,\n",
            "            0,    0,    0,    0,    0,    0,    0],\n",
            "        [  88,  903,   28,  161, 1753, 1557,   28, 1754,   32,    0,    0,    0,\n",
            "            0,    0,    0,    0,    0,    0,    0,    0,    0,    0,    0,    0,\n",
            "            0,    0,    0,    0,    0,    0,    0],\n",
            "        [1755,    5,  335,   37,  419,  409,   11,  250, 1756, 1757, 1758,   16,\n",
            "            1,   32,    0,    0,    0,    0,    0,    0,    0,    0,    0,    0,\n",
            "            0,    0,    0,    0,    0,    0,    0],\n",
            "        [ 161, 1759,   45,  654,  224, 1760,    7,   21, 1761,    1,   37, 1762,\n",
            "           28,    1,   16,    1, 1763,   28,  108,    5, 1764,   21,  121,  682,\n",
            "           32,    0,    0,    0,    0,    0,    0],\n",
            "        [   1,   28,   23,    1,  120,   28,  108,   11,    3,  490, 1212,  881,\n",
            "            3,  237, 1765,  663,  261,   21,    1, 1766,   28,   88,  823,   37,\n",
            "          103, 1767,   16,  975, 1538,  239,   32],\n",
            "        [1768,    5,  335,   37,    3,  769, 1769,  284,  925,  124,    5,    3,\n",
            "          242,   16, 1770,   37,  409,   32,    0,    0,    0,    0,    0,    0,\n",
            "            0,    0,    0,    0,    0,    0,    0],\n",
            "        [  18,  702,  665, 1010, 1771,    7,   20,  260,    1,    7,    3,   63,\n",
            "           16,  125,   32,    0,    0,    0,    0,    0,    0,    0,    0,    0,\n",
            "            0,    0,    0,    0,    0,    0,    0],\n",
            "        [ 100,    1,  407,  211, 1772, 1773,   28,   16,  108,  300, 1774,   77,\n",
            "           32,    0,    0,    0,    0,    0,    0,    0,    0,    0,    0,    0,\n",
            "            0,    0,    0,    0,    0,    0,    0],\n",
            "        [ 165,   95, 1139, 1775,   85,  222,   32,    0,    0,    0,    0,    0,\n",
            "            0,    0,    0,    0,    0,    0,    0,    0,    0,    0,    0,    0,\n",
            "            0,    0,    0,    0,    0,    0,    0],\n",
            "        [ 745,  108,   45,    8,   21, 1183, 1776,   28, 1643,  108,   11,   88,\n",
            "          635,   16, 1777, 1655,   32,    0,    0,    0,    0,    0,    0,    0,\n",
            "            0,    0,    0,    0,    0,    0,    0],\n",
            "        [1778,  111,   21,  533,   16,  996, 1373,   28,  194, 1779,  196, 1780,\n",
            "         1781,   37,    3, 1782,   16,  770, 1515,   88, 1783,   16, 1403,  870,\n",
            "          143,   21, 1784, 1785, 1786,   32,    0],\n",
            "        [   3, 1787,  202, 1788,   21, 1576,  690, 1789,   32,    0,    0,    0,\n",
            "            0,    0,    0,    0,    0,    0,    0,    0,    0,    0,    0,    0,\n",
            "            0,    0,    0,    0,    0,    0,    0],\n",
            "        [ 273, 1692,    3, 1790, 1791,  157,   28, 1792,  154,  241, 1793, 1794,\n",
            "          870,   16, 1795,   32,    0,    0,    0,    0,    0,    0,    0,    0,\n",
            "            0,    0,    0,    0,    0,    0,    0],\n",
            "        [   3, 1084,  345,  478, 1796,   25,    7,  684,  224,   21,  121,  247,\n",
            "           28,   16,   95,  266, 1606,   28,  488,  202,  469,   28,  188, 1797,\n",
            "           32,    0,    0,    0,    0,    0,    0],\n",
            "        [1798,  173, 1799,  240,  100,  221, 1800,   95,   21,  912, 1801,   66,\n",
            "         1510,   37,    1,  447,   16, 1802,  296,   32,    0,    0,    0,    0,\n",
            "            0,    0,    0,    0,    0,    0,    0]])\n",
            "tensor([21,  9, 14, 25, 31, 18, 15, 13,  7, 17, 30,  9, 16, 25, 20])\n",
            "tensor([1, 1, 1, 1, 1, 1, 1, 1, 1, 1, 1, 1, 1, 1, 1])\n",
            "----------\n",
            "Batch 22:\n",
            "tensor([[  64,  108,  410,   93,  301, 1470,   20,   79, 1803,   28,   16,  108,\n",
            "          410, 1407,   41,   95,   21,  469,   17,  698,  208,   20,   79,  776,\n",
            "          129,   21, 1804,   32,    0,    0,    0,    0,    0,    0,    0,    0],\n",
            "        [ 583, 1805,   16, 1806,  261,   93,   21,  177, 1807,  209,   95,   88,\n",
            "            1,    1,   28,   64,  108,   11,    1,  612,   32,    0,    0,    0,\n",
            "            0,    0,    0,    0,    0,    0,    0,    0,    0,    0,    0,    0],\n",
            "        [ 100, 1808, 1809,  439,  441, 1810,   85,  241, 1811,  296,   16,  690,\n",
            "         1812,   23,  161,    3,  114, 1813, 1814, 1815,   32,    0,    0,    0,\n",
            "            0,    0,    0,    0,    0,    0,    0,    0,    0,    0,    0,    0],\n",
            "        [   3,  222,   11, 1009,   37,   99,  921,  108,   21, 1816, 1091,   28,\n",
            "           64,  108,   11,    1,   81,    3,  124,   32,    0,    0,    0,    0,\n",
            "            0,    0,    0,    0,    0,    0,    0,    0,    0,    0,    0,    0],\n",
            "        [   3, 1040,  194,    5,  196,   21, 1817, 1818, 1819,  552,   37, 1820,\n",
            "           11,  101,  451,   17,  579,   28,  614,   28,   45, 1821,  241,  986,\n",
            "         1822,   37,  228,   32,    0,    0,    0,    0,    0,    0,    0,    0],\n",
            "        [  77,    5,   21, 1823,    1,    7,   21, 1824,  949,   11, 1337,    7,\n",
            "         1825,  665,  228,   28,  665, 1826,   16,  665, 1414,   32,    0,    0,\n",
            "            0,    0,    0,    0,    0,    0,    0,    0,    0,    0,    0,    0],\n",
            "        [ 715,  108,    5,   28,   64, 1827,   41,   32,    0,    0,    0,    0,\n",
            "            0,    0,    0,    0,    0,    0,    0,    0,    0,    0,    0,    0,\n",
            "            0,    0,    0,    0,    0,    0,    0,    0,    0,    0,    0,    0],\n",
            "        [1828,   28, 1829,   16,    1,   32,    0,    0,    0,    0,    0,    0,\n",
            "            0,    0,    0,    0,    0,    0,    0,    0,    0,    0,    0,    0,\n",
            "            0,    0,    0,    0,    0,    0,    0,    0,    0,    0,    0,    0],\n",
            "        [   3, 1830,   17,  259, 1831,   95,    1,    3, 1501,    5,  407,   95,\n",
            "           21, 1832,  111,   17,   37,  251, 1472,   32,    0,    0,    0,    0,\n",
            "            0,    0,    0,    0,    0,    0,    0,    0,    0,    0,    0,    0],\n",
            "        [   3, 1747,  682,    5,   17,  241,  509,   28,   95,  100, 1833,   37,\n",
            "         1834,    1,   28,    5, 1835,  336,   32,    0,    0,    0,    0,    0,\n",
            "            0,    0,    0,    0,    0,    0,    0,    0,    0,    0,    0,    0],\n",
            "        [  21,  252,   28,    1,    1,  737, 1189,  122,  143,    3,  898,   37,\n",
            "         1836,   16, 1837,  851,   95,    3,    1, 1838, 1413,   32,    0,    0,\n",
            "            0,    0,    0,    0,    0,    0,    0,    0,    0,    0,    0,    0],\n",
            "        [ 111,  580,   37,  155, 1386, 1356,   28,  841, 1839,   68,    3, 1020,\n",
            "          367,   21,  985,   11,  228,   28,  148,   37,   21,    1,   28, 1538,\n",
            "         1840,   28,    5,  513,    7,  691, 1841,   21,  392, 1842,   32,    0],\n",
            "        [1843, 1844,  261,    5,  143,    1,   21,  767,  226,  494,   32,    0,\n",
            "            0,    0,    0,    0,    0,    0,    0,    0,    0,    0,    0,    0,\n",
            "            0,    0,    0,    0,    0,    0,    0,    0,    0,    0,    0,    0],\n",
            "        [ 301,   88, 1845,    7,    3,  949,   11, 1846,   16, 1847,   28,   83,\n",
            "            5,  167,   64, 1848,  309,  301,   21, 1537,   37,    3,  204,  301,\n",
            "           88,  452, 1849,  444,  949,   28,  406,   28,  108,   11, 1850,   32],\n",
            "        [   3,  222,    5,   21, 1145,    1,  790, 1333, 1757, 1851,   32,    0,\n",
            "            0,    0,    0,    0,    0,    0,    0,    0,    0,    0,    0,    0,\n",
            "            0,    0,    0,    0,    0,    0,    0,    0,    0,    0,    0,    0]])\n",
            "tensor([28, 21, 21, 20, 28, 22,  8,  6, 20, 19, 22, 35, 11, 36, 11])\n",
            "tensor([1, 1, 1, 1, 1, 1, 1, 1, 1, 1, 0, 1, 1, 1, 1])\n",
            "----------\n",
            "Batch 23:\n",
            "tensor([[1852,  316,    0,    0,    0,    0,    0,    0,    0,    0,    0,    0,\n",
            "            0,    0,    0,    0,    0,    0,    0,    0,    0,    0,    0,    0,\n",
            "            0,    0,    0,    0,    0,    0,    0,    0,    0,    0,    0,    0,\n",
            "            0,    0],\n",
            "        [1853,   28,   64,  671, 1037,   16,    1,   28,   21,  581,  765,    7,\n",
            "           21, 1854,  222, 1855,   32,    0,    0,    0,    0,    0,    0,    0,\n",
            "            0,    0,    0,    0,    0,    0,    0,    0,    0,    0,    0,    0,\n",
            "            0,    0],\n",
            "        [ 189,   21,  318,  469,    7, 1326, 1856, 1857,   37,  417, 1147,   32,\n",
            "            0,    0,    0,    0,    0,    0,    0,    0,    0,    0,    0,    0,\n",
            "            0,    0,    0,    0,    0,    0,    0,    0,    0,    0,    0,    0,\n",
            "            0,    0],\n",
            "        [   3,  202,    5, 1858,   21,  601,   28,   64,  108,  698, 1418,  607,\n",
            "         1859,   11,  490,  207,   95,  133,  247,   32,    0,    0,    0,    0,\n",
            "            0,    0,    0,    0,    0,    0,    0,    0,    0,    0,    0,    0,\n",
            "            0,    0],\n",
            "        [ 301,  177,   16, 1860,   21,  202,  301,   79,   45,  805,   32,    0,\n",
            "            0,    0,    0,    0,    0,    0,    0,    0,    0,    0,    0,    0,\n",
            "            0,    0,    0,    0,    0,    0,    0,    0,    0,    0,    0,    0,\n",
            "            0,    0],\n",
            "        [ 100,    5,   21,  202,   79,   45, 1861,   32,    0,    0,    0,    0,\n",
            "            0,    0,    0,    0,    0,    0,    0,    0,    0,    0,    0,    0,\n",
            "            0,    0,    0,    0,    0,    0,    0,    0,    0,    0,    0,    0,\n",
            "            0,    0],\n",
            "        [1862,   28, 1863,   28, 1864,   64,  940,  301,   21,    1,   28,    1,\n",
            "         1865,    1,   95,  100,  202,   28,   16,  254, 1277,    3, 1866,  301,\n",
            "          733,  154, 1867,  301,  154, 1868,   32,    0,    0,    0,    0,    0,\n",
            "            0,    0],\n",
            "        [ 212,    1,    3,  214,   28, 1575,   28,   16, 1869,   37,  335,   37,\n",
            "            1,   11,  250, 1794,   16,    1, 1758,   57,   21,  978,  440,   17,\n",
            "          410,  274,    7,    3,    1,   95,  224,  167,   32,    0,    0,    0,\n",
            "            0,    0],\n",
            "        [ 915,  314,    5,   46,    1, 1870,   28,   64,    1,  278, 1871,   32,\n",
            "            0,    0,    0,    0,    0,    0,    0,    0,    0,    0,    0,    0,\n",
            "            0,    0,    0,    0,    0,    0,    0,    0,    0,    0,    0,    0,\n",
            "            0,    0],\n",
            "        [  21,  843, 1740,   28,   64,   46, 1835,   21, 1872,  335,   32,    0,\n",
            "            0,    0,    0,    0,    0,    0,    0,    0,    0,    0,    0,    0,\n",
            "            0,    0,    0,    0,    0,    0,    0,    0,    0,    0,    0,    0,\n",
            "            0,    0],\n",
            "        [  85,    3,    1,  202,    1,   37, 1873,    7, 1874,   28,    3, 1875,\n",
            "         1113,    5,   21, 1876,   28, 1877,   28,  733,   28,   23,    1,    1,\n",
            "           57, 1878,  618,  143,   21,    1,  656,   32,    0,    0,    0,    0,\n",
            "            0,    0],\n",
            "        [   3,  222,  173, 1879,  989,  296,   32,    0,    0,    0,    0,    0,\n",
            "            0,    0,    0,    0,    0,    0,    0,    0,    0,    0,    0,    0,\n",
            "            0,    0,    0,    0,    0,    0,    0,    0,    0,    0,    0,    0,\n",
            "            0,    0],\n",
            "        [ 273,  338,  211, 1880,  294,    1,   28,   64,  273, 1880,  100,  202,\n",
            "           32,    0,    0,    0,    0,    0,    0,    0,    0,    0,    0,    0,\n",
            "            0,    0,    0,    0,    0,    0,    0,    0,    0,    0,    0,    0,\n",
            "            0,    0],\n",
            "        [1089, 1881,  790,  348,   16, 1141,   28, 1882,   16, 1883,   28,  513,\n",
            "         1884, 1515,  293,  812, 1885,   25, 1053,  429,    7,  466,    3,  469,\n",
            "         1053,   37,  224,  485,   57,    1,  790, 1886,    1,   16,    1, 1887,\n",
            "            1,   32],\n",
            "        [ 194, 1888,  196,  390,    3,    1, 1047,   85,  241, 1889, 1890,   16,\n",
            "         1891,  108,  111,   71,   28, 1892,   16, 1224,    1,  514,  284, 1893,\n",
            "          240,    7,   61,   25, 1894, 1895,   32,    0,    0,    0,    0,    0,\n",
            "            0,    0]])\n",
            "tensor([ 2, 17, 12, 20, 11,  8, 31, 33, 12, 11, 32,  7, 13, 38, 31])\n",
            "tensor([0, 1, 1, 1, 1, 1, 1, 1, 1, 1, 1, 1, 1, 1, 1])\n",
            "----------\n",
            "Batch 24:\n",
            "tensor([[  21, 1896,   28, 1897,   16,  249,  635, 1898,  440, 1058,   95,    1,\n",
            "         1899,   28,   16,    3,  489,   17,  108,   11, 1900,   85,  908, 1901,\n",
            "         1902,  190,  108,  167,    3,   61,  843,   32,    0,    0,    0,    0,\n",
            "            0,    0,    0,    0,    0,    0,    0,    0,    0,    0,    0,    0,\n",
            "            0,    0],\n",
            "        [  88,  635, 1655,   17, 1903, 1904, 1905,    3, 1500,   11,    1, 1906,\n",
            "         1372,  175,   81, 1907, 1796,   32,    0,    0,    0,    0,    0,    0,\n",
            "            0,    0,    0,    0,    0,    0,    0,    0,    0,    0,    0,    0,\n",
            "            0,    0,    0,    0,    0,    0,    0,    0,    0,    0,    0,    0,\n",
            "            0,    0],\n",
            "        [  21, 1908, 1909,   28, 1910, 1911,   11,  202,   17,    1,    1,    1,\n",
            "          956,    5, 1912, 1913,   95,  511,  822,   18,   11, 1914,   37,  665,\n",
            "            1, 1915,  316,    0,    0,    0,    0,    0,    0,    0,    0,    0,\n",
            "            0,    0,    0,    0,    0,    0,    0,    0,    0,    0,    0,    0,\n",
            "            0,    0],\n",
            "        [1561,  108, 1377,  764,   30, 1916,   28,   64, 1544,    1,    1,  958,\n",
            "         1508,  111,   21,  720, 1917,   37, 1295,   16, 1826,   32,    0,    0,\n",
            "            0,    0,    0,    0,    0,    0,    0,    0,    0,    0,    0,    0,\n",
            "            0,    0,    0,    0,    0,    0,    0,    0,    0,    0,    0,    0,\n",
            "            0,    0],\n",
            "        [1918,   16,  665, 1462,  548,  208,  442,  209,   82,  393,   95,  179,\n",
            "            3,   63,   37, 1919,    7,    3,  423, 1133,   32,    0,    0,    0,\n",
            "            0,    0,    0,    0,    0,    0,    0,    0,    0,    0,    0,    0,\n",
            "            0,    0,    0,    0,    0,    0,    0,    0,    0,    0,    0,    0,\n",
            "            0,    0],\n",
            "        [   3,  547, 1920,  167, 1386, 1921,   37,  665,   63,  111,   21, 1922,\n",
            "           16,   88,    1, 1923,   37,    1,   32,    0,    0,    0,    0,    0,\n",
            "            0,    0,    0,    0,    0,    0,    0,    0,    0,    0,    0,    0,\n",
            "            0,    0,    0,    0,    0,    0,    0,    0,    0,    0,    0,    0,\n",
            "            0,    0],\n",
            "        [1924,   28,    1,   16,   28,  154,  167,  241,    1,   28,   46,  431,\n",
            "         1925,   32,    0,    0,    0,    0,    0,    0,    0,    0,    0,    0,\n",
            "            0,    0,    0,    0,    0,    0,    0,    0,    0,    0,    0,    0,\n",
            "            0,    0,    0,    0,    0,    0,    0,    0,    0,    0,    0,    0,\n",
            "            0,    0],\n",
            "        [ 108,   11,   21, 1926,  795, 1927,   16,  191,   21,  870,   32,    0,\n",
            "            0,    0,    0,    0,    0,    0,    0,    0,    0,    0,    0,    0,\n",
            "            0,    0,    0,    0,    0,    0,    0,    0,    0,    0,    0,    0,\n",
            "            0,    0,    0,    0,    0,    0,    0,    0,    0,    0,    0,    0,\n",
            "            0,    0],\n",
            "        [1928,   16,  266,  383,  410,  442,   21,    1,  121,  247,   32,    0,\n",
            "            0,    0,    0,    0,    0,    0,    0,    0,    0,    0,    0,    0,\n",
            "            0,    0,    0,    0,    0,    0,    0,    0,    0,    0,    0,    0,\n",
            "            0,    0,    0,    0,    0,    0,    0,    0,    0,    0,    0,    0,\n",
            "            0,    0],\n",
            "        [ 706,  696,  442, 1929, 1930,  241, 1931,   85,  241, 1932,   64,   23,\n",
            "          241, 1933,    1,  186, 1934,    7, 1935,  973,    7,  821,  296,   81,\n",
            "         1936,   16,    1,   32,    0,    0,    0,    0,    0,    0,    0,    0,\n",
            "            0,    0,    0,    0,    0,    0,    0,    0,    0,    0,    0,    0,\n",
            "            0,    0],\n",
            "        [ 436,   28,   13, 1937, 1938,   15,  738, 1939,    7,  241,  181,  182,\n",
            "           16,  449, 1536, 1940,   17,  108,  653,  208,    8, 1941,  301, 1942,\n",
            "           32,    0,    0,    0,    0,    0,    0,    0,    0,    0,    0,    0,\n",
            "            0,    0,    0,    0,    0,    0,    0,    0,    0,    0,    0,    0,\n",
            "            0,    0],\n",
            "        [1943,  547, 1944, 1945, 1671, 1946, 1947,  301,   21, 1948,  306,    1,\n",
            "           95,  100,  677,  552,   37, 1054,   32,    0,    0,    0,    0,    0,\n",
            "            0,    0,    0,    0,    0,    0,    0,    0,    0,    0,    0,    0,\n",
            "            0,    0,    0,    0,    0,    0,    0,    0,    0,    0,    0,    0,\n",
            "            0,    0],\n",
            "        [1949,   95,    3, 1950, 1951,   37,    3, 1445,  409,  143,    1,   11,\n",
            "         1952,    1,   28,   64,  273,  352,  775,  301,  343,  273,  315,   95,\n",
            "            3, 1953, 1333,    1, 1954,   17, 1955,    3, 1956,  620,  287,  955,\n",
            "           28, 1630,   16,    1,   28,    1,   16,    1, 1075,  133,   37,    3,\n",
            "          250,   46],\n",
            "        [ 189,   11,   41,  122,  513,  100,  243,   28, 1957,   28, 1958,  441,\n",
            "            5,    3,  547,   11, 1959,   32,    0,    0,    0,    0,    0,    0,\n",
            "            0,    0,    0,    0,    0,    0,    0,    0,    0,    0,    0,    0,\n",
            "            0,    0,    0,    0,    0,    0,    0,    0,    0,    0,    0,    0,\n",
            "            0,    0],\n",
            "        [ 523,   21, 1960,    1,  202,    5,  129,  523,   88, 1961, 1962,  202,\n",
            "          276,    1,    1,    1,   32,    0,    0,    0,    0,    0,    0,    0,\n",
            "            0,    0,    0,    0,    0,    0,    0,    0,    0,    0,    0,    0,\n",
            "            0,    0,    0,    0,    0,    0,    0,    0,    0,    0,    0,    0,\n",
            "            0,    0]])\n",
            "tensor([32, 18, 27, 22, 21, 19, 14, 11, 11, 28, 25, 19, 50, 18, 17])\n",
            "tensor([1, 1, 1, 1, 1, 1, 1, 1, 1, 1, 1, 1, 1, 1, 0])\n",
            "----------\n",
            "Batch 25:\n",
            "tensor([[1963,  108,   37,  167,  241, 1964,    1,   28,   16,   79,  991,  442,\n",
            "           21, 1703,   28,    1,  202,   32,    0,    0,    0,    0,    0,    0,\n",
            "            0,    0,    0,    0,    0,    0,    0,    0,    0,    0],\n",
            "        [ 301,  108,    5,   28,  108,   11,  431,  748,   16, 1965,   32,    0,\n",
            "            0,    0,    0,    0,    0,    0,    0,    0,    0,    0,    0,    0,\n",
            "            0,    0,    0,    0,    0,    0,    0,    0,    0,    0],\n",
            "        [  88,  340,  635,  870,  143,  133,   37,    3,    1, 1966,   37, 1967,\n",
            "           10, 1968, 1414,   32,    0,    0,    0,    0,    0,    0,    0,    0,\n",
            "            0,    0,    0,    0,    0,    0,    0,    0,    0,    0],\n",
            "        [ 100,  726,    1,  552,    5,  748,   85,    1,   16, 1815,   85, 1093,\n",
            "         1969, 1970,   28,  343,  108,   11,  962,  111,  566, 1971,   16,  502,\n",
            "          154,    3, 1972,   37,    3, 1973,   32,    0,    0,    0],\n",
            "        [ 100, 1447,  877,  823,    5,  211, 1974,   32,    0,    0,    0,    0,\n",
            "            0,    0,    0,    0,    0,    0,    0,    0,    0,    0,    0,    0,\n",
            "            0,    0,    0,    0,    0,    0,    0,    0,    0,    0],\n",
            "        [1960,    1,   11, 1975,    1,  680,   16, 1525,    1,   11,  135, 1414,\n",
            "          691,  100,  912, 1976, 1393,  205, 1264,  512,  246, 1289,   32,    0,\n",
            "            0,    0,    0,    0,    0,    0,    0,    0,    0,    0],\n",
            "        [ 108,  190,  843,   28,  800,   16,    1, 1369,   32,    0,    0,    0,\n",
            "            0,    0,    0,    0,    0,    0,    0,    0,    0,    0,    0,    0,\n",
            "            0,    0,    0,    0,    0,    0,    0,    0,    0,    0],\n",
            "        [  21, 1012,  635,  348,   17,  838, 1733,   11,  206,  636,   37,    1,\n",
            "            7, 1821,  467,  294, 1977,    7,  241,  206,    1,   32,    0,    0,\n",
            "            0,    0,    0,    0,    0,    0,    0,    0,    0,    0],\n",
            "        [ 810,   21, 1978, 1203,   28,  513,   21,  421, 1979,   93,  449, 1636,\n",
            "          205,    3, 1866,    7, 1980,   88,  903, 1981, 1982,   95,   21,  202,\n",
            "          332,   32,    0,    0,    0,    0,    0,    0,    0,    0],\n",
            "        [  64,  108,   11, 1983,   16, 1827,  997,    3,    1,   32,    0,    0,\n",
            "            0,    0,    0,    0,    0,    0,    0,    0,    0,    0,    0,    0,\n",
            "            0,    0,    0,    0,    0,    0,    0,    0,    0,    0],\n",
            "        [   3,    1,   16, 1984, 1985, 1986,  790,    3,    1, 1859,   16,    3,\n",
            "            1, 1733, 1504,    7,    8, 1782,   28,   16,  286,    1,   95,  100,\n",
            "         1828,  896,   32,    0,    0,    0,    0,    0,    0,    0],\n",
            "        [  21, 1987, 1988, 1989,   37,    1,   16,  167,    3, 1990,   28, 1991,\n",
            "           28,    1,   16, 1992,   37,   21, 1993, 1141,   30,   21, 1994,  983,\n",
            "          984,   32,    0,    0,    0,    0,    0,    0,    0,    0],\n",
            "        [ 608, 1995,   28,  608, 1996,   16,  167,  266, 1997,  186,    1,    7,\n",
            "          215,   21, 1998, 1999,  154,    1,   88, 1006,  896,  148,   37,   88,\n",
            "          407,    1,    1,  154,   21, 2000,   16, 2001, 2002,   32],\n",
            "        [1428,  733, 1059,   28,   64,  108,   11,   61,   37,    3,  370,  875,\n",
            "          143,  272, 2003,   25,    3,  370,  875,  111,   32,  272,    0,    0,\n",
            "            0,    0,    0,    0,    0,    0,    0,    0,    0,    0],\n",
            "        [1171,    3,  250,  771,    1,  225,   37,    3, 2004,    1,   37, 2005,\n",
            "          487,  339,   85, 1133,   32,    0,    0,    0,    0,    0,    0,    0,\n",
            "            0,    0,    0,    0,    0,    0,    0,    0,    0,    0]])\n",
            "tensor([18, 11, 16, 31,  8, 23,  9, 22, 26, 10, 27, 26, 34, 22, 17])\n",
            "tensor([1, 0, 1, 1, 1, 1, 1, 1, 1, 1, 1, 1, 1, 1, 1])\n",
            "----------\n",
            "Batch 26:\n",
            "tensor([[  21,  706, 2006,   57,  470,   28,  733,   28, 1394,   28,   16,  456,\n",
            "           32,    0,    0,    0,    0,    0,    0,    0,    0,    0,    0,    0,\n",
            "            0,    0,    0,    0],\n",
            "        [1032, 1537,   37, 1840,   28,    1,   16, 1616,    1,    5,   21,  769,\n",
            "          699,   17,  569,    3, 1200,   37, 2007, 1126,   32,    0,    0,    0,\n",
            "            0,    0,    0,    0],\n",
            "        [ 734,  301,  327,   21,  304,   37,    3, 1933, 2008,   37,    1,   45,\n",
            "            8,   28,   16, 2009,    3,  490,  394,   37,    3,  375,   32,    0,\n",
            "            0,    0,    0,    0],\n",
            "        [   3,  222,  173,   21,  141,  870,   16, 2010, 2011,  173,   21,  776,\n",
            "          154,    3,  158,  143,  167, 2012,   37,  155,  228,   32,    0,    0,\n",
            "            0,    0,    0,    0],\n",
            "        [  21, 2013, 2014,   37, 2015,   95,  241, 2016,   16,   21, 2017,   37,\n",
            "          706, 2018,   95,  241,    1,   32,    0,    0,    0,    0,    0,    0,\n",
            "            0,    0,    0,    0],\n",
            "        [   3,  296,  186,  821,   32,    0,    0,    0,    0,    0,    0,    0,\n",
            "            0,    0,    0,    0,    0,    0,    0,    0,    0,    0,    0,    0,\n",
            "            0,    0,    0,    0],\n",
            "        [ 108,   11, 2019,  272, 1598,   28,  514,   16,  665, 2020,  125,   28,\n",
            "           46,  665, 1203,   28,   17, 2021, 2022,   32,    0,    0,    0,    0,\n",
            "            0,    0,    0,    0],\n",
            "        [ 301,  641,    1,  632,   28,  100,  190,  154, 1089, 2023,   28, 1753,\n",
            "          268,  903,  517,   11,  896,   32,    0,    0,    0,    0,    0,    0,\n",
            "            0,    0,    0,    0],\n",
            "        [  79,  170, 2024,  513,  108,   81, 2025,   28,  343,   28,   16,  161,\n",
            "          188,   80,  444,  449,    7,  442, 2026,  133,  400,   28,   41,  410,\n",
            "          417,  383,   32,    0],\n",
            "        [ 745,  273,  653,  208, 1062,  108,   11,   85, 2027,  111,    3,  495,\n",
            "          335,   28,  265,  221, 2028,    5,   21,  102,   28,  122, 2029, 2030,\n",
            "           37,   21,  202,   32]])\n",
            "tensor([13, 21, 23, 22, 18,  5, 20, 18, 27, 28])\n",
            "tensor([1, 1, 1, 1, 0, 1, 1, 1, 0, 1])\n",
            "----------\n"
          ]
        }
      ],
      "source": [
        "toy_batch_iterator = SentimentExampleBatchIterator(train_exs[:4], batch_size=2, PAD_idx=0, shuffle=False) # hard-coded batch size and PAD_idx\n",
        "toy_batch_iterator.refresh()\n",
        "\n",
        "batch_count = 0\n",
        "batch_data = toy_batch_iterator.get_next_batch()\n",
        "while batch_data is not None:\n",
        "    print(\"Batch %d:\" % batch_count)\n",
        "    batch_inputs, batch_lengths, batch_labels = batch_data\n",
        "    # project to device\n",
        "    print(batch_inputs)\n",
        "    print(batch_lengths)\n",
        "    print(batch_labels)\n",
        "    print(\"-\" * 10)\n",
        "\n",
        "    batch_count += 1\n",
        "    batch_data = toy_batch_iterator.get_next_batch()\n"
      ]
    },
    {
      "cell_type": "markdown",
      "metadata": {
        "id": "Bn97N1sxvVEv"
      },
      "source": [
        "**Up to now, you've completed loading the datasets! This is your Checkpoint 1.**"
      ]
    },
    {
      "cell_type": "markdown",
      "metadata": {
        "id": "RAUue6dEvVEv"
      },
      "source": [
        "## Part 3: FFNN Model Construction (25 Points)"
      ]
    },
    {
      "cell_type": "markdown",
      "metadata": {
        "id": "a-jF7JS1vVEv"
      },
      "source": [
        "In this part, we will define the FFNN-based sentiment classifier called `FeedForwardNeuralNetClassifier`.\n",
        "\n",
        "<font color='blue'>YOUR TASK: Please read the in-line comments and fill out the `TODO`s.</font>"
      ]
    },
    {
      "cell_type": "code",
      "execution_count": null,
      "metadata": {
        "id": "zDWh8YLNvVEv"
      },
      "outputs": [],
      "source": [
        "class FeedForwardNeuralNetClassifier(nn.Module):\n",
        "    \"\"\"\n",
        "    The Feed-Forward Neural Net sentiment classifier.\n",
        "    \"\"\"\n",
        "    def __init__(self, vocab_size, emb_dim, n_hidden_units):\n",
        "        \"\"\"\n",
        "        In the __init__ function, you will define modules in FFNN.\n",
        "        :param vocab_size: size of vocabulary\n",
        "        :param emb_dim: dimension of the embedding vectors\n",
        "        :param n_hidden_units: dimension of the hidden units\n",
        "        \"\"\"\n",
        "        super(FeedForwardNeuralNetClassifier, self).__init__()\n",
        "        self.vocab_size = vocab_size\n",
        "        self.emb_dim = emb_dim\n",
        "        self.n_hidden_units = n_hidden_units\n",
        "\n",
        "        # TODO: implement a randomly initialized word embedding matrix using nn.Embedding\n",
        "        # It should have a size of `(vocab_size x emb_dim)`\n",
        "        self.word_embeddings = None\n",
        "\n",
        "        # TODO: implement the FFNN architecture using nn functions\n",
        "        self.classifier = None\n",
        "\n",
        "        # TODO: the loss function\n",
        "        self.loss = None\n",
        "\n",
        "    def forward(self, batch_inputs: torch.Tensor, batch_lengths: torch.Tensor) -> torch.Tensor:\n",
        "        \"\"\"\n",
        "        The forward function, which defines how FFNN should work when given a batch of inputs and their actual sent lengths (i.e., before PAD)\n",
        "        :param batch_inputs: a torch.Tensor object of size (n_examples, max_sent_length_in_this_batch), which is the *indexed* inputs\n",
        "        :param batch_lengths: a torch.Tensor object of size (n_examples), which describes the actual sentence length of each example (i.e., before PAD)\n",
        "        :return the logits of FFNN (i.e., the unnormalized hidden units before sigmoid) of shape (n_examples)\n",
        "        \"\"\"\n",
        "        # TODO: implement\n",
        "        logits = None\n",
        "        return logits\n",
        "\n",
        "    def batch_predict(self, batch_inputs: torch.Tensor, batch_lengths: torch.Tensor) -> List[int]:\n",
        "        \"\"\"\n",
        "        Make predictions for a batch of inputs. This function may directly invoke `forward` (which passes the input through FFNN and returns the output logits)\n",
        "\n",
        "        :param batch_inputs: a torch.Tensor object of size (n_examples, max_sent_length_in_this_batch), which is the *indexed* inputs\n",
        "        :param batch_lengths: a torch.Tensor object of size (n_examples), which describes the actual sentence length of each example (i.e., before PAD)\n",
        "        :return: a list of predicted classes for this batch of data, either 0 for negative class or 1 for positive class\n",
        "        \"\"\"\n",
        "        # TODO: implement\n",
        "        preds = None\n",
        "        return preds"
      ]
    },
    {
      "cell_type": "markdown",
      "metadata": {
        "id": "JfxZK2pNvVEv"
      },
      "source": [
        "## Part 4: Sentiment classifier training and evaluation (15 Points)"
      ]
    },
    {
      "cell_type": "markdown",
      "metadata": {
        "id": "_tiqXU-ZvVEw"
      },
      "source": [
        "In this part, we will start training the FFNN classifier and then evaluate it on the dev set.\n",
        "\n",
        "<font color='blue'>YOUR TASK: Please read the following code and fill out the `TODO`s.</font>"
      ]
    },
    {
      "cell_type": "markdown",
      "metadata": {
        "id": "CioDK7-ivVEw"
      },
      "source": [
        "We will first instantiate a FFNN classifier (a `FeedForwardNeuralNetClassifier` object) with embedding size 300 and hidden size 300:"
      ]
    },
    {
      "cell_type": "code",
      "execution_count": null,
      "metadata": {
        "id": "2yR17cMSvVEw"
      },
      "outputs": [],
      "source": [
        "# TODO: create the FFNN classifier\n",
        "model = None"
      ]
    },
    {
      "cell_type": "markdown",
      "metadata": {
        "id": "hdhiV-EmvVEw"
      },
      "source": [
        "You can view the model architecture by \"printing\" the model:"
      ]
    },
    {
      "cell_type": "code",
      "execution_count": null,
      "metadata": {
        "id": "CCGs9ZSHvVEw"
      },
      "outputs": [],
      "source": [
        "model"
      ]
    },
    {
      "cell_type": "markdown",
      "metadata": {
        "id": "acnVDVK0vVEw"
      },
      "source": [
        "Define the \"device\" (CPU or GPU) to run the model:"
      ]
    },
    {
      "cell_type": "code",
      "execution_count": null,
      "metadata": {
        "id": "JAj4KbwnvVEw"
      },
      "outputs": [],
      "source": [
        "device = torch.device(\"cuda:0\" if torch.cuda.is_available() else \"cpu\")\n",
        "print(device)\n",
        "model = model.to(device)"
      ]
    },
    {
      "cell_type": "markdown",
      "metadata": {
        "id": "idZm5qczvVEw"
      },
      "source": [
        "If you are running the notebook on the GPU machine, you should see `cuda:0` popped out. This means that there's an available GPU device in your environment.\n",
        "\n",
        "Next, define an Adam optimizer using `torch.optim.Adam`, setting learning rate to 0.001 and other configs by default."
      ]
    },
    {
      "cell_type": "code",
      "execution_count": null,
      "metadata": {
        "id": "A2GC07QFvVEw"
      },
      "outputs": [],
      "source": [
        "# TODO: create the optimizer\n",
        "optimizer = None"
      ]
    },
    {
      "cell_type": "markdown",
      "metadata": {
        "id": "_hYyLcNivVEw"
      },
      "source": [
        "Before the training, we still need to set up the evaluation, such that we can monitor the model performance on the dev set:"
      ]
    },
    {
      "cell_type": "code",
      "execution_count": null,
      "metadata": {
        "id": "D-CrdTNEvVEw"
      },
      "outputs": [],
      "source": [
        "def evaluate(classifier, exs: List[SentimentExample], return_metrics: bool=False):\n",
        "    \"\"\"\n",
        "    Evaluates a given classifier on the given examples\n",
        "    :param classifier: classifier to evaluate\n",
        "    :param exs: the list of SentimentExamples to evaluate on\n",
        "    :param return_metrics: set to True if returning the stats\n",
        "    :return: None (but prints output)\n",
        "    \"\"\"\n",
        "    all_labels = []\n",
        "    all_preds = []\n",
        "\n",
        "    eval_batch_iterator = SentimentExampleBatchIterator(exs, batch_size=32, PAD_idx=0, shuffle=False) # hard-coded batch size and PAD_idx\n",
        "    eval_batch_iterator.refresh()\n",
        "    batch_data = eval_batch_iterator.get_next_batch()\n",
        "    while batch_data is not None:\n",
        "        batch_inputs, batch_lengths, batch_labels = batch_data\n",
        "        # project to device\n",
        "        batch_inputs = batch_inputs.to(device)\n",
        "        batch_lengths = batch_lengths.to(device)\n",
        "        all_labels += list(batch_labels)\n",
        "\n",
        "        preds = classifier.batch_predict(batch_inputs, batch_lengths=batch_lengths)\n",
        "        all_preds += list(preds)\n",
        "        batch_data = eval_batch_iterator.get_next_batch()\n",
        "\n",
        "    if return_metrics:\n",
        "        acc, prec, rec, f1 = calculate_metrics(all_labels, all_preds)\n",
        "        return acc, prec, rec, f1\n",
        "    else:\n",
        "        calculate_metrics(all_labels, all_preds, print_only=True)\n",
        "\n",
        "\n",
        "def calculate_metrics(golds: List[int], predictions: List[int], print_only: bool=False):\n",
        "    \"\"\"\n",
        "    Calculate evaluation statistics comparing golds and predictions, each of which is a sequence of 0/1 labels.\n",
        "    Returns accuracy, precision, recall, and F1.\n",
        "\n",
        "    :param golds: gold labels\n",
        "    :param predictions: pred labels\n",
        "    :param print_only: set to True if printing the stats without returns\n",
        "    :return: accuracy, precision, recall, and F1 (all floating numbers), or None (when print_only is True)\n",
        "    \"\"\"\n",
        "    num_correct = 0\n",
        "    num_pos_correct = 0\n",
        "    num_pred = 0\n",
        "    num_gold = 0\n",
        "    num_total = 0\n",
        "    if len(golds) != len(predictions):\n",
        "        raise Exception(\"Mismatched gold/pred lengths: %i / %i\" % (len(golds), len(predictions)))\n",
        "    for idx in range(0, len(golds)):\n",
        "        gold = golds[idx]\n",
        "        prediction = predictions[idx]\n",
        "        if prediction == gold:\n",
        "            num_correct += 1\n",
        "        if prediction == 1:\n",
        "            num_pred += 1\n",
        "        if gold == 1:\n",
        "            num_gold += 1\n",
        "        if prediction == 1 and gold == 1:\n",
        "            num_pos_correct += 1\n",
        "        num_total += 1\n",
        "    acc = float(num_correct) / num_total\n",
        "    prec = float(num_pos_correct) / num_pred if num_pred > 0 else 0.0\n",
        "    rec = float(num_pos_correct) / num_gold if num_gold > 0 else 0.0\n",
        "    f1 = 2 * prec * rec / (prec + rec) if prec > 0 and rec > 0 else 0.0\n",
        "\n",
        "    print(\"Accuracy: %i / %i = %f\" % (num_correct, num_total, acc))\n",
        "    print(\"Precision (fraction of predicted positives that are correct): %i / %i = %f\" % (num_pos_correct, num_pred, prec)\n",
        "          + \"; Recall (fraction of true positives predicted correctly): %i / %i = %f\" % (num_pos_correct, num_gold, rec)\n",
        "          + \"; F1 (harmonic mean of precision and recall): %f\" % f1)\n",
        "\n",
        "    if not print_only:\n",
        "        return acc, prec, rec, f1"
      ]
    },
    {
      "cell_type": "markdown",
      "metadata": {
        "id": "fDWeq7iPvVEw"
      },
      "source": [
        "Now, complete the following code for training the model for 10 epochs with batch size 32. At the end of each epoch we also evaluate the model on the held-out dev set.\n",
        "\n",
        "Note: Your training should finish within a reasonable time period (say, up to 10 minutes) even when using CPU. There could be variantions case by case. However, if you see your training takes a much longer time, it can be that 1) your implementation is buggy or 2) your implementation can be significantly optimized."
      ]
    },
    {
      "cell_type": "code",
      "execution_count": null,
      "metadata": {
        "id": "ZDhexgARvVEw"
      },
      "outputs": [],
      "source": [
        "import time\n",
        "\n",
        "BATCH_SIZE=32\n",
        "N_EPOCHS=10\n",
        "\n",
        "# create a batch iterator for the training data\n",
        "batch_iterator = SentimentExampleBatchIterator(\n",
        "    train_exs, batch_size=BATCH_SIZE, PAD_idx=PAD_IDX, shuffle=True)\n",
        "\n",
        "# training\n",
        "best_epoch = -1\n",
        "best_acc = -1\n",
        "start_time = time.time()\n",
        "for epoch in range(N_EPOCHS):\n",
        "    print(\"Epoch %i\" % epoch)\n",
        "\n",
        "    batch_iterator.refresh() # initiate a new iterator for this epoch\n",
        "\n",
        "    model.train() # turn on the \"training mode\"\n",
        "    batch_loss = 0.0\n",
        "    batch_example_count = 0\n",
        "    batch_data = batch_iterator.get_next_batch()\n",
        "    while batch_data is not None:\n",
        "        batch_inputs, batch_lengths, batch_labels = batch_data\n",
        "        # project to the device\n",
        "        batch_inputs = batch_inputs.to(device)\n",
        "        batch_lengths = batch_lengths.to(device)\n",
        "        batch_labels = batch_labels.to(device)\n",
        "\n",
        "        # TODO: clean up the gradients for this batch\n",
        "\n",
        "        # TODO: call the model and get the loss\n",
        "        loss = None\n",
        "\n",
        "        # record the loss and number of examples, so we could report some stats\n",
        "        batch_example_count += len(batch_labels)\n",
        "        batch_loss += loss.item() * len(batch_labels)\n",
        "\n",
        "        # TODO: backpropagation\n",
        "\n",
        "        # get another batch\n",
        "        batch_data = batch_iterator.get_next_batch()\n",
        "\n",
        "    print(\"Avg loss: %.5f\" % (batch_loss / batch_example_count))\n",
        "\n",
        "    # evaluate on dev set\n",
        "    model.eval() # turn on the \"evaluation mode\"\n",
        "    acc, _, _, _ = evaluate(model, dev_exs, return_metrics=True)\n",
        "    if acc > best_acc:\n",
        "        best_acc = acc\n",
        "        best_epoch = epoch\n",
        "        print(\"Secure a new best accuracy %.3f in epoch %d!\" % (best_acc, best_epoch))\n",
        "\n",
        "        # Save the current best model parameters\n",
        "        print(\"Save the best model checkpoint as `best_model.ckpt`!\")\n",
        "        torch.save(model.state_dict(), \"best_model.ckpt\")\n",
        "\n",
        "    print(\"Time elapsed: %s\" % time.strftime(\"%Hh%Mm%Ss\", time.gmtime(time.time()-start_time)))\n",
        "    print(\"-\" * 10)\n",
        "\n",
        "print(\"End of training! The best accuracy %.3f was obtained in epoch %d.\" % (best_acc, best_epoch))\n",
        "# Load back the best checkpoint on dev set\n",
        "model.load_state_dict(torch.load(\"best_model.ckpt\", weights_only=True))"
      ]
    },
    {
      "cell_type": "markdown",
      "metadata": {
        "id": "0qKJgounvVEx"
      },
      "source": [
        "**If your code runs well up to this point -- Congrats! You've completed the model training.**\n",
        "\n",
        "The following code will evaluate your model on the blind test set, with results saved in the folder `data_to_submit`."
      ]
    },
    {
      "cell_type": "code",
      "execution_count": null,
      "metadata": {
        "id": "0yznrlFcvVEx"
      },
      "outputs": [],
      "source": [
        "import os\n",
        "path = os.path.join(DATA_PATH, \"data_to_submit\")\n",
        "if not os.path.exists(path):\n",
        "    os.mkdir(path)\n",
        "\n",
        "all_preds = [] # save the prediction results\n",
        "\n",
        "# iterator to load the test set\n",
        "eval_batch_iterator = SentimentExampleBatchIterator(test_exs_words_only, batch_size=32, PAD_idx=PAD_IDX, shuffle=False)\n",
        "eval_batch_iterator.refresh()\n",
        "batch_data = eval_batch_iterator.get_next_batch()\n",
        "while batch_data is not None:\n",
        "    batch_inputs, batch_lengths, _ = batch_data\n",
        "    # project to device\n",
        "    batch_inputs = batch_inputs.to(device)\n",
        "    batch_lengths = batch_lengths.to(device)\n",
        "\n",
        "    preds = model.batch_predict(batch_inputs, batch_lengths=batch_lengths) # the `preds` shoud be a list of prediction labels\n",
        "    all_preds += preds # accumulate the labels\n",
        "    batch_data = eval_batch_iterator.get_next_batch()\n",
        "\n",
        "# write the predicted labels along with its original sentence\n",
        "test_output_path = os.path.join(DATA_PATH, \"data_to_submit/test-blind.output.txt\")\n",
        "test_exs_predicted = [SentimentExample(ex.words, all_preds[ex_idx]) for ex_idx, ex in enumerate(test_exs_words_only)]\n",
        "write_sentiment_examples(test_exs_predicted, test_output_path)"
      ]
    },
    {
      "cell_type": "markdown",
      "metadata": {
        "id": "9X7q3YRJvVEx"
      },
      "source": [
        "You've completed Part 4! Please don't forget to submit the `test-blind.output.txt` file along with your code to Blackboard!"
      ]
    },
    {
      "cell_type": "markdown",
      "metadata": {
        "id": "0Z6U_b0XvVEx"
      },
      "source": [
        "## Part 5: Exploration of FFNN hyper-parameters (20 Points)"
      ]
    },
    {
      "cell_type": "markdown",
      "metadata": {
        "id": "0QGL9I2IvVEx"
      },
      "source": [
        "Q5.1: The previous part has implemented the FFNN with both the embedding size and the hidden size as 300. Does it make any difference with a smaller embedding or hidden size?\n",
        "\n",
        "<font color='blue'>YOUR TASK: Please change `emb_dim` and `n_hidden_units` to other numbers, re-do all the experiment steps (**make sure to create a new model and a new optimizer for every experiment**), and report the results and your findings.</font>\n",
        "\n",
        "Here, you will report, for each configuration, the model accuracy on dev set and the epoch when it achieves the best accuracy (which allows to keep track of the model convergence speed). For a fair comparison, all experiments here should use the same batch size 32 and max number of epochs 10.\n",
        "\n",
        "\n",
        "To report your results, please fill out the table In the PDF."
      ]
    },
    {
      "cell_type": "markdown",
      "metadata": {
        "id": "xV-r8mKqvVEx"
      },
      "source": [
        "Q5.2: Similarly, conduct experiments with different learning rates (but still use the Adam optimizer). Same as before, for a fair comparison, all experiments in this table should adopt the same configurations (other than the learning rate). To fill out this table, you can use emb_dim = n_hidden_units = 300, batch_size = 32, and max number of epochs = 10 as before.\n",
        "\n",
        "<font color='blue'>YOUR TASK: Please change the Adam learning rate to other numbers, re-do all the experiment steps (**again, make sure you create a new model and a new optimizer**), and report the results and your findings.</font>\n",
        "\n",
        "To report your results, please fill out the table in the PDF.\n"
      ]
    },
    {
      "cell_type": "markdown",
      "metadata": {
        "id": "RpBsJCKG8mJX"
      },
      "source": [
        "Q5.3: What do you observe from these two experiments and why do you think the observation should happen?\n",
        "\n",
        "<font color='blue'>YOUR TASK: Describe your answer in the PDF.</font>"
      ]
    },
    {
      "cell_type": "markdown",
      "metadata": {
        "id": "jHb3bh4_vVEx"
      },
      "source": [
        "## Part 6: Exploration of the Pre-trained GloVe Word Embedding (15 Points)"
      ]
    },
    {
      "cell_type": "markdown",
      "metadata": {
        "id": "8Et-orJzvVEx"
      },
      "source": [
        "The previous parts initialized the word embedding matrix randomly. Does it make any difference if we use pre-trained word embeddings such as GloVe? In the last part of this assignment, we will explore the use of GloVe."
      ]
    },
    {
      "cell_type": "markdown",
      "metadata": {
        "id": "2_Cut1XQvVEx"
      },
      "source": [
        "First, download the GloVe embeddings from https://nlp.stanford.edu/projects/glove/ and save it under the assignment folder. Choose the version `Common Crawl (42B tokens, 1.9M vocab, uncased, 300d vectors, 1.75 GB download): glove.42B.300d.zip`. This process will take time.\n",
        "\n",
        "**Skip the following code if you have already downloaded the file manually.**"
      ]
    },
    {
      "cell_type": "code",
      "execution_count": null,
      "metadata": {
        "id": "3iMD0DeUvVEx"
      },
      "outputs": [],
      "source": [
        "!wget https://nlp.stanford.edu/data/glove.42B.300d.zip # do not run it for multiple time"
      ]
    },
    {
      "cell_type": "markdown",
      "metadata": {
        "id": "HuiP00GkvVEx"
      },
      "source": [
        "Then extract the file `glove.42B.300d.txt` from the folder. The txt file contains word and embedding pairs.\n",
        "\n",
        "**Skip the following code if you have already extracted the file manually.**"
      ]
    },
    {
      "cell_type": "code",
      "execution_count": null,
      "metadata": {
        "id": "5_qoccX-vVEx"
      },
      "outputs": [],
      "source": [
        "!unzip -o glove.42B.300d.zip"
      ]
    },
    {
      "cell_type": "markdown",
      "metadata": {
        "id": "1dFsxW9HvVEx"
      },
      "source": [
        "The following function can help read in the vectors."
      ]
    },
    {
      "cell_type": "code",
      "execution_count": null,
      "metadata": {
        "id": "imv9GBAmvVEy"
      },
      "outputs": [],
      "source": [
        "def read_glove_pretrained_embeddings(path_to_glove_txt: str, vocab: set):\n",
        "    vec_dim = 300\n",
        "    word2vec = {}\n",
        "    with open(path_to_glove_txt, \"r\") as f:\n",
        "        for line in f.readlines():\n",
        "            line = line.strip()\n",
        "            space_idx = line.find(' ')\n",
        "            word = line[:space_idx]\n",
        "            if word in vocab: # only words in the vocab will be considered\n",
        "                vec = np.array(line[space_idx+1:].split()).astype(float)\n",
        "                word2vec[word] = vec\n",
        "\n",
        "    return word2vec"
      ]
    },
    {
      "cell_type": "markdown",
      "metadata": {
        "id": "04i1uaphvVEy"
      },
      "source": [
        "While the entire GloVe is very large (containing embeddings for 1.9M words), we do not need all of them. Rather, we only need embeddings for words appearing in our sentiment classification dataset (for others, they won't be needed anyways, right?:)).\n",
        "\n",
        "In Part 2 when we created the vocabulary, we included only words with more than 2 occurrences, because a neural net is not likely to learn anything useful when a word appears only once in the training corpus. However, with GloVe, we want to reconsider those infrequent words because GloVe likely has learned about their semantics from its pre-training corpus.\n",
        "\n",
        "Therefore, our second step is to re-create a vocabulary, covering all words in the training, dev, and test set."
      ]
    },
    {
      "cell_type": "code",
      "execution_count": null,
      "metadata": {
        "id": "K6EyL3TPvVEy"
      },
      "outputs": [],
      "source": [
        "vocab_counter = Counter([word for ex in train_exs + dev_exs + test_exs_words_only for word in ex.words])\n",
        "vocab = [word for word, _ in vocab_counter.most_common()]\n",
        "vocab = [\"PAD\", \"UNK\"] + vocab\n",
        "print(\"Vocab size:\", len(vocab))"
      ]
    },
    {
      "cell_type": "markdown",
      "metadata": {
        "id": "DiQ2xomWvVEy"
      },
      "source": [
        "Now, we will write code to extract a subset of the word embeddings for words coverred in this new vocabulary."
      ]
    },
    {
      "cell_type": "code",
      "execution_count": null,
      "metadata": {
        "id": "ffwTdYkBvVEy"
      },
      "outputs": [],
      "source": [
        "glove_word2vec = read_glove_pretrained_embeddings(\"glove.42B.300d.txt\", set(vocab))\n",
        "\n",
        "glove_word_embeddings = []\n",
        "for word in vocab:\n",
        "    if word in glove_word2vec:\n",
        "        glove_word_embeddings.append(glove_word2vec[word])\n",
        "    else:\n",
        "        glove_word_embeddings.append(np.zeros(300, dtype=float)) # zero vectors for PAD/UNK/words not covered by glove\n",
        "\n",
        "glove_word_embeddings = torch.Tensor(np.array(glove_word_embeddings)).to(device)"
      ]
    },
    {
      "cell_type": "markdown",
      "metadata": {
        "id": "s_8w1ZExvVEy"
      },
      "source": [
        "<font color='blue'>YOUR TASK: Please read the following code and fill out the `TODO` for initializing FFNN with `glove_word_embeddings`. Keep the embedding parameters tunable.</font>\n",
        "\n",
        "Hint: You can use `nn.Embedding.from_pretrained` from PyTorch"
      ]
    },
    {
      "cell_type": "code",
      "execution_count": null,
      "metadata": {
        "id": "2WyLjet8vVEy"
      },
      "outputs": [],
      "source": [
        "class FeedForwardNeuralNetClassifierwGlove(FeedForwardNeuralNetClassifier):\n",
        "    def __init__(self, vocab_size, emb_dim, n_hidden_units):\n",
        "        super().__init__(vocab_size, emb_dim, n_hidden_units)\n",
        "\n",
        "        # TODO: implement the use of pre-trained word embeddings\n",
        "        self.word_embeddings = None"
      ]
    },
    {
      "cell_type": "markdown",
      "metadata": {
        "id": "RKzAJj7rvVEy"
      },
      "source": [
        "The above code created a child class of `FeedForwardNeuralNetClassifier` with the only difference lying in the initialization of the word embeddings. To run experiments using this new classifier, we re-initialize the `model` as an instance of this new classifier:"
      ]
    },
    {
      "cell_type": "code",
      "execution_count": null,
      "metadata": {
        "id": "--yNVN6CvVEy"
      },
      "outputs": [],
      "source": [
        "model = FeedForwardNeuralNetClassifierwGlove(vocab_size=len(vocab), emb_dim=300, n_hidden_units=300)"
      ]
    },
    {
      "cell_type": "markdown",
      "metadata": {
        "id": "K-EL2wxNvVEy"
      },
      "source": [
        "Then, please rerun the steps in Part 4 for model training (learning rate 0.001) and evaluation. Note that this training will take a longer time (in my record, 3-4minutes) as the embedding matrix is now much larger than before. If you have not optimized your model implementation code, better do it before this training.\n",
        "\n",
        "Report the new accuracy and the epoch giving the best accuracy in the PDF.\n",
        "\n",
        "What do you observe and why could it happen?\n",
        "\n",
        "<font color='blue'>Describe your findings and give your answer in the PDF.</font>"
      ]
    },
    {
      "cell_type": "markdown",
      "metadata": {
        "id": "madgqPtFvVEy"
      },
      "source": [
        "## You have completed this assignment!"
      ]
    }
  ],
  "metadata": {
    "colab": {
      "provenance": []
    },
    "kernelspec": {
      "display_name": "Python 3 (ipykernel)",
      "language": "python",
      "name": "python3"
    },
    "language_info": {
      "codemirror_mode": {
        "name": "ipython",
        "version": 3
      },
      "file_extension": ".py",
      "mimetype": "text/x-python",
      "name": "python",
      "nbconvert_exporter": "python",
      "pygments_lexer": "ipython3",
      "version": "3.7.3"
    },
    "vscode": {
      "interpreter": {
        "hash": "52a6295e16456078059e92487b3807f4984b19b09542b8f052beb2147b3192fb"
      }
    }
  },
  "nbformat": 4,
  "nbformat_minor": 0
}
