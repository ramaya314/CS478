{
  "cells": [
    {
      "cell_type": "markdown",
      "id": "1981be5e",
      "metadata": {
        "id": "1981be5e"
      },
      "source": [
        "# Assignment 2\n",
        "Instructor: [Ziyu Yao at George Mason University](https://ziyuyao.org/)\n",
        "Class: CS478 Fall 2024\n",
        "\n",
        "**Total points: 100 points**\n",
        "\n",
        "## Overview\n",
        "This assignment includes three parts:\n",
        "- Part 1: Constructing a bigram language model (50 points)\n",
        "- Part 2: Evaluating the bigram language model (30 points)\n",
        "- Part 3: Sampling sentences from the bigram language model (20 points)\n",
        "\n",
        "You can run this notebook locally on your laptop or computer. Otherwise, running it on Google Colab (https://colab.research.google.com/) is also feasible -- if you go with this option, select \"Upload\" and then this notebook to upload it to Colab. **Note that no matter how you will run this notebook, do not modify existing code/markdown cells in the initial template; you should only need to fill out the blanks as instructed.**\n",
        "\n",
        "This assignment also comes with a LaTex code file. To collect points from this assignment, you must revise the LaTex code file and fill out the answer blanks as instructed.\n",
        "\n",
        "## Submission Guideline\n",
        "When you complete this notebook, save all the cell outputs and complete the required fields in the LaTex code file. Compile the PDF from the LaTex code file. Submit the PDF to Gradescope.\n",
        "- You do NOT need to submit the LaTex source code.\n",
        "- You do NOT need to submit this notebook either; however, be sure to attach a shared One Drive or Google Drive link to your notebook in the PDF."
      ]
    },
    {
      "cell_type": "markdown",
      "id": "330d80af",
      "metadata": {},
      "source": [
        "## Google Drive Setup/Tentative Data Loading\n",
        "Our assignment will be using a small sample of the Gutenberg corpus (https://www.gutenberg.org/) provided by the NLTK Python library. To make it easy, we have included the txt data (\"nltk_gutenberg_austen_emma.txt\") along with this assignment.\n",
        "\n",
        "**If you are using Google Colab**, there are a few more steps for setting up the data access. **If you are running this notebook locally**, skip commands in this part and directly start from \"Data Loading\".\n",
        "\n",
        "For Colab users, there are two ways how you can let your notebook access the provided txt file; you only need to choose one of them."
      ]
    },
    {
      "cell_type": "markdown",
      "id": "10365d21",
      "metadata": {},
      "source": [
        "**(1) Mounting your Google Drive.** If you take this option, execute the following code and follow the pop-up instructions to give Colab the access. Please make sure to tick the option of allowing Colab to read/write files from/to your Google Drive."
      ]
    },
    {
      "cell_type": "code",
      "execution_count": 122,
      "id": "a46293ad",
      "metadata": {},
      "outputs": [],
      "source": [
        "# from google.colab import drive\n",
        "# drive.mount('/content/drive')"
      ]
    },
    {
      "cell_type": "markdown",
      "id": "beda802c",
      "metadata": {},
      "source": [
        "Your Google Drive is now mounted. Go to your Drive folder through https://drive.google.com and create a folder for CS478. Then upload \"nltk_gutenberg_austen_emma.txt\" to this folder. Now your Colab should be able to access this txt file from \"/content/drive/My Drive/CS478/nltk_gutenberg_austen_emma.txt\"."
      ]
    },
    {
      "cell_type": "markdown",
      "id": "fe82d77c",
      "metadata": {},
      "source": [
        "**(2) Uploading tentative data copy to Colab.** Alternatively, especially if you have concerns about giving Colab access to your Drive, run the following command to allow for tentative data upload. You will see a \"Choose File\" button. Click the button and select \"nltk_gutenberg_austen_emma.txt\" from your local folder."
      ]
    },
    {
      "cell_type": "code",
      "execution_count": 123,
      "id": "8f203813",
      "metadata": {},
      "outputs": [],
      "source": [
        "# from google.colab import files\n",
        "# files.upload()"
      ]
    },
    {
      "cell_type": "markdown",
      "id": "b37fa72c",
      "metadata": {
        "id": "b37fa72c"
      },
      "source": [
        "## Data Loading"
      ]
    },
    {
      "cell_type": "markdown",
      "id": "WcHbV3xzNPVI",
      "metadata": {
        "id": "WcHbV3xzNPVI"
      },
      "source": [
        "With the data access set up well, we now start to load in and process the txt file. The following code will read in the corpus and split it into the training and the test set."
      ]
    },
    {
      "cell_type": "code",
      "execution_count": 124,
      "id": "5a42d7bf",
      "metadata": {
        "colab": {
          "base_uri": "https://localhost:8080/"
        },
        "id": "5a42d7bf",
        "outputId": "ddf294c0-df82-474d-b021-f46a383f4c5e"
      },
      "outputs": [
        {
          "name": "stdout",
          "output_type": "stream",
          "text": [
            "Number of sentences in the training and the test corpus: 6173 and 1544, respectively\n"
          ]
        }
      ],
      "source": [
        "# select the proper data path\n",
        "DATA_PATH = None\n",
        "# DATA_PATH = \"/content/drive/My Drive/CS478/nltk_gutenberg_austen_emma.txt\" # UNCOMMENT if mounting Google Drive\n",
        "DATA_PATH = \"nltk_gutenberg_austen_emma.txt\" # UNCOMMENT if running the notebook locally or doing tentative data upload to cloud\n",
        "\n",
        "# load data\n",
        "sents_all = []\n",
        "with open(\"nltk_gutenberg_austen_emma.txt\", \"r\") as f:\n",
        "    for line in f.readlines():\n",
        "        sents_all.append(line.strip().split())\n",
        "\n",
        "total_num = len(sents_all)\n",
        "\n",
        "sents_train = sents_all[:int(total_num*0.8)]\n",
        "sents_test = sents_all[len(sents_train):]\n",
        "print(\"Number of sentences in the training and the test corpus: %d and %d, respectively\" % (\n",
        "    len(sents_train), len(sents_test)))"
      ]
    },
    {
      "cell_type": "markdown",
      "id": "ba0a5991",
      "metadata": {
        "id": "ba0a5991"
      },
      "source": [
        "In this assignment, you will be instructed to build a bigram language model (LM) based on the Gutenberg training set, and then evaluate it on the test set."
      ]
    },
    {
      "cell_type": "markdown",
      "id": "71b166da",
      "metadata": {
        "id": "71b166da"
      },
      "source": [
        "**Before You Start:** A hint on debugging your LM is to use toy data which you can manually calculate the LM probabilities and verify the result. Example toy `sents_train` and `sents_test` corpora are shown in the following code block. Uncomment the code block when you want to debug your model."
      ]
    },
    {
      "cell_type": "code",
      "execution_count": 125,
      "id": "a4fdad1e",
      "metadata": {
        "id": "a4fdad1e"
      },
      "outputs": [],
      "source": [
        "# alternatively, load the toy data\n",
        "# sents_train = [\n",
        "#    [\"A\", \"B\", \"B\", \"C\"],\n",
        "#    [\"A\", \"D\", \"C\"],\n",
        "#    [\"E\", \"A\"]\n",
        "# ]\n",
        "# sents_test = sents_train"
      ]
    },
    {
      "cell_type": "code",
      "execution_count": 126,
      "id": "2aa3e6f6",
      "metadata": {
        "id": "2aa3e6f6"
      },
      "outputs": [],
      "source": [
        "from typing import List, Any\n",
        "from math import isclose"
      ]
    },
    {
      "cell_type": "code",
      "execution_count": 127,
      "id": "3c0af04f",
      "metadata": {
        "colab": {
          "base_uri": "https://localhost:8080/"
        },
        "id": "3c0af04f",
        "outputId": "fef71417-16c0-41f7-bac2-27f82b29b020"
      },
      "outputs": [
        {
          "name": "stdout",
          "output_type": "stream",
          "text": [
            "The first 2 sentences from `sents_train`: \n",
            "['A', 'crowd', 'in', 'a', 'little', 'room', '--', 'Miss', 'Woodhouse', ',', 'you', 'have', 'the', 'art', 'of', 'giving', 'pictures', 'in', 'a', 'few', 'words', '.']\n",
            "['Mr', '.', 'Knightley', \"'\", 's', 'eyes', 'had', 'preceded', 'Miss', 'Bates', \"'\", 's', 'in', 'a', 'glance', 'at', 'Jane', '.']\n"
          ]
        }
      ],
      "source": [
        "print(\"The first 2 sentences from `sents_train`: \")\n",
        "for idx in range(2):\n",
        "    print(sents_train[idx]) # each sentence is a list of words"
      ]
    },
    {
      "cell_type": "markdown",
      "id": "5a584f36",
      "metadata": {
        "id": "5a584f36"
      },
      "source": [
        "### **NOTE: In this assignment, each sentence has been tokenized, and NO MORE preprocessing is required.**"
      ]
    },
    {
      "cell_type": "markdown",
      "id": "32091df3",
      "metadata": {
        "id": "32091df3"
      },
      "source": [
        "## Part 1: Language Model Construction (50 points)"
      ]
    },
    {
      "cell_type": "markdown",
      "id": "c8407a2b",
      "metadata": {
        "id": "c8407a2b"
      },
      "source": [
        "**Overview:** In this part, you will construct a bigram language model (LM) based on the `sents_train` corpus. A bigram LM models the probability of the next word given the current word, i.e., $p(w_t | w_{t-1})$. The construction of a bigram LM could be achieved by counting up the word or word-pair frequency:\n",
        "$$p(w_t|w_{t-1}) = \\frac{count(w_{t-1}, w_t)}{count(w_{t-1})}.$$\n",
        "\n",
        "To deal with zero counts, *add-one smoothing* is commonly used:\n",
        "$$p(w_t|w_{t-1}) = \\frac{count(w_{t-1}, w_t) + 1}{count(w_{t-1}) + |V|},$$\n",
        "where $|V|$ is the size of the vocabulary.\n",
        "**Your implementation of the LM should be based on the smoothing version.**"
      ]
    },
    {
      "cell_type": "markdown",
      "id": "b18caad3",
      "metadata": {
        "id": "b18caad3"
      },
      "source": [
        "---\n",
        "**Step 1 -- Construct a vocabulary (20 points):** To get started, you will first need to construct a vocabulary based on the `sents_train` corpus. Also, don't forget the special start-of-sentence (`<s>`) and end-of-sentence (`</s>`) tokens -- your LM should eventually be able to model `p(w|<s>)` (i.e., how to start a sentence) and `p(</s>|w)` (i.e., when to stop a sentence)."
      ]
    },
    {
      "cell_type": "markdown",
      "id": "96396d31",
      "metadata": {
        "id": "96396d31"
      },
      "source": [
        "First, create a counter for word types in the `sents_train` corpus **(5 points)**.\n",
        "\n",
        "<font color='blue'>PLEASE INPUT YOUR ANSWER BELOW</font>"
      ]
    },
    {
      "cell_type": "code",
      "execution_count": 128,
      "id": "8adbf6ba",
      "metadata": {
        "id": "8adbf6ba"
      },
      "outputs": [
        {
          "data": {
            "text/plain": [
              "{'<s>': 6173,\n",
              " 'A': 92,\n",
              " 'crowd': 7,\n",
              " 'in': 1680,\n",
              " 'a': 2392,\n",
              " 'little': 284,\n",
              " 'room': 96,\n",
              " '--': 1149,\n",
              " 'Miss': 483,\n",
              " 'Woodhouse': 250,\n",
              " ',': 9129,\n",
              " 'you': 1337,\n",
              " 'have': 1037,\n",
              " 'the': 3805,\n",
              " 'art': 2,\n",
              " 'of': 3386,\n",
              " 'giving': 37,\n",
              " 'UNK': 2931,\n",
              " 'few': 85,\n",
              " 'words': 41,\n",
              " '.': 5513,\n",
              " '</s>': 6173,\n",
              " 'Mr': 921,\n",
              " 'Knightley': 304,\n",
              " \"'\": 827,\n",
              " 's': 764,\n",
              " 'eyes': 40,\n",
              " 'had': 1307,\n",
              " 'Bates': 114,\n",
              " 'glance': 9,\n",
              " 'at': 793,\n",
              " 'Jane': 236,\n",
              " '\"': 1616,\n",
              " 'Well': 68,\n",
              " 'if': 298,\n",
              " 'please': 31,\n",
              " ',\"': 325,\n",
              " 'said': 375,\n",
              " 'Mrs': 538,\n",
              " 'Weston': 340,\n",
              " 'rather': 115,\n",
              " 'think': 297,\n",
              " 'she': 1417,\n",
              " 'will': 431,\n",
              " 'be': 1576,\n",
              " 'any': 509,\n",
              " 'use': 29,\n",
              " '.\"': 910,\n",
              " 'When': 38,\n",
              " 'I': 2518,\n",
              " 'talked': 51,\n",
              " 'your': 284,\n",
              " 'being': 269,\n",
              " 'altered': 3,\n",
              " 'by': 458,\n",
              " 'time': 213,\n",
              " 'progress': 9,\n",
              " 'years': 44,\n",
              " 'John': 72,\n",
              " 'meant': 35,\n",
              " 'to': 4115,\n",
              " 'imply': 2,\n",
              " 'change': 46,\n",
              " 'situation': 52,\n",
              " 'which': 432,\n",
              " 'usually': 4,\n",
              " 'brings': 2,\n",
              " 'He': 355,\n",
              " 'was': 1873,\n",
              " 'four': 22,\n",
              " '-': 460,\n",
              " 'and': 3748,\n",
              " 'twenty': 24,\n",
              " 'last': 100,\n",
              " 'June': 6,\n",
              " 'my': 503,\n",
              " 'is': 941,\n",
              " 'just': 122,\n",
              " 'fortnight': 16,\n",
              " 'day': 154,\n",
              " 'difference': 24,\n",
              " 'very': 903,\n",
              " 'odd': 19,\n",
              " 'man': 179,\n",
              " 'must': 459,\n",
              " 'much': 389,\n",
              " 'love': 94,\n",
              " 'indeed': 142,\n",
              " 'describe': 8,\n",
              " 'her': 1919,\n",
              " 'so': 754,\n",
              " 'Emma': 665,\n",
              " 'could': 662,\n",
              " 'not': 1644,\n",
              " 'forgive': 4,\n",
              " 'Yes': 69,\n",
              " 'see': 174,\n",
              " 'what': 334,\n",
              " 'means': 37,\n",
              " '(': 67,\n",
              " 'turning': 17,\n",
              " ',)': 24,\n",
              " 'try': 13,\n",
              " 'hold': 11,\n",
              " 'tongue': 6,\n",
              " 'wishing': 14,\n",
              " 'get': 50,\n",
              " 'better': 139,\n",
              " 'his': 887,\n",
              " 'attachment': 35,\n",
              " 'herself': 222,\n",
              " 'recovering': 3,\n",
              " 'from': 441,\n",
              " 'for': 1045,\n",
              " 'Elton': 303,\n",
              " 'thank': 19,\n",
              " ';': 1751,\n",
              " 'but': 893,\n",
              " 'assure': 43,\n",
              " 'are': 354,\n",
              " 'quite': 210,\n",
              " 'mistaken': 15,\n",
              " 'take': 92,\n",
              " 'drawing': 26,\n",
              " 'London': 40,\n",
              " 'chuse': 21,\n",
              " 'frame': 2,\n",
              " 'give': 114,\n",
              " 'directions': 4,\n",
              " 'thought': 176,\n",
              " 'it': 1681,\n",
              " 'as': 1087,\n",
              " 'ensure': 2,\n",
              " 'its': 91,\n",
              " 'safety': 10,\n",
              " 'without': 173,\n",
              " 'him': 582,\n",
              " 'while': 88,\n",
              " 'he': 1106,\n",
              " 'seemed': 109,\n",
              " 'fearful': 5,\n",
              " 'incommoded': 2,\n",
              " 'enough': 107,\n",
              " 'did': 270,\n",
              " 'find': 69,\n",
              " 'equal': 42,\n",
              " 'pleased': 39,\n",
              " 'assent': 3,\n",
              " 'no': 465,\n",
              " 'doubt': 79,\n",
              " 'habit': 10,\n",
              " 'receiving': 11,\n",
              " 'Very': 43,\n",
              " 'true': 49,\n",
              " 'been': 609,\n",
              " 'travelling': 3,\n",
              " 'companion': 18,\n",
              " 'resolution': 27,\n",
              " 'refrain': 4,\n",
              " 'making': 45,\n",
              " 'answer': 57,\n",
              " 'all': 681,\n",
              " 'She': 462,\n",
              " 'well': 251,\n",
              " 'Frank': 172,\n",
              " 'almost': 67,\n",
              " 'every': 321,\n",
              " 'respect': 33,\n",
              " 'more': 357,\n",
              " 'loved': 20,\n",
              " 'defence': 2,\n",
              " 'therefore': 50,\n",
              " 'earnest': 7,\n",
              " 'opened': 14,\n",
              " 'too': 206,\n",
              " 'surely': 2,\n",
              " ';--': 93,\n",
              " 'note': 20,\n",
              " 'ushered': 2,\n",
              " 'letter': 94,\n",
              " 'You': 249,\n",
              " 'pass': 25,\n",
              " 'over': 108,\n",
              " 'handsomely': 4,\n",
              " 'were': 459,\n",
              " 'perfectly': 53,\n",
              " 'right': 66,\n",
              " 'since': 54,\n",
              " 'October': 3,\n",
              " ',--': 34,\n",
              " 'secretly': 2,\n",
              " 'engaged': 26,\n",
              " '.--': 548,\n",
              " 'It': 320,\n",
              " 'has': 190,\n",
              " 'hurt': 7,\n",
              " 'me': 453,\n",
              " 'Oh': 147,\n",
              " '!': 451,\n",
              " 'off': 80,\n",
              " 'who': 211,\n",
              " 'can': 217,\n",
              " 'Smith': 72,\n",
              " 'when': 252,\n",
              " 'near': 40,\n",
              " 'convinced': 24,\n",
              " 'that': 1378,\n",
              " 'such': 353,\n",
              " 'conversation': 37,\n",
              " 'greatest': 23,\n",
              " 'relief': 7,\n",
              " 'up': 158,\n",
              " 'within': 25,\n",
              " 'own': 246,\n",
              " 'mind': 95,\n",
              " 'thing': 319,\n",
              " 'long': 111,\n",
              " 'with': 960,\n",
              " 'on': 535,\n",
              " 'subject': 74,\n",
              " 'proposed': 11,\n",
              " 'drew': 4,\n",
              " 'fears': 12,\n",
              " 'justified': 5,\n",
              " 'arrival': 11,\n",
              " 'excuse': 23,\n",
              " '!--': 270,\n",
              " 'full': 36,\n",
              " 'should': 284,\n",
              " 'suspect': 18,\n",
              " 'others': 49,\n",
              " 'how': 213,\n",
              " 'they': 323,\n",
              " 'understanding': 23,\n",
              " 'only': 267,\n",
              " 'happy': 105,\n",
              " 'This': 78,\n",
              " 'sort': 85,\n",
              " 'dull': 7,\n",
              " 'looking': 52,\n",
              " 'evening': 77,\n",
              " 'ought': 72,\n",
              " 'treated': 4,\n",
              " 'winter': 7,\n",
              " 'than': 328,\n",
              " 'summer': 19,\n",
              " 'His': 41,\n",
              " 'ostensible': 2,\n",
              " 'reason': 36,\n",
              " 'however': 96,\n",
              " 'ask': 38,\n",
              " 'whether': 55,\n",
              " 'party': 75,\n",
              " 'made': 153,\n",
              " 'or': 375,\n",
              " 'smallest': 14,\n",
              " 'degree': 41,\n",
              " 'necessary': 27,\n",
              " 'Hartfield': 121,\n",
              " '_': 2,\n",
              " '_Elton_': 2,\n",
              " 'would': 637,\n",
              " 'an': 365,\n",
              " 'intercourse': 9,\n",
              " 'former': 7,\n",
              " 'intimacy': 14,\n",
              " 'might': 257,\n",
              " 'sink': 8,\n",
              " 'remark': 5,\n",
              " 'And': 175,\n",
              " 'declares': 2,\n",
              " '!--(': 4,\n",
              " 'soon': 184,\n",
              " 'door': 38,\n",
              " ')': 32,\n",
              " 'Indeed': 19,\n",
              " 'Yorkshire': 6,\n",
              " 'Never': 9,\n",
              " 'Harriet': 408,\n",
              " 'shall': 163,\n",
              " 'poor': 85,\n",
              " 'old': 57,\n",
              " 'maid': 9,\n",
              " 'poverty': 2,\n",
              " 'makes': 13,\n",
              " 'contemptible': 3,\n",
              " 'generous': 4,\n",
              " 'public': 10,\n",
              " 'speak': 85,\n",
              " 'name': 39,\n",
              " 'Dixon': 32,\n",
              " 'blush': 20,\n",
              " 'By': 12,\n",
              " 'account': 47,\n",
              " 'does': 92,\n",
              " 'seem': 28,\n",
              " 'some': 182,\n",
              " 'scruples': 8,\n",
              " 'The': 288,\n",
              " 'older': 8,\n",
              " 'person': 50,\n",
              " 'grows': 2,\n",
              " 'important': 18,\n",
              " 'their': 238,\n",
              " 'manners': 44,\n",
              " 'bad': 46,\n",
              " 'glaring': 2,\n",
              " 'disgusting': 2,\n",
              " 'awkwardness': 3,\n",
              " 'becomes': 5,\n",
              " 'With': 24,\n",
              " 'great': 219,\n",
              " 'deal': 79,\n",
              " 'pleasure': 96,\n",
              " 'sir': 52,\n",
              " 'laughing': 14,\n",
              " 'agree': 12,\n",
              " 'entirely': 32,\n",
              " 'While': 17,\n",
              " 'lived': 23,\n",
              " 'engagement': 28,\n",
              " 'flattered': 3,\n",
              " 'danger': 27,\n",
              " 'away': 114,\n",
              " 'become': 10,\n",
              " 'increase': 9,\n",
              " 'comfort': 56,\n",
              " 'How': 84,\n",
              " 'do': 446,\n",
              " 'best': 69,\n",
              " 'difficult': 4,\n",
              " 'decision': 7,\n",
              " 'spare': 10,\n",
              " 'unnecessary': 7,\n",
              " 'pain': 29,\n",
              " 'make': 125,\n",
              " 'possible': 68,\n",
              " 'appear': 33,\n",
              " 'least': 60,\n",
              " 'enemy': 2,\n",
              " '?--': 170,\n",
              " 'On': 12,\n",
              " 'these': 42,\n",
              " 'subjects': 8,\n",
              " 'perplexity': 4,\n",
              " 'distress': 14,\n",
              " 'again': 161,\n",
              " 'through': 50,\n",
              " 'bitter': 3,\n",
              " 'reproach': 7,\n",
              " 'sorrowful': 4,\n",
              " 'regret': 24,\n",
              " 'ever': 161,\n",
              " 'surrounded': 4,\n",
              " 'resolve': 10,\n",
              " 'still': 80,\n",
              " 'avoid': 12,\n",
              " 'meeting': 33,\n",
              " 'communicate': 2,\n",
              " 'need': 30,\n",
              " 'told': 66,\n",
              " 'inexpressibly': 2,\n",
              " 'desirable': 14,\n",
              " 'removed': 7,\n",
              " 'now': 230,\n",
              " 'Highbury': 89,\n",
              " 'indulging': 3,\n",
              " 'one': 317,\n",
              " 'scheme': 18,\n",
              " 'nearly': 13,\n",
              " 'practicable': 3,\n",
              " 'invitation': 20,\n",
              " 'Brunswick': 10,\n",
              " 'Square': 10,\n",
              " 'Isabella': 53,\n",
              " 'weeks': 16,\n",
              " 'spent': 17,\n",
              " 'amusement': 15,\n",
              " 'nature': 31,\n",
              " 'escape': 10,\n",
              " 'novelty': 2,\n",
              " 'variety': 3,\n",
              " 'children': 46,\n",
              " 'At': 29,\n",
              " 'rate': 17,\n",
              " 'proof': 19,\n",
              " 'attention': 50,\n",
              " 'kindness': 34,\n",
              " 'whom': 60,\n",
              " 'due': 19,\n",
              " 'separation': 4,\n",
              " 'present': 69,\n",
              " 'averting': 3,\n",
              " 'evil': 23,\n",
              " 'together': 69,\n",
              " 'politeness': 7,\n",
              " 'hand': 43,\n",
              " 'directly': 40,\n",
              " 'say': 247,\n",
              " 'smiling': 25,\n",
              " 'interest': 40,\n",
              " 'ready': 55,\n",
              " 'first': 175,\n",
              " 'word': 84,\n",
              " 'wish': 106,\n",
              " 'Fairfax': 186,\n",
              " 'death': 8,\n",
              " 'always': 192,\n",
              " 'attentive': 6,\n",
              " 'them': 341,\n",
              " '!\"': 129,\n",
              " 'followed': 24,\n",
              " 'into': 129,\n",
              " 'idea': 79,\n",
              " 'most': 202,\n",
              " 'distinct': 9,\n",
              " 'That': 60,\n",
              " 'secret': 19,\n",
              " 'conclude': 4,\n",
              " 'busy': 16,\n",
              " 'admiring': 3,\n",
              " 'those': 68,\n",
              " 'soft': 7,\n",
              " 'blue': 2,\n",
              " 'talking': 39,\n",
              " 'listening': 6,\n",
              " 'forming': 9,\n",
              " 'schemes': 6,\n",
              " 'flew': 2,\n",
              " 'unusual': 4,\n",
              " 'supper': 9,\n",
              " 'table': 20,\n",
              " 'closed': 11,\n",
              " 'parties': 21,\n",
              " 'used': 37,\n",
              " 'sit': 27,\n",
              " 'watch': 9,\n",
              " 'set': 50,\n",
              " 'out': 176,\n",
              " 'moved': 6,\n",
              " 'forwards': 2,\n",
              " 'fire': 15,\n",
              " 'before': 197,\n",
              " 'aware': 24,\n",
              " 'There': 108,\n",
              " 'nothing': 184,\n",
              " 'compared': 10,\n",
              " 'These': 17,\n",
              " 'thoughts': 30,\n",
              " 'sight': 20,\n",
              " 'snow': 14,\n",
              " 'ground': 14,\n",
              " 'service': 16,\n",
              " 'welcome': 12,\n",
              " 'justify': 2,\n",
              " 'three': 53,\n",
              " 'asunder': 2,\n",
              " 'parting': 11,\n",
              " 'question': 34,\n",
              " 'After': 19,\n",
              " 'came': 96,\n",
              " 'second': 19,\n",
              " 'among': 42,\n",
              " 'come': 126,\n",
              " 'able': 57,\n",
              " 'Goddard': 52,\n",
              " 'ladies': 34,\n",
              " 'fetched': 2,\n",
              " 'carried': 2,\n",
              " 'home': 101,\n",
              " 'often': 75,\n",
              " 'hardship': 3,\n",
              " 'either': 51,\n",
              " 'James': 15,\n",
              " 'horses': 22,\n",
              " 'Had': 16,\n",
              " 'cried': 69,\n",
              " 'perhaps': 60,\n",
              " 'blushing': 4,\n",
              " 'spoke': 35,\n",
              " 'body': 162,\n",
              " 'heart': 50,\n",
              " 'nobody': 43,\n",
              " 'else': 67,\n",
              " '--\"': 70,\n",
              " 'am': 342,\n",
              " 'prejudiced': 2,\n",
              " 'deceived': 7,\n",
              " 'ceremony': 7,\n",
              " 'manner': 64,\n",
              " 'immediately': 55,\n",
              " 'catch': 10,\n",
              " 'meaning': 26,\n",
              " 'burst': 10,\n",
              " 'anger': 7,\n",
              " 'though': 129,\n",
              " 'slight': 11,\n",
              " 'shewed': 15,\n",
              " 'Her': 68,\n",
              " 'Bath': 12,\n",
              " 'habits': 11,\n",
              " 'natural': 43,\n",
              " 'Maple': 25,\n",
              " 'Grove': 25,\n",
              " 'given': 57,\n",
              " 'taste': 29,\n",
              " 'dinners': 2,\n",
              " 'here': 99,\n",
              " 'business': 38,\n",
              " 'waiting': 15,\n",
              " 'friend': 147,\n",
              " 'speaks': 9,\n",
              " 'quick': 20,\n",
              " 'extraordinary': 16,\n",
              " 'Thank': 14,\n",
              " 'going': 97,\n",
              " 'this': 323,\n",
              " 'moment': 94,\n",
              " 'myself': 81,\n",
              " 'sooner': 10,\n",
              " '_you_': 12,\n",
              " 'go': 112,\n",
              " 'trying': 16,\n",
              " 'preserve': 3,\n",
              " 'complete': 15,\n",
              " 'enjoyment': 19,\n",
              " 'know': 260,\n",
              " 'uncertainty': 4,\n",
              " 'our': 74,\n",
              " 'meetings': 6,\n",
              " 'constant': 4,\n",
              " 'expectation': 10,\n",
              " 'there': 311,\n",
              " 'coming': 68,\n",
              " 'morrow': 31,\n",
              " 'hour': 67,\n",
              " 'may': 167,\n",
              " 'friendly': 15,\n",
              " 'happiness': 59,\n",
              " 'having': 119,\n",
              " 'actually': 25,\n",
              " 'house': 75,\n",
              " 'wished': 35,\n",
              " 'keep': 27,\n",
              " 'absolute': 3,\n",
              " 'declaration': 4,\n",
              " 'Two': 6,\n",
              " 'never': 277,\n",
              " 'granted': 4,\n",
              " 'company': 29,\n",
              " 'practised': 3,\n",
              " 'read': 46,\n",
              " 'character': 29,\n",
              " 'talents': 6,\n",
              " 'conduce': 2,\n",
              " 'display': 3,\n",
              " 'superiority': 7,\n",
              " 'around': 12,\n",
              " 'like': 155,\n",
              " 'himself': 110,\n",
              " 'weather': 34,\n",
              " 'affected': 6,\n",
              " 'kept': 20,\n",
              " 'tolerably': 13,\n",
              " 'comfortable': 25,\n",
              " 'daughter': 47,\n",
              " 'side': 52,\n",
              " 'exertions': 6,\n",
              " 'half': 92,\n",
              " 'Why': 17,\n",
              " 'sure': 161,\n",
              " 'yes': 27,\n",
              " 'certainly': 67,\n",
              " 'cannot': 113,\n",
              " 'deny': 6,\n",
              " 'us': 118,\n",
              " 'pretty': 49,\n",
              " 'then': 119,\n",
              " 'obliged': 62,\n",
              " 'respectable': 14,\n",
              " 'admitted': 10,\n",
              " 'luckiest': 3,\n",
              " 'creature': 29,\n",
              " 'world': 55,\n",
              " 'steady': 10,\n",
              " 'persevering': 2,\n",
              " 'affection': 42,\n",
              " 'yield': 4,\n",
              " 'remembered': 4,\n",
              " 'sorry': 53,\n",
              " 'hear': 85,\n",
              " 'morning': 80,\n",
              " 'rain': 16,\n",
              " 'another': 88,\n",
              " 'good': 267,\n",
              " 'face': 26,\n",
              " 'neither': 24,\n",
              " 'feature': 4,\n",
              " 'nor': 51,\n",
              " 'air': 39,\n",
              " 'voice': 38,\n",
              " 'elegant': 21,\n",
              " 'But': 240,\n",
              " 'likely': 30,\n",
              " 'Hawkins': 14,\n",
              " 'dare': 46,\n",
              " 'excellent': 26,\n",
              " 'young': 152,\n",
              " 'woman': 105,\n",
              " 'cast': 2,\n",
              " 'eye': 26,\n",
              " 'pondered': 2,\n",
              " 'caught': 17,\n",
              " 'certain': 21,\n",
              " 'mistress': 9,\n",
              " 'lines': 16,\n",
              " 'passing': 14,\n",
              " 'sat': 30,\n",
              " 'happily': 14,\n",
              " 'saying': 36,\n",
              " 'paper': 11,\n",
              " 'confusion': 12,\n",
              " 'hope': 111,\n",
              " 'dulness': 3,\n",
              " 'dear': 176,\n",
              " 'comes': 18,\n",
              " 'early': 39,\n",
              " 'breaking': 2,\n",
              " 'In': 54,\n",
              " 'short': 56,\n",
              " 'feel': 76,\n",
              " 'dependence': 9,\n",
              " 'less': 59,\n",
              " 'sanguine': 5,\n",
              " 'message': 10,\n",
              " 'What': 79,\n",
              " 'possibly': 15,\n",
              " 'mean': 46,\n",
              " 'dances': 7,\n",
              " 'unfortunately': 5,\n",
              " 'allowed': 36,\n",
              " 'Martin': 71,\n",
              " 'don': 7,\n",
              " 't': 19,\n",
              " 'absurdity': 2,\n",
              " 'Actually': 2,\n",
              " 'snowing': 3,\n",
              " 'folly': 12,\n",
              " 'allowing': 4,\n",
              " 'people': 77,\n",
              " 'staying': 11,\n",
              " 'comfortably': 9,\n",
              " 'down': 56,\n",
              " 'Churchill': 175,\n",
              " 'grew': 8,\n",
              " 'talkative': 3,\n",
              " 'gay': 4,\n",
              " 'object': 31,\n",
              " 'write': 17,\n",
              " 'promise': 19,\n",
              " 'many': 106,\n",
              " 'particulars': 10,\n",
              " 'met': 31,\n",
              " '_one_': 5,\n",
              " 'madness': 4,\n",
              " 'we': 208,\n",
              " 'afraid': 52,\n",
              " 'liked': 14,\n",
              " 'distance': 21,\n",
              " 'months': 24,\n",
              " 'happen': 7,\n",
              " 'Let': 18,\n",
              " 'behaviour': 18,\n",
              " 'guide': 2,\n",
              " 'sensations': 11,\n",
              " 'sitting': 34,\n",
              " 'altogether': 14,\n",
              " 'satisfactory': 6,\n",
              " 'sketch': 3,\n",
              " 'disagreeable': 18,\n",
              " 'correct': 5,\n",
              " 'behaved': 7,\n",
              " 'ill': 56,\n",
              " 'ways': 11,\n",
              " '_his_': 4,\n",
              " '_own_': 2,\n",
              " 'angry': 11,\n",
              " 'Every': 29,\n",
              " 'Taylor': 45,\n",
              " 'glad': 44,\n",
              " 'married': 39,\n",
              " 'agitation': 14,\n",
              " 'feelingly': 3,\n",
              " 'replied': 60,\n",
              " 'exposed': 3,\n",
              " 'bear': 43,\n",
              " 'arrangement': 16,\n",
              " 'difficulty': 24,\n",
              " 'felt': 91,\n",
              " 'husband': 28,\n",
              " 'plans': 7,\n",
              " 'marriage': 25,\n",
              " 'between': 58,\n",
              " 'purpose': 18,\n",
              " 'open': 32,\n",
              " 'straightforward': 3,\n",
              " 'judging': 10,\n",
              " 'If': 86,\n",
              " 'took': 38,\n",
              " 'place': 76,\n",
              " 'circle': 14,\n",
              " 'friends': 65,\n",
              " 'deserted': 2,\n",
              " 'left': 55,\n",
              " 'cheer': 4,\n",
              " 'father': 162,\n",
              " 'spirits': 51,\n",
              " 'dreamer': 2,\n",
              " 'thinking': 43,\n",
              " '?\"': 187,\n",
              " 'Such': 41,\n",
              " 'interrupted': 9,\n",
              " 'once': 62,\n",
              " 'solicitude': 12,\n",
              " 'after': 106,\n",
              " 'son': 36,\n",
              " 'law': 13,\n",
              " 'inquire': 9,\n",
              " 'uneasy': 10,\n",
              " 'horse': 9,\n",
              " 'speaking': 37,\n",
              " 'way': 113,\n",
              " 'honestly': 3,\n",
              " '_the_': 2,\n",
              " 'balls': 3,\n",
              " 'plays': 4,\n",
              " 'fear': 10,\n",
              " 'retirement': 5,\n",
              " 'assistance': 12,\n",
              " 'fine': 33,\n",
              " 'privilege': 3,\n",
              " 'sense': 46,\n",
              " 'depend': 12,\n",
              " 'considered': 16,\n",
              " 'peculiarly': 9,\n",
              " 'unlucky': 2,\n",
              " 'same': 78,\n",
              " 'wanted': 59,\n",
              " 'marry': 49,\n",
              " 'expected': 30,\n",
              " 'allow': 38,\n",
              " 'look': 96,\n",
              " 'wise': 8,\n",
              " 'affectedly': 3,\n",
              " 'really': 109,\n",
              " 'easy': 22,\n",
              " 'We': 76,\n",
              " 'night': 34,\n",
              " 'turned': 22,\n",
              " 'towards': 56,\n",
              " 'listen': 14,\n",
              " 'forget': 23,\n",
              " 'Henry': 14,\n",
              " 'windy': 2,\n",
              " 'Easter': 2,\n",
              " 'particular': 33,\n",
              " 'September': 4,\n",
              " 'twelvemonth': 3,\n",
              " 'writing': 6,\n",
              " 'twelve': 6,\n",
              " 'o': 6,\n",
              " 'clock': 7,\n",
              " 'fever': 4,\n",
              " 'feeling': 44,\n",
              " 'existence': 8,\n",
              " 'deserve': 16,\n",
              " 'Can': 11,\n",
              " 'secure': 8,\n",
              " 'compassion': 10,\n",
              " 'believing': 3,\n",
              " 'boast': 2,\n",
              " 'perfect': 25,\n",
              " 'indifference': 10,\n",
              " 'continued': 30,\n",
              " 'farther': 33,\n",
              " 'tell': 60,\n",
              " 'period': 15,\n",
              " 'part': 53,\n",
              " 'acquaintance': 52,\n",
              " 'disposed': 15,\n",
              " 'attached': 19,\n",
              " 'nay': 5,\n",
              " 'cease': 7,\n",
              " 'wonder': 38,\n",
              " 'absolutely': 27,\n",
              " 'refused': 10,\n",
              " 'unreasonable': 7,\n",
              " 'hears': 3,\n",
              " 'probably': 25,\n",
              " 'something': 84,\n",
              " 'alluding': 2,\n",
              " 'misunderstandings': 4,\n",
              " 'hints': 6,\n",
              " 'As': 38,\n",
              " 'They': 116,\n",
              " 'readily': 7,\n",
              " 'consciousness': 16,\n",
              " 'blank': 4,\n",
              " 'began': 51,\n",
              " 'indulged': 4,\n",
              " 'seeing': 46,\n",
              " 'proportion': 3,\n",
              " 'smile': 35,\n",
              " 'succeeded': 10,\n",
              " 'upon': 100,\n",
              " 'beginning': 32,\n",
              " 'talk': 46,\n",
              " 'Where': 13,\n",
              " 'regard': 35,\n",
              " 'impossible': 31,\n",
              " 'whenever': 17,\n",
              " 'visitor': 8,\n",
              " 'appeared': 40,\n",
              " 'reflected': 2,\n",
              " 'impatience': 5,\n",
              " 'total': 3,\n",
              " 'want': 72,\n",
              " 'No': 92,\n",
              " 'believe': 77,\n",
              " 'blame': 6,\n",
              " 'fancy': 33,\n",
              " 'chosen': 13,\n",
              " 'till': 83,\n",
              " 'assured': 14,\n",
              " 'humble': 9,\n",
              " 'fewer': 3,\n",
              " 'formerly': 3,\n",
              " 'inferiority': 4,\n",
              " 'sensible': 22,\n",
              " 'stoop': 2,\n",
              " 'marrying': 20,\n",
              " 'unlikely': 4,\n",
              " 'serious': 24,\n",
              " 'whatever': 14,\n",
              " 'sick': 9,\n",
              " 'England': 10,\n",
              " 'leave': 39,\n",
              " 'Pray': 13,\n",
              " 'care': 43,\n",
              " 'step': 8,\n",
              " 'pleasant': 33,\n",
              " 'feelings': 83,\n",
              " 'walked': 45,\n",
              " 'about': 196,\n",
              " 'collect': 3,\n",
              " 'round': 31,\n",
              " 'strawberry': 2,\n",
              " 'beds': 5,\n",
              " 'whole': 65,\n",
              " 'assembled': 4,\n",
              " 'excepting': 9,\n",
              " 'Richmond': 11,\n",
              " 'large': 26,\n",
              " 'bonnet': 3,\n",
              " 'basket': 4,\n",
              " 'lead': 11,\n",
              " 'gathering': 2,\n",
              " 'accepting': 5,\n",
              " 'strawberries': 6,\n",
              " 'spoken': 25,\n",
              " '.--\"': 27,\n",
              " 'fruit': 3,\n",
              " 'favourite': 17,\n",
              " 'wholesome': 3,\n",
              " 'finest': 6,\n",
              " 'Delightful': 2,\n",
              " 'gather': 2,\n",
              " 'self': 22,\n",
              " 'enjoying': 4,\n",
              " 'decidedly': 12,\n",
              " 'tired': 14,\n",
              " 'infinitely': 11,\n",
              " 'superior': 45,\n",
              " 'comparison': 8,\n",
              " 'hardly': 57,\n",
              " 'scarce': 2,\n",
              " 'preferred': 5,\n",
              " 'white': 5,\n",
              " 'wood': 2,\n",
              " 'price': 2,\n",
              " 'abundance': 4,\n",
              " 'Bristol': 5,\n",
              " 'renewed': 2,\n",
              " 'gardeners': 2,\n",
              " 'exactly': 39,\n",
              " 'different': 33,\n",
              " 'general': 52,\n",
              " 'rule': 7,\n",
              " 'put': 49,\n",
              " 'delicious': 2,\n",
              " 'rich': 10,\n",
              " 'eaten': 3,\n",
              " 'inferior': 15,\n",
              " 'refreshing': 2,\n",
              " 'objection': 12,\n",
              " 'stooping': 3,\n",
              " 'sun': 4,\n",
              " 'longer': 46,\n",
              " 'shade': 6,\n",
              " 'creating': 5,\n",
              " 'saw': 86,\n",
              " 'safely': 14,\n",
              " 'judged': 11,\n",
              " 'under': 50,\n",
              " 'knowledge': 21,\n",
              " 'yet': 89,\n",
              " 'An': 10,\n",
              " 'Only': 11,\n",
              " 'page': 2,\n",
              " 'turn': 24,\n",
              " 'beg': 8,\n",
              " 'pardon': 4,\n",
              " 'dancing': 27,\n",
              " 'proved': 15,\n",
              " 'believed': 33,\n",
              " 'extremely': 54,\n",
              " 'lucky': 8,\n",
              " 'cruel': 3,\n",
              " 'state': 49,\n",
              " 'things': 44,\n",
              " 'high': 14,\n",
              " 'distinction': 5,\n",
              " 'features': 4,\n",
              " 'announced': 5,\n",
              " 'Could': 10,\n",
              " 'mention': 13,\n",
              " 'fit': 8,\n",
              " 'done': 118,\n",
              " '?': 143,\n",
              " 'leisure': 11,\n",
              " 'eagerly': 9,\n",
              " 'claims': 21,\n",
              " 'settled': 32,\n",
              " 'already': 39,\n",
              " 'English': 4,\n",
              " 'style': 21,\n",
              " 'calmness': 5,\n",
              " 'real': 32,\n",
              " 'led': 22,\n",
              " 'requisite': 4,\n",
              " 'other': 170,\n",
              " 'amply': 2,\n",
              " 'secured': 9,\n",
              " 'pleasing': 17,\n",
              " 'duty': 18,\n",
              " 'pay': 19,\n",
              " 'respects': 4,\n",
              " 'dinner': 42,\n",
              " 'fondly': 4,\n",
              " 'noticing': 3,\n",
              " 'beauty': 20,\n",
              " 'dress': 8,\n",
              " 'two': 133,\n",
              " 'amends': 2,\n",
              " 'power': 32,\n",
              " 'cake': 7,\n",
              " 'glasses': 2,\n",
              " 'wine': 6,\n",
              " 'unwilling': 4,\n",
              " 'denial': 3,\n",
              " 'constitution': 7,\n",
              " 'practise': 3,\n",
              " 'during': 15,\n",
              " 'meal': 3,\n",
              " 'provided': 3,\n",
              " 'eat': 7,\n",
              " 'dreadful': 11,\n",
              " 'stop': 11,\n",
              " 'views': 14,\n",
              " 'useful': 16,\n",
              " 'reading': 10,\n",
              " 'intention': 7,\n",
              " 'resent': 3,\n",
              " 'instant': 7,\n",
              " 'observation': 10,\n",
              " 'relieve': 2,\n",
              " 'let': 50,\n",
              " 'execution': 2,\n",
              " 'alike': 6,\n",
              " 'Now': 28,\n",
              " 'explanation': 8,\n",
              " 'honour': 23,\n",
              " 'madam': 7,\n",
              " 'advantage': 22,\n",
              " 'disposition': 20,\n",
              " 'houses': 7,\n",
              " 'value': 10,\n",
              " 'See': 2,\n",
              " 'circumstances': 23,\n",
              " 'arriving': 4,\n",
              " ...}"
            ]
          },
          "execution_count": 128,
          "metadata": {},
          "output_type": "execute_result"
        }
      ],
      "source": [
        "# TODO: create a counter of word type based on sents_train\n",
        "\n",
        "def add_word_count_to_count_dict(word, count_dict, count=None):\n",
        "    if count_dict is None or word is None:\n",
        "        return\n",
        "    if count is not None:\n",
        "        count_dict[word] = count\n",
        "    elif word not in count_dict:\n",
        "        count_dict[word] = 1\n",
        "    else:\n",
        "        count_dict[word] += 1\n",
        "\n",
        "def count_word_types(sents):\n",
        "    if sents is None:\n",
        "        return None\n",
        "    \n",
        "    #build all counts\n",
        "    counts = {}\n",
        "    for sent in sents:\n",
        "        add_word_count_to_count_dict(\"<s>\", counts)\n",
        "        for word in sent:\n",
        "            add_word_count_to_count_dict(word, counts)\n",
        "        add_word_count_to_count_dict(\"</s>\", counts)\n",
        "    \n",
        "    #replace single counts with UNK\n",
        "    finalCounts = {}\n",
        "    for word in counts:\n",
        "        if counts[word] == 1:\n",
        "            add_word_count_to_count_dict(\"UNK\", finalCounts)\n",
        "        else:\n",
        "            finalCounts[word] = counts[word]\n",
        "    return finalCounts\n",
        "\n",
        "count_word_types(sents_train)\n",
        "\n",
        "\n"
      ]
    },
    {
      "cell_type": "markdown",
      "id": "c638fb91",
      "metadata": {
        "id": "c638fb91"
      },
      "source": [
        "Then, create a vocabulary based on your word type counter **(5 points)**.\n",
        "\n",
        "As we explained in class, it would be difficult for a count-based n-gram LM to learn good distributions for infrequent words. Therefore, we typically only keep frequent words in the vocabulary and replace others (i.e., infrequent words) with a special token `UNK`.\n",
        "\n",
        "Now, when creating the vocabulary. Let's keep only words appearing at least twice in `sents_train`. An additional `UNK` token needs to be added to handle those dropped word types.\n",
        "\n",
        "<font color='blue'>PLEASE INPUT YOUR ANSWER BELOW</font>"
      ]
    },
    {
      "cell_type": "code",
      "execution_count": 129,
      "id": "dc5814ba",
      "metadata": {
        "id": "dc5814ba"
      },
      "outputs": [
        {
          "name": "stdout",
          "output_type": "stream",
          "text": [
            "['<s>', 'A', 'crowd', 'in', 'a', 'little', 'room', '--', 'Miss', 'Woodhouse', ',', 'you', 'have', 'the', 'art', 'of', 'giving', 'UNK', 'few', 'words', '.', '</s>', 'Mr', 'Knightley', \"'\", 's', 'eyes', 'had', 'Bates', 'glance', 'at', 'Jane', '\"', 'Well', 'if', 'please', ',\"', 'said', 'Mrs', 'Weston', 'rather', 'think', 'she', 'will', 'be', 'any', 'use', '.\"', 'When', 'I', 'talked', 'your', 'being', 'altered', 'by', 'time', 'progress', 'years', 'John', 'meant', 'to', 'imply', 'change', 'situation', 'which', 'usually', 'brings', 'He', 'was', 'four', '-', 'and', 'twenty', 'last', 'June', 'my', 'is', 'just', 'fortnight', 'day', 'difference', 'very', 'odd', 'man', 'must', 'much', 'love', 'indeed', 'describe', 'her', 'so', 'Emma', 'could', 'not', 'forgive', 'Yes', 'see', 'what', 'means', '(', 'turning', ',)', 'try', 'hold', 'tongue', 'wishing', 'get', 'better', 'his', 'attachment', 'herself', 'recovering', 'from', 'for', 'Elton', 'thank', ';', 'but', 'assure', 'are', 'quite', 'mistaken', 'take', 'drawing', 'London', 'chuse', 'frame', 'give', 'directions', 'thought', 'it', 'as', 'ensure', 'its', 'safety', 'without', 'him', 'while', 'he', 'seemed', 'fearful', 'incommoded', 'enough', 'did', 'find', 'equal', 'pleased', 'assent', 'no', 'doubt', 'habit', 'receiving', 'Very', 'true', 'been', 'travelling', 'companion', 'resolution', 'refrain', 'making', 'answer', 'all', 'She', 'well', 'Frank', 'almost', 'every', 'respect', 'more', 'loved', 'defence', 'therefore', 'earnest', 'opened', 'too', 'surely', ';--', 'note', 'ushered', 'letter', 'You', 'pass', 'over', 'handsomely', 'were', 'perfectly', 'right', 'since', 'October', ',--', 'secretly', 'engaged', '.--', 'It', 'has', 'hurt', 'me', 'Oh', '!', 'off', 'who', 'can', 'Smith', 'when', 'near', 'convinced', 'that', 'such', 'conversation', 'greatest', 'relief', 'up', 'within', 'own', 'mind', 'thing', 'long', 'with', 'on', 'subject', 'proposed', 'drew', 'fears', 'justified', 'arrival', 'excuse', '!--', 'full', 'should', 'suspect', 'others', 'how', 'they', 'understanding', 'only', 'happy', 'This', 'sort', 'dull', 'looking', 'evening', 'ought', 'treated', 'winter', 'than', 'summer', 'His', 'ostensible', 'reason', 'however', 'ask', 'whether', 'party', 'made', 'or', 'smallest', 'degree', 'necessary', 'Hartfield', '_', '_Elton_', 'would', 'an', 'intercourse', 'former', 'intimacy', 'might', 'sink', 'remark', 'And', 'declares', '!--(', 'soon', 'door', ')', 'Indeed', 'Yorkshire', 'Never', 'Harriet', 'shall', 'poor', 'old', 'maid', 'poverty', 'makes', 'contemptible', 'generous', 'public', 'speak', 'name', 'Dixon', 'blush', 'By', 'account', 'does', 'seem', 'some', 'scruples', 'The', 'older', 'person', 'grows', 'important', 'their', 'manners', 'bad', 'glaring', 'disgusting', 'awkwardness', 'becomes', 'With', 'great', 'deal', 'pleasure', 'sir', 'laughing', 'agree', 'entirely', 'While', 'lived', 'engagement', 'flattered', 'danger', 'away', 'become', 'increase', 'comfort', 'How', 'do', 'best', 'difficult', 'decision', 'spare', 'unnecessary', 'pain', 'make', 'possible', 'appear', 'least', 'enemy', '?--', 'On', 'these', 'subjects', 'perplexity', 'distress', 'again', 'through', 'bitter', 'reproach', 'sorrowful', 'regret', 'ever', 'surrounded', 'resolve', 'still', 'avoid', 'meeting', 'communicate', 'need', 'told', 'inexpressibly', 'desirable', 'removed', 'now', 'Highbury', 'indulging', 'one', 'scheme', 'nearly', 'practicable', 'invitation', 'Brunswick', 'Square', 'Isabella', 'weeks', 'spent', 'amusement', 'nature', 'escape', 'novelty', 'variety', 'children', 'At', 'rate', 'proof', 'attention', 'kindness', 'whom', 'due', 'separation', 'present', 'averting', 'evil', 'together', 'politeness', 'hand', 'directly', 'say', 'smiling', 'interest', 'ready', 'first', 'word', 'wish', 'Fairfax', 'death', 'always', 'attentive', 'them', '!\"', 'followed', 'into', 'idea', 'most', 'distinct', 'That', 'secret', 'conclude', 'busy', 'admiring', 'those', 'soft', 'blue', 'talking', 'listening', 'forming', 'schemes', 'flew', 'unusual', 'supper', 'table', 'closed', 'parties', 'used', 'sit', 'watch', 'set', 'out', 'moved', 'forwards', 'fire', 'before', 'aware', 'There', 'nothing', 'compared', 'These', 'thoughts', 'sight', 'snow', 'ground', 'service', 'welcome', 'justify', 'three', 'asunder', 'parting', 'question', 'After', 'came', 'second', 'among', 'come', 'able', 'Goddard', 'ladies', 'fetched', 'carried', 'home', 'often', 'hardship', 'either', 'James', 'horses', 'Had', 'cried', 'perhaps', 'blushing', 'spoke', 'body', 'heart', 'nobody', 'else', '--\"', 'am', 'prejudiced', 'deceived', 'ceremony', 'manner', 'immediately', 'catch', 'meaning', 'burst', 'anger', 'though', 'slight', 'shewed', 'Her', 'Bath', 'habits', 'natural', 'Maple', 'Grove', 'given', 'taste', 'dinners', 'here', 'business', 'waiting', 'friend', 'speaks', 'quick', 'extraordinary', 'Thank', 'going', 'this', 'moment', 'myself', 'sooner', '_you_', 'go', 'trying', 'preserve', 'complete', 'enjoyment', 'know', 'uncertainty', 'our', 'meetings', 'constant', 'expectation', 'there', 'coming', 'morrow', 'hour', 'may', 'friendly', 'happiness', 'having', 'actually', 'house', 'wished', 'keep', 'absolute', 'declaration', 'Two', 'never', 'granted', 'company', 'practised', 'read', 'character', 'talents', 'conduce', 'display', 'superiority', 'around', 'like', 'himself', 'weather', 'affected', 'kept', 'tolerably', 'comfortable', 'daughter', 'side', 'exertions', 'half', 'Why', 'sure', 'yes', 'certainly', 'cannot', 'deny', 'us', 'pretty', 'then', 'obliged', 'respectable', 'admitted', 'luckiest', 'creature', 'world', 'steady', 'persevering', 'affection', 'yield', 'remembered', 'sorry', 'hear', 'morning', 'rain', 'another', 'good', 'face', 'neither', 'feature', 'nor', 'air', 'voice', 'elegant', 'But', 'likely', 'Hawkins', 'dare', 'excellent', 'young', 'woman', 'cast', 'eye', 'pondered', 'caught', 'certain', 'mistress', 'lines', 'passing', 'sat', 'happily', 'saying', 'paper', 'confusion', 'hope', 'dulness', 'dear', 'comes', 'early', 'breaking', 'In', 'short', 'feel', 'dependence', 'less', 'sanguine', 'message', 'What', 'possibly', 'mean', 'dances', 'unfortunately', 'allowed', 'Martin', 'don', 't', 'absurdity', 'Actually', 'snowing', 'folly', 'allowing', 'people', 'staying', 'comfortably', 'down', 'Churchill', 'grew', 'talkative', 'gay', 'object', 'write', 'promise', 'many', 'particulars', 'met', '_one_', 'madness', 'we', 'afraid', 'liked', 'distance', 'months', 'happen', 'Let', 'behaviour', 'guide', 'sensations', 'sitting', 'altogether', 'satisfactory', 'sketch', 'disagreeable', 'correct', 'behaved', 'ill', 'ways', '_his_', '_own_', 'angry', 'Every', 'Taylor', 'glad', 'married', 'agitation', 'feelingly', 'replied', 'exposed', 'bear', 'arrangement', 'difficulty', 'felt', 'husband', 'plans', 'marriage', 'between', 'purpose', 'open', 'straightforward', 'judging', 'If', 'took', 'place', 'circle', 'friends', 'deserted', 'left', 'cheer', 'father', 'spirits', 'dreamer', 'thinking', '?\"', 'Such', 'interrupted', 'once', 'solicitude', 'after', 'son', 'law', 'inquire', 'uneasy', 'horse', 'speaking', 'way', 'honestly', '_the_', 'balls', 'plays', 'fear', 'retirement', 'assistance', 'fine', 'privilege', 'sense', 'depend', 'considered', 'peculiarly', 'unlucky', 'same', 'wanted', 'marry', 'expected', 'allow', 'look', 'wise', 'affectedly', 'really', 'easy', 'We', 'night', 'turned', 'towards', 'listen', 'forget', 'Henry', 'windy', 'Easter', 'particular', 'September', 'twelvemonth', 'writing', 'twelve', 'o', 'clock', 'fever', 'feeling', 'existence', 'deserve', 'Can', 'secure', 'compassion', 'believing', 'boast', 'perfect', 'indifference', 'continued', 'farther', 'tell', 'period', 'part', 'acquaintance', 'disposed', 'attached', 'nay', 'cease', 'wonder', 'absolutely', 'refused', 'unreasonable', 'hears', 'probably', 'something', 'alluding', 'misunderstandings', 'hints', 'As', 'They', 'readily', 'consciousness', 'blank', 'began', 'indulged', 'seeing', 'proportion', 'smile', 'succeeded', 'upon', 'beginning', 'talk', 'Where', 'regard', 'impossible', 'whenever', 'visitor', 'appeared', 'reflected', 'impatience', 'total', 'want', 'No', 'believe', 'blame', 'fancy', 'chosen', 'till', 'assured', 'humble', 'fewer', 'formerly', 'inferiority', 'sensible', 'stoop', 'marrying', 'unlikely', 'serious', 'whatever', 'sick', 'England', 'leave', 'Pray', 'care', 'step', 'pleasant', 'feelings', 'walked', 'about', 'collect', 'round', 'strawberry', 'beds', 'whole', 'assembled', 'excepting', 'Richmond', 'large', 'bonnet', 'basket', 'lead', 'gathering', 'accepting', 'strawberries', 'spoken', '.--\"', 'fruit', 'favourite', 'wholesome', 'finest', 'Delightful', 'gather', 'self', 'enjoying', 'decidedly', 'tired', 'infinitely', 'superior', 'comparison', 'hardly', 'scarce', 'preferred', 'white', 'wood', 'price', 'abundance', 'Bristol', 'renewed', 'gardeners', 'exactly', 'different', 'general', 'rule', 'put', 'delicious', 'rich', 'eaten', 'inferior', 'refreshing', 'objection', 'stooping', 'sun', 'longer', 'shade', 'creating', 'saw', 'safely', 'judged', 'under', 'knowledge', 'yet', 'An', 'Only', 'page', 'turn', 'beg', 'pardon', 'dancing', 'proved', 'believed', 'extremely', 'lucky', 'cruel', 'state', 'things', 'high', 'distinction', 'features', 'announced', 'Could', 'mention', 'fit', 'done', '?', 'leisure', 'eagerly', 'claims', 'settled', 'already', 'English', 'style', 'calmness', 'real', 'led', 'requisite', 'other', 'amply', 'secured', 'pleasing', 'duty', 'pay', 'respects', 'dinner', 'fondly', 'noticing', 'beauty', 'dress', 'two', 'amends', 'power', 'cake', 'glasses', 'wine', 'unwilling', 'denial', 'constitution', 'practise', 'during', 'meal', 'provided', 'eat', 'dreadful', 'stop', 'views', 'useful', 'reading', 'intention', 'resent', 'instant', 'observation', 'relieve', 'let', 'execution', 'alike', 'Now', 'explanation', 'honour', 'madam', 'advantage', 'disposition', 'houses', 'value', 'See', 'circumstances', 'arriving', 'visit', 'Randalls', 'conscious', 'wrong', 'paid', 'enjoy', 'completely', 'gratitude', 'loud', 'return', 'stay', 'placed', '_here_', 'wife', 'governess', 'musical', 'possessed', ':', 'intelligent', 'informed', 'gentle', 'knowing', 'family', 'interested', 'concerns', 'hers', 'arose', 'fault', 'persuading', 'health', 'premature', '\"--', 'gone', 'presumption', 'raise', 'returned', 'answered', 'amiable', 'inclination', 'clever', 'strength', 'miss', 'judge', 'Instead', 'brother', 'window', 'waited', 'Ah', '_that_', 'decide', 'remained', 'sharing', 'rational', 'pleasures', 'society', 'judicious', 'mixture', 'drawback', 'future', 'seen', 'country', 'lady', 'hoped', 'rapidly', 'work', 'cure', 'prompt', 'sunk', 'both', 'doubted', 'offering', 'conjugal', 'unreserve', 'share', 'story', 'colouring', 'favourable', 'soothing', 'likelihood', 'also', 'gravely', 'hasty', 'entered', 'Here', 'abruptly', 'recollect', 'compose', 'walking', 'rest', 'fact', 'mortifying', 'prepared', 'communicated', 'especially', 'conduct', 'admit', 'unhappy', 'employment', 'usual', 'cheerful', 'imagine', 'faults', 'working', 'thousand', 'amusing', 'close', 'fancying', 'interesting', 'letters', 'conclusion', 'imaginary', '_him_', 'particularly', 'shake', 'hands', 'joy', 'Kingston', 'afterwards', 'delighted', 'fortitude', 'knew', 'invite', 'eighth', 'Since', 'conscience', 'One', 'brought', 'certainty', 'removal', 'ball', 'Crown', 'united', 'reverse', 'Come', 'Their', 'entrance', 'wishes', 'Men', 'fond', 'themselves', 'girl', 'obscurity', 'prudent', 'men', 'inconvenience', 'disgrace', 'involved', 'mystery', 'parentage', 'revealed', 'Ford', 'principal', 'draper', 'linen', 'shop', 'size', 'fashion', 'ten', 'minutes', 'sudden', 'Elizabeth', 'Dear', 'heard', 'express', 'warmly', 'points', 'admirer', 'performance', 'pianoforte', 'considerable', 'doubts', 'head', 'fortunate', 'precise', 'remember', 'Good', 'soul', 'point', 'dread', 'failure', 'became', 'prominent', 'uneasiness', 'absence', 'satisfaction', 'friendship', 'compliments', 'quietly', 'properly', 'taken', 'evidently', 'wanting', 'gown', 'Wright', 'hair', 'CHAPTER', 'XII', 'blessing', 'added', 'draws', 'earlier', 'So', 'life', 'chuses', 'generally', 'drawn', 'prize', 'introducing', 'opportunity', 'worth', 'attempted', 'My', 'suppose', 'gruel', 'procure', 'allowable', 'acquittal', 'brotherly', 'deeply', 'Whatever', 'strange', 'key', 'assurance', 'thrown', 'higher', 'middle', 'continual', 'course', 'smiles', 'behave', 'rising', 'mentioning', 'Campbells', 'named', 'blushed', 'pronounced', 'hearing', 'speech', 'proclaimed', 'effect', 'immediate', 'endure', 'noise', 'dance', 'even', 'inquiry', 'worse', '_is_', 'Neither', 'gladly', 'move', 'eldest', 'boys', 'Astley', 'coxcomb', 'occupy', 'number', 'kind', 'guess', 'approbation', 'carriage', 'nicely', 'dressed', 'remarkably', 'mother', 'deaf', 'To', 'remain', 'month', 'privations', 'praised', 'fair', 'sent', 'Bateses', 'ashamed', 'Hill', 'produce', 'distinguishing', 'far', 'civility', 'permitted', 'evident', 'proceed', 'beyond', 'IV', 'Cox', 'besides', 'suffered', 'attempt', 'bank', 'exceedingly', 'Churchills', 'agreeable', 'circumstance', 'tenderness', 'beloved', 'gives', 'popularity', 'charm', 'felicity', 'running', 'ago', 'More', '_her_', 'Woman', 'noisy', 'encumbrance', 'visiting', 'engagements', 'continue', 'lately', 'watched', 'alarming', 'symptoms', 'venture', 'Was', 'sister', 'result', 'pity', '_was_', 'conceal', 'preference', 'changing', 'fixed', 'Campbell', 'sake', 'pounds', 'mortification', 'notice', 'companions', 'admired', 'sufficiently', 'ear', 'resolved', 'confessed', 'acquainted', 'village', 'found', 'matter', 'commendation', 'oftener', 'supposed', 'expense', 'liberal', 'charge', 'attendance', 'suffer', 'satisfied', 'beautiful', 'trusted', 'frequent', 'foundation', 'weight', 'Would', 'shew', 'gardens', 'extent', 'back', 'homes', 'view', 'totally', 'bare', 'recollection', 'passed', 'exclaimed', 'loudly', 'calmer', 'moments', 'seems', 'recommend', 'God', 'gipsies', 'wait', 'justice', 'hurry', 'However', 'grandmama', 'doing', 'choice', 'Colonel', 'native', 'enjoyed', 'uncommon', 'handsome', 'Compare', 'carrying', 'silent', 'Westons', 'trouble', 'hours', 'entertainment', 'against', 'strengthened', 'understood', 'written', 'new', 'occasion', 'designs', 'pleasantest', 'eager', 'curiosity', 'warm', 'plain', 'glass', 'water', 'delay', 'apprehensive', 'delays', 'gentleman', 'quiet', 'slowly', 'sisters', 'helped', 'court', 'plaister', 'times', 'days', 'sore', 'throat', 'Do', 'cutting', 'finger', 'recommending', 'none', 'desired', 'supply', 'mine', 'cut', 'piece', 'smaller', 'playing', 'gave', 'afternoon', 'next', 'tea', 'walk', 'reasonable', 'damp', 'ballroom', 'built', 'small', 'card', 'adjoining', 'addition', 'growing', '_she_', 'observing', 'partner', 'Nash', 'thinks', 'Ever', 'Lane', 'because', 'darted', 'gallantry', 'borrowed', 'arm', 'Cole', 'Then', 'persuaded', 'attach', 'light', 'larger', 'council', 'lower', 'appearance', 'families', 'fully', 'gentlemen', 'bore', 'intelligence', 'opinion', 'papa', 'comprehend', 'persons', 'invited', 'meet', 'numbers', 'consulted', 'harmony', 'addressed', 'fainted', 'alone', 'separate', 'guard', 'utmost', 'news', 'spread', 'reception', 'tried', 'witty', 'satisfy', '`', \"?'\", 'where', 'presented', 'praise', '_very_', 'height', 'address', 'unexceptionable', 'countenance', 'spirit', 'liveliness', 'looked', 'fires', 'yourself', 'clear', 'seldom', 'except', 'disturbed', 'Upon', 'picture', 'framed', 'difficulties', 'money', 'improve', 'foolish', 'presently', 'perceive', 'unfortunate', 'understand', 'force', 'influence', 'firmly', 'established', 'independent', '_You_', 'surprized', 'suspicions', 'forgotten', 'caution', 'attended', '--(', 'sinking', 'heavy', 'sigh', 'blindness', 'hence', 'evils', 'threatened', 'alloy', 'enjoyments', 'induced', 'Always', 'sex', 'Part', 'lace', 'contrive', 'losing', 'dearest', 'attack', 'meadows', 'plea', 'unequal', 'exercise', 'putting', 'receive', 'forward', 'confidence', 'case', 'gratified', 'liking', 'resist', 'advice', 'previous', 'muttering', 'acknowledgment', 'cold', 'sending', '_She_', 'occupied', 'perceived', 'oppose', 'lose', 'compliment', 'knows', 'Perry', 'tells', 'touches', 'sees', 'protest', 'excused', '_I_', 'establishment', 'professed', 'sentences', 'refined', 'nonsense', 'principles', 'vanity', 'honest', 'fashioned', 'school', 'quantity', 'sold', 'girls', 'scramble', 'education', 'trifling', 'creatures', 'assist', 'grave', 'looks', 'questions', 'child', 'arms', 'journey', 'expressing', 'honourable', 'describing', 'local', 'attractive', 'consequence', 'VII', 'Not', 'events', 'week', 'relates', 'anxiety', 'succeed', 'Nobody', 'imprudent', 'support', 'add', 'induce', 'disorder', 'Fortunately', 'shamefully', 'sweet', 'got', 'thanking', 'merits', 'seeming', 'common', 'formed', 'watching', 'sound', 'carriages', 'impatient', 'begin', 'Quite', 'ourselves', 'yesterday', 'prevent', 'ventured', 'Exactly', 'persevered', 'renewal', 'displeasure', 'proposing', 'failed', 'unite', 'Does', 'occur', 'arranged', 'itself', 'frightened', 'grieved', 'openly', 'rendered', 'saved', 'worst', 'wilful', 'tender', 'enter', 'mentioned', 'unconsciously', 'sad', 'motives', 'denying', 'Ireland', 'resolving', 'divide', 'effectually', 'connexions', 'Have', 'Till', 'year', 'divided', 'Donwell', 'Abbey', 'autumn', 'sea', 'bathing', 'regular', 'Surry', 'consequently', 'union', 'unnatural', 'compassionate', 'destiny', 'inclined', \".'\", 'somewhat', 'Many', 'called', 'garden', 'fasten', 'rivet', 'job', 'excessively', 'tempered', 'went', 'detained', 'absent', 'Still', 'expressed', 'liberality', 'propriety', 'delicacy', 'excepted', 'Will', 'baked', 'apples', 'Wallis', 'boy', 'civil', 'obliging', 'rude', 'known', 'surprize', 'returning', 'seat', 'Aye', 'candour', 'appears', 'income', 'tendency', 'temper', 'call', 'amuse', 'lessen', 'proper', 'proposition', 'says', 'William', 'Larkins', 'grand', 'scrupulous', 'careless', 'tempted', 'purchase', 'hanging', 'Much', 'hastily', 'letting', 'office', 'stray', 'objects', 'presume', 'expect', 'fell', 'butcher', 'quarrelling', 'dirty', 'string', 'bow', 'eyeing', 'complain', 'amused', 'stand', 'propose', 'shewing', 'disappointment', 'peculiar', 'concern', 'discovery', 'consider', 'Kitty', 'frozen', 'deplore', 'd', 'aid', 'Though', 'approach', 'suit', 'lively', 'thus', ':--', 'hoarse', 'fatigues', 'bring', 'prudence', 'stopped', 'offer', 'aunt', 'niece', 'Eltons', 'despair', 'fast', 'wedding', 'bride', 'dine', 'prospect', 'third', 'Which', 'valuable', 'Nothing', 'past', 'teach', 'agitated', 'encounter', 'attentions', 'happened', 'excusable', 'Understanding', 'Nay', 'why', 'somebody', 'fatigued', 'proud', 'report', 'pride', 'couple', 'conceive', 'Say', 'oblige', 'hesitated', 'bred', 'ease', 'readiness', 'intending', 'Pass', 'arrive', 'match', 'apple', 'merely', 'instead', 'defer', 'ceremonious', 'reconciled', 'becoming', 'considering', 'leading', 'differently', 'anxious', 'suspicion', 'excited', 'observed', 'Most', 'favourably', 'nephew', 'consent', 'scarcely', 'feared', 'charade', 'studied', 'learned', ',\"--', 'length', 'finished', 'likeness', 'standing', 'Of', 'rank', 'bordered', 'stopt', 'rose', 'embarrassed', 'ended', 'apt', 'music', 'bed', 'alleviations', 'getting', 'forty', 'send', 'pattern', 'pair', 'grandmother', 'basin', 'thin', 'thorough', 'clearing', 'chance', 'leaving', 'delayed', 'critical', 'collection', 'Whenever', 'unwelcome', 'alleviation', 'Robert', 'proceeded', 'populous', 'town', 'spite', 'lawn', 'shrubberies', 'belong', 'afforded', 'probability', 'mere', 'encouragement', 'Sir', 'acquit', 'greatly', 'arrived', 'kindest', 'strongest', 'admiration', 'approached', 'eagerness', 'marked', 'seated', 'remove', 'prevailed', 'complaints', 'strong', 'quarter', 'accomplished', 'bid', 'suffering', 'exquisite', 'flutter', 'moreover', 'greater', 'visits', 'injustice', 'guilt', 'painful', 'remembering', 'disappointed', 'astray', 'friendliness', 'motion', 'offered', 'pressed', 'lips', 'suddenly', 'scruple', 'indubitable', 'simple', 'dignified', 'recall', 'assisting', 'instrument', 'steadily', 'firm', 'floor', 'Otway', 'example', 'opportunities', 'cards', 'paused', 'cooler', 'convey', 'five', 'hundred', 'thirty', 'miles', 'willing', 'prefer', 'South', 'End', 'improved', 'bountiful', 'procuring', 'Read', 'distinctly', 'accepted', 'doubtful', 'overpowered', 'reply', 'silence', 'ample', 'pretend', 'lay', 'rules', 'bringing', 'lovely', 'relate', 'cool', 'deliberately', 'fate', 'thousands', 'cares', 'incessant', 'Irish', 'end', 'whose', 'asked', 'born', 'generations', 'gentility', 'property', 'clearer', 'introduced', 'convenient', 'each', 'wonderful', 'exact', 'truth', 'hopes', 'mistake', 'delusion', 'relative', 'language', 'reluctance', 'discouragement', 'received', 'convictions', 'glow', 'rejoice', 'escaped', 'heroism', 'sentiment', 'prompted', 'entreat', 'transfer', 'worthy', 'refuse', 'motive', 'seize', 'destroyed', 'preparation', 'plan', 'moderation', 'warmth', 'discern', 'gaining', 'bustle', 'approaching', 'misfortune', 'puzzled', 'seventeen', 'ordered', 'tolerable', 'remembrances', 'meanwhile', '--`', 'wavering', 'misled', 'Selina', 'played', 'sweetly', 'hearted', 'polite', 'mixed', 'buried', 'across', 'fresh', 'finding', 'imposed', 'injured', 'wants', 'sufferings', 'hate', 'barouche', 'landau', 'Augusta', 'stir', 'Time', 'judgment', 'reprobating', 'alliance', 'degrading', 'delightfully', 'imagination', 'crossed', 'occurred', 'consideration', 'Leave', 'joyful', 'security', 'throw', 'perfection', 'Remember', 'required', 'Your', 'amiss', 'All', 'calling', 'hit', 'advantages', 'accommodations', 'belonging', 'ignorance', 'flattery', 'Think', 'saucy', 'cause', 'violent', 'dislike', 'wholly', 'imputed', 'hall', 'humiliation', 'dark', 'principally', 'strikes', 'frequently', 'Weymouth', 'Perhaps', 'simplicity', 'elegance', 'model', 'recently', 'lost', 'engage', 'produced', 'containing', 'various', 'attempts', 'delightful', 'fatigue', 'regarded', 'fortune', 'declare', 'boot', 'overtaken', 'cottage', 'setting', 'according', 'fetch', 'promised', 'Some', 'overcome', 'considerations', 'wealth', 'seek', 'detected', 'glancing', 'expression', 'determined', 'confident', 'Tell', 'renewing', 'Our', 'coachman', 'drive', 'faster', 'replying', 'softening', 'decisive', 'expressions', 'concerned', 'ungrateful', 'ah', 'oh', 'egg', 'boiled', 'unwholesome', 'patience', 'break', 'wrote', '_to_', '_of_', 'reached', 'afford', 'maintenance', 'concealment', 'blood', 'untainted', 'connexion', 'preparing', 'cooled', 'dangers', 'breathe', 'acceptable', 'provision', 'help', 'observations', 'unless', 'error', 'impression', 'confessing', 'pays', 'join', 'watering', 'palpably', 'probable', 'merit', 'planning', 'regretted', 'sought', 'envious', 'measure', 'opening', 'striking', 'taking', 'graceful', 'submit', 'reserve', 'topics', 'article', 'severe', 'settle', 'exploring', 'odious', 'condition', 'reckoned', 'cautious', 'advances', 'inch', 'hazard', 'talent', 'wondered', 'possession', 'marks', 'acquiescence', 'proofs', 'defiance', 'encouraged', 'beings', 'youthful', 'exultation', 'parlours', 'upper', 'eight', 'Welch', 'cow', 'drink', 'dozen', 'slightest', 'hard', 'Thy', 'wit', 'advising', 'beneath', 'noble', 'fancied', 'otherwise', 'personal', 'counsel', 'purse', 'seriously', 'imagined', 'tacitly', 'encouraging', 'store', 'unpretending', 'single', 'minded', 'artless', 'spectacles', 'ideas', 'varied', 'separated', 'touching', 'mad', 'sing', 'Were', 'collected', 'late', 'nerves', 'Knightleys', 'disgust', 'gratify', '_some_', 'hush', 'None', 'beat', 'repeated', 'smiled', 'puppy', 'persuasion', 'confess', 'sometimes', 'aloud', 'Elegant', 'Extracts', 'entertaining', 'Even', 'merriment', 'unattended', 'tranquil', 'surprising', 'vast', 'system', 'deceit', 'treachery', 'professions', 'openness', 'spring', 'midst', 'sentiments', 'charmingly', 'rightly', 'simply', 'resolutely', 'sacrifice', 'convenience', 'persuade', 'method', 'preserving', 'peace', 'nervous', 'Has', 'accept', 'tolerate', 'solemn', 'happiest', 'humour', 'Christmas', 'affections', 'insufferable', 'drank', 'entertain', 'intellects', 'engaging', 'housekeeper', 'humourist', 'True', 'singing', 'situations', 'opposite', 'February', 'suspense', 'anywhere', 'unfair', 'requires', 'solicitous', 'rooms', 'thoroughly', 'aired', 'Stokes', 'earnestly', 'recover', 'urge', 'Bad', '.--`', \":'--\", 'unjust', 'safe', 'prosperous', 'adopt', 'vexation', 'provoking', 'order', 'along', 'depends', 'recommendation', 'fairly', 'servants', 'furniture', 'meals', 'doors', 'equalled', 'date', 'brain', 'telling', 'spruce', 'beer', 'pencil', 'lent', \",'\", 'partial', 'windows', 'heated', 'mischief', 'tone', 'catching', 'possess', 'secrecy', 'maintained', 'design', 'equally', 'act', 'exceed', 'acting', 'indisputable', 'directed', 'Vicarage', 'faith', 'illness', 'forth', 'independence', 'multiplied', 'refinement', 'latter', 'run', 'favour', 'silly', 'fellow', 'naming', 'cousins', 'included', 'speculation', 'misinterpreted', 'averted', 'animated', 'takes', 'happier', 'lesson', 'private', 'Shall', 'colours', 'struck', 'For', 'guarded', 'demure', 'Should', 'asking', 'discussion', 'chances', 'wiser', 'complexion', 'perseverance', 'information', 'obtained', 'confession', 'shame', 'tears', 'charity', 'shameful', 'age', 'fallen', 'fall', 'impede', 'joke', 'deem', 'voluntarily', 'shelter', 'spend', 'truly', 'disinterested', 'sensation', 'kindly', 'fly', 'sentence', 'desirous', 'finery', 'parade', 'shabby', 'pitiful', 'bye', 'conceit', 'above', 'six', 'loves', 'destroy', 'utter', 'exclamation', 'wondering', 'rumour', 'Perrys', 'slice', 'conviction', 'baby', 'double', 'dealing', 'pursuit', 'Enscombe', 'following', 'briskly', 'moving', 'displeased', 'kinder', 'resisted', 'temptation', 'spared', 'somewhere', '_not_', 'playfully', 'apprehend', 'bewitching', 'powerful', 'Coles', 'excellence', 'uncle', 'generosity', 'occasioned', 'forgiven', 'swell', 'Poor', 'connected', 'dream', 'Or', 'hither', '_shall_', 'announce', 'exulting', 'intended', 'pause', 'Nonsense', 'amazement', 'stood', 'bearing', 'abominable', 'nodding', ').', 'graciously', 'stranger', 'promising', 'denote', 'unworthy', 'distinguished', 'held', ')--', 'joint', 'Either', 'exciting', 'thoughtful', 'comforted', 'pursuing', 'triumph', 'event', 'affair', 'deserved', 'suitable', 'highest', 'importance', 'eligible', 'stupidest', 'Did', 'Anne', 'pray', 'trust', 'parlour', 'reflection', 'advise', 'envy', 'Short', 'foresaw', 'loss', 'observe', 'answering', 'affectionate', 'extreme', 'perpetual', 'quit', 'anxiously', 'pushed', 'hot', 'Those', 'barely', 'live', 'cross', 'simpleton', 'easily', 'burn', 'decided', 'women', 'opinions', 'disagree', 'Patty', 'visitors', 'narration', 'attend', 'sounds', 'stronger', 'coldness', 'neglecting', 'sympathy', 'Saturday', 'fanciful', 'troublesome', 'contrived', 'exist', 'declined', 'positively', 'suspected', 'Suckling', 'neighbours', 'glowing', 'cheeks', 'Oxford', 'Depend', 'slighted', 'passion', 'save', 'approve', 'alarm', 'civilities', 'dreadfully', 'appearing', 'substance', 'contrary', 'shut', 'mix', 'living', 'respected', 'forbearance', 'weak', 'possibility', 'pleading', 'sincere', 'material', 'poem', 'civilly', 'Sixteen', 'daughters', 'Certainly', 'indescribable', 'sang', 'low', 'unaccountable', 'shadow', 'expecting', 'congratulated', 'laughed', 'cordial', 'addressing', 'gallant', 'passionately', '),', 'writes', 'instance', 'sole', 'original', 'suggested', 'acknowledged', 'hint', 'repressed', 'human', 'complains', 'partiality', 'gratifying', 'From', 'begun', 'sweetness', '_them_', 'animation', 'intimate', 'apologies', 'confined', 'missed', 'parish', 'playful', 'claim', 'comprehending', 'infant', 'grow', 'laugh', 'guided', '_your_', 'treatment', 'truths', 'proving', 'trusting', 'powered', 'dangerous', 'game', 'unpleasant', 'surmise', 'inquiries', 'accommodation', 'sleeping', 'nights', 'road', 'genuine', 'presence', 'fullest', 'master', 'profit', 'Hodges', 'shaking', 'finish', 'maintain', 'flow', 'backgammon', 'attacked', 'regrets', '_say_', 'cheerfully', 'communicating', 'aye', 'conjectures', 'lament', 'Papa', 'minute', 'courage', 'yards', 'stables', 'astonishment', 'imagining', 'punishment', 'misconduct', 'handwriting', 'supplied', 'nice', 'smooth', 'birth', 'parcel', 'joined', 'dining', 'raised', 'appeased', 'Smallridge', 'neighbour', 'bears', 'dared', 'sensibility', 'passage', 'hereafter', 'blessings', 'increasing', 'wretchedness', 'distant', '.\\'\"', 'provide', 'errors', 'miserable', 'insensible', 'changed', 'farming', 'quarrelled', 'youngest', 'danced', 'necessarily', 'Martins', 'goodwill', 'fortunately', 'reminding', 'drinking', 'settling', 'ridiculous', 'blended', 'discretion', 'honoured', 'amount', 'communication', 'recovered', 'senses', 'several', 'neighbourhood', 'grateful', 'ceased', 'turns', 'begged', 'ours', 'resources', 'thankful', 'qualified', 'unaffected', 'tiresome', 'powers', 'description', 'bread', 'ate', 'breakfast', 'mutton', 'caps', 'study', 'nine', 'ride', 'sufficient', 'presumed', 'imperfection', 'negligent', 'stock', 'comforts', 'downright', 'labour', 'Worse', 'Broadwood', 'consoling', 'interests', 'serve', 'introduction', 'scene', 'command', 'patient', 'breath', 'naturally', 'cared', 'dead', 'alive', 'dears', 'book', 'betray', 'irritated', 'throughout', 'solitude', 'Be', 'zeal', 'foreseen', 'stept', 'ingenuity', 'convincing', 'producing', 'agreed', 'listened', 'highly', 'goodness', 'faint', 'twice', 'dissipated', 'alarmed', 'accent', 'deep', 'syllable', '_must_', '_all_', 'charming', 'George', 'Box', 'endured', 'carry', 'reconciliation', '&', 'c', '.,', 'wretched', 'mama', 'E', 'communications', 'furnished', 'food', 'esteem', 'declared', 'discoveries', 'crisis', 'behind', 'forced', 'conquest', 'flies', 'begins', 'Three', 'indifferent', 'indignant', 'apparent', 'eternal', 'talker', 'ages', 'foretell', ';\"--', 'Young', 'delicate', 'signify', 'expert', 'quickness', 'riddle', 'arrowroot', 'thanks', 'insisted', 'weakness', 'huswife', 'ma', 'candles', 'furnish', 'delight', 'vain', 'surrender', 'entire', 'Gilbert', 'disengaged', 'spot', 'Mill', 'Farm', \"!'\", 'reflections', 'Wingfield', 'recommended', 'alacrity', 'credit', 'attentively', 'chicken', 'urgency', 'guests', 'explained', 'lovers', 'figure', 'unlike', 'mutual', 'chair', 'invitations', 'witness', 'rid', 'kingdom', 'calculated', 'lame', 'history', 'destined', 'started', 'dispense', 'prevented', 'numerous', 'wittier', 'quickly', 'mark', 'astonished', 'servant', 'form', 'beforehand', 'S', '_My_', 'representation', 'hospitality', 'places', 'constancy', 'determination', '_me_', 'youth', 'devoted', 'failing', 'endeavour', 'custom', 'consumption', 'reproof', 'benefit', 'Dixons', ';--\"', 'restrained', 'thanked', 'coolly', 'died', 'employed', 'luck', 'realised', 'dwell', 'sorrow', 'shape', 'complaint', 'considerably', 'matrimony', 'killed', 'relieved', 'motherly', 'Excuse', 'chiefly', 'requiring', 'neglected', 'prove', 'sincerity', 'dealings', 'candlelight', 'Ten', 'Dreadful', 'securing', 'augur', 'goose', 'abroad', 'silenced', 'Me', 'earnestness', 'chamber', 'congratulations', 'warmest', 'fool', 'loveliness', 'wet', 'disengage', 'grounds', 'retired', 'colds', 'reasonings', 'follow', 'advanced', 'fathers', 'additional', 'collecting', 'precious', 'relations', 'Go', 'behaving', 'amazed', 'Who', 'thick', 'headed', 'interval', 'bowed', 'submission', 'occupation', 'eighteen', 'Heaven', 'forbid', 'chatty', 'objections', 'matches', 'disparity', 'blessed', 'favouring', 'undoubtedly', 'III', 'parishes', 'phrase', 'seemingly', 'ungracious', 'Take', 'perplexities', 'consolation', 'walnuts', 'conquered', 'depended', 'applied', 'December', 'hurried', 'reach', 'XV', 'belonged', 'Its', 'filled', 'indignation', 'pretence', 'inferred', 'Cannot', 'invent', 'contented', 'safer', 'action', 'shewn', 'driving', 'farmer', 'talks', 'appearances', 'arisen', 'explain', 'capable', 'moonlight', 'walks', 'merry', 'dwelt', 'humoured', 'falling', 'touch', 'repeating', 'husbands', 'wives', 'subside', 'trifle', 'Consider', 'Tis', 'errand', 'carefully', 'avoided', 'list', 'preserved', 'acceptance', 'summons', 'keeping', 'pleasantly', 'females', 'pleasantness', 'healthy', 'Look', 'laid', 'objectionable', 'likewise', 'acted', 'irritation', 'solitary', 'grandeur', 'supposing', 'omission', 'liberty', 'exert', 'authority', 'excessive', 'Whether', 'surmised', 'Sometimes', 'suspecting', 'notions', 'placing', 'domestic', 'guessed', 'show', 'resentment', 'vicarage', 'louder', 'leg', 'chat', 'Captain', 'offend', 'Are', 'affect', 'active', 'fifty', 'punctually', 'gate', 'misery', 'gentlemanlike', 'acknowledge', 'moderately', 'coarse', 'kitchen', 'owed', 'chief', 'Richard', 'dignity', 'gained', '10', '000', 'l', 'rapidity', 'rise', 'steps', 'accidental', 'richly', 'scattered', 'impressed', 'intelligible', 'protection', 'free', 'Under', 'Midsummer', 'conveyed', 'partake', 'achieved', 'heat', 'VI', 'sadly', 'Going', 'post', 'sign', 'accounts', 'Windsor', 'jumped', 'horror', 'donkey', 'inconstancy', 'inherited', 'trial', 'promises', 'grief', 'skill', 'rejoined', 'occasional', 'Pretty', 'spoiled', 'humanity', 'thirteen', 'alert', 'incapable', 'inevitable', 'foreseeing', ';\"', 'draught', 'fail', 'depressed', 'speeches', 'restraints', 'individual', '--.', 'V', 'quarrel', 'concurrence', 'hesitation', 'ran', 'gets', 'hungry', 'likes', 'street', 'examine', '_Miss_', 'remembrance', 'broad', 'group', 'dialogue', 'unfeeling', 'bit', 'restrain', 'whisper', 'consulting', 'line', 'offers', 'shook', 'mercy', 'advised', 'application', 'quitted', ',--\"', 'pressing', 'intently', 'feasible', 'deceive', 'risk', 'overhearing', 'determine', 'occasions', 'darker', 'January', 'farm', 'neat', 'gravel', 'trees', 'front', 'parted', 'grant', 'horseback', 'pork', 'involuntarily', 'shawl', 'discerned', 'wisest', 'check', 'Tuesday', '_we_', 'cases', 'interference', 'apology', 'holds', '_our_', 'explore', 'beauties', 'committed', 'introduce', 'wherever', 'draw', 'constantly', 'source', 'apartment', 'disappointing', 'welfare', 'neglect', 'supplanted', 'drove', 'agreeing', 'airing', 'asleep', 'solace', 'pang', 'strike', 'foot', 'copied', 'shortly', 'counter', 'convince', 'ribbon', 'yellow', 'associate', 'shilling', 'increased', 'awkward', 'Lord', 'expediency', 'suits', 'calm', 'unknown', 'Hannah', 'bend', 'admire', 'infinite', 'yours', 'deserves', 'humours', 'freedom', 'gloves', 'kissed', 'prodigy', 'selfishness', 'dry', 'whispering', 'joyous', 'prospects', 'blockhead', 'indisposition', 'illnesses', 'conjecture', 'activity', 'paying', 'speedily', 'Don', 'Somebody', 'blind', 'blinded', 'somehow', 'announcing', 'longing', 'pointed', 'intentions', 'mile', 'apart', 'season', 'belief', 'suspicious', 'imaginations', 'dentist', 'persuadable', 'degradation', 'offended', 'softness', 'unsuspicious', 'bell', 'success', 'accompanied', 'rapid', 'calmly', 'pleases', 'capital', 'unnoticed', 'stupid', 'play', 'terror', 'wretch', 'May', 'Considering', 'flesh', 'graver', 'whence', 'social', 'successful', 'preparations', 'melancholy', 'departure', 'feels', 'dissuade', 'venturing', 'interfere', 'idle', 'betrayed', 'bewildered', 'including', 'flourishes', 'longed', 'cotton', 'secresy', 'upstart', 'exclaim', 'broken', 'indulgence', 'Half', 'building', 'M', 'necessity', 'unmerited', 'elder', 'borne', 'modern', 'sized', 'daily', 'crowded', 'corner', 'indulge', 'process', 'About', 'witnessed', 'anticipation', 'momentary', 'detain', 'Something', 'hung', 'class', 'Whom', 'consult', 'exception', 'observant', 'communicative', 'overheard', 'lengths', 'Before', 'church', 'bestowed', 'latest', 'continuing', 'mutually', 'sincerely', 'cheerfulness', 'entering', 'path', 'shock', 'representing', 'missing', 'exertion', 'colour', 'measles', 'abilities', 'competent', 'offence', 'Little', 'grace', 'marries', 'perceiving', 'Might', 'Is', 'abusing', 'broader', 'suited', '_May_', 'Bragge', 'sixteen', 'experience', 'lasts', 'upright', 'earned', 'endeavoured', 'gain', 'Without', 'diffidence', 'lover', 'origin', 'tremble', 'gipsy', 'clearly', 'restored', 'reserved', 'conundrum', 'raptures', 'unfit', 'eating', 'ingratitude', 'destination', 'Dinner', 'harmless', 'excite', 'privy', 'disagreement', 'Another', 'lest', 'apprehension', 'tranquillised', 'subdued', 'undertakes', 'basis', 'direct', 'opposition', 'unnecessarily', 'claimed', 'profession', 'refusal', 'precisely', 'Any', 'disgustingly', 'suspiciously', 'marking', 'improper', 'foolishly', 'denied', 'later', 'lists', 'books', 'regularly', 'irresistible', 'congratulation', 'explanations', 'remiss', 'lasting', 'writer', 'learn', 'fireside', 'enlivened', 'banished', 'anticipated', 'vouchsafe', 'wander', 'manage', 'effort', 'below', 'sights', 'lawyer', 'inconvenient', 'submitted', 'elevation', 'desert', 'hoping', 'counteract', 'contradiction', 'hue', 'seven', 'ridden', 'poorly', 'welcomed', 'dispersed', 'ones', 'instantly', 'pearls', 'dancer', 'checked', 'valued', 'attraction', 'aside', 'understands', 'chose', 'fairy', 'Must', 'Within', 'Am', 'cough', 'require', 'Besides', 'decline', 'Just', 'drawings', 'discipline', 'residence', 'II', 'shrubbery', 'withdrawn', 'attitude', 'matters', 'composure', 'betraying', 'horrible', 'caro', 'sposo', 'jealous', 'incumbent', 'harm', 'definition', 'prevail', 'female', 'slow', 'effects', 'sickness', 'earn', 'elderly', 'alertness', 'endeavouring', 'helpless', 'arrogance', 'insolence', 'ignorant', 'moderate', 'pleasanter', 'whims', 'formidable', 'curious', 'field', 'longest', 'disdain', 'handsomest', 'expectations', 'opposing', 'transition', 'contrast', 'touched', 'dependent', '_well_', 'owing', 'arch', 'November', 'tete', 'disgraced', 'resemblance', 'repetition', 'excuses', 'Coxes', 'plenty', 'Christian', 'refresh', 'memory', 'vexed', 'mortified', 'shocking', 'hill', 'distressing', 'parcels', 'selfish', 'amazing', 'approved', 'encourage', 'troubles', 'considers', 'stoops', 'die', 'fame', 'wound', 'station', 'mantelpiece', 'luxury', 'complying', 'dreaded', 'desiring', '_first_', 'Long', 'esteemed', 'actual', 'advocate', 'W', 'calls', 'dearly', 'poultry', 'charades', 'urged', 'Beyond', 'natured', 'jump', 'trivial', 'recommendations', 'philosophic', 'minds', 'faces', 'embrocation', 'pains', 'partially', 'naivete', 'seized', 'Bickerton', 'terms', 'submissive', 'branch', 'sighing', 'avoiding', 'fetching', 'meditated', '_home_', 'staircase', 'Perfectly', 'opposed', 'alternative', 'vulgar', 'airs', 'pert', 'pretension', 'exclusively', 'Both', 'hitherto', 'lessened', 'desperate', 'emotions', 'embarrassment', 'jealousy', 'Soon', 'sighed', 'diffident', 'amuses', 'consenting', 'false', 'obedience', 'militia', 'trade', 'brothers', 'addresses', 'equality', 'regards', 'reaching', 'quality', 'sickly', 'desires', 'ostler', 'messenger', 'chaise', 'pace', 'seclusion', 'reappeared', 'confirmed', '_he_', 'Having', 'stretching', 'river', 'discovered', 'everywhere', 'hesitate', 'affectation', 'tree', 'impassable', 'lodged', 'signed', 'trimmed', 'salted', 'Serle', 'division', 'apologise', 'pages', 'shoulders', 'Ladies', 'qualities', 'goes', 'brilliant', 'skin', 'gracious', 'smoothness', 'compare', 'grievance', 'gradually', 'practising', 'blunders', 'slightly', 'coloured', 'unconscious', 'assisted', 'confinement', 'cleared', 'resigned', 'restraint', 'lane', 'irregular', 'IX', 'tranquillity', 'stable', 'inn', 'sweep', 'stopping', 'nearer', 'knocked', 'agreeableness', 'animating', 'estimation', 'flirtation', 'disturb', 'improvement', 'resumed', 'positive', 'angel', 'pursuits', 'causes', 'conceived', 'trembling', 'concluding', 'perturbation', '_us_', 'indebted', 'start', 'profusion', 'glimpse', 'Day', 'deficiency', 'Extraordinary', 'succeeding', 'concealing', 'unreasonably', 'imprudence', 'Woodhouses', 'younger', 'project', 'forgetting', 'supplying', 'whist', 'club', 'player', 'inducement', 'commission', 'dropt', 'notion', 'runs', 'unexpected', 'blow', 'clearness', 'contrition', 'top', 'blameless', 'willingly', 'benevolence', 'owes', 'visited', '_We_', 'softened', 'charitable', 'reverie', 'sober', 'wonders', 'salary', 'irresolute', 'threatening', 'reigns', 'virtue', 'proposal', 'promoted', 'space', 'lord', 'XIV', 'Impossible', 'behindhand', 'spending', 'XIII', 'deference', 'arise', 'pretensions', 'reality', 'exchange', 'agony', 'prettily', 'wrapt', 'doating', 'warmer', 'pitch', 'gaiety', 'invention', 'recollections', 'astonishing', '_will_', 'penance', 'rights', 'freshened', 'demands', 'iron', 'leaning', 'sufficed', 'removing', 'displays', 'pomp', 'kings', 'Lords', 'earth', 'remaining', 'unhealthy', 'congratulate', 'gates', 'essential', 'unable', 'calculate', 'practice', 'shocked', 'waste', 'modest', 'Bond', 'black', 'Yet', 'terribly', 'distressed', 'occasionally', 'beautifully', 'declining', 'driven', 'unsuspected', 'stairs', 'outward', 'unmanageable', 'easier', 'range', 'comprehension', 'mental', 'riddles', 'wickedness', 'cleverer', 'conceited', 'employ', 'holiday', 'quivering', 'lip', 'tear', 'evenings', 'proceeding', 'contemplation', 'request', 'strictly', 'portion', 'device', 'sport', 'guessing', 'universally', 'swelling', 'asserted', 'Man', 'boasted', 'flown', 'shower', 'handed', 'vigorously', 'voices', 'miserably', 'mouth', 'inequality', 'plainly', 'unwillingness', 'questioned', '_just_', 'nephews', 'nieces', 'proceedings', 'affairs', 'La', 'Adelaide', 'educated', 'scolded', 'staid', 'raising', 'liable', 'estate', 'answers', '_at_', '_There_', 'sweetest', 'improperly', 'recalled', 'sentimentally', 'wild', 'commonplace', 'grown', 'teachers', 'enable', 'famous', 'tempt', 'insolent', 'quitting', 'heartily', 'recollected', 'significantly', 'forgot', 'lasted', 'respectful', 'topic', 'similar', 'cheek', 'refusing', 'trifles', 'unwell', 'asks', 'gentleness', 'arrangements', 'checking', 'XI', 'gratefully', 'poet', 'hotter', 'uncomfortable', 'mis', 'gravity', 'happening', 'restore', 'unseen', 'allowances', 'censure', 'ending', 'preferable', 'Whoever', 'parents', 'modes', 'Charming', 'box', 'assuming', 'penetration', 'appealed', 'Friday', 'alter', 'composed', 'perception', 'Sucklings', 'tall', 'revived', 'agreeably', 'nursery', 'sketches', 'Swisserland', 'subsequent', 'ninth', 'apprehended', 'allusion', 'divisions', 'coffee', 'cured', 'mare', 'stake', 'travel', 'Better', 'injunction', 'inconsistency', 'purposely', 'owned', 'accordingly', 'industriously', 'entangled', 'plague', 'advance', 'excluded', 'slave', 'needless', 'hurrying', 'disgusted', 'direction', 'falsehood', 'F', 'hazle', 'aspired', 'create', 'alteration', 'footpath', 'dryly', '_lady_', 'rode', 'centre', 'entreaties', 'bilious', 'amongst', 'Romance', 'Forest', 'acknowledging', 'argument', 'deficient', 'infatuation', 'sends', 'hereabouts', 'host', 'implied', 'applications', 'perpetually', 'continually', 'illiterate', 'ye', 'downstairs', 'hesitatingly', 'Alas', 'unheard', 'commit', 'congratulating', 'elegantly', 'owe', 'exemption', 'familiar', 'vulgarity', 'train', 'examining', 'cordiality', 'poignant', 'parley', 'entreated', 'protested', 'injurious', 'urgent', 'complacency', 'deserving', 'roused', 'shaken', \"'--\", 'eats', 'passes', 'subjection', 'rough', 'pitiable', 'assurances', 'Humph', 'cheap', 'projected', 'Inn', 'probabilities', 'sweetbread', 'asparagus', 'repent', 'temporary', 'press', 'condescension', 'deemed', 'strongly', 'replete', 'XVIII', 'related', 'approval', 'beam', 'magnificent', 'duties', 'remains', 'lime', 'impropriety', 'alluded', 'XVII', 'song', 'lives', 'gloom', 'unsuitable', 'reminded', 'forlorn', 'sanction', 'taught', 'nursed', 'childhood', 'boarder', 'apparently', 'attending', 'privileged', 'Observe', 'operation', 'pushing', 'bottom', 'XVI', 'clothed', 'proposals', 'prosperity', 'whispered', 'usage', 'Imagine', 'blunder', 'gaze', 'Full', 'quickest', 'authorised', 'sofa', 'invalid', 'rejoiced', 'obligation', 'contained', 'breathing', 'development', 'dearer', 'transcribed', 'accompanying', 'cordially', 'frown', 'elegancies', 'exclaiming', 'comprehended', 'fix', 'flatter', 'voluntary', 'approving', 'inquired', 'mourning', 'score', 'repeatedly', 'careful', 'roast', 'loin', 'littleness', 'sheltered', 'hero', 'pondering', 'observer', 'displayed', 'overlook', 'inimitable', 'April', 'July', 'vacant', 'concluded', 'sins', 'pocket', 'Partridge', 'strict', 'absenting', 'insincere', 'described', 'bargain', 'storm', 'lamp', 'materially', 'expose', 'indispensable', 'wind', 'discover', 'remarkable', 'Invite', 'virtues', 'perform', 'extensive', 'promote', 'entitled', 'principle', 'doubly', 'Dr', 'Hughes', 'energy', 'thither', 'treasure', 'airy', 'VIII', 'superseded', 'sacrifices', 'Happily', 'overpower', 'shoes', 'impossibility', 'trick', 'formal', 'biscuits', 'X', 'indignantly', '.)', 'Hetty', 'shrubs', 'reads', 'level', 'unhappiness', '_should_', 'governed', 'caprice', 'impertinent', 'condemn', 'musing', 'heal', 'proprietor', 'abrupt', 'accompany', 'compliance', 'striving', 'hating', 'plaintive', 'covered', 'mild', 'escorted', 'luxurious', 'reflect', 'Tea', 'welcoming', 'stout', 'prose', 'disclosure', 'expressive', 'pretending', 'elevate', 'affliction', 'wear', 'Coxe', 'speed', 'unpardonable', 'quest', 'preparatory', 'entertained', 'flattering', 'unpersuadable', 'panic', 'regardless', 'pulse', 'trunk', 'offices', 'applying', 'Pleasant', 're', 'August', 'sale', 'visibly', 'concealed']\n"
          ]
        }
      ],
      "source": [
        "# TODO: create a vocabulary with UNK\n",
        "vocabulary = list(count_word_types(sents_train).keys()) # replace it with your implementation\n",
        "print(vocabulary)"
      ]
    },
    {
      "cell_type": "markdown",
      "id": "1ebe47fd",
      "metadata": {
        "id": "1ebe47fd"
      },
      "source": [
        "Now, show the size of your vocabulary (i.e., how many distinct words in your vocab, including UNK) **(5 points)**:\n",
        "\n",
        "<font color='blue'>PLEASE INPUT YOUR ANSWER BELOW</font>"
      ]
    },
    {
      "cell_type": "code",
      "execution_count": 130,
      "id": "2ac79dcc",
      "metadata": {
        "colab": {
          "base_uri": "https://localhost:8080/"
        },
        "id": "2ac79dcc",
        "outputId": "325dd22f-33b6-48a0-c3da-0bb2e8aa9364"
      },
      "outputs": [
        {
          "name": "stdout",
          "output_type": "stream",
          "text": [
            "Vocabulary size (including UNK): 4183\n"
          ]
        }
      ],
      "source": [
        "# TODO: show the size of your vocabulary\n",
        "vocab_size =  len(vocabulary) # replace it with your implementation\n",
        "\n",
        "print(\"Vocabulary size (including UNK):\", vocab_size)"
      ]
    },
    {
      "cell_type": "markdown",
      "id": "9f2b45f9",
      "metadata": {
        "id": "9f2b45f9"
      },
      "source": [
        "If we use this vocabulary to index sentences in `sents_train`, what are the most frequent words (including UNK)? Show the top 10 word types with their counts. **(5 points)**\n",
        "\n",
        "<font color='blue'>PLEASE INPUT YOUR ANSWER BELOW</font>"
      ]
    },
    {
      "cell_type": "code",
      "execution_count": 131,
      "id": "55ef4f45",
      "metadata": {
        "colab": {
          "base_uri": "https://localhost:8080/"
        },
        "id": "55ef4f45",
        "outputId": "ddc5c236-2c89-4d4d-89a3-385daa0d0acd"
      },
      "outputs": [
        {
          "name": "stdout",
          "output_type": "stream",
          "text": [
            "The most frequent 10 word types with counts:\n",
            ", 9129\n",
            "<s> 6173\n",
            "</s> 6173\n",
            ". 5513\n",
            "to 4115\n",
            "the 3805\n",
            "and 3748\n",
            "of 3386\n",
            "UNK 2931\n",
            "I 2518\n"
          ]
        }
      ],
      "source": [
        "# TODO: Show the top 10 word types and their counts, one in a row, i.e.,\n",
        "# word1, count1\n",
        "# word2, count2\n",
        "# ...\n",
        "# word10, count10\n",
        "\n",
        "vocab_count = count_word_types(sents_train)\n",
        "sorted_words = sorted(vocab_count, key=vocab_count.get, reverse=True)\n",
        "print(\"The most frequent 10 word types with counts:\")\n",
        "for r in sorted_words[:10]:\n",
        "    print(r, vocab_count[r])"
      ]
    },
    {
      "cell_type": "markdown",
      "id": "44b7ea2a",
      "metadata": {
        "id": "44b7ea2a"
      },
      "source": [
        "---\n",
        "**Step 2 -- Build the bigram LM (30 points):** Next, implement the bigram LM $p(w_t|w_{t-1})$ (with add-one smoothing) based on the `sents_train` corpus."
      ]
    },
    {
      "cell_type": "markdown",
      "id": "1d379425",
      "metadata": {
        "id": "1d379425"
      },
      "source": [
        "First, accumulate the bigrams in `sents_train` and create a bigram counter **(10 points)**:\n",
        "\n",
        "<font color='blue'>PLEASE INPUT YOUR ANSWER BELOW</font>"
      ]
    },
    {
      "cell_type": "code",
      "execution_count": 132,
      "id": "cf462e4e",
      "metadata": {
        "id": "cf462e4e"
      },
      "outputs": [],
      "source": [
        "def count_bigrams(sents):\n",
        "    bigrams = {}\n",
        "\n",
        "    # this will sort out UNKs\n",
        "    vocab = count_word_types(sents)\n",
        "\n",
        "    #count all existing bigrams\n",
        "    for sent in sents:\n",
        "        previous = \"<s>\"\n",
        "        for current in [word if word in vocab else \"UNK\" for word in sent]:\n",
        "            add_word_count_to_count_dict((previous, current), bigrams)\n",
        "            previous = current\n",
        "        current = \"</s>\"\n",
        "        add_word_count_to_count_dict((previous, current), bigrams)\n",
        "\n",
        "    #now count all possible non-existing bigrams\n",
        "    for idx, token in enumerate(vocab.keys()):\n",
        "        \n",
        "        for jdx, tokenj in enumerate(list(vocab.keys())[idx:]):\n",
        "            key = (token, tokenj)\n",
        "            if key not in bigrams:\n",
        "                add_word_count_to_count_dict(key, bigrams, 0)\n",
        "            key = (tokenj, token) #also account for reverse relationship\n",
        "            if key not in bigrams:\n",
        "                add_word_count_to_count_dict(key, bigrams, 0)\n",
        "\n",
        "    return bigrams\n",
        "\n",
        "\n",
        "\n",
        "sents_train_bigram_counts = count_bigrams(sents_train)"
      ]
    },
    {
      "cell_type": "markdown",
      "id": "tLhCqVdWLO6N",
      "metadata": {
        "id": "tLhCqVdWLO6N"
      },
      "source": [
        "For how many times in `sents_train` does a sentence start with the word \"I\"?\n",
        "\n",
        "<font color='blue'>PLEASE INPUT YOUR ANSWER BELOW</font>"
      ]
    },
    {
      "cell_type": "code",
      "execution_count": 133,
      "id": "EFro7n39NDRj",
      "metadata": {
        "colab": {
          "base_uri": "https://localhost:8080/"
        },
        "id": "EFro7n39NDRj",
        "outputId": "afe2ea44-c0bf-4363-a51b-20786058fa84"
      },
      "outputs": [
        {
          "name": "stdout",
          "output_type": "stream",
          "text": [
            "Sentences in sent_train starts with the word `I` for times: 502\n"
          ]
        }
      ],
      "source": [
        "# TODO: Complete the code below to show the number of occurrences of \"I\" being the first word in sent_train\n",
        "def get_count_in_bigrams(previous, current, bigram_counts):\n",
        "    if bigram_counts is None or previous is None or current is None:\n",
        "        return 0\n",
        "    if (previous, current) not in bigram_counts:\n",
        "        return 0\n",
        "    return bigram_counts[(previous, current)]\n",
        "\n",
        "\n",
        "i_start_times = get_count_in_bigrams(\"<s>\", \"I\", sents_train_bigram_counts)\n",
        "print(\"Sentences in sent_train starts with the word `I` for times:\", i_start_times)"
      ]
    },
    {
      "cell_type": "markdown",
      "id": "1c6f3bf5",
      "metadata": {
        "id": "1c6f3bf5"
      },
      "source": [
        "Next, create the bigram language model (with add-one smoothing). **(15 points)**\n",
        "\n",
        "**Hint:** The last few lines of code (now commented) are checking $\\sum_{w_t \\in \\text{Vocab}} P(w_t | w_{t-1}) = 1$, i.e., whether the probability mass of `P(w_t|w_{t-1})` sums to 1 when enumerating all possible next word `w_t`. However, the code lines only work when the LM is defined as a dictionary `model_p` which stores `(w_{t-1}, w_t)` as key and its probability as value. You can write your own check if you are not following this data structure.\n",
        "\n",
        "<font color='blue'>PLEASE INPUT YOUR ANSWER BELOW</font>"
      ]
    },
    {
      "cell_type": "code",
      "execution_count": 134,
      "id": "3c50ee5d",
      "metadata": {
        "colab": {
          "base_uri": "https://localhost:8080/"
        },
        "id": "3c50ee5d",
        "outputId": "4baa1d4a-8a72-4e2d-dbcb-713696152328"
      },
      "outputs": [
        {
          "name": "stdout",
          "output_type": "stream",
          "text": [
            "Spent 00h02m18s for the bigram LM construction.\n"
          ]
        }
      ],
      "source": [
        "import time\n",
        "\n",
        "start_time = time.time()\n",
        "\n",
        "# TODO: create your bigram LM\n",
        "model_p = {}\n",
        "bigram_counts = count_bigrams(sents_train) # a dict of {(w_t-1, w_t): count}\n",
        "# complete the implementation for model_p\n",
        "vocab_count = count_word_types(sents_train)\n",
        "vocab_size =  len(vocab_count)\n",
        "for bigram in bigram_counts.keys():\n",
        "    curr_bigram_count = bigram_counts[bigram]\n",
        "    smooth_count = curr_bigram_count + 1\n",
        "    previous_count = vocab_count[bigram[0]]\n",
        "    probability = smooth_count / (previous_count + vocab_size)\n",
        "    model_p[bigram] = probability\n",
        "\n",
        "# Do not modify code after this line\n",
        "end_time = time.time()\n",
        "print(\"Spent %s for the bigram LM construction.\" % time.strftime(\"%Hh%Mm%Ss\", time.gmtime(end_time-start_time)))\n",
        "\n",
        "# The following lines verify the validity of the probability distribution -- it takes a while, please wait.\n",
        "# If you receive an assertion error, then your implementation could be problematic.\n",
        "for w_tm1 in vocabulary:\n",
        "   if w_tm1 == \"</s>\": # not needed\n",
        "       continue\n",
        "   pr_mass = 0 # sum over different w's of p(w|w_tm1)\n",
        "   for w_t in vocabulary:\n",
        "       pr_mass += model_p[(w_tm1, w_t)]\n",
        "   assert isclose(pr_mass, 1.0), \"Probability mass of %s should sum to 1\" % w_tm1 # sum should equals to 1"
      ]
    },
    {
      "cell_type": "markdown",
      "id": "fce6e384",
      "metadata": {
        "id": "fce6e384"
      },
      "source": [
        "Now, can you show the most frequent 10 starting words (i.e., words following `<s>`) with their probabilities to three decimal places (e.g., 0.123)? **(5 points)**\n",
        "\n",
        "<font color='blue'>PLEASE INPUT YOUR ANSWER BELOW</font>"
      ]
    },
    {
      "cell_type": "code",
      "execution_count": 135,
      "id": "bede15cf",
      "metadata": {
        "colab": {
          "base_uri": "https://localhost:8080/"
        },
        "id": "bede15cf",
        "outputId": "510f3076-d6cb-4e00-fd25-6d0d793e6795"
      },
      "outputs": [
        {
          "name": "stdout",
          "output_type": "stream",
          "text": [
            "The most frequent 10 starting words and their probabilities:\n",
            ". 0.4214108910891089\n",
            "Mr 0.18064263322884014\n",
            ".\" 0.17887296289024152\n",
            "' 0.15249500998003993\n",
            "<s> 0.12321359598300502\n",
            "; 0.11745871250421301\n",
            ", 0.11440805288461539\n",
            "Mrs 0.11417072654098707\n",
            "! 0.09732412602503238\n",
            "UNK 0.062271577171773965\n"
          ]
        }
      ],
      "source": [
        "# TODO: Show the most frequent 10 starting words and their probabilities, one in a row, e.g.,\n",
        "# word1, prob1\n",
        "# word2, prob2\n",
        "# ...\n",
        "# word10, prob10\n",
        "\n",
        "sorted_probs = sorted(model_p, key=model_p.get, reverse=True)\n",
        "print(\"The most frequent 10 starting words and their probabilities:\")\n",
        "for r in sorted_probs[:10]:\n",
        "    print(r[0], model_p[r])\n"
      ]
    },
    {
      "cell_type": "markdown",
      "id": "fa701749",
      "metadata": {
        "id": "fa701749"
      },
      "source": [
        "## Part 2: Evaluation of Language Model (30 points)"
      ]
    },
    {
      "cell_type": "markdown",
      "id": "abfb242c",
      "metadata": {
        "id": "abfb242c"
      },
      "source": [
        "**Overview:** In this part, you will implement the perplexity metric ($ppl$) and evaluate your bigram LM on the `sents_test` corpus ($D_{test}$). The math formulation of the perplexity is:\n",
        "\\begin{align}\n",
        "    H(D_{test}) &= \\frac{1}{\\sum_{s \\in D_{test}} |s|} \\sum_{s \\in D_{test}} -\\log_2 P(s),\\\\\n",
        "    ppl(D_{test}) &= 2^{H(D_{test})},\n",
        "\\end{align}\n",
        "where $s \\in D_{test}$ denotes a sentence in the test corpus, $|s|$ is its size (i.e., number of word tokens in the sentence `s`, including the extra `</s>`), $P(s)$ calculates the probability of a sentence $s$, and $H(D_{test})$ is the per-word cross entropy of the LM on the test corpus.\n",
        "\n",
        "Since this part involves log calculation, you could use Python libraries such as `numpy` and `math`. **If you are running the notebook on Google Colab,** the libraries have been installed; **If you are running the notebook locally**, you may need to uncomment the following command and install the two libraries."
      ]
    },
    {
      "cell_type": "code",
      "execution_count": 136,
      "id": "e60c6dce",
      "metadata": {
        "id": "e60c6dce"
      },
      "outputs": [
        {
          "name": "stdout",
          "output_type": "stream",
          "text": [
            "Defaulting to user installation because normal site-packages is not writeable\n",
            "Requirement already satisfied: numpy in c:\\users\\malma\\appdata\\roaming\\python\\python37\\site-packages (1.21.6)\n"
          ]
        }
      ],
      "source": [
        "!pip3 install numpy"
      ]
    },
    {
      "cell_type": "code",
      "execution_count": 137,
      "id": "5f4802aa",
      "metadata": {
        "id": "5f4802aa"
      },
      "outputs": [],
      "source": [
        "import numpy as np\n",
        "import math"
      ]
    },
    {
      "cell_type": "markdown",
      "id": "0636ad94",
      "metadata": {
        "id": "0636ad94"
      },
      "source": [
        "---\n",
        "**Step 1 -- Calculate the log2 probability of a test sentence (20 points):** You will first implement the calculation of $\\log_2 P(s)$ using the LM you have constructed in Part 1:\n",
        "$$ \\log_2 P(s) = \\log_2 p(w_1| \\text{<s>}) + \\log_2 p(\\text{</s>}|w_T) + \\sum_{t=2}^T \\log_2 p(w_t|w_{t-1}).$$\n",
        "\n",
        "**Hint:** Don't forget to handle UNK tokens!\n",
        "\n",
        "<font color='blue'>PLEASE INPUT YOUR ANSWER BELOW</font>"
      ]
    },
    {
      "cell_type": "code",
      "execution_count": 138,
      "id": "cc4a285b",
      "metadata": {
        "id": "cc4a285b"
      },
      "outputs": [],
      "source": [
        "# TODO: The log2_P function should return a floating number indicating log2 P(s)\n",
        "\n",
        "\n",
        "corpus_vocab = count_word_types(sents_train)\n",
        "def convert_if_unk(token):\n",
        "    return token if token in corpus_vocab else \"UNK\"\n",
        "\n",
        "def log2_P(sent: List[str]) -> float:\n",
        "    start_s_log = math.log2(model_p[(\"<s>\", convert_if_unk(sent[0]))])\n",
        "    end_s_log = math.log2(model_p[(convert_if_unk(sent[-1]), \"</s>\")])\n",
        "    final_log = start_s_log + end_s_log\n",
        "    for idx, token in enumerate(sent):\n",
        "        if idx == 0:\n",
        "            continue\n",
        "        final_log += math.log2(model_p[(convert_if_unk(sent[idx - 1]),convert_if_unk(sent[idx]))])\n",
        "    return final_log"
      ]
    },
    {
      "cell_type": "markdown",
      "id": "6724c2a9",
      "metadata": {
        "id": "6724c2a9"
      },
      "source": [
        "Here's an example of how your $\\log_2 P$ function will be used. The example shows the function output for the first sentence in the test set `sents_test`."
      ]
    },
    {
      "cell_type": "code",
      "execution_count": 139,
      "id": "bb4bdb20",
      "metadata": {
        "colab": {
          "base_uri": "https://localhost:8080/"
        },
        "id": "bb4bdb20",
        "outputId": "437ebec9-9495-4b9f-cd32-a5522fa2a66d"
      },
      "outputs": [
        {
          "name": "stdout",
          "output_type": "stream",
          "text": [
            "sentence: ['The', 'extent', 'of', 'your', 'admiration', 'may', 'take', 'you', 'by', 'surprize', 'some', 'day', 'or', 'other', '.\"']\n",
            "log2_P returns: -155.82667136701377\n"
          ]
        }
      ],
      "source": [
        "s = sents_test[0]\n",
        "print(\"sentence:\", s)\n",
        "log2_pr = log2_P(s)\n",
        "print(\"log2_P returns:\", log2_pr)"
      ]
    },
    {
      "cell_type": "markdown",
      "id": "41da3d2e",
      "metadata": {
        "id": "41da3d2e"
      },
      "source": [
        "---\n",
        "**Step 2 -- Calculate the per-word cross entropy (10 point):** You will then implement $H(D_{test})$ by reusing the $log2\\_P$ function defined in Step 1.\n",
        "\n",
        "<font color='blue'>PLEASE INPUT YOUR ANSWER BELOW</font>"
      ]
    },
    {
      "cell_type": "code",
      "execution_count": 140,
      "id": "e1047dcf",
      "metadata": {
        "id": "e1047dcf"
      },
      "outputs": [],
      "source": [
        "# TODO: The H function should return a floating number indicating H(sents)\n",
        "def H(sents: List[List[str]]) -> float:\n",
        "\n",
        "    sent_magnitudes = sum([(len(sent) + 2) for sent in sents]) # +2 to account for EoS and SoS\n",
        "\n",
        "    log2_ps = sum([log2_P(sent) * -1 for sent in sents])\n",
        "\n",
        "    return (1/sent_magnitudes) * log2_ps"
      ]
    },
    {
      "cell_type": "markdown",
      "id": "719002db",
      "metadata": {
        "id": "719002db"
      },
      "source": [
        "Here's an example how your $H$ function will be used:"
      ]
    },
    {
      "cell_type": "code",
      "execution_count": 141,
      "id": "9788b643",
      "metadata": {
        "colab": {
          "base_uri": "https://localhost:8080/"
        },
        "id": "9788b643",
        "outputId": "828453f4-0fdb-4dc9-ac7b-ed7e83a86d83"
      },
      "outputs": [
        {
          "name": "stdout",
          "output_type": "stream",
          "text": [
            "sents: [['The', 'extent', 'of', 'your', 'admiration', 'may', 'take', 'you', 'by', 'surprize', 'some', 'day', 'or', 'other', '.\"']]\n",
            "H returns: 9.166274786294927\n"
          ]
        }
      ],
      "source": [
        "sents_sample = [sents_test[0]]\n",
        "print(\"sents:\", sents_sample)\n",
        "h_value = H(sents_sample)\n",
        "print(\"H returns:\", h_value)"
      ]
    },
    {
      "cell_type": "markdown",
      "id": "cecfb93f",
      "metadata": {
        "id": "cecfb93f"
      },
      "source": [
        "---\n",
        "**Step 3 -- Implement the perplexity metric:** After defining $H(D_{test})$, you can define the perplexity function $ppl$."
      ]
    },
    {
      "cell_type": "code",
      "execution_count": 142,
      "id": "fb5beafe",
      "metadata": {
        "id": "fb5beafe"
      },
      "outputs": [],
      "source": [
        "# The ppl function should return a floating number indicating the perplexity of the LM on `sents`\n",
        "def ppl(sents: List[List[str]]) -> float:\n",
        "    h_value = H(sents)\n",
        "    return 2**h_value"
      ]
    },
    {
      "cell_type": "markdown",
      "id": "30826dad",
      "metadata": {
        "id": "30826dad"
      },
      "source": [
        "**Finally,** let's evaluate the bigram LM you have constructed in Part 1 on the `sents_test` test corpus:"
      ]
    },
    {
      "cell_type": "code",
      "execution_count": 143,
      "id": "428e7c92",
      "metadata": {
        "colab": {
          "base_uri": "https://localhost:8080/"
        },
        "id": "428e7c92",
        "outputId": "094e3555-5d27-4306-e91a-444c005c4602"
      },
      "outputs": [
        {
          "name": "stdout",
          "output_type": "stream",
          "text": [
            "Perplexity: 334.163233816831\n"
          ]
        }
      ],
      "source": [
        "ppl_value = ppl(sents_test)\n",
        "print(\"Perplexity:\", ppl_value)"
      ]
    },
    {
      "cell_type": "markdown",
      "id": "c21d0c58",
      "metadata": {
        "id": "c21d0c58"
      },
      "source": [
        "## Part 3: Sampling from Language Model (20 points)"
      ]
    },
    {
      "cell_type": "markdown",
      "id": "0d959815",
      "metadata": {
        "id": "0d959815"
      },
      "source": [
        "**Overview:** The last part is about sampling different sentences from the learned language model. This means to repeatedly sample the next word based on the current word, until producing an end-of-sentence (`</s>`) token or the sentence length reaches a pre-defined limit (let's set `max_len`=50). Remember that each sentence should start from the special start-of-sentence (`<s>`) token."
      ]
    },
    {
      "cell_type": "code",
      "execution_count": 144,
      "id": "741dd9b4",
      "metadata": {
        "id": "741dd9b4"
      },
      "outputs": [],
      "source": [
        "max_len = 50"
      ]
    },
    {
      "cell_type": "markdown",
      "id": "15b82575",
      "metadata": {
        "id": "15b82575"
      },
      "source": [
        "---\n",
        "**Step 1 -- Greedy decoding (10 point):** Please sample one sentence from the bigram language model using greedy decoding, i.e., always choosing the most probable word as the next word, until producing an end-of-sentence token (`</s>`) or the sentence length reaches a pre-defined limit `max_len`.\n",
        "\n",
        "<font color='blue'>PLEASE INPUT YOUR ANSWER BELOW</font>"
      ]
    },
    {
      "cell_type": "code",
      "execution_count": 145,
      "id": "890083f4",
      "metadata": {
        "colab": {
          "base_uri": "https://localhost:8080/"
        },
        "id": "890083f4",
        "outputId": "1e097071-ffb0-4037-aee1-e1ece4b13086"
      },
      "outputs": [
        {
          "name": "stdout",
          "output_type": "stream",
          "text": [
            "['<s>', '\"', 'I', 'am', 'sure', ',', 'and', 'the', 'UNK', ',', 'and', 'the', 'UNK', ',', 'and', 'the', 'UNK', ',', 'and', 'the', 'UNK', ',', 'and', 'the', 'UNK', ',', 'and', 'the', 'UNK', ',', 'and', 'the', 'UNK', ',', 'and', 'the', 'UNK', ',', 'and', 'the', 'UNK', ',', 'and', 'the', 'UNK', ',', 'and', 'the', 'UNK', ',', '</s>']\n",
            "<s> \" I am sure , and the UNK , and the UNK , and the UNK , and the UNK , and the UNK , and the UNK , and the UNK , and the UNK , and the UNK , and the UNK , and the UNK , </s>\n"
          ]
        }
      ],
      "source": [
        "# greedy decoding\n",
        "sent = [] # used to store the generated words in your sentence\n",
        "\n",
        "sample = \"<s>\"\n",
        "sent.append(sample)\n",
        "length = 1\n",
        "while True:\n",
        "    if length >= max_len:\n",
        "        sent.append(\"</s>\")\n",
        "        break\n",
        "\n",
        "    sample_probs = {k:v for k, v in model_p.items() if sample == k[0]}\n",
        "    top_prob = sorted(sample_probs, key=sample_probs.get, reverse=True)[0]\n",
        "    sample = top_prob[1]\n",
        "\n",
        "    sent.append(sample)\n",
        "    length += 1\n",
        "    if sample == \"</s>\":\n",
        "        break\n",
        "\n",
        "# print the decoded sentence\n",
        "print(sent)\n",
        "print(\" \".join(sent))"
      ]
    },
    {
      "cell_type": "markdown",
      "id": "f42ecd04",
      "metadata": {
        "id": "f42ecd04"
      },
      "source": [
        "---\n",
        "**Step 2 -- Sampling by distribution (10 point):** To encourage diversity while maintaining a certain degree of \"naturalness\", we could sample the next word following the LM's next-word probability distribution, i.e., $w \\sim p(w|w_{t-1})$. Please implement this sampling strategy. Same as before, the generation should end when producing an end-of-sentence token (`</s>`) or the sentence length reaches a pre-defined limit `max_len`.\n",
        "\n",
        "**Hint:** You could use `numpy.random.choice` to implement the sampling.\n",
        "\n",
        "<font color='blue'>PLEASE INPUT YOUR ANSWER BELOW</font>"
      ]
    },
    {
      "cell_type": "code",
      "execution_count": 146,
      "id": "cb1c9806",
      "metadata": {
        "colab": {
          "base_uri": "https://localhost:8080/"
        },
        "id": "cb1c9806",
        "outputId": "ceae0212-a983-4740-87c6-8319514a64bc"
      },
      "outputs": [
        {
          "name": "stdout",
          "output_type": "stream",
          "text": [
            "['<s>', 'She', 'deem', 'defer', 'successful', 'degradation', 'fond', 'Crown', 'colour', 'XVIII', 'inn', 'presented', 'Perhaps', 'lovers', 'reach', 'sex', 'pencil', 'produced', 'rather', 'asleep', 'succeeding', 'influence', 'dreadfully', 'glaring', 'alloy', 'agreeably', 'resources', 'itself', 'flourishes', 'fixed', 'multiplied', 'apologise', 'Pass', 'marries', 'feature', 'precious', 'Go', 'judged', 'refusing', 'learned', 'tear', 'reason', 'privilege', 'hurt', 'delicate', 'stranger', 'tacitly', 'ushered', \",'\", 'recollection', '</s>']\n",
            "<s> She deem defer successful degradation fond Crown colour XVIII inn presented Perhaps lovers reach sex pencil produced rather asleep succeeding influence dreadfully glaring alloy agreeably resources itself flourishes fixed multiplied apologise Pass marries feature precious Go judged refusing learned tear reason privilege hurt delicate stranger tacitly ushered ,' recollection </s>\n"
          ]
        }
      ],
      "source": [
        "np.random.seed(1234) # for grading purpose, do not change the random seed\n",
        "\n",
        "sent = [] # used to store your sentence\n",
        "\n",
        "sample = \"<s>\"\n",
        "sent.append(sample)\n",
        "length = 1\n",
        "while True:\n",
        "    if length >= max_len:\n",
        "        sent.append(\"</s>\")\n",
        "        break\n",
        "\n",
        "    sample_distribution = {k:v for k, v in model_p.items() if sample == k[0]}\n",
        "    choices = [key[1] for key in sample_distribution.keys()]\n",
        "    #print(choices)\n",
        "    probabilities = list(sample_distribution.values())\n",
        "    #print(probabilities)\n",
        "    #print(sample_distribution)\n",
        "    random_prob = np.random.choice(choices, 1, p=probabilities)\n",
        "    #print(random_prob)\n",
        "    sample = random_prob[0]\n",
        "    \n",
        "    sent.append(sample)\n",
        "    length += 1\n",
        "    if sample == \"</s>\":\n",
        "        break\n",
        "\n",
        "# print the decoded sentence\n",
        "print(sent)\n",
        "print(\" \".join(sent))"
      ]
    },
    {
      "cell_type": "markdown",
      "id": "d715a877",
      "metadata": {
        "id": "d715a877"
      },
      "source": [
        "## Congrats! You have completed your assignment. Don't forget to save your notebook (including the cell outputs). Follow the Submission Guideline to submit the completed PDF to Gradescope."
      ]
    }
  ],
  "metadata": {
    "colab": {
      "provenance": []
    },
    "kernelspec": {
      "display_name": "Python 3 (ipykernel)",
      "language": "python",
      "name": "python3"
    },
    "language_info": {
      "codemirror_mode": {
        "name": "ipython",
        "version": 3
      },
      "file_extension": ".py",
      "mimetype": "text/x-python",
      "name": "python",
      "nbconvert_exporter": "python",
      "pygments_lexer": "ipython3",
      "version": "3.7.3"
    },
    "vscode": {
      "interpreter": {
        "hash": "52a6295e16456078059e92487b3807f4984b19b09542b8f052beb2147b3192fb"
      }
    }
  },
  "nbformat": 4,
  "nbformat_minor": 5
}
