{
  "cells": [
    {
      "cell_type": "markdown",
      "metadata": {
        "id": "LI0vhoNLAEJm"
      },
      "source": [
        "# Assignment 6: CheckList a BERT-based Sentiment Classifier (100 Points)\n",
        "\n",
        "Instructor: Ziyu Yao; Class: CS478 Fall 2024\n",
        "\n",
        "This assignment will extend from the previous sentiment classification assignments. The goal is to analyze a BERT-based sentiment classifier, checking when it may fail and gain more sense about how well it works.\n",
        "\n",
        "To this end, this assignment will have two parts:\n",
        "- **Part 1 (70 Points):** We will use the CheckList tool (https://github.com/marcotcr/checklist) to _perturb_ test examples and see how robust the classifier is;\n",
        "- **Part 2 (30 Points):** Your creative work -- it's your turn to propose new tests and reveal additional potentially issues with the classifier!\n",
        "\n",
        "Follow the instructions on the assignment PDF for submission."
      ]
    },
    {
      "cell_type": "markdown",
      "metadata": {
        "id": "ng7Io71mAEJn"
      },
      "source": [
        "To get started, we will first install the checklist library and the spacy model `en_core_web_sm`."
      ]
    },
    {
      "cell_type": "code",
      "execution_count": 23,
      "metadata": {
        "colab": {
          "base_uri": "https://localhost:8080/"
        },
        "id": "LYYdQuxeAEJn",
        "outputId": "1efce21e-a874-448b-b381-4534e7729218",
        "scrolled": false
      },
      "outputs": [
        {
          "output_type": "stream",
          "name": "stdout",
          "text": [
            "Requirement already satisfied: checklist in /usr/local/lib/python3.10/dist-packages (0.0.11)\n",
            "Requirement already satisfied: numpy>=1.18 in /usr/local/lib/python3.10/dist-packages (from checklist) (1.26.4)\n",
            "Requirement already satisfied: spacy>=2.2 in /usr/local/lib/python3.10/dist-packages (from checklist) (3.7.5)\n",
            "Requirement already satisfied: munch>=2.5 in /usr/local/lib/python3.10/dist-packages (from checklist) (4.0.0)\n",
            "Requirement already satisfied: dill>=0.3.1 in /usr/local/lib/python3.10/dist-packages (from checklist) (0.3.9)\n",
            "Requirement already satisfied: jupyter>=1.0 in /usr/local/lib/python3.10/dist-packages (from checklist) (1.1.1)\n",
            "Requirement already satisfied: ipywidgets>=7.5 in /usr/local/lib/python3.10/dist-packages (from checklist) (7.7.1)\n",
            "Requirement already satisfied: transformers>=2.8 in /usr/local/lib/python3.10/dist-packages (from checklist) (4.46.3)\n",
            "Requirement already satisfied: patternfork-nosql in /usr/local/lib/python3.10/dist-packages (from checklist) (3.6)\n",
            "Requirement already satisfied: iso-639 in /usr/local/lib/python3.10/dist-packages (from checklist) (0.4.5)\n",
            "Requirement already satisfied: ipykernel>=4.5.1 in /usr/local/lib/python3.10/dist-packages (from ipywidgets>=7.5->checklist) (6.29.5)\n",
            "Requirement already satisfied: ipython-genutils~=0.2.0 in /usr/local/lib/python3.10/dist-packages (from ipywidgets>=7.5->checklist) (0.2.0)\n",
            "Requirement already satisfied: traitlets>=4.3.1 in /usr/local/lib/python3.10/dist-packages (from ipywidgets>=7.5->checklist) (5.7.1)\n",
            "Requirement already satisfied: widgetsnbextension~=3.6.0 in /usr/local/lib/python3.10/dist-packages (from ipywidgets>=7.5->checklist) (3.6.10)\n",
            "Requirement already satisfied: ipython>=4.0.0 in /usr/local/lib/python3.10/dist-packages (from ipywidgets>=7.5->checklist) (7.34.0)\n",
            "Requirement already satisfied: jupyterlab-widgets>=1.0.0 in /usr/local/lib/python3.10/dist-packages (from ipywidgets>=7.5->checklist) (3.0.13)\n",
            "Requirement already satisfied: notebook in /usr/local/lib/python3.10/dist-packages (from jupyter>=1.0->checklist) (6.5.5)\n",
            "Requirement already satisfied: jupyter-console in /usr/local/lib/python3.10/dist-packages (from jupyter>=1.0->checklist) (6.1.0)\n",
            "Requirement already satisfied: nbconvert in /usr/local/lib/python3.10/dist-packages (from jupyter>=1.0->checklist) (7.16.4)\n",
            "Requirement already satisfied: jupyterlab in /usr/local/lib/python3.10/dist-packages (from jupyter>=1.0->checklist) (4.3.2)\n",
            "Requirement already satisfied: spacy-legacy<3.1.0,>=3.0.11 in /usr/local/lib/python3.10/dist-packages (from spacy>=2.2->checklist) (3.0.12)\n",
            "Requirement already satisfied: spacy-loggers<2.0.0,>=1.0.0 in /usr/local/lib/python3.10/dist-packages (from spacy>=2.2->checklist) (1.0.5)\n",
            "Requirement already satisfied: murmurhash<1.1.0,>=0.28.0 in /usr/local/lib/python3.10/dist-packages (from spacy>=2.2->checklist) (1.0.11)\n",
            "Requirement already satisfied: cymem<2.1.0,>=2.0.2 in /usr/local/lib/python3.10/dist-packages (from spacy>=2.2->checklist) (2.0.10)\n",
            "Requirement already satisfied: preshed<3.1.0,>=3.0.2 in /usr/local/lib/python3.10/dist-packages (from spacy>=2.2->checklist) (3.0.9)\n",
            "Requirement already satisfied: thinc<8.3.0,>=8.2.2 in /usr/local/lib/python3.10/dist-packages (from spacy>=2.2->checklist) (8.2.5)\n",
            "Requirement already satisfied: wasabi<1.2.0,>=0.9.1 in /usr/local/lib/python3.10/dist-packages (from spacy>=2.2->checklist) (1.1.3)\n",
            "Requirement already satisfied: srsly<3.0.0,>=2.4.3 in /usr/local/lib/python3.10/dist-packages (from spacy>=2.2->checklist) (2.4.8)\n",
            "Requirement already satisfied: catalogue<2.1.0,>=2.0.6 in /usr/local/lib/python3.10/dist-packages (from spacy>=2.2->checklist) (2.0.10)\n",
            "Requirement already satisfied: weasel<0.5.0,>=0.1.0 in /usr/local/lib/python3.10/dist-packages (from spacy>=2.2->checklist) (0.4.1)\n",
            "Requirement already satisfied: typer<1.0.0,>=0.3.0 in /usr/local/lib/python3.10/dist-packages (from spacy>=2.2->checklist) (0.15.0)\n",
            "Requirement already satisfied: tqdm<5.0.0,>=4.38.0 in /usr/local/lib/python3.10/dist-packages (from spacy>=2.2->checklist) (4.66.6)\n",
            "Requirement already satisfied: requests<3.0.0,>=2.13.0 in /usr/local/lib/python3.10/dist-packages (from spacy>=2.2->checklist) (2.32.3)\n",
            "Requirement already satisfied: pydantic!=1.8,!=1.8.1,<3.0.0,>=1.7.4 in /usr/local/lib/python3.10/dist-packages (from spacy>=2.2->checklist) (2.10.3)\n",
            "Requirement already satisfied: jinja2 in /usr/local/lib/python3.10/dist-packages (from spacy>=2.2->checklist) (3.1.4)\n",
            "Requirement already satisfied: setuptools in /usr/local/lib/python3.10/dist-packages (from spacy>=2.2->checklist) (75.1.0)\n",
            "Requirement already satisfied: packaging>=20.0 in /usr/local/lib/python3.10/dist-packages (from spacy>=2.2->checklist) (24.2)\n",
            "Requirement already satisfied: langcodes<4.0.0,>=3.2.0 in /usr/local/lib/python3.10/dist-packages (from spacy>=2.2->checklist) (3.5.0)\n",
            "Requirement already satisfied: filelock in /usr/local/lib/python3.10/dist-packages (from transformers>=2.8->checklist) (3.16.1)\n",
            "Requirement already satisfied: huggingface-hub<1.0,>=0.23.2 in /usr/local/lib/python3.10/dist-packages (from transformers>=2.8->checklist) (0.26.3)\n",
            "Requirement already satisfied: pyyaml>=5.1 in /usr/local/lib/python3.10/dist-packages (from transformers>=2.8->checklist) (6.0.2)\n",
            "Requirement already satisfied: regex!=2019.12.17 in /usr/local/lib/python3.10/dist-packages (from transformers>=2.8->checklist) (2024.9.11)\n",
            "Requirement already satisfied: tokenizers<0.21,>=0.20 in /usr/local/lib/python3.10/dist-packages (from transformers>=2.8->checklist) (0.20.3)\n",
            "Requirement already satisfied: safetensors>=0.4.1 in /usr/local/lib/python3.10/dist-packages (from transformers>=2.8->checklist) (0.4.5)\n",
            "Requirement already satisfied: future in /usr/local/lib/python3.10/dist-packages (from patternfork-nosql->checklist) (1.0.0)\n",
            "Requirement already satisfied: backports.csv in /usr/local/lib/python3.10/dist-packages (from patternfork-nosql->checklist) (1.0.7)\n",
            "Requirement already satisfied: beautifulsoup4 in /usr/local/lib/python3.10/dist-packages (from patternfork-nosql->checklist) (4.12.3)\n",
            "Requirement already satisfied: lxml in /usr/local/lib/python3.10/dist-packages (from patternfork-nosql->checklist) (5.3.0)\n",
            "Requirement already satisfied: feedparser in /usr/local/lib/python3.10/dist-packages (from patternfork-nosql->checklist) (6.0.11)\n",
            "Requirement already satisfied: pdfminer.six in /usr/local/lib/python3.10/dist-packages (from patternfork-nosql->checklist) (20240706)\n",
            "Requirement already satisfied: scipy in /usr/local/lib/python3.10/dist-packages (from patternfork-nosql->checklist) (1.13.1)\n",
            "Requirement already satisfied: nltk in /usr/local/lib/python3.10/dist-packages (from patternfork-nosql->checklist) (3.9.1)\n",
            "Requirement already satisfied: python-docx in /usr/local/lib/python3.10/dist-packages (from patternfork-nosql->checklist) (1.1.2)\n",
            "Requirement already satisfied: cherrypy in /usr/local/lib/python3.10/dist-packages (from patternfork-nosql->checklist) (18.10.0)\n",
            "Requirement already satisfied: fsspec>=2023.5.0 in /usr/local/lib/python3.10/dist-packages (from huggingface-hub<1.0,>=0.23.2->transformers>=2.8->checklist) (2024.10.0)\n",
            "Requirement already satisfied: typing-extensions>=3.7.4.3 in /usr/local/lib/python3.10/dist-packages (from huggingface-hub<1.0,>=0.23.2->transformers>=2.8->checklist) (4.12.2)\n",
            "Requirement already satisfied: comm>=0.1.1 in /usr/local/lib/python3.10/dist-packages (from ipykernel>=4.5.1->ipywidgets>=7.5->checklist) (0.2.2)\n",
            "Requirement already satisfied: debugpy>=1.6.5 in /usr/local/lib/python3.10/dist-packages (from ipykernel>=4.5.1->ipywidgets>=7.5->checklist) (1.8.0)\n",
            "Requirement already satisfied: jupyter-client>=6.1.12 in /usr/local/lib/python3.10/dist-packages (from ipykernel>=4.5.1->ipywidgets>=7.5->checklist) (7.4.9)\n",
            "Requirement already satisfied: jupyter-core!=5.0.*,>=4.12 in /usr/local/lib/python3.10/dist-packages (from ipykernel>=4.5.1->ipywidgets>=7.5->checklist) (5.7.2)\n",
            "Requirement already satisfied: matplotlib-inline>=0.1 in /usr/local/lib/python3.10/dist-packages (from ipykernel>=4.5.1->ipywidgets>=7.5->checklist) (0.1.7)\n",
            "Requirement already satisfied: nest-asyncio in /usr/local/lib/python3.10/dist-packages (from ipykernel>=4.5.1->ipywidgets>=7.5->checklist) (1.6.0)\n",
            "Requirement already satisfied: psutil in /usr/local/lib/python3.10/dist-packages (from ipykernel>=4.5.1->ipywidgets>=7.5->checklist) (5.9.5)\n",
            "Requirement already satisfied: pyzmq>=24 in /usr/local/lib/python3.10/dist-packages (from ipykernel>=4.5.1->ipywidgets>=7.5->checklist) (24.0.1)\n",
            "Requirement already satisfied: tornado>=6.1 in /usr/local/lib/python3.10/dist-packages (from ipykernel>=4.5.1->ipywidgets>=7.5->checklist) (6.3.3)\n",
            "Requirement already satisfied: jedi>=0.16 in /usr/local/lib/python3.10/dist-packages (from ipython>=4.0.0->ipywidgets>=7.5->checklist) (0.19.2)\n",
            "Requirement already satisfied: decorator in /usr/local/lib/python3.10/dist-packages (from ipython>=4.0.0->ipywidgets>=7.5->checklist) (4.4.2)\n",
            "Requirement already satisfied: pickleshare in /usr/local/lib/python3.10/dist-packages (from ipython>=4.0.0->ipywidgets>=7.5->checklist) (0.7.5)\n",
            "Requirement already satisfied: prompt-toolkit!=3.0.0,!=3.0.1,<3.1.0,>=2.0.0 in /usr/local/lib/python3.10/dist-packages (from ipython>=4.0.0->ipywidgets>=7.5->checklist) (3.0.48)\n",
            "Requirement already satisfied: pygments in /usr/local/lib/python3.10/dist-packages (from ipython>=4.0.0->ipywidgets>=7.5->checklist) (2.18.0)\n",
            "Requirement already satisfied: backcall in /usr/local/lib/python3.10/dist-packages (from ipython>=4.0.0->ipywidgets>=7.5->checklist) (0.2.0)\n",
            "Requirement already satisfied: pexpect>4.3 in /usr/local/lib/python3.10/dist-packages (from ipython>=4.0.0->ipywidgets>=7.5->checklist) (4.9.0)\n",
            "Requirement already satisfied: language-data>=1.2 in /usr/local/lib/python3.10/dist-packages (from langcodes<4.0.0,>=3.2.0->spacy>=2.2->checklist) (1.3.0)\n",
            "Requirement already satisfied: annotated-types>=0.6.0 in /usr/local/lib/python3.10/dist-packages (from pydantic!=1.8,!=1.8.1,<3.0.0,>=1.7.4->spacy>=2.2->checklist) (0.7.0)\n",
            "Requirement already satisfied: pydantic-core==2.27.1 in /usr/local/lib/python3.10/dist-packages (from pydantic!=1.8,!=1.8.1,<3.0.0,>=1.7.4->spacy>=2.2->checklist) (2.27.1)\n",
            "Requirement already satisfied: charset-normalizer<4,>=2 in /usr/local/lib/python3.10/dist-packages (from requests<3.0.0,>=2.13.0->spacy>=2.2->checklist) (3.4.0)\n",
            "Requirement already satisfied: idna<4,>=2.5 in /usr/local/lib/python3.10/dist-packages (from requests<3.0.0,>=2.13.0->spacy>=2.2->checklist) (3.10)\n",
            "Requirement already satisfied: urllib3<3,>=1.21.1 in /usr/local/lib/python3.10/dist-packages (from requests<3.0.0,>=2.13.0->spacy>=2.2->checklist) (2.2.3)\n",
            "Requirement already satisfied: certifi>=2017.4.17 in /usr/local/lib/python3.10/dist-packages (from requests<3.0.0,>=2.13.0->spacy>=2.2->checklist) (2024.8.30)\n",
            "Requirement already satisfied: blis<0.8.0,>=0.7.8 in /usr/local/lib/python3.10/dist-packages (from thinc<8.3.0,>=8.2.2->spacy>=2.2->checklist) (0.7.11)\n",
            "Requirement already satisfied: confection<1.0.0,>=0.0.1 in /usr/local/lib/python3.10/dist-packages (from thinc<8.3.0,>=8.2.2->spacy>=2.2->checklist) (0.1.5)\n",
            "Requirement already satisfied: click>=8.0.0 in /usr/local/lib/python3.10/dist-packages (from typer<1.0.0,>=0.3.0->spacy>=2.2->checklist) (8.1.7)\n",
            "Requirement already satisfied: shellingham>=1.3.0 in /usr/local/lib/python3.10/dist-packages (from typer<1.0.0,>=0.3.0->spacy>=2.2->checklist) (1.5.4)\n",
            "Requirement already satisfied: rich>=10.11.0 in /usr/local/lib/python3.10/dist-packages (from typer<1.0.0,>=0.3.0->spacy>=2.2->checklist) (13.9.4)\n",
            "Requirement already satisfied: cloudpathlib<1.0.0,>=0.7.0 in /usr/local/lib/python3.10/dist-packages (from weasel<0.5.0,>=0.1.0->spacy>=2.2->checklist) (0.20.0)\n",
            "Requirement already satisfied: smart-open<8.0.0,>=5.2.1 in /usr/local/lib/python3.10/dist-packages (from weasel<0.5.0,>=0.1.0->spacy>=2.2->checklist) (7.0.5)\n",
            "Requirement already satisfied: argon2-cffi in /usr/local/lib/python3.10/dist-packages (from notebook->jupyter>=1.0->checklist) (23.1.0)\n",
            "Requirement already satisfied: nbformat in /usr/local/lib/python3.10/dist-packages (from notebook->jupyter>=1.0->checklist) (5.10.4)\n",
            "Requirement already satisfied: Send2Trash>=1.8.0 in /usr/local/lib/python3.10/dist-packages (from notebook->jupyter>=1.0->checklist) (1.8.3)\n",
            "Requirement already satisfied: terminado>=0.8.3 in /usr/local/lib/python3.10/dist-packages (from notebook->jupyter>=1.0->checklist) (0.18.1)\n",
            "Requirement already satisfied: prometheus-client in /usr/local/lib/python3.10/dist-packages (from notebook->jupyter>=1.0->checklist) (0.21.1)\n",
            "Requirement already satisfied: nbclassic>=0.4.7 in /usr/local/lib/python3.10/dist-packages (from notebook->jupyter>=1.0->checklist) (1.1.0)\n",
            "Requirement already satisfied: bleach!=5.0.0 in /usr/local/lib/python3.10/dist-packages (from nbconvert->jupyter>=1.0->checklist) (6.2.0)\n",
            "Requirement already satisfied: defusedxml in /usr/local/lib/python3.10/dist-packages (from nbconvert->jupyter>=1.0->checklist) (0.7.1)\n",
            "Requirement already satisfied: jupyterlab-pygments in /usr/local/lib/python3.10/dist-packages (from nbconvert->jupyter>=1.0->checklist) (0.3.0)\n",
            "Requirement already satisfied: markupsafe>=2.0 in /usr/local/lib/python3.10/dist-packages (from nbconvert->jupyter>=1.0->checklist) (3.0.2)\n",
            "Requirement already satisfied: mistune<4,>=2.0.3 in /usr/local/lib/python3.10/dist-packages (from nbconvert->jupyter>=1.0->checklist) (3.0.2)\n",
            "Requirement already satisfied: nbclient>=0.5.0 in /usr/local/lib/python3.10/dist-packages (from nbconvert->jupyter>=1.0->checklist) (0.10.1)\n",
            "Requirement already satisfied: pandocfilters>=1.4.1 in /usr/local/lib/python3.10/dist-packages (from nbconvert->jupyter>=1.0->checklist) (1.5.1)\n",
            "Requirement already satisfied: tinycss2 in /usr/local/lib/python3.10/dist-packages (from nbconvert->jupyter>=1.0->checklist) (1.4.0)\n",
            "Requirement already satisfied: soupsieve>1.2 in /usr/local/lib/python3.10/dist-packages (from beautifulsoup4->patternfork-nosql->checklist) (2.6)\n",
            "Requirement already satisfied: cheroot>=8.2.1 in /usr/local/lib/python3.10/dist-packages (from cherrypy->patternfork-nosql->checklist) (10.0.1)\n",
            "Requirement already satisfied: portend>=2.1.1 in /usr/local/lib/python3.10/dist-packages (from cherrypy->patternfork-nosql->checklist) (3.2.0)\n",
            "Requirement already satisfied: more-itertools in /usr/local/lib/python3.10/dist-packages (from cherrypy->patternfork-nosql->checklist) (10.5.0)\n",
            "Requirement already satisfied: zc.lockfile in /usr/local/lib/python3.10/dist-packages (from cherrypy->patternfork-nosql->checklist) (3.0.post1)\n",
            "Requirement already satisfied: jaraco.collections in /usr/local/lib/python3.10/dist-packages (from cherrypy->patternfork-nosql->checklist) (5.1.0)\n",
            "Requirement already satisfied: sgmllib3k in /usr/local/lib/python3.10/dist-packages (from feedparser->patternfork-nosql->checklist) (1.0.0)\n",
            "Requirement already satisfied: async-lru>=1.0.0 in /usr/local/lib/python3.10/dist-packages (from jupyterlab->jupyter>=1.0->checklist) (2.0.4)\n",
            "Requirement already satisfied: httpx~=0.28.0 in /usr/local/lib/python3.10/dist-packages (from jupyterlab->jupyter>=1.0->checklist) (0.28.0)\n",
            "Requirement already satisfied: jupyter-lsp>=2.0.0 in /usr/local/lib/python3.10/dist-packages (from jupyterlab->jupyter>=1.0->checklist) (2.2.5)\n",
            "Requirement already satisfied: jupyter-server<3,>=2.4.0 in /usr/local/lib/python3.10/dist-packages (from jupyterlab->jupyter>=1.0->checklist) (2.14.2)\n",
            "Requirement already satisfied: jupyterlab-server<3,>=2.27.1 in /usr/local/lib/python3.10/dist-packages (from jupyterlab->jupyter>=1.0->checklist) (2.27.3)\n",
            "Requirement already satisfied: notebook-shim>=0.2 in /usr/local/lib/python3.10/dist-packages (from jupyterlab->jupyter>=1.0->checklist) (0.2.4)\n",
            "Requirement already satisfied: tomli>=1.2.2 in /usr/local/lib/python3.10/dist-packages (from jupyterlab->jupyter>=1.0->checklist) (2.2.1)\n",
            "Requirement already satisfied: joblib in /usr/local/lib/python3.10/dist-packages (from nltk->patternfork-nosql->checklist) (1.4.2)\n",
            "Requirement already satisfied: cryptography>=36.0.0 in /usr/local/lib/python3.10/dist-packages (from pdfminer.six->patternfork-nosql->checklist) (43.0.3)\n",
            "Requirement already satisfied: webencodings in /usr/local/lib/python3.10/dist-packages (from bleach!=5.0.0->nbconvert->jupyter>=1.0->checklist) (0.5.1)\n",
            "Requirement already satisfied: jaraco.functools in /usr/local/lib/python3.10/dist-packages (from cheroot>=8.2.1->cherrypy->patternfork-nosql->checklist) (4.1.0)\n",
            "Requirement already satisfied: cffi>=1.12 in /usr/local/lib/python3.10/dist-packages (from cryptography>=36.0.0->pdfminer.six->patternfork-nosql->checklist) (1.17.1)\n",
            "Requirement already satisfied: anyio in /usr/local/lib/python3.10/dist-packages (from httpx~=0.28.0->jupyterlab->jupyter>=1.0->checklist) (3.7.1)\n",
            "Requirement already satisfied: httpcore==1.* in /usr/local/lib/python3.10/dist-packages (from httpx~=0.28.0->jupyterlab->jupyter>=1.0->checklist) (1.0.7)\n",
            "Requirement already satisfied: h11<0.15,>=0.13 in /usr/local/lib/python3.10/dist-packages (from httpcore==1.*->httpx~=0.28.0->jupyterlab->jupyter>=1.0->checklist) (0.14.0)\n",
            "Requirement already satisfied: parso<0.9.0,>=0.8.4 in /usr/local/lib/python3.10/dist-packages (from jedi>=0.16->ipython>=4.0.0->ipywidgets>=7.5->checklist) (0.8.4)\n",
            "Requirement already satisfied: entrypoints in /usr/local/lib/python3.10/dist-packages (from jupyter-client>=6.1.12->ipykernel>=4.5.1->ipywidgets>=7.5->checklist) (0.4)\n",
            "Requirement already satisfied: python-dateutil>=2.8.2 in /usr/local/lib/python3.10/dist-packages (from jupyter-client>=6.1.12->ipykernel>=4.5.1->ipywidgets>=7.5->checklist) (2.8.2)\n",
            "Requirement already satisfied: platformdirs>=2.5 in /usr/local/lib/python3.10/dist-packages (from jupyter-core!=5.0.*,>=4.12->ipykernel>=4.5.1->ipywidgets>=7.5->checklist) (4.3.6)\n",
            "Requirement already satisfied: jupyter-events>=0.9.0 in /usr/local/lib/python3.10/dist-packages (from jupyter-server<3,>=2.4.0->jupyterlab->jupyter>=1.0->checklist) (0.10.0)\n",
            "Requirement already satisfied: jupyter-server-terminals>=0.4.4 in /usr/local/lib/python3.10/dist-packages (from jupyter-server<3,>=2.4.0->jupyterlab->jupyter>=1.0->checklist) (0.5.3)\n",
            "Requirement already satisfied: overrides>=5.0 in /usr/local/lib/python3.10/dist-packages (from jupyter-server<3,>=2.4.0->jupyterlab->jupyter>=1.0->checklist) (7.7.0)\n",
            "Requirement already satisfied: websocket-client>=1.7 in /usr/local/lib/python3.10/dist-packages (from jupyter-server<3,>=2.4.0->jupyterlab->jupyter>=1.0->checklist) (1.8.0)\n",
            "Requirement already satisfied: argon2-cffi-bindings in /usr/local/lib/python3.10/dist-packages (from argon2-cffi->notebook->jupyter>=1.0->checklist) (21.2.0)\n",
            "Requirement already satisfied: babel>=2.10 in /usr/local/lib/python3.10/dist-packages (from jupyterlab-server<3,>=2.27.1->jupyterlab->jupyter>=1.0->checklist) (2.16.0)\n",
            "Requirement already satisfied: json5>=0.9.0 in /usr/local/lib/python3.10/dist-packages (from jupyterlab-server<3,>=2.27.1->jupyterlab->jupyter>=1.0->checklist) (0.10.0)\n",
            "Requirement already satisfied: jsonschema>=4.18.0 in /usr/local/lib/python3.10/dist-packages (from jupyterlab-server<3,>=2.27.1->jupyterlab->jupyter>=1.0->checklist) (4.23.0)\n",
            "Requirement already satisfied: marisa-trie>=1.1.0 in /usr/local/lib/python3.10/dist-packages (from language-data>=1.2->langcodes<4.0.0,>=3.2.0->spacy>=2.2->checklist) (1.2.1)\n",
            "Requirement already satisfied: fastjsonschema>=2.15 in /usr/local/lib/python3.10/dist-packages (from nbformat->notebook->jupyter>=1.0->checklist) (2.21.1)\n",
            "Requirement already satisfied: ptyprocess>=0.5 in /usr/local/lib/python3.10/dist-packages (from pexpect>4.3->ipython>=4.0.0->ipywidgets>=7.5->checklist) (0.7.0)\n",
            "Requirement already satisfied: tempora>=1.8 in /usr/local/lib/python3.10/dist-packages (from portend>=2.1.1->cherrypy->patternfork-nosql->checklist) (5.7.0)\n",
            "Requirement already satisfied: wcwidth in /usr/local/lib/python3.10/dist-packages (from prompt-toolkit!=3.0.0,!=3.0.1,<3.1.0,>=2.0.0->ipython>=4.0.0->ipywidgets>=7.5->checklist) (0.2.13)\n",
            "Requirement already satisfied: markdown-it-py>=2.2.0 in /usr/local/lib/python3.10/dist-packages (from rich>=10.11.0->typer<1.0.0,>=0.3.0->spacy>=2.2->checklist) (3.0.0)\n",
            "Requirement already satisfied: wrapt in /usr/local/lib/python3.10/dist-packages (from smart-open<8.0.0,>=5.2.1->weasel<0.5.0,>=0.1.0->spacy>=2.2->checklist) (1.17.0)\n",
            "Requirement already satisfied: jaraco.text in /usr/local/lib/python3.10/dist-packages (from jaraco.collections->cherrypy->patternfork-nosql->checklist) (4.0.0)\n",
            "Requirement already satisfied: sniffio>=1.1 in /usr/local/lib/python3.10/dist-packages (from anyio->httpx~=0.28.0->jupyterlab->jupyter>=1.0->checklist) (1.3.1)\n",
            "Requirement already satisfied: exceptiongroup in /usr/local/lib/python3.10/dist-packages (from anyio->httpx~=0.28.0->jupyterlab->jupyter>=1.0->checklist) (1.2.2)\n",
            "Requirement already satisfied: pycparser in /usr/local/lib/python3.10/dist-packages (from cffi>=1.12->cryptography>=36.0.0->pdfminer.six->patternfork-nosql->checklist) (2.22)\n",
            "Requirement already satisfied: attrs>=22.2.0 in /usr/local/lib/python3.10/dist-packages (from jsonschema>=4.18.0->jupyterlab-server<3,>=2.27.1->jupyterlab->jupyter>=1.0->checklist) (24.2.0)\n",
            "Requirement already satisfied: jsonschema-specifications>=2023.03.6 in /usr/local/lib/python3.10/dist-packages (from jsonschema>=4.18.0->jupyterlab-server<3,>=2.27.1->jupyterlab->jupyter>=1.0->checklist) (2024.10.1)\n",
            "Requirement already satisfied: referencing>=0.28.4 in /usr/local/lib/python3.10/dist-packages (from jsonschema>=4.18.0->jupyterlab-server<3,>=2.27.1->jupyterlab->jupyter>=1.0->checklist) (0.35.1)\n",
            "Requirement already satisfied: rpds-py>=0.7.1 in /usr/local/lib/python3.10/dist-packages (from jsonschema>=4.18.0->jupyterlab-server<3,>=2.27.1->jupyterlab->jupyter>=1.0->checklist) (0.22.3)\n",
            "Requirement already satisfied: python-json-logger>=2.0.4 in /usr/local/lib/python3.10/dist-packages (from jupyter-events>=0.9.0->jupyter-server<3,>=2.4.0->jupyterlab->jupyter>=1.0->checklist) (2.0.7)\n",
            "Requirement already satisfied: rfc3339-validator in /usr/local/lib/python3.10/dist-packages (from jupyter-events>=0.9.0->jupyter-server<3,>=2.4.0->jupyterlab->jupyter>=1.0->checklist) (0.1.4)\n",
            "Requirement already satisfied: rfc3986-validator>=0.1.1 in /usr/local/lib/python3.10/dist-packages (from jupyter-events>=0.9.0->jupyter-server<3,>=2.4.0->jupyterlab->jupyter>=1.0->checklist) (0.1.1)\n",
            "Requirement already satisfied: mdurl~=0.1 in /usr/local/lib/python3.10/dist-packages (from markdown-it-py>=2.2.0->rich>=10.11.0->typer<1.0.0,>=0.3.0->spacy>=2.2->checklist) (0.1.2)\n",
            "Requirement already satisfied: six>=1.5 in /usr/local/lib/python3.10/dist-packages (from python-dateutil>=2.8.2->jupyter-client>=6.1.12->ipykernel>=4.5.1->ipywidgets>=7.5->checklist) (1.16.0)\n",
            "Requirement already satisfied: jaraco.context>=4.1 in /usr/local/lib/python3.10/dist-packages (from jaraco.text->jaraco.collections->cherrypy->patternfork-nosql->checklist) (6.0.1)\n",
            "Requirement already satisfied: autocommand in /usr/local/lib/python3.10/dist-packages (from jaraco.text->jaraco.collections->cherrypy->patternfork-nosql->checklist) (2.2.2)\n",
            "Requirement already satisfied: backports.tarfile in /usr/local/lib/python3.10/dist-packages (from jaraco.context>=4.1->jaraco.text->jaraco.collections->cherrypy->patternfork-nosql->checklist) (1.2.0)\n",
            "Requirement already satisfied: fqdn in /usr/local/lib/python3.10/dist-packages (from jsonschema[format-nongpl]>=4.18.0->jupyter-events>=0.9.0->jupyter-server<3,>=2.4.0->jupyterlab->jupyter>=1.0->checklist) (1.5.1)\n",
            "Requirement already satisfied: isoduration in /usr/local/lib/python3.10/dist-packages (from jsonschema[format-nongpl]>=4.18.0->jupyter-events>=0.9.0->jupyter-server<3,>=2.4.0->jupyterlab->jupyter>=1.0->checklist) (20.11.0)\n",
            "Requirement already satisfied: jsonpointer>1.13 in /usr/local/lib/python3.10/dist-packages (from jsonschema[format-nongpl]>=4.18.0->jupyter-events>=0.9.0->jupyter-server<3,>=2.4.0->jupyterlab->jupyter>=1.0->checklist) (3.0.0)\n",
            "Requirement already satisfied: uri-template in /usr/local/lib/python3.10/dist-packages (from jsonschema[format-nongpl]>=4.18.0->jupyter-events>=0.9.0->jupyter-server<3,>=2.4.0->jupyterlab->jupyter>=1.0->checklist) (1.3.0)\n",
            "Requirement already satisfied: webcolors>=24.6.0 in /usr/local/lib/python3.10/dist-packages (from jsonschema[format-nongpl]>=4.18.0->jupyter-events>=0.9.0->jupyter-server<3,>=2.4.0->jupyterlab->jupyter>=1.0->checklist) (24.11.1)\n",
            "Requirement already satisfied: arrow>=0.15.0 in /usr/local/lib/python3.10/dist-packages (from isoduration->jsonschema[format-nongpl]>=4.18.0->jupyter-events>=0.9.0->jupyter-server<3,>=2.4.0->jupyterlab->jupyter>=1.0->checklist) (1.3.0)\n",
            "Requirement already satisfied: types-python-dateutil>=2.8.10 in /usr/local/lib/python3.10/dist-packages (from arrow>=0.15.0->isoduration->jsonschema[format-nongpl]>=4.18.0->jupyter-events>=0.9.0->jupyter-server<3,>=2.4.0->jupyterlab->jupyter>=1.0->checklist) (2.9.0.20241206)\n"
          ]
        }
      ],
      "source": [
        "!pip install checklist"
      ]
    },
    {
      "cell_type": "code",
      "execution_count": 24,
      "metadata": {
        "colab": {
          "base_uri": "https://localhost:8080/"
        },
        "id": "0GrbqavGAEJn",
        "outputId": "659d62d0-8a48-40a3-9426-ed9b321549bc"
      },
      "outputs": [
        {
          "output_type": "stream",
          "name": "stdout",
          "text": [
            "Collecting en-core-web-sm==3.7.1\n",
            "  Downloading https://github.com/explosion/spacy-models/releases/download/en_core_web_sm-3.7.1/en_core_web_sm-3.7.1-py3-none-any.whl (12.8 MB)\n",
            "\u001b[2K     \u001b[90m━━━━━━━━━━━━━━━━━━━━━━━━━━━━━━━━━━━━━━━━\u001b[0m \u001b[32m12.8/12.8 MB\u001b[0m \u001b[31m26.3 MB/s\u001b[0m eta \u001b[36m0:00:00\u001b[0m\n",
            "\u001b[?25hRequirement already satisfied: spacy<3.8.0,>=3.7.2 in /usr/local/lib/python3.10/dist-packages (from en-core-web-sm==3.7.1) (3.7.5)\n",
            "Requirement already satisfied: spacy-legacy<3.1.0,>=3.0.11 in /usr/local/lib/python3.10/dist-packages (from spacy<3.8.0,>=3.7.2->en-core-web-sm==3.7.1) (3.0.12)\n",
            "Requirement already satisfied: spacy-loggers<2.0.0,>=1.0.0 in /usr/local/lib/python3.10/dist-packages (from spacy<3.8.0,>=3.7.2->en-core-web-sm==3.7.1) (1.0.5)\n",
            "Requirement already satisfied: murmurhash<1.1.0,>=0.28.0 in /usr/local/lib/python3.10/dist-packages (from spacy<3.8.0,>=3.7.2->en-core-web-sm==3.7.1) (1.0.11)\n",
            "Requirement already satisfied: cymem<2.1.0,>=2.0.2 in /usr/local/lib/python3.10/dist-packages (from spacy<3.8.0,>=3.7.2->en-core-web-sm==3.7.1) (2.0.10)\n",
            "Requirement already satisfied: preshed<3.1.0,>=3.0.2 in /usr/local/lib/python3.10/dist-packages (from spacy<3.8.0,>=3.7.2->en-core-web-sm==3.7.1) (3.0.9)\n",
            "Requirement already satisfied: thinc<8.3.0,>=8.2.2 in /usr/local/lib/python3.10/dist-packages (from spacy<3.8.0,>=3.7.2->en-core-web-sm==3.7.1) (8.2.5)\n",
            "Requirement already satisfied: wasabi<1.2.0,>=0.9.1 in /usr/local/lib/python3.10/dist-packages (from spacy<3.8.0,>=3.7.2->en-core-web-sm==3.7.1) (1.1.3)\n",
            "Requirement already satisfied: srsly<3.0.0,>=2.4.3 in /usr/local/lib/python3.10/dist-packages (from spacy<3.8.0,>=3.7.2->en-core-web-sm==3.7.1) (2.4.8)\n",
            "Requirement already satisfied: catalogue<2.1.0,>=2.0.6 in /usr/local/lib/python3.10/dist-packages (from spacy<3.8.0,>=3.7.2->en-core-web-sm==3.7.1) (2.0.10)\n",
            "Requirement already satisfied: weasel<0.5.0,>=0.1.0 in /usr/local/lib/python3.10/dist-packages (from spacy<3.8.0,>=3.7.2->en-core-web-sm==3.7.1) (0.4.1)\n",
            "Requirement already satisfied: typer<1.0.0,>=0.3.0 in /usr/local/lib/python3.10/dist-packages (from spacy<3.8.0,>=3.7.2->en-core-web-sm==3.7.1) (0.15.0)\n",
            "Requirement already satisfied: tqdm<5.0.0,>=4.38.0 in /usr/local/lib/python3.10/dist-packages (from spacy<3.8.0,>=3.7.2->en-core-web-sm==3.7.1) (4.66.6)\n",
            "Requirement already satisfied: requests<3.0.0,>=2.13.0 in /usr/local/lib/python3.10/dist-packages (from spacy<3.8.0,>=3.7.2->en-core-web-sm==3.7.1) (2.32.3)\n",
            "Requirement already satisfied: pydantic!=1.8,!=1.8.1,<3.0.0,>=1.7.4 in /usr/local/lib/python3.10/dist-packages (from spacy<3.8.0,>=3.7.2->en-core-web-sm==3.7.1) (2.10.3)\n",
            "Requirement already satisfied: jinja2 in /usr/local/lib/python3.10/dist-packages (from spacy<3.8.0,>=3.7.2->en-core-web-sm==3.7.1) (3.1.4)\n",
            "Requirement already satisfied: setuptools in /usr/local/lib/python3.10/dist-packages (from spacy<3.8.0,>=3.7.2->en-core-web-sm==3.7.1) (75.1.0)\n",
            "Requirement already satisfied: packaging>=20.0 in /usr/local/lib/python3.10/dist-packages (from spacy<3.8.0,>=3.7.2->en-core-web-sm==3.7.1) (24.2)\n",
            "Requirement already satisfied: langcodes<4.0.0,>=3.2.0 in /usr/local/lib/python3.10/dist-packages (from spacy<3.8.0,>=3.7.2->en-core-web-sm==3.7.1) (3.5.0)\n",
            "Requirement already satisfied: numpy>=1.19.0 in /usr/local/lib/python3.10/dist-packages (from spacy<3.8.0,>=3.7.2->en-core-web-sm==3.7.1) (1.26.4)\n",
            "Requirement already satisfied: language-data>=1.2 in /usr/local/lib/python3.10/dist-packages (from langcodes<4.0.0,>=3.2.0->spacy<3.8.0,>=3.7.2->en-core-web-sm==3.7.1) (1.3.0)\n",
            "Requirement already satisfied: annotated-types>=0.6.0 in /usr/local/lib/python3.10/dist-packages (from pydantic!=1.8,!=1.8.1,<3.0.0,>=1.7.4->spacy<3.8.0,>=3.7.2->en-core-web-sm==3.7.1) (0.7.0)\n",
            "Requirement already satisfied: pydantic-core==2.27.1 in /usr/local/lib/python3.10/dist-packages (from pydantic!=1.8,!=1.8.1,<3.0.0,>=1.7.4->spacy<3.8.0,>=3.7.2->en-core-web-sm==3.7.1) (2.27.1)\n",
            "Requirement already satisfied: typing-extensions>=4.12.2 in /usr/local/lib/python3.10/dist-packages (from pydantic!=1.8,!=1.8.1,<3.0.0,>=1.7.4->spacy<3.8.0,>=3.7.2->en-core-web-sm==3.7.1) (4.12.2)\n",
            "Requirement already satisfied: charset-normalizer<4,>=2 in /usr/local/lib/python3.10/dist-packages (from requests<3.0.0,>=2.13.0->spacy<3.8.0,>=3.7.2->en-core-web-sm==3.7.1) (3.4.0)\n",
            "Requirement already satisfied: idna<4,>=2.5 in /usr/local/lib/python3.10/dist-packages (from requests<3.0.0,>=2.13.0->spacy<3.8.0,>=3.7.2->en-core-web-sm==3.7.1) (3.10)\n",
            "Requirement already satisfied: urllib3<3,>=1.21.1 in /usr/local/lib/python3.10/dist-packages (from requests<3.0.0,>=2.13.0->spacy<3.8.0,>=3.7.2->en-core-web-sm==3.7.1) (2.2.3)\n",
            "Requirement already satisfied: certifi>=2017.4.17 in /usr/local/lib/python3.10/dist-packages (from requests<3.0.0,>=2.13.0->spacy<3.8.0,>=3.7.2->en-core-web-sm==3.7.1) (2024.8.30)\n",
            "Requirement already satisfied: blis<0.8.0,>=0.7.8 in /usr/local/lib/python3.10/dist-packages (from thinc<8.3.0,>=8.2.2->spacy<3.8.0,>=3.7.2->en-core-web-sm==3.7.1) (0.7.11)\n",
            "Requirement already satisfied: confection<1.0.0,>=0.0.1 in /usr/local/lib/python3.10/dist-packages (from thinc<8.3.0,>=8.2.2->spacy<3.8.0,>=3.7.2->en-core-web-sm==3.7.1) (0.1.5)\n",
            "Requirement already satisfied: click>=8.0.0 in /usr/local/lib/python3.10/dist-packages (from typer<1.0.0,>=0.3.0->spacy<3.8.0,>=3.7.2->en-core-web-sm==3.7.1) (8.1.7)\n",
            "Requirement already satisfied: shellingham>=1.3.0 in /usr/local/lib/python3.10/dist-packages (from typer<1.0.0,>=0.3.0->spacy<3.8.0,>=3.7.2->en-core-web-sm==3.7.1) (1.5.4)\n",
            "Requirement already satisfied: rich>=10.11.0 in /usr/local/lib/python3.10/dist-packages (from typer<1.0.0,>=0.3.0->spacy<3.8.0,>=3.7.2->en-core-web-sm==3.7.1) (13.9.4)\n",
            "Requirement already satisfied: cloudpathlib<1.0.0,>=0.7.0 in /usr/local/lib/python3.10/dist-packages (from weasel<0.5.0,>=0.1.0->spacy<3.8.0,>=3.7.2->en-core-web-sm==3.7.1) (0.20.0)\n",
            "Requirement already satisfied: smart-open<8.0.0,>=5.2.1 in /usr/local/lib/python3.10/dist-packages (from weasel<0.5.0,>=0.1.0->spacy<3.8.0,>=3.7.2->en-core-web-sm==3.7.1) (7.0.5)\n",
            "Requirement already satisfied: MarkupSafe>=2.0 in /usr/local/lib/python3.10/dist-packages (from jinja2->spacy<3.8.0,>=3.7.2->en-core-web-sm==3.7.1) (3.0.2)\n",
            "Requirement already satisfied: marisa-trie>=1.1.0 in /usr/local/lib/python3.10/dist-packages (from language-data>=1.2->langcodes<4.0.0,>=3.2.0->spacy<3.8.0,>=3.7.2->en-core-web-sm==3.7.1) (1.2.1)\n",
            "Requirement already satisfied: markdown-it-py>=2.2.0 in /usr/local/lib/python3.10/dist-packages (from rich>=10.11.0->typer<1.0.0,>=0.3.0->spacy<3.8.0,>=3.7.2->en-core-web-sm==3.7.1) (3.0.0)\n",
            "Requirement already satisfied: pygments<3.0.0,>=2.13.0 in /usr/local/lib/python3.10/dist-packages (from rich>=10.11.0->typer<1.0.0,>=0.3.0->spacy<3.8.0,>=3.7.2->en-core-web-sm==3.7.1) (2.18.0)\n",
            "Requirement already satisfied: wrapt in /usr/local/lib/python3.10/dist-packages (from smart-open<8.0.0,>=5.2.1->weasel<0.5.0,>=0.1.0->spacy<3.8.0,>=3.7.2->en-core-web-sm==3.7.1) (1.17.0)\n",
            "Requirement already satisfied: mdurl~=0.1 in /usr/local/lib/python3.10/dist-packages (from markdown-it-py>=2.2.0->rich>=10.11.0->typer<1.0.0,>=0.3.0->spacy<3.8.0,>=3.7.2->en-core-web-sm==3.7.1) (0.1.2)\n",
            "\u001b[38;5;2m✔ Download and installation successful\u001b[0m\n",
            "You can now load the package via spacy.load('en_core_web_sm')\n",
            "\u001b[38;5;3m⚠ Restart to reload dependencies\u001b[0m\n",
            "If you are in a Jupyter or Colab notebook, you may need to restart Python in\n",
            "order to load all the package's dependencies. You can do this by selecting the\n",
            "'Restart kernel' or 'Restart runtime' option.\n"
          ]
        }
      ],
      "source": [
        "!python -m spacy download en_core_web_sm # uncomment it and run it if you haven't installed `spacy` and its model `en_core_web_sm`"
      ]
    },
    {
      "cell_type": "markdown",
      "metadata": {
        "id": "oZvWGlL5Lg8x"
      },
      "source": [
        "(After installing the spacy package, if you see a message of \"Restart to reload dependencies\", you may ignore it.)"
      ]
    },
    {
      "cell_type": "markdown",
      "metadata": {
        "id": "6FhS81StAEJo"
      },
      "source": [
        "Import the following libraries:"
      ]
    },
    {
      "cell_type": "code",
      "execution_count": 25,
      "metadata": {
        "id": "hCKakc4ZAEJo"
      },
      "outputs": [],
      "source": [
        "import torch\n",
        "\n",
        "from typing import List, Dict\n",
        "import random\n",
        "import numpy as np\n",
        "from collections import Counter\n",
        "import os\n",
        "\n",
        "# transformers\n",
        "import transformers\n",
        "\n",
        "# Set up overall seed\n",
        "seed = 12345\n",
        "random.seed(seed)\n",
        "torch.manual_seed(seed)\n",
        "np.random.seed(seed)"
      ]
    },
    {
      "cell_type": "code",
      "execution_count": 26,
      "metadata": {
        "id": "6XY4kF6TAEJo"
      },
      "outputs": [],
      "source": [
        "import spacy\n",
        "\n",
        "import checklist\n",
        "from checklist.editor import Editor\n",
        "from checklist.perturb import Perturb\n",
        "from checklist.test_types import MFT, INV, DIR"
      ]
    },
    {
      "cell_type": "markdown",
      "metadata": {
        "id": "TThRTaKfAEJo"
      },
      "source": [
        "Set up device as before:"
      ]
    },
    {
      "cell_type": "code",
      "execution_count": 27,
      "metadata": {
        "id": "Lg7R81UhAEJo",
        "scrolled": true,
        "colab": {
          "base_uri": "https://localhost:8080/"
        },
        "outputId": "4f3f8977-b4b9-45dd-dfd6-1be19a19ae51"
      },
      "outputs": [
        {
          "output_type": "stream",
          "name": "stdout",
          "text": [
            "cpu\n"
          ]
        }
      ],
      "source": [
        "device = torch.device(\"cuda:0\" if torch.cuda.is_available() else \"cpu\")\n",
        "print(device)"
      ]
    },
    {
      "cell_type": "markdown",
      "metadata": {
        "id": "p4keUwEpAEJo"
      },
      "source": [
        "## Part 0: Data and Model Setup\n",
        "\n",
        "The following code was adapted from the previous assignment for storing the sentiment data and creating the BERT-based classifier. There's nothing to fill out but you want to study the code."
      ]
    },
    {
      "cell_type": "code",
      "execution_count": 28,
      "metadata": {
        "id": "zbL0VjSzAEJo"
      },
      "outputs": [],
      "source": [
        "class SentimentExample:\n",
        "    \"\"\"\n",
        "    Data wrapper for a single example for sentiment analysis.\n",
        "\n",
        "    Attributes:\n",
        "        sentence (string): a string-type sentence (untokenized)\n",
        "        label (int): 0 or 1 (0 = negative, 1 = positive)\n",
        "        word_indices (List[int]): list of word indices in the vocab, which will generated by the `indexing_sentiment_examples` method\n",
        "    \"\"\"\n",
        "\n",
        "    def __init__(self, sentence, label):\n",
        "        self.sentence = sentence\n",
        "        self.label = label\n",
        "        self.words = None\n",
        "        self.word_indices = None\n",
        "\n",
        "    def __repr__(self):\n",
        "        return self.sentence + \"; label=\" + repr(self.label)\n",
        "\n",
        "    def __str__(self):\n",
        "        return self.__repr__()\n",
        "\n",
        "def read_sentiment_examples(infile: str) -> List[SentimentExample]:\n",
        "    \"\"\"\n",
        "    Reads sentiment examples in the format [0 or 1]<TAB>[raw sentence]; tokenizes and cleans the sentences and forms\n",
        "    SentimentExamples. Note that all words have been lowercased.\n",
        "\n",
        "    :param infile: file to read from\n",
        "    :return: a list of SentimentExamples parsed from the file\n",
        "    \"\"\"\n",
        "    f = open(infile)\n",
        "    exs = []\n",
        "    for line in f:\n",
        "        if len(line.strip()) > 0:\n",
        "            line = line.strip()\n",
        "            fields = line.split(\"\\t\")\n",
        "            if len(fields) != 2:\n",
        "                fields = line.split()\n",
        "                label = 0 if \"0\" in fields[0] else 1\n",
        "                sent = \" \".join(fields[1:])\n",
        "            else:\n",
        "                # Slightly more robust to reading bad output than int(fields[0])\n",
        "                label = 0 if \"0\" in fields[0] else 1\n",
        "                sent = fields[1]\n",
        "            sent = sent.lower() # lowercasing\n",
        "            exs.append(SentimentExample(sent, label))\n",
        "    f.close()\n",
        "    return exs\n",
        "\n",
        "def calculate_metrics(golds: List[int], predictions: List[int], print_only: bool=False):\n",
        "    \"\"\"\n",
        "    Calculate evaluation statistics comparing golds and predictions, each of which is a sequence of 0/1 labels.\n",
        "    Returns accuracy, precision, recall, and F1.\n",
        "\n",
        "    :param golds: gold labels\n",
        "    :param predictions: pred labels\n",
        "    :param print_only: set to True if printing the stats without returns\n",
        "    :return: accuracy, precision, recall, and F1 (all floating numbers), or None (when print_only is True)\n",
        "    \"\"\"\n",
        "    num_correct = 0\n",
        "    num_pos_correct = 0\n",
        "    num_pred = 0\n",
        "    num_gold = 0\n",
        "    num_total = 0\n",
        "    if len(golds) != len(predictions):\n",
        "        raise Exception(\"Mismatched gold/pred lengths: %i / %i\" % (len(golds), len(predictions)))\n",
        "    for idx in range(0, len(golds)):\n",
        "        gold = golds[idx]\n",
        "        prediction = predictions[idx]\n",
        "        if prediction == gold:\n",
        "            num_correct += 1\n",
        "        if prediction == 1:\n",
        "            num_pred += 1\n",
        "        if gold == 1:\n",
        "            num_gold += 1\n",
        "        if prediction == 1 and gold == 1:\n",
        "            num_pos_correct += 1\n",
        "        num_total += 1\n",
        "    acc = float(num_correct) / num_total\n",
        "    prec = float(num_pos_correct) / num_pred if num_pred > 0 else 0.0\n",
        "    rec = float(num_pos_correct) / num_gold if num_gold > 0 else 0.0\n",
        "    f1 = 2 * prec * rec / (prec + rec) if prec > 0 and rec > 0 else 0.0\n",
        "\n",
        "    print(\"Accuracy: %i / %i = %f\" % (num_correct, num_total, acc))\n",
        "    print(\"Precision (fraction of predicted positives that are correct): %i / %i = %f\" % (num_pos_correct, num_pred, prec)\n",
        "          + \"; Recall (fraction of true positives predicted correctly): %i / %i = %f\" % (num_pos_correct, num_gold, rec)\n",
        "          + \"; F1 (harmonic mean of precision and recall): %f\" % f1)\n",
        "\n",
        "    if not print_only:\n",
        "        return acc, prec, rec, f1"
      ]
    },
    {
      "cell_type": "code",
      "execution_count": 29,
      "metadata": {
        "colab": {
          "base_uri": "https://localhost:8080/"
        },
        "id": "4BP9OUCyAEJp",
        "outputId": "bf140847-26e9-4144-cee7-2964da54d2ce"
      },
      "outputs": [
        {
          "output_type": "stream",
          "name": "stdout",
          "text": [
            "Drive already mounted at /content/drive; to attempt to forcibly remount, call drive.mount(\"/content/drive\", force_remount=True).\n",
            "872 dev examples\n"
          ]
        }
      ],
      "source": [
        "# The following code is for Google Colab users only.\n",
        "from google.colab import drive\n",
        "drive.mount('/content/drive')\n",
        "dev_path = \"/content/drive/My Drive/data/dev.txt\"\n",
        "\n",
        "# If you run the notebook locally, please set up the path to your dev set accordingly.\n",
        "# dev_path = \"data/dev.txt\"\n",
        "\n",
        "# Load dev exs\n",
        "dev_exs = read_sentiment_examples(dev_path)\n",
        "print(repr(len(dev_exs)) + \" dev examples\")"
      ]
    },
    {
      "cell_type": "markdown",
      "metadata": {
        "id": "goADWmjvL0uV"
      },
      "source": [
        "Now, load in the transformer library and the BERT-based classifier checkpoint."
      ]
    },
    {
      "cell_type": "code",
      "execution_count": 30,
      "metadata": {
        "id": "KqpvbC32AEJp"
      },
      "outputs": [],
      "source": [
        "from transformers import BertTokenizer, BertForSequenceClassification\n",
        "pretrained_checkpoint = \"textattack/bert-base-uncased-yelp-polarity\"\n",
        "tokenizer = BertTokenizer.from_pretrained(pretrained_checkpoint, use_fast=True)\n",
        "model = BertForSequenceClassification.from_pretrained(pretrained_checkpoint).to(device)"
      ]
    },
    {
      "cell_type": "markdown",
      "metadata": {
        "id": "FQvZenTTAEJp"
      },
      "source": [
        "Next, helper functions for batch prediction and evaluation using the loaded classifier:"
      ]
    },
    {
      "cell_type": "code",
      "execution_count": 31,
      "metadata": {
        "id": "dfWU-MZpAEJp"
      },
      "outputs": [],
      "source": [
        "import torch.nn.functional as F\n",
        "\n",
        "def batch_predict_prob(sentences, return_probs=False): # for a list of test sentences\n",
        "    batch_inputs = tokenizer(sentences, padding=True, truncation=True, return_tensors=\"pt\").to(device)\n",
        "    batch_outputs = model(**batch_inputs)\n",
        "    batch_logits = batch_outputs.logits\n",
        "    pred_probs = F.softmax(batch_logits, dim=-1).to('cpu').detach().numpy()\n",
        "\n",
        "    if return_probs:\n",
        "        return pred_probs # probability matrix of shape (num_sents x 2)\n",
        "    else:\n",
        "        return pred_probs.argmax(-1) # prediction labels of shape (num_sents)\n",
        "\n",
        "def evaluate(exs: List[SentimentExample]):\n",
        "    \"\"\"\n",
        "    Evaluates a given classifier on the given examples\n",
        "    :param classifier: classifier to evaluate\n",
        "    :param exs: the list of SentimentExamples to evaluate on\n",
        "    :param return_metrics: set to True if returning the stats\n",
        "    :return: None (but prints output)\n",
        "    \"\"\"\n",
        "    all_labels = []\n",
        "    all_preds = []\n",
        "\n",
        "    batch_size = 32\n",
        "\n",
        "    ex_idx = 0\n",
        "    while ex_idx < len(exs):\n",
        "        batch_data = exs[ex_idx:ex_idx+batch_size]\n",
        "        batch_sentences = [ex.sentence for ex in batch_data]\n",
        "        batch_labels = [ex.label for ex in batch_data]\n",
        "\n",
        "        preds = batch_predict_prob(batch_sentences)\n",
        "\n",
        "        all_labels += list(batch_labels)\n",
        "        all_preds += list(preds)\n",
        "\n",
        "        ex_idx += batch_size\n",
        "\n",
        "    calculate_metrics(all_labels, all_preds, print_only=True)\n",
        "    return all_preds, all_labels"
      ]
    },
    {
      "cell_type": "code",
      "execution_count": 32,
      "metadata": {
        "colab": {
          "base_uri": "https://localhost:8080/"
        },
        "id": "fWCv9uDxAEJp",
        "outputId": "4c659041-a75c-49be-986b-85895831469f"
      },
      "outputs": [
        {
          "output_type": "stream",
          "name": "stdout",
          "text": [
            "Accuracy: 698 / 872 = 0.800459\n",
            "Precision (fraction of predicted positives that are correct): 363 / 456 = 0.796053; Recall (fraction of true positives predicted correctly): 363 / 444 = 0.817568; F1 (harmonic mean of precision and recall): 0.806667\n"
          ]
        }
      ],
      "source": [
        "all_preds, all_labels = evaluate(dev_exs)"
      ]
    },
    {
      "cell_type": "markdown",
      "metadata": {
        "id": "rfQbrNw6AEJp"
      },
      "source": [
        "You should be able to see an accuracy of 0.800 for the loaded classifier tested on our movie review sentiment dev set."
      ]
    },
    {
      "cell_type": "markdown",
      "metadata": {
        "id": "jgI8VMyqAEJp"
      },
      "source": [
        "## Part 1: Invariance Test (INV) using CheckList (70 points)\n",
        "\n",
        "In this part, you will use the CheckList tool to analyze the loaded classifier! To help you understand the concepts of check list tests, you are recommended to read its paper \"Beyond Accuracy: Behavioral Testing of NLP Models with CheckList\" (https://arxiv.org/pdf/2005.04118.pdf, which won the best paper award in ACL 2020).\n",
        "\n",
        "While CheckList contains three test types, in this assignment, we will look at only the second one, i.e., invariance test (INV). This test aims to apply _label-preserving_ perturbations to existing test inputs and checks if the model prediction can remain the same.\n",
        "\n",
        "**You are recommended to study the tutorials of CheckList from here https://github.com/marcotcr/checklist#tutorials, especially the part about data perturbation (https://github.com/marcotcr/checklist/blob/master/notebooks/tutorials/2.%20Perturbing%20data.ipynb, go to \"General-purpose perturbations\").**"
      ]
    },
    {
      "cell_type": "markdown",
      "metadata": {
        "id": "zmTI2rvZAEJp"
      },
      "source": [
        "**Requirements:**\n",
        "- Perform two types of perturbations: punctuation perturbation and typos.\n",
        "- For each type, report the model performance on the perturbated examples:\n",
        "    - For how many of the dev-set examples does the model flip its label (i.e., pos -> neg or neg -> pos)?\n",
        "    - For dev examples on which the classifier initially made a correct prediction, how many of them get their labels flipped after perturbation?\n",
        "- Describe and discuss your findings.\n",
        "\n",
        "(Note: you are provided with sample code to calculate these statistics; however, it is assumed that you will create perturbation data following the same format as the sample code. That said, you are also free to modify the code as long as you can collect these statistics!)"
      ]
    },
    {
      "cell_type": "markdown",
      "metadata": {
        "id": "kKvmNaXvAEJp"
      },
      "source": [
        "### INV - Punctuations (35 points)\n",
        "\n",
        "<font color='blue'>Complete the following code for creating INV examples based on perturbing punctuations in the dev set. </font>"
      ]
    },
    {
      "cell_type": "code",
      "execution_count": 33,
      "metadata": {
        "id": "StFjWjkzAEJq"
      },
      "outputs": [],
      "source": [
        "editor = Editor()\n",
        "\n",
        "data = [ex.sentence for ex in dev_exs]\n",
        "\n",
        "nlp = spacy.load('en_core_web_sm')\n",
        "pdata = list(nlp.pipe(data))\n",
        "\n",
        "# TODO: complete the assignment for creating\n",
        "# a set of dev-set examples with perturbed punctuations\n",
        "# using the Perturb class\n",
        "ret1 = Perturb.perturb(pdata, Perturb.punctuation)"
      ]
    },
    {
      "cell_type": "markdown",
      "metadata": {
        "id": "_DdP3JpOE0ue"
      },
      "source": [
        "Print the perturbation results for the first three sentences on the dev set:"
      ]
    },
    {
      "cell_type": "code",
      "execution_count": 34,
      "metadata": {
        "colab": {
          "base_uri": "https://localhost:8080/"
        },
        "id": "boA7HbSgAEJq",
        "outputId": "cba7a14d-9414-4fdc-cffa-245d66979fe4"
      },
      "outputs": [
        {
          "output_type": "execute_result",
          "data": {
            "text/plain": [
              "[[\"it 's a lovely film with lovely performances by buy and accorsi .\",\n",
              "  \"it 's a lovely film with lovely performances by buy and accorsi\",\n",
              "  \"it 's a lovely film with lovely performances by buy and accorsi.\"],\n",
              " [\"and if you 're not nearly moved to tears by a couple of scenes , you 've got ice water in your veins .\",\n",
              "  \"and if you 're not nearly moved to tears by a couple of scenes , you 've got ice water in your veins\",\n",
              "  \"and if you 're not nearly moved to tears by a couple of scenes , you 've got ice water in your veins.\"],\n",
              " ['a warm , funny , engaging film .',\n",
              "  'a warm , funny , engaging film',\n",
              "  'a warm , funny , engaging film.']]"
            ]
          },
          "metadata": {},
          "execution_count": 34
        }
      ],
      "source": [
        "ret1.data[:3]"
      ]
    },
    {
      "cell_type": "markdown",
      "metadata": {
        "id": "m1DwoW1gE9oA"
      },
      "source": [
        "Now, let's apply the same classifier to the perturbed examples:"
      ]
    },
    {
      "cell_type": "code",
      "execution_count": 35,
      "metadata": {
        "id": "rDLBO02AAEJq"
      },
      "outputs": [],
      "source": [
        "assert len(ret1.data) == len(dev_exs)\n",
        "\n",
        "all_labels = []\n",
        "all_preds = []\n",
        "\n",
        "for ex_idx, ex in enumerate(dev_exs):\n",
        "    assert ex.sentence == ret1.data[ex_idx][0]\n",
        "    gold_label = ex.label\n",
        "    preds = batch_predict_prob(ret1.data[ex_idx])\n",
        "\n",
        "    all_labels.append(gold_label)\n",
        "    all_preds.append(preds)"
      ]
    },
    {
      "cell_type": "markdown",
      "metadata": {
        "id": "yGY2FVnNG0HH"
      },
      "source": [
        "The following helper functions calculate the two statistical numbers (i.e., how many predictions were flipped in total, and how many *initially correct* predictions were flipped) required by this assignment."
      ]
    },
    {
      "cell_type": "code",
      "execution_count": 36,
      "metadata": {
        "id": "PQbEsCsiAEJq"
      },
      "outputs": [],
      "source": [
        "# helper functions\n",
        "\n",
        "# label flips\n",
        "def count_label_flips(all_preds):\n",
        "    indices = []\n",
        "    for idx, preds in enumerate(all_preds):\n",
        "        ori = preds[0]\n",
        "        for pert in preds[1:]:\n",
        "            if pert != ori:\n",
        "                indices.append(idx)\n",
        "                break\n",
        "\n",
        "    print(\"%s examples got their label flipped!\" % len(indices))\n",
        "    return indices\n",
        "\n",
        "# label flips for initially correct predictions\n",
        "def count_correct_label_flips(all_labels, all_preds):\n",
        "    indices = []\n",
        "    for idx, preds in enumerate(all_preds):\n",
        "        gold = all_labels[idx]\n",
        "        ori = preds[0]\n",
        "        if gold != ori:\n",
        "            continue\n",
        "        for pert in preds[1:]:\n",
        "            if pert != ori:\n",
        "                indices.append(idx)\n",
        "                break\n",
        "\n",
        "    print(\"%s examples got their *correct* label flipped!\" % len(indices))\n",
        "    return indices"
      ]
    },
    {
      "cell_type": "code",
      "execution_count": 37,
      "metadata": {
        "colab": {
          "base_uri": "https://localhost:8080/"
        },
        "id": "bmpGo2MuAEJq",
        "outputId": "21e9609f-95a6-49f7-d6b4-24fbfef82fd6"
      },
      "outputs": [
        {
          "output_type": "stream",
          "name": "stdout",
          "text": [
            "26 examples got their label flipped!\n",
            "15 examples got their *correct* label flipped!\n"
          ]
        }
      ],
      "source": [
        "indices1 = count_label_flips(all_preds)\n",
        "indices2 = count_correct_label_flips(all_labels, all_preds)"
      ]
    },
    {
      "cell_type": "markdown",
      "metadata": {
        "id": "xO-wssYgHnqj"
      },
      "source": [
        "Let's print all predictions whose labels got flipped due to the punctuation perturbation. In what prints out, you will see:\n",
        "- **Original**: showing the original sentence and the ground-truth label;\n",
        "- **Perturbations**: a list of three sentences, which are the original sentence and two perturbed sentences;\n",
        "- **Preds**: the model's predictions for the three sentences."
      ]
    },
    {
      "cell_type": "code",
      "execution_count": 38,
      "metadata": {
        "colab": {
          "base_uri": "https://localhost:8080/"
        },
        "id": "ZKZ6Mx1tAEJq",
        "outputId": "a8b8d1fa-210f-40be-d275-dbe4dca19027"
      },
      "outputs": [
        {
          "output_type": "stream",
          "name": "stdout",
          "text": [
            "Original: without ever becoming didactic , director carlos carrera expertly weaves this novelistic story of entangled interrelationships and complex morality .; label=1\n",
            "Perturbations: ['without ever becoming didactic , director carlos carrera expertly weaves this novelistic story of entangled interrelationships and complex morality .', 'without ever becoming didactic , director carlos carrera expertly weaves this novelistic story of entangled interrelationships and complex morality', 'without ever becoming didactic , director carlos carrera expertly weaves this novelistic story of entangled interrelationships and complex morality.']\n",
            "Preds: [1 0 1]\n",
            "==========\n",
            "Original: it deserves to be seen by anyone with even a passing interest in the events shaping the world beyond their own horizons .; label=1\n",
            "Perturbations: ['it deserves to be seen by anyone with even a passing interest in the events shaping the world beyond their own horizons .', 'it deserves to be seen by anyone with even a passing interest in the events shaping the world beyond their own horizons', 'it deserves to be seen by anyone with even a passing interest in the events shaping the world beyond their own horizons.']\n",
            "Preds: [0 1 0]\n",
            "==========\n",
            "Original: ahhhh ... revenge is sweet !; label=1\n",
            "Perturbations: ['ahhhh ... revenge is sweet !', 'ahhhh ... revenge is sweet', 'ahhhh ... revenge is sweet.']\n",
            "Preds: [1 1 0]\n",
            "==========\n",
            "Original: it seems like i have been waiting my whole life for this movie and now i ca n't wait for the sequel .; label=1\n",
            "Perturbations: [\"it seems like i have been waiting my whole life for this movie and now i ca n't wait for the sequel .\", \"it seems like i have been waiting my whole life for this movie and now i ca n't wait for the sequel\", \"it seems like i have been waiting my whole life for this movie and now i ca n't wait for the sequel.\"]\n",
            "Preds: [1 0 1]\n",
            "==========\n",
            "Original: griffiths proves she 's that rare luminary who continually raises the standard of her profession .; label=1\n",
            "Perturbations: [\"griffiths proves she 's that rare luminary who continually raises the standard of her profession .\", \"griffiths proves she 's that rare luminary who continually raises the standard of her profession\", \"griffiths proves she 's that rare luminary who continually raises the standard of her profession.\"]\n",
            "Preds: [0 1 0]\n",
            "==========\n",
            "Original: funny but perilously slight .; label=1\n",
            "Perturbations: ['funny but perilously slight .', 'funny but perilously slight', 'funny but perilously slight.']\n",
            "Preds: [0 1 0]\n",
            "==========\n",
            "Original: if you 're hard up for raunchy college humor , this is your ticket right here .; label=1\n",
            "Perturbations: [\"if you 're hard up for raunchy college humor , this is your ticket right here .\", \"if you 're hard up for raunchy college humor , this is your ticket right here\", \"if you 're hard up for raunchy college humor , this is your ticket right here.\"]\n",
            "Preds: [0 1 0]\n",
            "==========\n",
            "Original: it 's a beautiful madness .; label=1\n",
            "Perturbations: [\"it 's a beautiful madness .\", \"it 's a beautiful madness\", \"it 's a beautiful madness.\"]\n",
            "Preds: [0 1 0]\n",
            "==========\n",
            "Original: cool ?; label=1\n",
            "Perturbations: ['cool ?', 'cool', 'cool.']\n",
            "Preds: [0 1 1]\n",
            "==========\n",
            "Original: all-in-all , the film is an enjoyable and frankly told tale of a people who live among us , but not necessarily with us .; label=1\n",
            "Perturbations: ['all-in-all , the film is an enjoyable and frankly told tale of a people who live among us , but not necessarily with us .', 'all-in-all , the film is an enjoyable and frankly told tale of a people who live among us , but not necessarily with us', 'all-in-all , the film is an enjoyable and frankly told tale of a people who live among us , but not necessarily with us.']\n",
            "Preds: [0 1 0]\n",
            "==========\n",
            "Original: without non-stop techno or the existential overtones of a kieslowski morality tale , maelström is just another winter sleepers .; label=0\n",
            "Perturbations: ['without non-stop techno or the existential overtones of a kieslowski morality tale , maelström is just another winter sleepers .', 'without non-stop techno or the existential overtones of a kieslowski morality tale , maelström is just another winter sleepers', 'without non-stop techno or the existential overtones of a kieslowski morality tale , maelström is just another winter sleepers.']\n",
            "Preds: [1 0 1]\n",
            "==========\n",
            "Original: even with a green mohawk and a sheet of fire-red flame tattoos covering his shoulder , however , kilmer seems to be posing , rather than acting .; label=0\n",
            "Perturbations: ['even with a green mohawk and a sheet of fire-red flame tattoos covering his shoulder , however , kilmer seems to be posing , rather than acting .', 'even with a green mohawk and a sheet of fire-red flame tattoos covering his shoulder , however , kilmer seems to be posing , rather than acting', 'even with a green mohawk and a sheet of fire-red flame tattoos covering his shoulder , however , kilmer seems to be posing , rather than acting.']\n",
            "Preds: [0 1 0]\n",
            "==========\n",
            "Original: the experience of going to a film festival is a rewarding one ; the experiencing of sampling one through this movie is not .; label=0\n",
            "Perturbations: ['the experience of going to a film festival is a rewarding one ; the experiencing of sampling one through this movie is not .', 'the experience of going to a film festival is a rewarding one ; the experiencing of sampling one through this movie is not', 'the experience of going to a film festival is a rewarding one ; the experiencing of sampling one through this movie is not.']\n",
            "Preds: [0 1 0]\n",
            "==========\n",
            "Original: it takes a certain kind of horror movie to qualify as ` worse than expected , ' but ghost ship somehow manages to do exactly that .; label=0\n",
            "Perturbations: [\"it takes a certain kind of horror movie to qualify as ` worse than expected , ' but ghost ship somehow manages to do exactly that .\", \"it takes a certain kind of horror movie to qualify as ` worse than expected , ' but ghost ship somehow manages to do exactly that\", \"it takes a certain kind of horror movie to qualify as ` worse than expected , ' but ghost ship somehow manages to do exactly that.\"]\n",
            "Preds: [1 0 1]\n",
            "==========\n",
            "Original: delivers the same old same old , tarted up with latin flava and turned out by hollywood playas .; label=0\n",
            "Perturbations: ['delivers the same old same old , tarted up with latin flava and turned out by hollywood playas .', 'delivers the same old same old , tarted up with latin flava and turned out by hollywood playas', 'delivers the same old same old , tarted up with latin flava and turned out by hollywood playas.']\n",
            "Preds: [0 1 0]\n",
            "==========\n",
            "Original: it 's like every bad idea that 's ever gone into an after-school special compiled in one place , minus those daytime programs ' slickness and sophistication -lrb- and who knew they even had any ? -rrb- .; label=0\n",
            "Perturbations: [\"it 's like every bad idea that 's ever gone into an after-school special compiled in one place , minus those daytime programs ' slickness and sophistication -lrb- and who knew they even had any ? -rrb- .\", \"it 's like every bad idea that 's ever gone into an after-school special compiled in one place , minus those daytime programs ' slickness and sophistication -lrb- and who knew they even had any ? -rrb-\", \"it 's like every bad idea that 's ever gone into an after-school special compiled in one place , minus those daytime programs ' slickness and sophistication -lrb- and who knew they even had any ? -rrb-.\"]\n",
            "Preds: [0 1 0]\n",
            "==========\n",
            "Original: the words , ` frankly , my dear , i do n't give a damn , ' have never been more appropriate .; label=0\n",
            "Perturbations: [\"the words , ` frankly , my dear , i do n't give a damn , ' have never been more appropriate .\", \"the words , ` frankly , my dear , i do n't give a damn , ' have never been more appropriate\", \"the words , ` frankly , my dear , i do n't give a damn , ' have never been more appropriate.\"]\n",
            "Preds: [0 1 0]\n",
            "==========\n",
            "Original: wince-inducing dialogue , thrift-shop costumes , prosthetic makeup by silly putty and kmart blue-light-special effects all conspire to test trekkie loyalty .; label=0\n",
            "Perturbations: ['wince-inducing dialogue , thrift-shop costumes , prosthetic makeup by silly putty and kmart blue-light-special effects all conspire to test trekkie loyalty .', 'wince-inducing dialogue , thrift-shop costumes , prosthetic makeup by silly putty and kmart blue-light-special effects all conspire to test trekkie loyalty', 'wince-inducing dialogue , thrift-shop costumes , prosthetic makeup by silly putty and kmart blue-light-special effects all conspire to test trekkie loyalty.']\n",
            "Preds: [1 0 1]\n",
            "==========\n",
            "Original: plays like a volatile and overlong w magazine fashion spread .; label=0\n",
            "Perturbations: ['plays like a volatile and overlong w magazine fashion spread .', 'plays like a volatile and overlong w magazine fashion spread', 'plays like a volatile and overlong w magazine fashion spread.']\n",
            "Preds: [1 0 1]\n",
            "==========\n",
            "Original: even the finest chef ca n't make a hotdog into anything more than a hotdog , and robert de niro ca n't make this movie anything more than a trashy cop buddy comedy .; label=0\n",
            "Perturbations: [\"even the finest chef ca n't make a hotdog into anything more than a hotdog , and robert de niro ca n't make this movie anything more than a trashy cop buddy comedy .\", \"even the finest chef ca n't make a hotdog into anything more than a hotdog , and robert de niro ca n't make this movie anything more than a trashy cop buddy comedy\", \"even the finest chef ca n't make a hotdog into anything more than a hotdog , and robert de niro ca n't make this movie anything more than a trashy cop buddy comedy.\"]\n",
            "Preds: [0 1 0]\n",
            "==========\n",
            "Original: despite the evocative aesthetics evincing the hollow state of modern love life , the film never percolates beyond a monotonous whine .; label=0\n",
            "Perturbations: ['despite the evocative aesthetics evincing the hollow state of modern love life , the film never percolates beyond a monotonous whine .', 'despite the evocative aesthetics evincing the hollow state of modern love life , the film never percolates beyond a monotonous whine', 'despite the evocative aesthetics evincing the hollow state of modern love life , the film never percolates beyond a monotonous whine.']\n",
            "Preds: [0 1 0]\n",
            "==========\n",
            "Original: this is an egotistical endeavor from the daughter of horror director dario argento -lrb- a producer here -rrb- , but her raw performance and utter fearlessness make it strangely magnetic .; label=1\n",
            "Perturbations: ['this is an egotistical endeavor from the daughter of horror director dario argento -lrb- a producer here -rrb- , but her raw performance and utter fearlessness make it strangely magnetic .', 'this is an egotistical endeavor from the daughter of horror director dario argento -lrb- a producer here -rrb- , but her raw performance and utter fearlessness make it strangely magnetic', 'this is an egotistical endeavor from the daughter of horror director dario argento -lrb- a producer here -rrb- , but her raw performance and utter fearlessness make it strangely magnetic.']\n",
            "Preds: [1 0 1]\n",
            "==========\n",
            "Original: as a rumor of angels reveals itself to be a sudsy tub of supernatural hokum , not even ms. redgrave 's noblest efforts can redeem it from hopeless sentimentality .; label=0\n",
            "Perturbations: [\"as a rumor of angels reveals itself to be a sudsy tub of supernatural hokum , not even ms. redgrave 's noblest efforts can redeem it from hopeless sentimentality .\", \"as a rumor of angels reveals itself to be a sudsy tub of supernatural hokum , not even ms. redgrave 's noblest efforts can redeem it from hopeless sentimentality\", \"as a rumor of angels reveals itself to be a sudsy tub of supernatural hokum , not even ms. redgrave 's noblest efforts can redeem it from hopeless sentimentality.\"]\n",
            "Preds: [0 1 0]\n",
            "==========\n",
            "Original: i can take infantile humor ... but this is the sort of infantile that makes you wonder about changing the director and writer 's diapers .; label=0\n",
            "Perturbations: [\"i can take infantile humor ... but this is the sort of infantile that makes you wonder about changing the director and writer 's diapers .\", \"i can take infantile humor ... but this is the sort of infantile that makes you wonder about changing the director and writer 's diapers\", \"i can take infantile humor ... but this is the sort of infantile that makes you wonder about changing the director and writer 's diapers.\"]\n",
            "Preds: [0 1 0]\n",
            "==========\n",
            "Original: but what are adults doing in the theater at all ?; label=0\n",
            "Perturbations: ['but what are adults doing in the theater at all ?', 'but what are adults doing in the theater at all', 'but what are adults doing in the theater at all.']\n",
            "Preds: [0 1 1]\n",
            "==========\n",
            "Original: the story and the friendship proceeds in such a way that you 're watching a soap opera rather than a chronicle of the ups and downs that accompany lifelong friendships .; label=0\n",
            "Perturbations: [\"the story and the friendship proceeds in such a way that you 're watching a soap opera rather than a chronicle of the ups and downs that accompany lifelong friendships .\", \"the story and the friendship proceeds in such a way that you 're watching a soap opera rather than a chronicle of the ups and downs that accompany lifelong friendships\", \"the story and the friendship proceeds in such a way that you 're watching a soap opera rather than a chronicle of the ups and downs that accompany lifelong friendships.\"]\n",
            "Preds: [0 1 0]\n",
            "==========\n"
          ]
        }
      ],
      "source": [
        "for idx in indices1:\n",
        "    print(\"Original:\", dev_exs[idx])\n",
        "    print(\"Perturbations:\", ret1.data[idx])\n",
        "    print(\"Preds:\", all_preds[idx])\n",
        "    print(\"=\" * 10)"
      ]
    },
    {
      "cell_type": "markdown",
      "metadata": {
        "id": "wl7L4sx5AEJq"
      },
      "source": [
        "**Describe:** Read through the printed examples carefully and include two most interesting ones to the assignment PDF.\n",
        "\n",
        "**Discuss**: Changing or removing the punctuation of a sentence may or may not change the sentence's original semantic meaning. Use your common sense to judge the model's predictions, and discuss:\n",
        "- Should all labels *NOT* be flipped? Or do you see cases where the prediction labels are hard to decide or should actually be flipped when the punctuation is changed?\n",
        "- Overall, do you think your model is robust to punctuation perturbation?"
      ]
    },
    {
      "cell_type": "markdown",
      "metadata": {
        "id": "5WAvVo5mAEJq"
      },
      "source": [
        "### INV - Typos (35 points)\n",
        "\n",
        "<font color='blue'>Complete the following code for creating INV examples based on perturbing typos in the dev set. </font>"
      ]
    },
    {
      "cell_type": "markdown",
      "metadata": {
        "id": "aiSqxKMwNyAZ"
      },
      "source": [
        "Now, similarly implement the typo perturbation, which intentionally replaces words in the original sentence with typos."
      ]
    },
    {
      "cell_type": "code",
      "execution_count": 39,
      "metadata": {
        "id": "iT1TABNQAEJq"
      },
      "outputs": [],
      "source": [
        "# TODO: complete the assignment for creating\n",
        "# a set of dev-set examples with perturbed typos\n",
        "# using the Perturb class\n",
        "ret2 = Perturb.perturb(data, Perturb.add_typos)"
      ]
    },
    {
      "cell_type": "markdown",
      "metadata": {
        "id": "1Q-59tuIOBpa"
      },
      "source": [
        "Print the perturbation results for the first three sentences on the dev set:"
      ]
    },
    {
      "cell_type": "code",
      "execution_count": 40,
      "metadata": {
        "colab": {
          "base_uri": "https://localhost:8080/"
        },
        "id": "MRMiUgg9OGo-",
        "outputId": "58cbc123-808b-4494-a1e4-50d165b8c72d"
      },
      "outputs": [
        {
          "output_type": "execute_result",
          "data": {
            "text/plain": [
              "[[\"it 's a lovely film with lovely performances by buy and accorsi .\",\n",
              "  \"it 's a lovely film with lovely pefrormances by buy and accorsi .\"],\n",
              " [\"and if you 're not nearly moved to tears by a couple of scenes , you 've got ice water in your veins .\",\n",
              "  \"and if you 're not nearly movde to tears by a couple of scenes , you 've got ice water in your veins .\"],\n",
              " ['a warm , funny , engaging film .', 'aw arm , funny , engaging film .']]"
            ]
          },
          "metadata": {},
          "execution_count": 40
        }
      ],
      "source": [
        "ret2.data[:3]"
      ]
    },
    {
      "cell_type": "markdown",
      "metadata": {
        "id": "55IvKl_ION_L"
      },
      "source": [
        "As in the punctuation perturbation analysis, we will apply the classifier to make predictions on the perturbed examples, and then calculate the number of label flips overall and for initially correct predictions."
      ]
    },
    {
      "cell_type": "code",
      "execution_count": 41,
      "metadata": {
        "id": "Ry-IZ0seAEJq"
      },
      "outputs": [],
      "source": [
        "assert len(ret2.data) == len(dev_exs)\n",
        "\n",
        "all_labels2 = []\n",
        "all_preds2 = []\n",
        "\n",
        "for ex_idx, ex in enumerate(dev_exs):\n",
        "    assert ex.sentence == ret2.data[ex_idx][0]\n",
        "    gold_label = ex.label\n",
        "    preds = batch_predict_prob(ret2.data[ex_idx])\n",
        "\n",
        "    all_labels2.append(gold_label)\n",
        "    all_preds2.append(preds)"
      ]
    },
    {
      "cell_type": "code",
      "execution_count": 42,
      "metadata": {
        "colab": {
          "base_uri": "https://localhost:8080/"
        },
        "id": "bsjaPBvxAEJq",
        "outputId": "c255be14-2bf0-4ae3-c1f7-e075fd043972"
      },
      "outputs": [
        {
          "output_type": "stream",
          "name": "stdout",
          "text": [
            "96 examples got their label flipped!\n",
            "59 examples got their *correct* label flipped!\n"
          ]
        }
      ],
      "source": [
        "indices1 = count_label_flips(all_preds2)\n",
        "indices2 = count_correct_label_flips(all_labels2, all_preds2)"
      ]
    },
    {
      "cell_type": "markdown",
      "metadata": {
        "id": "kV-NkLYgPU5g"
      },
      "source": [
        "Now, let's look at all the examples whose labels were flipped after introducing typos. The output format of the following code block is the same as in the prior analysis, except that by default, the library produces only one perturbed sentence for each original sentence on the dev set. Therefore, you should see onlye two sentences in `Perturbations` and two prediction labels in `Preds`."
      ]
    },
    {
      "cell_type": "code",
      "execution_count": 43,
      "metadata": {
        "colab": {
          "base_uri": "https://localhost:8080/"
        },
        "id": "97wbsJd-AEJr",
        "outputId": "ea06efee-7f9c-4cca-a041-54890aedd285"
      },
      "outputs": [
        {
          "output_type": "stream",
          "name": "stdout",
          "text": [
            "Original: nothing 's at stake , just a twisty double-cross you can smell a mile away -- still , the derivative nine queens is lots of fun .; label=1\n",
            "Perturbations: [\"nothing 's at stake , just a twisty double-cross you can smell a mile away -- still , the derivative nine queens is lots of fun .\", \"ntohing 's at stake , just a twisty double-cross you can smell a mile away -- still , the derivative nine queens is lots of fun .\"]\n",
            "Preds: [1 0]\n",
            "==========\n",
            "Original: the band 's courage in the face of official repression is inspiring , especially for aging hippies -lrb- this one included -rrb- .; label=1\n",
            "Perturbations: [\"the band 's courage in the face of official repression is inspiring , especially for aging hippies -lrb- this one included -rrb- .\", \"the band 's courage in the face of official repression is isnpiring , especially for aging hippies -lrb- this one included -rrb- .\"]\n",
            "Preds: [1 0]\n",
            "==========\n",
            "Original: writer\\/director joe carnahan 's grimy crime drama is a manual of precinct cliches , but it moves fast enough to cover its clunky dialogue and lapses in logic .; label=1\n",
            "Perturbations: [\"writer\\\\/director joe carnahan 's grimy crime drama is a manual of precinct cliches , but it moves fast enough to cover its clunky dialogue and lapses in logic .\", \"write\\\\r/director joe carnahan 's grimy crime drama is a manual of precinct cliches , but it moves fast enough to cover its clunky dialogue and lapses in logic .\"]\n",
            "Preds: [0 1]\n",
            "==========\n",
            "Original: chilling , well-acted , and finely directed : david jacobson 's dahmer .; label=1\n",
            "Perturbations: [\"chilling , well-acted , and finely directed : david jacobson 's dahmer .\", \"chillnig , well-acted , and finely directed : david jacobson 's dahmer .\"]\n",
            "Preds: [0 1]\n",
            "==========\n",
            "Original: may be far from the best of the series , but it 's assured , wonderfully respectful of its past and thrilling enough to make it abundantly clear that this movie phenomenon has once again reinvented itself for a new generation .; label=1\n",
            "Perturbations: [\"may be far from the best of the series , but it 's assured , wonderfully respectful of its past and thrilling enough to make it abundantly clear that this movie phenomenon has once again reinvented itself for a new generation .\", \"may be far from the best of the series , but it 's assured , wodnerfully respectful of its past and thrilling enough to make it abundantly clear that this movie phenomenon has once again reinvented itself for a new generation .\"]\n",
            "Preds: [1 0]\n",
            "==========\n",
            "Original: still , as a visual treat , the film is almost unsurpassed .; label=1\n",
            "Perturbations: ['still , as a visual treat , the film is almost unsurpassed .', 'still , as a visual rteat , the film is almost unsurpassed .']\n",
            "Preds: [1 0]\n",
            "==========\n",
            "Original: so refreshingly incisive is grant that for the first time he 'll probably appeal more to guys than to their girlfriends who drag them to this movie for the hugh factor .; label=1\n",
            "Perturbations: [\"so refreshingly incisive is grant that for the first time he 'll probably appeal more to guys than to their girlfriends who drag them to this movie for the hugh factor .\", \"so refreshingly incisive is grant that for th efirst time he 'll probably appeal more to guys than to their girlfriends who drag them to this movie for the hugh factor .\"]\n",
            "Preds: [1 0]\n",
            "==========\n",
            "Original: turns potentially forgettable formula into something strangely diverting .; label=1\n",
            "Perturbations: ['turns potentially forgettable formula into something strangely diverting .', 'turns potentially forgettbale formula into something strangely diverting .']\n",
            "Preds: [0 1]\n",
            "==========\n",
            "Original: people cinema at its finest .; label=1\n",
            "Perturbations: ['people cinema at its finest .', 'people cinema at its ifnest .']\n",
            "Preds: [1 0]\n",
            "==========\n",
            "Original: ... a story we have n't seen on the big screen before , and it 's a story that we as americans , and human beings , should know .; label=1\n",
            "Perturbations: [\"... a story we have n't seen on the big screen before , and it 's a story that we as americans , and human beings , should know .\", \"... a story we have n't seen on the big screen before , and it 's a story that we as americans , and human beings , sohuld know .\"]\n",
            "Preds: [0 1]\n",
            "==========\n",
            "Original: like leon , it 's frustrating and still oddly likable .; label=1\n",
            "Perturbations: [\"like leon , it 's frustrating and still oddly likable .\", \"like leon , i t's frustrating and still oddly likable .\"]\n",
            "Preds: [0 1]\n",
            "==========\n",
            "Original: reggio 's continual visual barrage is absorbing as well as thought-provoking .; label=1\n",
            "Perturbations: [\"reggio 's continual visual barrage is absorbing as well as thought-provoking .\", \"reggio 's continual visual barrage is absobring as well as thought-provoking .\"]\n",
            "Preds: [1 0]\n",
            "==========\n",
            "Original: the subtle strength of `` elling '' is that it never loses touch with the reality of the grim situation .; label=1\n",
            "Perturbations: [\"the subtle strength of `` elling '' is that it never loses touch with the reality of the grim situation .\", \"the subtle strength of `` elling '' is that it never loess touch with the reality of the grim situation .\"]\n",
            "Preds: [1 0]\n",
            "==========\n",
            "Original: highbrow self-appointed guardians of culture need not apply , but those who loved cool as ice have at last found a worthy follow-up .; label=1\n",
            "Perturbations: ['highbrow self-appointed guardians of culture need not apply , but those who loved cool as ice have at last found a worthy follow-up .', 'highbrow self-appointed guardians of culture need not apply , but those who lvoed cool as ice have at last found a worthy follow-up .']\n",
            "Preds: [0 1]\n",
            "==========\n",
            "Original: old-form moviemaking at its best .; label=1\n",
            "Perturbations: ['old-form moviemaking at its best .', 'old-form moviemkaing at its best .']\n",
            "Preds: [0 1]\n",
            "==========\n",
            "Original: ahhhh ... revenge is sweet !; label=1\n",
            "Perturbations: ['ahhhh ... revenge is sweet !', 'ahhhh ... revenge is wseet !']\n",
            "Preds: [1 0]\n",
            "==========\n",
            "Original: there has always been something likable about the marquis de sade .; label=1\n",
            "Perturbations: ['there has always been something likable about the marquis de sade .', 'there has alwasy been something likable about the marquis de sade .']\n",
            "Preds: [1 0]\n",
            "==========\n",
            "Original: my thoughts were focused on the characters .; label=1\n",
            "Perturbations: ['my thoughts were focused on the characters .', 'my thoughts were focused on the chraacters .']\n",
            "Preds: [1 0]\n",
            "==========\n",
            "Original: griffiths proves she 's that rare luminary who continually raises the standard of her profession .; label=1\n",
            "Perturbations: [\"griffiths proves she 's that rare luminary who continually raises the standard of her profession .\", \"griffiths proves she 's that rare luminary who continually raises the standard of her professino .\"]\n",
            "Preds: [0 1]\n",
            "==========\n",
            "Original: fresnadillo 's dark and jolting images have a way of plying into your subconscious like the nightmare you had a week ago that wo n't go away .; label=1\n",
            "Perturbations: [\"fresnadillo 's dark and jolting images have a way of plying into your subconscious like the nightmare you had a week ago that wo n't go away .\", \"fresnadillo 's dark and jolting images have a way of plying itno your subconscious like the nightmare you had a week ago that wo n't go away .\"]\n",
            "Preds: [0 1]\n",
            "==========\n",
            "Original: morton uses her face and her body language to bring us morvern 's soul , even though the character is almost completely deadpan .; label=1\n",
            "Perturbations: [\"morton uses her face and her body language to bring us morvern 's soul , even though the character is almost completely deadpan .\", \"morton uses he rface and her body language to bring us morvern 's soul , even though the character is almost completely deadpan .\"]\n",
            "Preds: [0 1]\n",
            "==========\n",
            "Original: it confirms fincher 's status as a film maker who artfully bends technical know-how to the service of psychological insight .; label=1\n",
            "Perturbations: [\"it confirms fincher 's status as a film maker who artfully bends technical know-how to the service of psychological insight .\", \"it confirms fincher 's status as a film maker who artfully bends technical know-how to thes ervice of psychological insight .\"]\n",
            "Preds: [1 0]\n",
            "==========\n",
            "Original: moody , heartbreaking , and filmed in a natural , unforced style that makes its characters seem entirely convincing even when its script is not .; label=1\n",
            "Perturbations: ['moody , heartbreaking , and filmed in a natural , unforced style that makes its characters seem entirely convincing even when its script is not .', 'moody , heartbreaking , and filmed in a natural , unforced style that makes its characters seem entirely convincing even when its scirpt is not .']\n",
            "Preds: [0 1]\n",
            "==========\n",
            "Original: if you are an actor who can relate to the search for inner peace by dramatically depicting the lives of others onstage , then esther 's story is a compelling quest for truth .; label=1\n",
            "Perturbations: [\"if you are an actor who can relate to the search for inner peace by dramatically depicting the lives of others onstage , then esther 's story is a compelling quest for truth .\", \"if you are an actor who can relate to the search for inner peace by dramatically depicting the lives of others onstage , then esther 's story is a compelling quets for truth .\"]\n",
            "Preds: [1 0]\n",
            "==========\n",
            "Original: challenging , intermittently engrossing and unflaggingly creative .; label=1\n",
            "Perturbations: ['challenging , intermittently engrossing and unflaggingly creative .', 'challenging , intermittently engrossing and unflaggingly rceative .']\n",
            "Preds: [1 0]\n",
            "==========\n",
            "Original: a painfully funny ode to bad behavior .; label=1\n",
            "Perturbations: ['a painfully funny ode to bad behavior .', 'a paifnully funny ode to bad behavior .']\n",
            "Preds: [0 1]\n",
            "==========\n",
            "Original: further proof that the epicenter of cool , beautiful , thought-provoking foreign cinema is smack-dab in the middle of dubya 's axis of evil .; label=1\n",
            "Perturbations: [\"further proof that the epicenter of cool , beautiful , thought-provoking foreign cinema is smack-dab in the middle of dubya 's axis of evil .\", \"further proof that the epicenter o fcool , beautiful , thought-provoking foreign cinema is smack-dab in the middle of dubya 's axis of evil .\"]\n",
            "Preds: [1 0]\n",
            "==========\n",
            "Original: if the first men in black was money , the second is small change .; label=0\n",
            "Perturbations: ['if the first men in black was money , the second is small change .', 'if the first men in black was mone y, the second is small change .']\n",
            "Preds: [0 1]\n",
            "==========\n",
            "Original: but it still jingles in the pocket .; label=1\n",
            "Perturbations: ['but it still jingles in the pocket .', 'but it stillj ingles in the pocket .']\n",
            "Preds: [0 1]\n",
            "==========\n",
            "Original: pumpkin takes an admirable look at the hypocrisy of political correctness , but it does so with such an uneven tone that you never know when humor ends and tragedy begins .; label=0\n",
            "Perturbations: ['pumpkin takes an admirable look at the hypocrisy of political correctness , but it does so with such an uneven tone that you never know when humor ends and tragedy begins .', 'pumpkin takes an admirable look at the hypocrisy of political correctness , but it does so with such an unevne tone that you never know when humor ends and tragedy begins .']\n",
            "Preds: [0 1]\n",
            "==========\n",
            "Original: the movie 's relatively simple plot and uncomplicated morality play well with the affable cast .; label=1\n",
            "Perturbations: [\"the movie 's relatively simple plot and uncomplicated morality play well with the affable cast .\", \"the movei 's relatively simple plot and uncomplicated morality play well with the affable cast .\"]\n",
            "Preds: [0 1]\n",
            "==========\n",
            "Original: one from the heart .; label=1\n",
            "Perturbations: ['one from the heart .', 'one from theh eart .']\n",
            "Preds: [1 0]\n",
            "==========\n",
            "Original: it 's a beautiful madness .; label=1\n",
            "Perturbations: [\"it 's a beautiful madness .\", \"it 's a beauitful madness .\"]\n",
            "Preds: [0 1]\n",
            "==========\n",
            "Original: escaping the studio , piccoli is warmly affecting and so is this adroitly minimalist movie .; label=1\n",
            "Perturbations: ['escaping the studio , piccoli is warmly affecting and so is this adroitly minimalist movie .', 'escaping the studio , piccoli isw armly affecting and so is this adroitly minimalist movie .']\n",
            "Preds: [1 0]\n",
            "==========\n",
            "Original: another one of those estrogen overdose movies like `` divine secrets of the ya ya sisterhood , '' except that the writing , acting and character development are a lot better .; label=1\n",
            "Perturbations: [\"another one of those estrogen overdose movies like `` divine secrets of the ya ya sisterhood , '' except that the writing , acting and character development are a lot better .\", \"another one of thos eestrogen overdose movies like `` divine secrets of the ya ya sisterhood , '' except that the writing , acting and character development are a lot better .\"]\n",
            "Preds: [1 0]\n",
            "==========\n",
            "Original: jones ... does offer a brutal form of charisma .; label=1\n",
            "Perturbations: ['jones ... does offer a brutal form of charisma .', 'joens ... does offer a brutal form of charisma .']\n",
            "Preds: [0 1]\n",
            "==========\n",
            "Original: nothing is sacred in this gut-buster .; label=0\n",
            "Perturbations: ['nothing is sacred in this gut-buster .', 'nothing is sacred in this gut-bsuter .']\n",
            "Preds: [1 0]\n",
            "==========\n",
            "Original: it 's a scattershot affair , but when it hits its mark it 's brilliant .; label=1\n",
            "Perturbations: [\"it 's a scattershot affair , but when it hits its mark it 's brilliant .\", \"it 's a scattershot affair , but wehn it hits its mark it 's brilliant .\"]\n",
            "Preds: [0 1]\n",
            "==========\n",
            "Original: the movie does a good job of laying out some of the major issues that we encounter as we journey through life .; label=1\n",
            "Perturbations: ['the movie does a good job of laying out some of the major issues that we encounter as we journey through life .', 'the movie does a good job of laying out some oft he major issues that we encounter as we journey through life .']\n",
            "Preds: [1 0]\n",
            "==========\n",
            "Original: part low rent godfather .; label=0\n",
            "Perturbations: ['part low rent godfather .', 'part low rent godfathre .']\n",
            "Preds: [0 1]\n",
            "==========\n",
            "Original: this is human comedy at its most amusing , interesting and confirming .; label=1\n",
            "Perturbations: ['this is human comedy at its most amusing , interesting and confirming .', 'this is humanc omedy at its most amusing , interesting and confirming .']\n",
            "Preds: [1 0]\n",
            "==========\n",
            "Original: majidi is an unconventional storyteller , capable of finding beauty in the most depressing places .; label=1\n",
            "Perturbations: ['majidi is an unconventional storyteller , capable of finding beauty in the most depressing places .', 'majidi is an unconventioanl storyteller , capable of finding beauty in the most depressing places .']\n",
            "Preds: [1 0]\n",
            "==========\n",
            "Original: it 's a demented kitsch mess -lrb- although the smeary digital video does match the muddled narrative -rrb- , but it 's savvy about celebrity and has more guts and energy than much of what will open this year .; label=1\n",
            "Perturbations: [\"it 's a demented kitsch mess -lrb- although the smeary digital video does match the muddled narrative -rrb- , but it 's savvy about celebrity and has more guts and energy than much of what will open this year .\", \"it 's a demented kitsch mess -lrb- although the smeayr digital video does match the muddled narrative -rrb- , but it 's savvy about celebrity and has more guts and energy than much of what will open this year .\"]\n",
            "Preds: [1 0]\n",
            "==========\n",
            "Original: all-in-all , the film is an enjoyable and frankly told tale of a people who live among us , but not necessarily with us .; label=1\n",
            "Perturbations: ['all-in-all , the film is an enjoyable and frankly told tale of a people who live among us , but not necessarily with us .', 'all-in-all , the film is an enjoyable and frankly told tale of a people who live among us , but ont necessarily with us .']\n",
            "Preds: [0 1]\n",
            "==========\n",
            "Original: a movie with a real anarchic flair .; label=1\n",
            "Perturbations: ['a movie with a real anarchic flair .', 'a movie with a real naarchic flair .']\n",
            "Preds: [0 1]\n",
            "==========\n",
            "Original: without non-stop techno or the existential overtones of a kieslowski morality tale , maelström is just another winter sleepers .; label=0\n",
            "Perturbations: ['without non-stop techno or the existential overtones of a kieslowski morality tale , maelström is just another winter sleepers .', 'without non-stop techno or the existential overtones of a kieslowski moraltiy tale , maelström is just another winter sleepers .']\n",
            "Preds: [1 0]\n",
            "==========\n",
            "Original: nicks , seemingly uncertain what 's going to make people laugh , runs the gamut from stale parody to raunchy sex gags to formula romantic comedy .; label=0\n",
            "Perturbations: [\"nicks , seemingly uncertain what 's going to make people laugh , runs the gamut from stale parody to raunchy sex gags to formula romantic comedy .\", \"nicks , seemingly uncertain what 's going to make people laugh , runs the gamut from stale parody to arunchy sex gags to formula romantic comedy .\"]\n",
            "Preds: [1 0]\n",
            "==========\n",
            "Original: -lrb- e -rrb- ventually , every idea in this film is flushed down the latrine of heroism .; label=0\n",
            "Perturbations: ['-lrb- e -rrb- ventually , every idea in this film is flushed down the latrine of heroism .', '-lrb- e -rrb- ventually , eevry idea in this film is flushed down the latrine of heroism .']\n",
            "Preds: [1 0]\n",
            "==========\n",
            "Original: looks and feels like a project better suited for the small screen .; label=0\n",
            "Perturbations: ['looks and feels like a project better suited for the small screen .', 'looks and feesl like a project better suited for the small screen .']\n",
            "Preds: [1 0]\n",
            "==========\n",
            "Original: the best that can be said about the work here of scottish director ritchie ... is that he obviously does n't have his heart in it .; label=0\n",
            "Perturbations: [\"the best that can be said about the work here of scottish director ritchie ... is that he obviously does n't have his heart in it .\", \"the best that can be said about the work here of scottish director ritchi e... is that he obviously does n't have his heart in it .\"]\n",
            "Preds: [0 1]\n",
            "==========\n",
            "Original: no way i can believe this load of junk .; label=0\n",
            "Perturbations: ['no way i can believe this load of junk .', 'no way i can believe this load o fjunk .']\n",
            "Preds: [0 1]\n",
            "==========\n",
            "Original: it feels like an after-school special gussied up with some fancy special effects , and watching its rote plot points connect is about as exciting as gazing at an egg timer for 93 minutes .; label=0\n",
            "Perturbations: ['it feels like an after-school special gussied up with some fancy special effects , and watching its rote plot points connect is about as exciting as gazing at an egg timer for 93 minutes .', 'it feels like an after-school special gussied up with some fancy special effects , and watching its rote plot points connect is about as exciting as gazing ta an egg timer for 93 minutes .']\n",
            "Preds: [1 0]\n",
            "==========\n",
            "Original: the film is based on truth and yet there is something about it that feels incomplete , as if the real story starts just around the corner .; label=0\n",
            "Perturbations: ['the film is based on truth and yet there is something about it that feels incomplete , as if the real story starts just around the corner .', 'the film is based on truth and yet there is something about it that feels incomplete , as if the reals tory starts just around the corner .']\n",
            "Preds: [0 1]\n",
            "==========\n",
            "Original: the lower your expectations , the more you 'll enjoy it .; label=0\n",
            "Perturbations: [\"the lower your expectations , the more you 'll enjoy it .\", \"the lower yuor expectations , the more you 'll enjoy it .\"]\n",
            "Preds: [1 0]\n",
            "==========\n",
            "Original: ... is an arthritic attempt at directing by callie khouri .; label=0\n",
            "Perturbations: ['... is an arthritic attempt at directing by callie khouri .', '... is an arthritica ttempt at directing by callie khouri .']\n",
            "Preds: [0 1]\n",
            "==========\n",
            "Original: i had to look away - this was god awful .; label=0\n",
            "Perturbations: ['i had to look away - this was god awful .', 'i had to look away - this was goda wful .']\n",
            "Preds: [0 1]\n",
            "==========\n",
            "Original: once the 50 year old benigni appears as the title character , we find ourselves longing for the block of wood to come back .; label=0\n",
            "Perturbations: ['once the 50 year old benigni appears as the title character , we find ourselves longing for the block of wood to come back .', 'once the 50 year old benigni appears as the title character , we fidn ourselves longing for the block of wood to come back .']\n",
            "Preds: [1 0]\n",
            "==========\n",
            "Original: a working class `` us vs. them '' opera that leaves no heartstring untugged and no liberal cause unplundered .; label=1\n",
            "Perturbations: [\"a working class `` us vs. them '' opera that leaves no heartstring untugged and no liberal cause unplundered .\", \"a working class `` us vs. them '' opera that leavse no heartstring untugged and no liberal cause unplundered .\"]\n",
            "Preds: [0 1]\n",
            "==========\n",
            "Original: the experience of going to a film festival is a rewarding one ; the experiencing of sampling one through this movie is not .; label=0\n",
            "Perturbations: ['the experience of going to a film festival is a rewarding one ; the experiencing of sampling one through this movie is not .', 'the experience of going to a film fesitval is a rewarding one ; the experiencing of sampling one through this movie is not .']\n",
            "Preds: [0 1]\n",
            "==========\n",
            "Original: a giggle a minute .; label=1\n",
            "Perturbations: ['a giggle a minute .', 'a giglge a minute .']\n",
            "Preds: [1 0]\n",
            "==========\n",
            "Original: the longer the movie goes , the worse it gets , but it 's actually pretty good in the first few minutes .; label=0\n",
            "Perturbations: [\"the longer the movie goes , the worse it gets , but it 's actually pretty good in the first few minutes .\", \"the longer the movie oges , the worse it gets , but it 's actually pretty good in the first few minutes .\"]\n",
            "Preds: [0 1]\n",
            "==========\n",
            "Original: while it 's genuinely cool to hear characters talk about early rap records -lrb- sugar hill gang , etc. -rrb- , the constant referencing of hip-hop arcana can alienate even the savviest audiences .; label=0\n",
            "Perturbations: [\"while it 's genuinely cool to hear characters talk about early rap records -lrb- sugar hill gang , etc. -rrb- , the constant referencing of hip-hop arcana can alienate even the savviest audiences .\", \"while it 's genuinely cool to hear characters talk about early rap records -lrb- sugar hill gang , etc. -rrb- , the ocnstant referencing of hip-hop arcana can alienate even the savviest audiences .\"]\n",
            "Preds: [0 1]\n",
            "==========\n",
            "Original: made with no discernible craft and monstrously sanctimonious in dealing with childhood loss .; label=0\n",
            "Perturbations: ['made with no discernible craft and monstrously sanctimonious in dealing with childhood loss .', 'made wtih no discernible craft and monstrously sanctimonious in dealing with childhood loss .']\n",
            "Preds: [1 0]\n",
            "==========\n",
            "Original: holden caulfield did it better .; label=0\n",
            "Perturbations: ['holden caulfield did it better .', 'holden caulfield did it bette r.']\n",
            "Preds: [0 1]\n",
            "==========\n",
            "Original: a synthesis of cliches and absurdities that seems positively decadent in its cinematic flash and emptiness .; label=0\n",
            "Perturbations: ['a synthesis of cliches and absurdities that seems positively decadent in its cinematic flash and emptiness .', 'a synthesiso f cliches and absurdities that seems positively decadent in its cinematic flash and emptiness .']\n",
            "Preds: [0 1]\n",
            "==========\n",
            "Original: it takes a certain kind of horror movie to qualify as ` worse than expected , ' but ghost ship somehow manages to do exactly that .; label=0\n",
            "Perturbations: [\"it takes a certain kind of horror movie to qualify as ` worse than expected , ' but ghost ship somehow manages to do exactly that .\", \"it takes a certain kind of horror movie to qualify as ` worse thna expected , ' but ghost ship somehow manages to do exactly that .\"]\n",
            "Preds: [1 0]\n",
            "==========\n",
            "Original: minority report is exactly what the title indicates , a report .; label=1\n",
            "Perturbations: ['minority report is exactly what the title indicates , a report .', 'minority repotr is exactly what the title indicates , a report .']\n",
            "Preds: [1 0]\n",
            "==========\n",
            "Original: if you believe any of this , i can make you a real deal on leftover enron stock that will double in value a week from friday .; label=0\n",
            "Perturbations: ['if you believe any of this , i can make you a real deal on leftover enron stock that will double in value a week from friday .', 'if you believe any of this , i can makey ou a real deal on leftover enron stock that will double in value a week from friday .']\n",
            "Preds: [1 0]\n",
            "==========\n",
            "Original: that 's a cheat .; label=0\n",
            "Perturbations: [\"that 's a cheat .\", \"htat 's a cheat .\"]\n",
            "Preds: [0 1]\n",
            "==========\n",
            "Original: harrison 's flowers puts its heart in the right place , but its brains are in no particular place at all .; label=1\n",
            "Perturbations: [\"harrison 's flowers puts its heart in the right place , but its brains are in no particular place at all .\", \"harrison 's flowers puts its heart in the righ tplace , but its brains are in no particular place at all .\"]\n",
            "Preds: [1 0]\n",
            "==========\n",
            "Original: it has all the excitement of eating oatmeal .; label=0\n",
            "Perturbations: ['it has all the excitement of eating oatmeal .', 'it has all the xecitement of eating oatmeal .']\n",
            "Preds: [0 1]\n",
            "==========\n",
            "Original: this movie seems to have been written using mad-libs .; label=0\n",
            "Perturbations: ['this movie seems to have been written using mad-libs .', 'this movie seems to have been written using mad-lisb .']\n",
            "Preds: [0 1]\n",
            "==========\n",
            "Original: for this reason and this reason only -- the power of its own steadfast , hoity-toity convictions -- chelsea walls deserves a medal .; label=1\n",
            "Perturbations: ['for this reason and this reason only -- the power of its own steadfast , hoity-toity convictions -- chelsea walls deserves a medal .', 'for this reason and this reason only -- the power of its own steadfast , hoity-toity conivctions -- chelsea walls deserves a medal .']\n",
            "Preds: [0 1]\n",
            "==========\n",
            "Original: this is an egotistical endeavor from the daughter of horror director dario argento -lrb- a producer here -rrb- , but her raw performance and utter fearlessness make it strangely magnetic .; label=1\n",
            "Perturbations: ['this is an egotistical endeavor from the daughter of horror director dario argento -lrb- a producer here -rrb- , but her raw performance and utter fearlessness make it strangely magnetic .', 'this is an egotistical endeavor from hte daughter of horror director dario argento -lrb- a producer here -rrb- , but her raw performance and utter fearlessness make it strangely magnetic .']\n",
            "Preds: [1 0]\n",
            "==========\n",
            "Original: it 's not the ultimate depression-era gangster movie .; label=0\n",
            "Perturbations: [\"it 's not the ultimate depression-era gangster movie .\", \"it 's ont the ultimate depression-era gangster movie .\"]\n",
            "Preds: [0 1]\n",
            "==========\n",
            "Original: his last movie was poetically romantic and full of indelible images , but his latest has nothing going for it .; label=0\n",
            "Perturbations: ['his last movie was poetically romantic and full of indelible images , but his latest has nothing going for it .', 'his last movie was poetically romantic and full of indelible images , but hisl atest has nothing going for it .']\n",
            "Preds: [1 0]\n",
            "==========\n",
            "Original: yes , dull .; label=0\n",
            "Perturbations: ['yes , dull .', 'yes , dlul .']\n",
            "Preds: [0 1]\n",
            "==========\n",
            "Original: as a rumor of angels reveals itself to be a sudsy tub of supernatural hokum , not even ms. redgrave 's noblest efforts can redeem it from hopeless sentimentality .; label=0\n",
            "Perturbations: [\"as a rumor of angels reveals itself to be a sudsy tub of supernatural hokum , not even ms. redgrave 's noblest efforts can redeem it from hopeless sentimentality .\", \"as a rumor of nagels reveals itself to be a sudsy tub of supernatural hokum , not even ms. redgrave 's noblest efforts can redeem it from hopeless sentimentality .\"]\n",
            "Preds: [0 1]\n",
            "==========\n",
            "Original: with its dogged hollywood naturalism and the inexorable passage of its characters toward sainthood , windtalkers is nothing but a sticky-sweet soap .; label=0\n",
            "Perturbations: ['with its dogged hollywood naturalism and the inexorable passage of its characters toward sainthood , windtalkers is nothing but a sticky-sweet soap .', 'with its dogged hollywood naturalism and the inexorable passage of its characters twoard sainthood , windtalkers is nothing but a sticky-sweet soap .']\n",
            "Preds: [1 0]\n",
            "==========\n",
            "Original: there are plot holes big enough for shamu the killer whale to swim through .; label=0\n",
            "Perturbations: ['there are plot holes big enough for shamu the killer whale to swim through .', 'there are plot holes big enoughf or shamu the killer whale to swim through .']\n",
            "Preds: [1 0]\n",
            "==========\n",
            "Original: the movie , directed by mick jackson , leaves no cliche unturned , from the predictable plot to the characters straight out of central casting .; label=0\n",
            "Perturbations: ['the movie , directed by mick jackson , leaves no cliche unturned , from the predictable plot to the characters straight out of central casting .', 'the movie , directed by mick jackson , leaves no cliche unturned , from the predictable lpot to the characters straight out of central casting .']\n",
            "Preds: [0 1]\n",
            "==========\n",
            "Original: due to some script weaknesses and the casting of the director 's brother , the film trails off into inconsequentiality .; label=0\n",
            "Perturbations: [\"due to some script weaknesses and the casting of the director 's brother , the film trails off into inconsequentiality .\", \"due to some script waeknesses and the casting of the director 's brother , the film trails off into inconsequentiality .\"]\n",
            "Preds: [0 1]\n",
            "==========\n",
            "Original: dragonfly has no atmosphere , no tension -- nothing but costner , flailing away .; label=0\n",
            "Perturbations: ['dragonfly has no atmosphere , no tension -- nothing but costner , flailing away .', 'dragonfly has no atmospher e, no tension -- nothing but costner , flailing away .']\n",
            "Preds: [0 1]\n",
            "==========\n",
            "Original: every time you look , sweet home alabama is taking another bummer of a wrong turn .; label=0\n",
            "Perturbations: ['every time you look , sweet home alabama is taking another bummer of a wrong turn .', 'every time you look , sweet home alabama is taking another bummero f a wrong turn .']\n",
            "Preds: [0 1]\n",
            "==========\n",
            "Original: jason x is positively anti-darwinian : nine sequels and 400 years later , the teens are none the wiser and jason still kills on auto-pilot .; label=0\n",
            "Perturbations: ['jason x is positively anti-darwinian : nine sequels and 400 years later , the teens are none the wiser and jason still kills on auto-pilot .', 'jason x is positively anti-darwinian : nine sequels adn 400 years later , the teens are none the wiser and jason still kills on auto-pilot .']\n",
            "Preds: [1 0]\n",
            "==========\n",
            "Original: at the very least , if you do n't know anything about derrida when you walk into the theater , you wo n't know much more when you leave .; label=0\n",
            "Perturbations: [\"at the very least , if you do n't know anything about derrida when you walk into the theater , you wo n't know much more when you leave .\", \"at the very least , if you do n't know anything about derrida when oyu walk into the theater , you wo n't know much more when you leave .\"]\n",
            "Preds: [0 1]\n",
            "==========\n",
            "Original: there 's no emotional pulse to solaris .; label=0\n",
            "Perturbations: [\"there 's no emotional pulse to solaris .\", \"there 's no emotional pusle to solaris .\"]\n",
            "Preds: [0 1]\n",
            "==========\n",
            "Original: with virtually no interesting elements for an audience to focus on , chelsea walls is a triple-espresso endurance challenge .; label=0\n",
            "Perturbations: ['with virtually no interesting elements for an audience to focus on , chelsea walls is a triple-espresso endurance challenge .', 'with virtually no interesting elements for an audienc eto focus on , chelsea walls is a triple-espresso endurance challenge .']\n",
            "Preds: [1 0]\n",
            "==========\n",
            "Original: the story and the friendship proceeds in such a way that you 're watching a soap opera rather than a chronicle of the ups and downs that accompany lifelong friendships .; label=0\n",
            "Perturbations: [\"the story and the friendship proceeds in such a way that you 're watching a soap opera rather than a chronicle of the ups and downs that accompany lifelong friendships .\", \"the story and th efriendship proceeds in such a way that you 're watching a soap opera rather than a chronicle of the ups and downs that accompany lifelong friendships .\"]\n",
            "Preds: [0 1]\n",
            "==========\n",
            "Original: although huppert 's intensity and focus has a raw exhilaration about it , the piano teacher is anything but fun .; label=0\n",
            "Perturbations: [\"although huppert 's intensity and focus has a raw exhilaration about it , the piano teacher is anything but fun .\", \"although huppert 's intensity and focus has a raw exhilaration about it , the piano teacher is antyhing but fun .\"]\n",
            "Preds: [0 1]\n",
            "==========\n",
            "Original: bad .; label=0\n",
            "Perturbations: ['bad .', 'bda .']\n",
            "Preds: [0 1]\n",
            "==========\n",
            "Original: an unwise amalgam of broadcast news and vibes .; label=0\n",
            "Perturbations: ['an unwise amalgam of broadcast news and vibes .', 'an unwise amalgam of broadcast news and vibse .']\n",
            "Preds: [0 1]\n",
            "==========\n",
            "Original: mattei is tiresomely grave and long-winded , as if circularity itself indicated profundity .; label=0\n",
            "Perturbations: ['mattei is tiresomely grave and long-winded , as if circularity itself indicated profundity .', 'mattei is tiersomely grave and long-winded , as if circularity itself indicated profundity .']\n",
            "Preds: [0 1]\n",
            "==========\n",
            "Original: a sequence of ridiculous shoot - 'em - up scenes .; label=0\n",
            "Perturbations: [\"a sequence of ridiculous shoot - 'em - up scenes .\", \"a sequence of ridiculous sohot - 'em - up scenes .\"]\n",
            "Preds: [0 1]\n",
            "==========\n",
            "Original: nothing in waking up in reno ever inspired me to think of its inhabitants as anything more than markers in a screenplay .; label=0\n",
            "Perturbations: ['nothing in waking up in reno ever inspired me to think of its inhabitants as anything more than markers in a screenplay .', 'nothing in waking up in reno ever inspired me to think of its inhabitants as anything more than markers in a screenplya .']\n",
            "Preds: [0 1]\n",
            "==========\n",
            "Original: or doing last year 's taxes with your ex-wife .; label=0\n",
            "Perturbations: [\"or doing last year 's taxes with your ex-wife .\", \"or doing last year 's taxes with your e-xwife .\"]\n",
            "Preds: [0 1]\n",
            "==========\n"
          ]
        }
      ],
      "source": [
        "for idx in indices1:\n",
        "    print(\"Original:\", dev_exs[idx])\n",
        "    print(\"Perturbations:\", ret2.data[idx])\n",
        "    print(\"Preds:\", all_preds2[idx])\n",
        "    print(\"=\" * 10)"
      ]
    },
    {
      "cell_type": "markdown",
      "metadata": {
        "id": "E3XvBRpHAEJr"
      },
      "source": [
        "**Describe:** Read through the printed examples carefully and include two most interesting ones to the assignment PDF.\n",
        "\n",
        "**Discuss**: Overall, do you think your model is robust to typos? Discuss any other findings, e.g., for cases where the model predictions got flipped, do the typos exist more commonly in nouns or verbs, or in words with other part-of-speech properties?"
      ]
    },
    {
      "cell_type": "markdown",
      "metadata": {
        "id": "bNUDulW5AEJr"
      },
      "source": [
        "## Part 2: Explore A Different Test or Analysis (30 points)\n",
        "\n",
        "Propose a different test or analysis other than the punctuation and typo perturbation! You can feel free to use any libraries or tools, or maybe just reuse the CheckList.\n",
        "\n",
        "For example, here are a few analyses you can consider:\n",
        "- Trying another INV perturbation category (e.g., named entity change) or a different CheckList test type (MFT or DIR);\n",
        "- Identifying potential ethical problems (e.g., gender or racial bias) by testing the sentiment classifier on test exmaples created by yourself;\n",
        "- Testing the multilingual capabilities of the sentiment classifier (for this you should switch to a multilingual BERT sentiment classifier from the model hub https://huggingface.co/models?search=multilingual%20sentiment);\n",
        "- Visualizing the BERT attention (using BertViz https://github.com/jessevig/bertviz or other tools) of this classifier: does the model attend to the right contents when making a prediction (i.e., \"right for the right reason\")?\n",
        "\n",
        "\n",
        "**Requirements:**\n",
        "- Propose one different test or analysis and implement the procedure in this notebook (please add necessary comments so grader/instructor can understand your test/analysis);\n",
        "- Describe the procedure, your results, and the findings on the report PDF.\n",
        "\n",
        "*Note: While you can perform any test or analysis you have interest, to claim full credits, the analysis procedure should be careful and be well justified.*"
      ]
    },
    {
      "cell_type": "code",
      "source": [
        "# Minimum Functionality Tests (MFT)\n",
        "from checklist.pred_wrapper import PredictorWrapper\n",
        "from pattern.en import sentiment\n",
        "import numpy as np\n",
        "\n",
        "editor = Editor()\n",
        "\n",
        "# prepare the data\n",
        "sentData = []\n",
        "labels = []\n",
        "numSamples = 200\n",
        "for ex_idx, ex in enumerate(dev_exs):\n",
        "    sentData.append(ex.sentence)\n",
        "    labels.append(ex.label)\n",
        "sentData = sentData[:numSamples]\n",
        "labels = labels[:numSamples]\n",
        "\n",
        "# Define MFT test\n",
        "test = MFT(\n",
        "    sentData,\n",
        "    labels=labels,\n",
        "    name='Simple negation',\n",
        "    capability='Negation',\n",
        "    description='Very simple negations.'\n",
        ")\n",
        "def predict_probabilities(inputs):\n",
        "    return batch_predict_prob(inputs, True)\n",
        "wrapped_probs = PredictorWrapper.wrap_softmax(predict_probabilities)\n",
        "\n",
        "# # Run the test\n",
        "test.run(wrapped_probs)\n",
        "\n",
        "# # Summarize the results\n",
        "print(\"\\nNegation MFT Summary:\")\n",
        "test.summary()\n"
      ],
      "metadata": {
        "colab": {
          "base_uri": "https://localhost:8080/"
        },
        "id": "N97ieG53Hzvp",
        "outputId": "a57d7819-2f0d-4b6d-a73b-c212c2f82c29"
      },
      "execution_count": 46,
      "outputs": [
        {
          "output_type": "stream",
          "name": "stdout",
          "text": [
            "Predicting 200 examples\n",
            "\n",
            "Negation MFT Summary:\n",
            "Test cases:      200\n",
            "Fails (rate):    27 (13.5%)\n",
            "\n",
            "Example fails:\n",
            "0.0 ... mafia , rap stars and hood rats butt their ugly heads in a regurgitation of cinematic violence that gives brutal birth to an unlikely , but likable , hero . '\n",
            "----\n",
            "0.1 a movie that successfully crushes a best selling novel into a timeframe that mandates that you avoid the godzilla sized soda .\n",
            "----\n",
            "0.1 old-form moviemaking at its best .\n",
            "----\n"
          ]
        }
      ]
    },
    {
      "cell_type": "markdown",
      "metadata": {
        "id": "9wZZ9H0KAEJr"
      },
      "source": [
        "<font color='blue'>YOUR TASK: Implement a different model test/analysis below. </font>"
      ]
    },
    {
      "cell_type": "markdown",
      "metadata": {
        "id": "38m8elCgAEJw"
      },
      "source": [
        "## You have completed this assignment! Please upload your notebook to Blackboard."
      ]
    }
  ],
  "metadata": {
    "colab": {
      "provenance": [],
      "history_visible": true
    },
    "kernelspec": {
      "display_name": "Python 3 (ipykernel)",
      "language": "python",
      "name": "python3"
    },
    "language_info": {
      "codemirror_mode": {
        "name": "ipython",
        "version": 3
      },
      "file_extension": ".py",
      "mimetype": "text/x-python",
      "name": "python",
      "nbconvert_exporter": "python",
      "pygments_lexer": "ipython3",
      "version": "3.10.6"
    }
  },
  "nbformat": 4,
  "nbformat_minor": 0
}